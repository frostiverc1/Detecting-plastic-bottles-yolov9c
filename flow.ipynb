{
 "cells": [
  {
   "cell_type": "code",
   "execution_count": 1,
   "metadata": {},
   "outputs": [],
   "source": [
    "import tensorflow as tf\n",
    "import keras\n",
    "from tensorflow.keras.models import Sequential\n",
    "from tensorflow.keras.preprocessing.image import ImageDataGenerator\n",
    "from tensorflow.keras.layers import Dropout, Flatten, Dense, Conv2D, MaxPooling2D, BatchNormalization\n",
    "from tensorflow.keras.optimizers import SGD\n",
    "import keras\n",
    "from sklearn.model_selection import train_test_split\n",
    "import cv2\n",
    "import os\n"
   ]
  },
  {
   "cell_type": "code",
   "execution_count": 2,
   "metadata": {},
   "outputs": [
    {
     "name": "stdout",
     "output_type": "stream",
     "text": [
      "Found 0 images belonging to 0 classes.\n",
      "Found 0 images belonging to 0 classes.\n"
     ]
    }
   ],
   "source": [
    "\n",
    "# Define paths to your image folders (replace with your paths)\n",
    "train_data_dir = 'D:/Engineering/SEM6/PROJECTS/DeepLearning/FloW_IMG/training/images'\n",
    "validation_data_dir = 'D:/Engineering/SEM6/PROJECTS/DeepLearning/FloW_IMG/test/images'\n",
    "\n",
    "# Set image dimensions (adjust if your images are different)\n",
    "img_width, img_height = 224, 224\n",
    "\n",
    "# Data augmentation for training data (optional but helpful)\n",
    "train_datagen = ImageDataGenerator(rescale=1./255, shear_range=0.2, zoom_range=0.2, horizontal_flip=True)\n",
    "\n",
    "# Load and pre-process training and validation data\n",
    "train_generator = train_datagen.flow_from_directory(\n",
    "    train_data_dir,\n",
    "    target_size=(img_width, img_height),\n",
    "    batch_size=32,  # Adjust batch size based on your GPU memory\n",
    "    class_mode='categorical'  # Adjust for binary or multi-class classification\n",
    ")\n",
    "\n",
    "validation_datagen = ImageDataGenerator(rescale=1./255)\n",
    "validation_generator = validation_datagen.flow_from_directory(\n",
    "    validation_data_dir,\n",
    "    target_size=(img_width, img_height),\n",
    "    batch_size=32,\n",
    "    class_mode='categorical'\n",
    ")\n"
   ]
  },
  {
   "cell_type": "code",
   "execution_count": 3,
   "metadata": {},
   "outputs": [
    {
     "ename": "NameError",
     "evalue": "name 'DenseNet121' is not defined",
     "output_type": "error",
     "traceback": [
      "\u001b[1;31m---------------------------------------------------------------------------\u001b[0m",
      "\u001b[1;31mNameError\u001b[0m                                 Traceback (most recent call last)",
      "Cell \u001b[1;32mIn[3], line 1\u001b[0m\n\u001b[1;32m----> 1\u001b[0m densenet_model \u001b[38;5;241m=\u001b[39m \u001b[43mDenseNet121\u001b[49m(weights\u001b[38;5;241m=\u001b[39m\u001b[38;5;124m'\u001b[39m\u001b[38;5;124mimagenet\u001b[39m\u001b[38;5;124m'\u001b[39m, include_top\u001b[38;5;241m=\u001b[39m\u001b[38;5;28;01mFalse\u001b[39;00m, input_shape\u001b[38;5;241m=\u001b[39m(img_width, img_height, \u001b[38;5;241m3\u001b[39m))\n\u001b[0;32m      3\u001b[0m \u001b[38;5;28;01mfor\u001b[39;00m layer \u001b[38;5;129;01min\u001b[39;00m densenet_model\u001b[38;5;241m.\u001b[39mlayers:\n\u001b[0;32m      4\u001b[0m   layer\u001b[38;5;241m.\u001b[39mtrainable \u001b[38;5;241m=\u001b[39m \u001b[38;5;28;01mFalse\u001b[39;00m\n",
      "\u001b[1;31mNameError\u001b[0m: name 'DenseNet121' is not defined"
     ]
    }
   ],
   "source": [
    "\n",
    "densenet_model = DenseNet121(weights='imagenet', include_top=False, input_shape=(img_width, img_height, 3))\n",
    "\n",
    "for layer in densenet_model.layers:\n",
    "  layer.trainable = False\n"
   ]
  },
  {
   "cell_type": "code",
   "execution_count": 30,
   "metadata": {},
   "outputs": [
    {
     "ename": "NameError",
     "evalue": "name 'Model' is not defined",
     "output_type": "error",
     "traceback": [
      "\u001b[1;31m---------------------------------------------------------------------------\u001b[0m",
      "\u001b[1;31mNameError\u001b[0m                                 Traceback (most recent call last)",
      "Cell \u001b[1;32mIn[30], line 8\u001b[0m\n\u001b[0;32m      5\u001b[0m predictions \u001b[38;5;241m=\u001b[39m Dense(\u001b[38;5;28mlen\u001b[39m(train_generator\u001b[38;5;241m.\u001b[39mclasses), activation\u001b[38;5;241m=\u001b[39m\u001b[38;5;124m'\u001b[39m\u001b[38;5;124msoftmax\u001b[39m\u001b[38;5;124m'\u001b[39m)(x) \n\u001b[0;32m      7\u001b[0m \u001b[38;5;66;03m# Create the final model\u001b[39;00m\n\u001b[1;32m----> 8\u001b[0m model \u001b[38;5;241m=\u001b[39m \u001b[43mModel\u001b[49m(inputs\u001b[38;5;241m=\u001b[39mdensenet_model\u001b[38;5;241m.\u001b[39minput, outputs\u001b[38;5;241m=\u001b[39mpredictions)\n\u001b[0;32m     10\u001b[0m \u001b[38;5;66;03m# Compile the model (adjust optimizer and loss function as needed)\u001b[39;00m\n\u001b[0;32m     11\u001b[0m model\u001b[38;5;241m.\u001b[39mcompile(optimizer\u001b[38;5;241m=\u001b[39m\u001b[38;5;124m'\u001b[39m\u001b[38;5;124madam\u001b[39m\u001b[38;5;124m'\u001b[39m, loss\u001b[38;5;241m=\u001b[39m\u001b[38;5;124m'\u001b[39m\u001b[38;5;124mcategorical_crossentropy\u001b[39m\u001b[38;5;124m'\u001b[39m, metrics\u001b[38;5;241m=\u001b[39m[\u001b[38;5;124m'\u001b[39m\u001b[38;5;124maccuracy\u001b[39m\u001b[38;5;124m'\u001b[39m])\n",
      "\u001b[1;31mNameError\u001b[0m: name 'Model' is not defined"
     ]
    }
   ],
   "source": [
    "x = densenet_model.output\n",
    "x = Flatten()(x)\n",
    "x = Dense(1024, activation='relu')(x)  \n",
    "x = Dropout(0.5)(x)  \n",
    "predictions = Dense(len(train_generator.classes), activation='softmax')(x) \n",
    "\n",
    "# Create the final model\n",
    "model = Model(inputs=densenet_model.input, outputs=predictions)\n",
    "\n",
    "# Compile the model (adjust optimizer and loss function as needed)\n",
    "model.compile(optimizer='adam', loss='categorical_crossentropy', metrics=['accuracy'])\n"
   ]
  },
  {
   "cell_type": "code",
   "execution_count": 4,
   "metadata": {},
   "outputs": [
    {
     "ename": "KeyboardInterrupt",
     "evalue": "",
     "output_type": "error",
     "traceback": [
      "\u001b[1;31m---------------------------------------------------------------------------\u001b[0m",
      "\u001b[1;31mKeyboardInterrupt\u001b[0m                         Traceback (most recent call last)",
      "Cell \u001b[1;32mIn[4], line 8\u001b[0m\n\u001b[0;32m      4\u001b[0m \u001b[38;5;66;03m# ultralytics.checks()\u001b[39;00m\n\u001b[0;32m      6\u001b[0m model \u001b[38;5;241m=\u001b[39m YOLO(\u001b[38;5;124m\"\u001b[39m\u001b[38;5;124myolov8n.yaml\u001b[39m\u001b[38;5;124m\"\u001b[39m)\n\u001b[1;32m----> 8\u001b[0m results \u001b[38;5;241m=\u001b[39m \u001b[43mmodel\u001b[49m\u001b[38;5;241;43m.\u001b[39;49m\u001b[43mtrain\u001b[49m\u001b[43m(\u001b[49m\u001b[43mdata\u001b[49m\u001b[43m \u001b[49m\u001b[38;5;241;43m=\u001b[39;49m\u001b[43m \u001b[49m\u001b[38;5;124;43m\"\u001b[39;49m\u001b[38;5;124;43mconfig.yaml\u001b[39;49m\u001b[38;5;124;43m\"\u001b[39;49m\u001b[43m,\u001b[49m\u001b[43m \u001b[49m\u001b[43mepochs\u001b[49m\u001b[43m \u001b[49m\u001b[38;5;241;43m=\u001b[39;49m\u001b[38;5;241;43m1\u001b[39;49m\u001b[43m)\u001b[49m\n",
      "File \u001b[1;32mc:\\Users\\user\\AppData\\Local\\Programs\\Python\\Python311\\Lib\\site-packages\\ultralytics\\engine\\model.py:641\u001b[0m, in \u001b[0;36mModel.train\u001b[1;34m(self, trainer, **kwargs)\u001b[0m\n\u001b[0;32m    638\u001b[0m         LOGGER\u001b[38;5;241m.\u001b[39mwarning(\u001b[38;5;124m\"\u001b[39m\u001b[38;5;124mWARNING ⚠️ using HUB training arguments, ignoring local training arguments.\u001b[39m\u001b[38;5;124m\"\u001b[39m)\n\u001b[0;32m    639\u001b[0m     kwargs \u001b[38;5;241m=\u001b[39m \u001b[38;5;28mself\u001b[39m\u001b[38;5;241m.\u001b[39msession\u001b[38;5;241m.\u001b[39mtrain_args  \u001b[38;5;66;03m# overwrite kwargs\u001b[39;00m\n\u001b[1;32m--> 641\u001b[0m \u001b[43mchecks\u001b[49m\u001b[38;5;241;43m.\u001b[39;49m\u001b[43mcheck_pip_update_available\u001b[49m\u001b[43m(\u001b[49m\u001b[43m)\u001b[49m\n\u001b[0;32m    643\u001b[0m overrides \u001b[38;5;241m=\u001b[39m yaml_load(checks\u001b[38;5;241m.\u001b[39mcheck_yaml(kwargs[\u001b[38;5;124m\"\u001b[39m\u001b[38;5;124mcfg\u001b[39m\u001b[38;5;124m\"\u001b[39m])) \u001b[38;5;28;01mif\u001b[39;00m kwargs\u001b[38;5;241m.\u001b[39mget(\u001b[38;5;124m\"\u001b[39m\u001b[38;5;124mcfg\u001b[39m\u001b[38;5;124m\"\u001b[39m) \u001b[38;5;28;01melse\u001b[39;00m \u001b[38;5;28mself\u001b[39m\u001b[38;5;241m.\u001b[39moverrides\n\u001b[0;32m    644\u001b[0m custom \u001b[38;5;241m=\u001b[39m {\u001b[38;5;124m\"\u001b[39m\u001b[38;5;124mdata\u001b[39m\u001b[38;5;124m\"\u001b[39m: DEFAULT_CFG_DICT[\u001b[38;5;124m\"\u001b[39m\u001b[38;5;124mdata\u001b[39m\u001b[38;5;124m\"\u001b[39m] \u001b[38;5;129;01mor\u001b[39;00m TASK2DATA[\u001b[38;5;28mself\u001b[39m\u001b[38;5;241m.\u001b[39mtask]}  \u001b[38;5;66;03m# method defaults\u001b[39;00m\n",
      "File \u001b[1;32mc:\\Users\\user\\AppData\\Local\\Programs\\Python\\Python311\\Lib\\site-packages\\ultralytics\\utils\\checks.py:284\u001b[0m, in \u001b[0;36mcheck_pip_update_available\u001b[1;34m()\u001b[0m\n\u001b[0;32m    281\u001b[0m \u001b[38;5;28;01mwith\u001b[39;00m contextlib\u001b[38;5;241m.\u001b[39msuppress(\u001b[38;5;167;01mException\u001b[39;00m):\n\u001b[0;32m    282\u001b[0m     \u001b[38;5;28;01mfrom\u001b[39;00m \u001b[38;5;21;01multralytics\u001b[39;00m \u001b[38;5;28;01mimport\u001b[39;00m __version__\n\u001b[1;32m--> 284\u001b[0m     latest \u001b[38;5;241m=\u001b[39m \u001b[43mcheck_latest_pypi_version\u001b[49m\u001b[43m(\u001b[49m\u001b[43m)\u001b[49m\n\u001b[0;32m    285\u001b[0m     \u001b[38;5;28;01mif\u001b[39;00m check_version(__version__, \u001b[38;5;124mf\u001b[39m\u001b[38;5;124m\"\u001b[39m\u001b[38;5;124m<\u001b[39m\u001b[38;5;132;01m{\u001b[39;00mlatest\u001b[38;5;132;01m}\u001b[39;00m\u001b[38;5;124m\"\u001b[39m):  \u001b[38;5;66;03m# check if current version is < latest version\u001b[39;00m\n\u001b[0;32m    286\u001b[0m         LOGGER\u001b[38;5;241m.\u001b[39minfo(\n\u001b[0;32m    287\u001b[0m             \u001b[38;5;124mf\u001b[39m\u001b[38;5;124m\"\u001b[39m\u001b[38;5;124mNew https://pypi.org/project/ultralytics/\u001b[39m\u001b[38;5;132;01m{\u001b[39;00mlatest\u001b[38;5;132;01m}\u001b[39;00m\u001b[38;5;124m available 😃 \u001b[39m\u001b[38;5;124m\"\u001b[39m\n\u001b[0;32m    288\u001b[0m             \u001b[38;5;124mf\u001b[39m\u001b[38;5;124m\"\u001b[39m\u001b[38;5;124mUpdate with \u001b[39m\u001b[38;5;124m'\u001b[39m\u001b[38;5;124mpip install -U ultralytics\u001b[39m\u001b[38;5;124m'\u001b[39m\u001b[38;5;124m\"\u001b[39m\n\u001b[0;32m    289\u001b[0m         )\n",
      "File \u001b[1;32mc:\\Users\\user\\AppData\\Local\\Programs\\Python\\Python311\\Lib\\site-packages\\ultralytics\\utils\\checks.py:268\u001b[0m, in \u001b[0;36mcheck_latest_pypi_version\u001b[1;34m(package_name)\u001b[0m\n\u001b[0;32m    266\u001b[0m \u001b[38;5;28;01mwith\u001b[39;00m contextlib\u001b[38;5;241m.\u001b[39msuppress(\u001b[38;5;167;01mException\u001b[39;00m):\n\u001b[0;32m    267\u001b[0m     requests\u001b[38;5;241m.\u001b[39mpackages\u001b[38;5;241m.\u001b[39murllib3\u001b[38;5;241m.\u001b[39mdisable_warnings()  \u001b[38;5;66;03m# Disable the InsecureRequestWarning\u001b[39;00m\n\u001b[1;32m--> 268\u001b[0m     response \u001b[38;5;241m=\u001b[39m \u001b[43mrequests\u001b[49m\u001b[38;5;241;43m.\u001b[39;49m\u001b[43mget\u001b[49m\u001b[43m(\u001b[49m\u001b[38;5;124;43mf\u001b[39;49m\u001b[38;5;124;43m\"\u001b[39;49m\u001b[38;5;124;43mhttps://pypi.org/pypi/\u001b[39;49m\u001b[38;5;132;43;01m{\u001b[39;49;00m\u001b[43mpackage_name\u001b[49m\u001b[38;5;132;43;01m}\u001b[39;49;00m\u001b[38;5;124;43m/json\u001b[39;49m\u001b[38;5;124;43m\"\u001b[39;49m\u001b[43m,\u001b[49m\u001b[43m \u001b[49m\u001b[43mtimeout\u001b[49m\u001b[38;5;241;43m=\u001b[39;49m\u001b[38;5;241;43m3\u001b[39;49m\u001b[43m)\u001b[49m\n\u001b[0;32m    269\u001b[0m     \u001b[38;5;28;01mif\u001b[39;00m response\u001b[38;5;241m.\u001b[39mstatus_code \u001b[38;5;241m==\u001b[39m \u001b[38;5;241m200\u001b[39m:\n\u001b[0;32m    270\u001b[0m         \u001b[38;5;28;01mreturn\u001b[39;00m response\u001b[38;5;241m.\u001b[39mjson()[\u001b[38;5;124m\"\u001b[39m\u001b[38;5;124minfo\u001b[39m\u001b[38;5;124m\"\u001b[39m][\u001b[38;5;124m\"\u001b[39m\u001b[38;5;124mversion\u001b[39m\u001b[38;5;124m\"\u001b[39m]\n",
      "File \u001b[1;32mc:\\Users\\user\\AppData\\Local\\Programs\\Python\\Python311\\Lib\\site-packages\\requests\\api.py:73\u001b[0m, in \u001b[0;36mget\u001b[1;34m(url, params, **kwargs)\u001b[0m\n\u001b[0;32m     62\u001b[0m \u001b[38;5;28;01mdef\u001b[39;00m \u001b[38;5;21mget\u001b[39m(url, params\u001b[38;5;241m=\u001b[39m\u001b[38;5;28;01mNone\u001b[39;00m, \u001b[38;5;241m*\u001b[39m\u001b[38;5;241m*\u001b[39mkwargs):\n\u001b[0;32m     63\u001b[0m \u001b[38;5;250m    \u001b[39m\u001b[38;5;124mr\u001b[39m\u001b[38;5;124;03m\"\"\"Sends a GET request.\u001b[39;00m\n\u001b[0;32m     64\u001b[0m \n\u001b[0;32m     65\u001b[0m \u001b[38;5;124;03m    :param url: URL for the new :class:`Request` object.\u001b[39;00m\n\u001b[1;32m   (...)\u001b[0m\n\u001b[0;32m     70\u001b[0m \u001b[38;5;124;03m    :rtype: requests.Response\u001b[39;00m\n\u001b[0;32m     71\u001b[0m \u001b[38;5;124;03m    \"\"\"\u001b[39;00m\n\u001b[1;32m---> 73\u001b[0m     \u001b[38;5;28;01mreturn\u001b[39;00m \u001b[43mrequest\u001b[49m\u001b[43m(\u001b[49m\u001b[38;5;124;43m\"\u001b[39;49m\u001b[38;5;124;43mget\u001b[39;49m\u001b[38;5;124;43m\"\u001b[39;49m\u001b[43m,\u001b[49m\u001b[43m \u001b[49m\u001b[43murl\u001b[49m\u001b[43m,\u001b[49m\u001b[43m \u001b[49m\u001b[43mparams\u001b[49m\u001b[38;5;241;43m=\u001b[39;49m\u001b[43mparams\u001b[49m\u001b[43m,\u001b[49m\u001b[43m \u001b[49m\u001b[38;5;241;43m*\u001b[39;49m\u001b[38;5;241;43m*\u001b[39;49m\u001b[43mkwargs\u001b[49m\u001b[43m)\u001b[49m\n",
      "File \u001b[1;32mc:\\Users\\user\\AppData\\Local\\Programs\\Python\\Python311\\Lib\\site-packages\\requests\\api.py:59\u001b[0m, in \u001b[0;36mrequest\u001b[1;34m(method, url, **kwargs)\u001b[0m\n\u001b[0;32m     55\u001b[0m \u001b[38;5;66;03m# By using the 'with' statement we are sure the session is closed, thus we\u001b[39;00m\n\u001b[0;32m     56\u001b[0m \u001b[38;5;66;03m# avoid leaving sockets open which can trigger a ResourceWarning in some\u001b[39;00m\n\u001b[0;32m     57\u001b[0m \u001b[38;5;66;03m# cases, and look like a memory leak in others.\u001b[39;00m\n\u001b[0;32m     58\u001b[0m \u001b[38;5;28;01mwith\u001b[39;00m sessions\u001b[38;5;241m.\u001b[39mSession() \u001b[38;5;28;01mas\u001b[39;00m session:\n\u001b[1;32m---> 59\u001b[0m     \u001b[38;5;28;01mreturn\u001b[39;00m \u001b[43msession\u001b[49m\u001b[38;5;241;43m.\u001b[39;49m\u001b[43mrequest\u001b[49m\u001b[43m(\u001b[49m\u001b[43mmethod\u001b[49m\u001b[38;5;241;43m=\u001b[39;49m\u001b[43mmethod\u001b[49m\u001b[43m,\u001b[49m\u001b[43m \u001b[49m\u001b[43murl\u001b[49m\u001b[38;5;241;43m=\u001b[39;49m\u001b[43murl\u001b[49m\u001b[43m,\u001b[49m\u001b[43m \u001b[49m\u001b[38;5;241;43m*\u001b[39;49m\u001b[38;5;241;43m*\u001b[39;49m\u001b[43mkwargs\u001b[49m\u001b[43m)\u001b[49m\n",
      "File \u001b[1;32mc:\\Users\\user\\AppData\\Local\\Programs\\Python\\Python311\\Lib\\site-packages\\requests\\sessions.py:587\u001b[0m, in \u001b[0;36mSession.request\u001b[1;34m(self, method, url, params, data, headers, cookies, files, auth, timeout, allow_redirects, proxies, hooks, stream, verify, cert, json)\u001b[0m\n\u001b[0;32m    582\u001b[0m send_kwargs \u001b[38;5;241m=\u001b[39m {\n\u001b[0;32m    583\u001b[0m     \u001b[38;5;124m\"\u001b[39m\u001b[38;5;124mtimeout\u001b[39m\u001b[38;5;124m\"\u001b[39m: timeout,\n\u001b[0;32m    584\u001b[0m     \u001b[38;5;124m\"\u001b[39m\u001b[38;5;124mallow_redirects\u001b[39m\u001b[38;5;124m\"\u001b[39m: allow_redirects,\n\u001b[0;32m    585\u001b[0m }\n\u001b[0;32m    586\u001b[0m send_kwargs\u001b[38;5;241m.\u001b[39mupdate(settings)\n\u001b[1;32m--> 587\u001b[0m resp \u001b[38;5;241m=\u001b[39m \u001b[38;5;28;43mself\u001b[39;49m\u001b[38;5;241;43m.\u001b[39;49m\u001b[43msend\u001b[49m\u001b[43m(\u001b[49m\u001b[43mprep\u001b[49m\u001b[43m,\u001b[49m\u001b[43m \u001b[49m\u001b[38;5;241;43m*\u001b[39;49m\u001b[38;5;241;43m*\u001b[39;49m\u001b[43msend_kwargs\u001b[49m\u001b[43m)\u001b[49m\n\u001b[0;32m    589\u001b[0m \u001b[38;5;28;01mreturn\u001b[39;00m resp\n",
      "File \u001b[1;32mc:\\Users\\user\\AppData\\Local\\Programs\\Python\\Python311\\Lib\\site-packages\\requests\\sessions.py:745\u001b[0m, in \u001b[0;36mSession.send\u001b[1;34m(self, request, **kwargs)\u001b[0m\n\u001b[0;32m    742\u001b[0m         \u001b[38;5;28;01mpass\u001b[39;00m\n\u001b[0;32m    744\u001b[0m \u001b[38;5;28;01mif\u001b[39;00m \u001b[38;5;129;01mnot\u001b[39;00m stream:\n\u001b[1;32m--> 745\u001b[0m     \u001b[43mr\u001b[49m\u001b[38;5;241;43m.\u001b[39;49m\u001b[43mcontent\u001b[49m\n\u001b[0;32m    747\u001b[0m \u001b[38;5;28;01mreturn\u001b[39;00m r\n",
      "File \u001b[1;32mc:\\Users\\user\\AppData\\Local\\Programs\\Python\\Python311\\Lib\\site-packages\\requests\\models.py:899\u001b[0m, in \u001b[0;36mResponse.content\u001b[1;34m(self)\u001b[0m\n\u001b[0;32m    897\u001b[0m         \u001b[38;5;28mself\u001b[39m\u001b[38;5;241m.\u001b[39m_content \u001b[38;5;241m=\u001b[39m \u001b[38;5;28;01mNone\u001b[39;00m\n\u001b[0;32m    898\u001b[0m     \u001b[38;5;28;01melse\u001b[39;00m:\n\u001b[1;32m--> 899\u001b[0m         \u001b[38;5;28mself\u001b[39m\u001b[38;5;241m.\u001b[39m_content \u001b[38;5;241m=\u001b[39m \u001b[38;5;124;43mb\u001b[39;49m\u001b[38;5;124;43m\"\u001b[39;49m\u001b[38;5;124;43m\"\u001b[39;49m\u001b[38;5;241;43m.\u001b[39;49m\u001b[43mjoin\u001b[49m\u001b[43m(\u001b[49m\u001b[38;5;28;43mself\u001b[39;49m\u001b[38;5;241;43m.\u001b[39;49m\u001b[43miter_content\u001b[49m\u001b[43m(\u001b[49m\u001b[43mCONTENT_CHUNK_SIZE\u001b[49m\u001b[43m)\u001b[49m\u001b[43m)\u001b[49m \u001b[38;5;129;01mor\u001b[39;00m \u001b[38;5;124mb\u001b[39m\u001b[38;5;124m\"\u001b[39m\u001b[38;5;124m\"\u001b[39m\n\u001b[0;32m    901\u001b[0m \u001b[38;5;28mself\u001b[39m\u001b[38;5;241m.\u001b[39m_content_consumed \u001b[38;5;241m=\u001b[39m \u001b[38;5;28;01mTrue\u001b[39;00m\n\u001b[0;32m    902\u001b[0m \u001b[38;5;66;03m# don't need to release the connection; that's been handled by urllib3\u001b[39;00m\n\u001b[0;32m    903\u001b[0m \u001b[38;5;66;03m# since we exhausted the data.\u001b[39;00m\n",
      "File \u001b[1;32mc:\\Users\\user\\AppData\\Local\\Programs\\Python\\Python311\\Lib\\site-packages\\requests\\models.py:816\u001b[0m, in \u001b[0;36mResponse.iter_content.<locals>.generate\u001b[1;34m()\u001b[0m\n\u001b[0;32m    814\u001b[0m \u001b[38;5;28;01mif\u001b[39;00m \u001b[38;5;28mhasattr\u001b[39m(\u001b[38;5;28mself\u001b[39m\u001b[38;5;241m.\u001b[39mraw, \u001b[38;5;124m\"\u001b[39m\u001b[38;5;124mstream\u001b[39m\u001b[38;5;124m\"\u001b[39m):\n\u001b[0;32m    815\u001b[0m     \u001b[38;5;28;01mtry\u001b[39;00m:\n\u001b[1;32m--> 816\u001b[0m         \u001b[38;5;28;01myield from\u001b[39;00m \u001b[38;5;28mself\u001b[39m\u001b[38;5;241m.\u001b[39mraw\u001b[38;5;241m.\u001b[39mstream(chunk_size, decode_content\u001b[38;5;241m=\u001b[39m\u001b[38;5;28;01mTrue\u001b[39;00m)\n\u001b[0;32m    817\u001b[0m     \u001b[38;5;28;01mexcept\u001b[39;00m ProtocolError \u001b[38;5;28;01mas\u001b[39;00m e:\n\u001b[0;32m    818\u001b[0m         \u001b[38;5;28;01mraise\u001b[39;00m ChunkedEncodingError(e)\n",
      "File \u001b[1;32mc:\\Users\\user\\AppData\\Local\\Programs\\Python\\Python311\\Lib\\site-packages\\urllib3\\response.py:628\u001b[0m, in \u001b[0;36mHTTPResponse.stream\u001b[1;34m(self, amt, decode_content)\u001b[0m\n\u001b[0;32m    626\u001b[0m \u001b[38;5;28;01melse\u001b[39;00m:\n\u001b[0;32m    627\u001b[0m     \u001b[38;5;28;01mwhile\u001b[39;00m \u001b[38;5;129;01mnot\u001b[39;00m is_fp_closed(\u001b[38;5;28mself\u001b[39m\u001b[38;5;241m.\u001b[39m_fp):\n\u001b[1;32m--> 628\u001b[0m         data \u001b[38;5;241m=\u001b[39m \u001b[38;5;28;43mself\u001b[39;49m\u001b[38;5;241;43m.\u001b[39;49m\u001b[43mread\u001b[49m\u001b[43m(\u001b[49m\u001b[43mamt\u001b[49m\u001b[38;5;241;43m=\u001b[39;49m\u001b[43mamt\u001b[49m\u001b[43m,\u001b[49m\u001b[43m \u001b[49m\u001b[43mdecode_content\u001b[49m\u001b[38;5;241;43m=\u001b[39;49m\u001b[43mdecode_content\u001b[49m\u001b[43m)\u001b[49m\n\u001b[0;32m    630\u001b[0m         \u001b[38;5;28;01mif\u001b[39;00m data:\n\u001b[0;32m    631\u001b[0m             \u001b[38;5;28;01myield\u001b[39;00m data\n",
      "File \u001b[1;32mc:\\Users\\user\\AppData\\Local\\Programs\\Python\\Python311\\Lib\\site-packages\\urllib3\\response.py:567\u001b[0m, in \u001b[0;36mHTTPResponse.read\u001b[1;34m(self, amt, decode_content, cache_content)\u001b[0m\n\u001b[0;32m    564\u001b[0m fp_closed \u001b[38;5;241m=\u001b[39m \u001b[38;5;28mgetattr\u001b[39m(\u001b[38;5;28mself\u001b[39m\u001b[38;5;241m.\u001b[39m_fp, \u001b[38;5;124m\"\u001b[39m\u001b[38;5;124mclosed\u001b[39m\u001b[38;5;124m\"\u001b[39m, \u001b[38;5;28;01mFalse\u001b[39;00m)\n\u001b[0;32m    566\u001b[0m \u001b[38;5;28;01mwith\u001b[39;00m \u001b[38;5;28mself\u001b[39m\u001b[38;5;241m.\u001b[39m_error_catcher():\n\u001b[1;32m--> 567\u001b[0m     data \u001b[38;5;241m=\u001b[39m \u001b[38;5;28;43mself\u001b[39;49m\u001b[38;5;241;43m.\u001b[39;49m\u001b[43m_fp_read\u001b[49m\u001b[43m(\u001b[49m\u001b[43mamt\u001b[49m\u001b[43m)\u001b[49m \u001b[38;5;28;01mif\u001b[39;00m \u001b[38;5;129;01mnot\u001b[39;00m fp_closed \u001b[38;5;28;01melse\u001b[39;00m \u001b[38;5;124mb\u001b[39m\u001b[38;5;124m\"\u001b[39m\u001b[38;5;124m\"\u001b[39m\n\u001b[0;32m    568\u001b[0m     \u001b[38;5;28;01mif\u001b[39;00m amt \u001b[38;5;129;01mis\u001b[39;00m \u001b[38;5;28;01mNone\u001b[39;00m:\n\u001b[0;32m    569\u001b[0m         flush_decoder \u001b[38;5;241m=\u001b[39m \u001b[38;5;28;01mTrue\u001b[39;00m\n",
      "File \u001b[1;32mc:\\Users\\user\\AppData\\Local\\Programs\\Python\\Python311\\Lib\\site-packages\\urllib3\\response.py:533\u001b[0m, in \u001b[0;36mHTTPResponse._fp_read\u001b[1;34m(self, amt)\u001b[0m\n\u001b[0;32m    530\u001b[0m     \u001b[38;5;28;01mreturn\u001b[39;00m buffer\u001b[38;5;241m.\u001b[39mgetvalue()\n\u001b[0;32m    531\u001b[0m \u001b[38;5;28;01melse\u001b[39;00m:\n\u001b[0;32m    532\u001b[0m     \u001b[38;5;66;03m# StringIO doesn't like amt=None\u001b[39;00m\n\u001b[1;32m--> 533\u001b[0m     \u001b[38;5;28;01mreturn\u001b[39;00m \u001b[38;5;28;43mself\u001b[39;49m\u001b[38;5;241;43m.\u001b[39;49m\u001b[43m_fp\u001b[49m\u001b[38;5;241;43m.\u001b[39;49m\u001b[43mread\u001b[49m\u001b[43m(\u001b[49m\u001b[43mamt\u001b[49m\u001b[43m)\u001b[49m \u001b[38;5;28;01mif\u001b[39;00m amt \u001b[38;5;129;01mis\u001b[39;00m \u001b[38;5;129;01mnot\u001b[39;00m \u001b[38;5;28;01mNone\u001b[39;00m \u001b[38;5;28;01melse\u001b[39;00m \u001b[38;5;28mself\u001b[39m\u001b[38;5;241m.\u001b[39m_fp\u001b[38;5;241m.\u001b[39mread()\n",
      "File \u001b[1;32mc:\\Users\\user\\AppData\\Local\\Programs\\Python\\Python311\\Lib\\http\\client.py:465\u001b[0m, in \u001b[0;36mHTTPResponse.read\u001b[1;34m(self, amt)\u001b[0m\n\u001b[0;32m    462\u001b[0m \u001b[38;5;28;01mif\u001b[39;00m \u001b[38;5;28mself\u001b[39m\u001b[38;5;241m.\u001b[39mlength \u001b[38;5;129;01mis\u001b[39;00m \u001b[38;5;129;01mnot\u001b[39;00m \u001b[38;5;28;01mNone\u001b[39;00m \u001b[38;5;129;01mand\u001b[39;00m amt \u001b[38;5;241m>\u001b[39m \u001b[38;5;28mself\u001b[39m\u001b[38;5;241m.\u001b[39mlength:\n\u001b[0;32m    463\u001b[0m     \u001b[38;5;66;03m# clip the read to the \"end of response\"\u001b[39;00m\n\u001b[0;32m    464\u001b[0m     amt \u001b[38;5;241m=\u001b[39m \u001b[38;5;28mself\u001b[39m\u001b[38;5;241m.\u001b[39mlength\n\u001b[1;32m--> 465\u001b[0m s \u001b[38;5;241m=\u001b[39m \u001b[38;5;28;43mself\u001b[39;49m\u001b[38;5;241;43m.\u001b[39;49m\u001b[43mfp\u001b[49m\u001b[38;5;241;43m.\u001b[39;49m\u001b[43mread\u001b[49m\u001b[43m(\u001b[49m\u001b[43mamt\u001b[49m\u001b[43m)\u001b[49m\n\u001b[0;32m    466\u001b[0m \u001b[38;5;28;01mif\u001b[39;00m \u001b[38;5;129;01mnot\u001b[39;00m s \u001b[38;5;129;01mand\u001b[39;00m amt:\n\u001b[0;32m    467\u001b[0m     \u001b[38;5;66;03m# Ideally, we would raise IncompleteRead if the content-length\u001b[39;00m\n\u001b[0;32m    468\u001b[0m     \u001b[38;5;66;03m# wasn't satisfied, but it might break compatibility.\u001b[39;00m\n\u001b[0;32m    469\u001b[0m     \u001b[38;5;28mself\u001b[39m\u001b[38;5;241m.\u001b[39m_close_conn()\n",
      "File \u001b[1;32mc:\\Users\\user\\AppData\\Local\\Programs\\Python\\Python311\\Lib\\socket.py:706\u001b[0m, in \u001b[0;36mSocketIO.readinto\u001b[1;34m(self, b)\u001b[0m\n\u001b[0;32m    704\u001b[0m \u001b[38;5;28;01mwhile\u001b[39;00m \u001b[38;5;28;01mTrue\u001b[39;00m:\n\u001b[0;32m    705\u001b[0m     \u001b[38;5;28;01mtry\u001b[39;00m:\n\u001b[1;32m--> 706\u001b[0m         \u001b[38;5;28;01mreturn\u001b[39;00m \u001b[38;5;28;43mself\u001b[39;49m\u001b[38;5;241;43m.\u001b[39;49m\u001b[43m_sock\u001b[49m\u001b[38;5;241;43m.\u001b[39;49m\u001b[43mrecv_into\u001b[49m\u001b[43m(\u001b[49m\u001b[43mb\u001b[49m\u001b[43m)\u001b[49m\n\u001b[0;32m    707\u001b[0m     \u001b[38;5;28;01mexcept\u001b[39;00m timeout:\n\u001b[0;32m    708\u001b[0m         \u001b[38;5;28mself\u001b[39m\u001b[38;5;241m.\u001b[39m_timeout_occurred \u001b[38;5;241m=\u001b[39m \u001b[38;5;28;01mTrue\u001b[39;00m\n",
      "File \u001b[1;32mc:\\Users\\user\\AppData\\Local\\Programs\\Python\\Python311\\Lib\\ssl.py:1278\u001b[0m, in \u001b[0;36mSSLSocket.recv_into\u001b[1;34m(self, buffer, nbytes, flags)\u001b[0m\n\u001b[0;32m   1274\u001b[0m     \u001b[38;5;28;01mif\u001b[39;00m flags \u001b[38;5;241m!=\u001b[39m \u001b[38;5;241m0\u001b[39m:\n\u001b[0;32m   1275\u001b[0m         \u001b[38;5;28;01mraise\u001b[39;00m \u001b[38;5;167;01mValueError\u001b[39;00m(\n\u001b[0;32m   1276\u001b[0m           \u001b[38;5;124m\"\u001b[39m\u001b[38;5;124mnon-zero flags not allowed in calls to recv_into() on \u001b[39m\u001b[38;5;132;01m%s\u001b[39;00m\u001b[38;5;124m\"\u001b[39m \u001b[38;5;241m%\u001b[39m\n\u001b[0;32m   1277\u001b[0m           \u001b[38;5;28mself\u001b[39m\u001b[38;5;241m.\u001b[39m\u001b[38;5;18m__class__\u001b[39m)\n\u001b[1;32m-> 1278\u001b[0m     \u001b[38;5;28;01mreturn\u001b[39;00m \u001b[38;5;28;43mself\u001b[39;49m\u001b[38;5;241;43m.\u001b[39;49m\u001b[43mread\u001b[49m\u001b[43m(\u001b[49m\u001b[43mnbytes\u001b[49m\u001b[43m,\u001b[49m\u001b[43m \u001b[49m\u001b[43mbuffer\u001b[49m\u001b[43m)\u001b[49m\n\u001b[0;32m   1279\u001b[0m \u001b[38;5;28;01melse\u001b[39;00m:\n\u001b[0;32m   1280\u001b[0m     \u001b[38;5;28;01mreturn\u001b[39;00m \u001b[38;5;28msuper\u001b[39m()\u001b[38;5;241m.\u001b[39mrecv_into(buffer, nbytes, flags)\n",
      "File \u001b[1;32mc:\\Users\\user\\AppData\\Local\\Programs\\Python\\Python311\\Lib\\ssl.py:1134\u001b[0m, in \u001b[0;36mSSLSocket.read\u001b[1;34m(self, len, buffer)\u001b[0m\n\u001b[0;32m   1132\u001b[0m \u001b[38;5;28;01mtry\u001b[39;00m:\n\u001b[0;32m   1133\u001b[0m     \u001b[38;5;28;01mif\u001b[39;00m buffer \u001b[38;5;129;01mis\u001b[39;00m \u001b[38;5;129;01mnot\u001b[39;00m \u001b[38;5;28;01mNone\u001b[39;00m:\n\u001b[1;32m-> 1134\u001b[0m         \u001b[38;5;28;01mreturn\u001b[39;00m \u001b[38;5;28;43mself\u001b[39;49m\u001b[38;5;241;43m.\u001b[39;49m\u001b[43m_sslobj\u001b[49m\u001b[38;5;241;43m.\u001b[39;49m\u001b[43mread\u001b[49m\u001b[43m(\u001b[49m\u001b[38;5;28;43mlen\u001b[39;49m\u001b[43m,\u001b[49m\u001b[43m \u001b[49m\u001b[43mbuffer\u001b[49m\u001b[43m)\u001b[49m\n\u001b[0;32m   1135\u001b[0m     \u001b[38;5;28;01melse\u001b[39;00m:\n\u001b[0;32m   1136\u001b[0m         \u001b[38;5;28;01mreturn\u001b[39;00m \u001b[38;5;28mself\u001b[39m\u001b[38;5;241m.\u001b[39m_sslobj\u001b[38;5;241m.\u001b[39mread(\u001b[38;5;28mlen\u001b[39m)\n",
      "\u001b[1;31mKeyboardInterrupt\u001b[0m: "
     ]
    }
   ],
   "source": [
    "from ultralytics import YOLO\n",
    "import ultralytics\n",
    "\n",
    "# ultralytics.checks()\n",
    "\n",
    "model = YOLO(\"yolov8n.yaml\")\n",
    "\n",
    "results = model.train(data = \"config.yaml\", epochs =1)\n",
    "\n"
   ]
  },
  {
   "cell_type": "code",
   "execution_count": 5,
   "metadata": {},
   "outputs": [],
   "source": [
    "import cv2\n",
    "import os\n",
    "import random as random\n",
    "from PIL import Image\n",
    "from pascal import annotation_from_xml\n",
    "import xml.etree.ElementTree as ET\n",
    "import yaml\n",
    "import random as random\n",
    "import shutil\n",
    "import matplotlib.pyplot as plt\n",
    "import torch\n",
    "import xml.etree.ElementTree as ET"
   ]
  },
  {
   "cell_type": "code",
   "execution_count": 32,
   "metadata": {},
   "outputs": [
    {
     "name": "stdout",
     "output_type": "stream",
     "text": [
      "New https://pypi.org/project/ultralytics/8.1.40 available 😃 Update with 'pip install -U ultralytics'\n",
      "Ultralytics YOLOv8.1.38 🚀 Python-3.11.2 torch-2.2.2+cpu CPU (AMD Ryzen 7 5700G with Radeon Graphics)\n",
      "\u001b[34m\u001b[1mengine\\trainer: \u001b[0mtask=detect, mode=train, model=yolov8n.pt, data=D:/Engineering/SEM6/PROJECTS/DeepLearning/FloW_IMG/config.yaml, epochs=100, time=None, patience=100, batch=16, imgsz=640, save=True, save_period=-1, cache=False, device=None, workers=8, project=None, name=train9, exist_ok=False, pretrained=True, optimizer=auto, verbose=True, seed=0, deterministic=True, single_cls=False, rect=False, cos_lr=False, close_mosaic=10, resume=False, amp=True, fraction=1.0, profile=False, freeze=None, multi_scale=False, overlap_mask=True, mask_ratio=4, dropout=0.0, val=True, split=val, save_json=False, save_hybrid=False, conf=None, iou=0.7, max_det=300, half=False, dnn=False, plots=True, source=None, vid_stride=1, stream_buffer=False, visualize=False, augment=False, agnostic_nms=False, classes=None, retina_masks=False, embed=None, show=False, save_frames=False, save_txt=False, save_conf=False, save_crop=False, show_labels=True, show_conf=True, show_boxes=True, line_width=None, format=torchscript, keras=False, optimize=False, int8=False, dynamic=False, simplify=False, opset=None, workspace=4, nms=False, lr0=0.01, lrf=0.01, momentum=0.937, weight_decay=0.0005, warmup_epochs=3.0, warmup_momentum=0.8, warmup_bias_lr=0.1, box=7.5, cls=0.5, dfl=1.5, pose=12.0, kobj=1.0, label_smoothing=0.0, nbs=64, hsv_h=0.015, hsv_s=0.7, hsv_v=0.4, degrees=0.0, translate=0.1, scale=0.5, shear=0.0, perspective=0.0, flipud=0.0, fliplr=0.5, bgr=0.0, mosaic=1.0, mixup=0.0, copy_paste=0.0, auto_augment=randaugment, erasing=0.4, crop_fraction=1.0, cfg=None, tracker=botsort.yaml, save_dir=runs\\detect\\train9\n",
      "Overriding model.yaml nc=80 with nc=1\n",
      "\n",
      "                   from  n    params  module                                       arguments                     \n",
      "  0                  -1  1       464  ultralytics.nn.modules.conv.Conv             [3, 16, 3, 2]                 \n",
      "  1                  -1  1      4672  ultralytics.nn.modules.conv.Conv             [16, 32, 3, 2]                \n",
      "  2                  -1  1      7360  ultralytics.nn.modules.block.C2f             [32, 32, 1, True]             \n",
      "  3                  -1  1     18560  ultralytics.nn.modules.conv.Conv             [32, 64, 3, 2]                \n",
      "  4                  -1  2     49664  ultralytics.nn.modules.block.C2f             [64, 64, 2, True]             \n",
      "  5                  -1  1     73984  ultralytics.nn.modules.conv.Conv             [64, 128, 3, 2]               \n",
      "  6                  -1  2    197632  ultralytics.nn.modules.block.C2f             [128, 128, 2, True]           \n",
      "  7                  -1  1    295424  ultralytics.nn.modules.conv.Conv             [128, 256, 3, 2]              \n",
      "  8                  -1  1    460288  ultralytics.nn.modules.block.C2f             [256, 256, 1, True]           \n",
      "  9                  -1  1    164608  ultralytics.nn.modules.block.SPPF            [256, 256, 5]                 \n",
      " 10                  -1  1         0  torch.nn.modules.upsampling.Upsample         [None, 2, 'nearest']          \n",
      " 11             [-1, 6]  1         0  ultralytics.nn.modules.conv.Concat           [1]                           \n",
      " 12                  -1  1    148224  ultralytics.nn.modules.block.C2f             [384, 128, 1]                 \n",
      " 13                  -1  1         0  torch.nn.modules.upsampling.Upsample         [None, 2, 'nearest']          \n",
      " 14             [-1, 4]  1         0  ultralytics.nn.modules.conv.Concat           [1]                           \n",
      " 15                  -1  1     37248  ultralytics.nn.modules.block.C2f             [192, 64, 1]                  \n",
      " 16                  -1  1     36992  ultralytics.nn.modules.conv.Conv             [64, 64, 3, 2]                \n",
      " 17            [-1, 12]  1         0  ultralytics.nn.modules.conv.Concat           [1]                           \n",
      " 18                  -1  1    123648  ultralytics.nn.modules.block.C2f             [192, 128, 1]                 \n",
      " 19                  -1  1    147712  ultralytics.nn.modules.conv.Conv             [128, 128, 3, 2]              \n",
      " 20             [-1, 9]  1         0  ultralytics.nn.modules.conv.Concat           [1]                           \n",
      " 21                  -1  1    493056  ultralytics.nn.modules.block.C2f             [384, 256, 1]                 \n",
      " 22        [15, 18, 21]  1    751507  ultralytics.nn.modules.head.Detect           [1, [64, 128, 256]]           \n",
      "Model summary: 225 layers, 3011043 parameters, 3011027 gradients, 8.2 GFLOPs\n",
      "\n",
      "Transferred 319/355 items from pretrained weights\n",
      "\u001b[34m\u001b[1mTensorBoard: \u001b[0mStart with 'tensorboard --logdir runs\\detect\\train9', view at http://localhost:6006/\n",
      "Freezing layer 'model.22.dfl.conv.weight'\n",
      "\u001b[34m\u001b[1mtrain: \u001b[0mWARNING ⚠️ No labels found in D:\\Engineering\\SEM6\\PROJECTS\\DeepLearning\\FloW_IMG\\training\\labels.cache. See https://docs.ultralytics.com/datasets/detect for dataset formatting guidance.\n",
      "\u001b[34m\u001b[1mtrain: \u001b[0mNew cache created: D:\\Engineering\\SEM6\\PROJECTS\\DeepLearning\\FloW_IMG\\training\\labels.cache\n",
      "WARNING ⚠️ No labels found in D:\\Engineering\\SEM6\\PROJECTS\\DeepLearning\\FloW_IMG\\training\\labels.cache, training may not work correctly. See https://docs.ultralytics.com/datasets/detect for dataset formatting guidance.\n",
      "\u001b[34m\u001b[1malbumentations: \u001b[0mBlur(p=0.01, blur_limit=(3, 7)), MedianBlur(p=0.01, blur_limit=(3, 7)), ToGray(p=0.01), CLAHE(p=0.01, clip_limit=(1, 4.0), tile_grid_size=(8, 8))\n",
      "\u001b[34m\u001b[1mval: \u001b[0mWARNING ⚠️ No labels found in D:\\Engineering\\SEM6\\PROJECTS\\DeepLearning\\FloW_IMG\\test\\labels.cache. See https://docs.ultralytics.com/datasets/detect for dataset formatting guidance.\n",
      "\u001b[34m\u001b[1mval: \u001b[0mNew cache created: D:\\Engineering\\SEM6\\PROJECTS\\DeepLearning\\FloW_IMG\\test\\labels.cache\n",
      "WARNING ⚠️ No labels found in D:\\Engineering\\SEM6\\PROJECTS\\DeepLearning\\FloW_IMG\\test\\labels.cache, training may not work correctly. See https://docs.ultralytics.com/datasets/detect for dataset formatting guidance.\n",
      "Plotting labels to runs\\detect\\train9\\labels.jpg... \n",
      "zero-size array to reduction operation maximum which has no identity\n",
      "\u001b[34m\u001b[1moptimizer:\u001b[0m 'optimizer=auto' found, ignoring 'lr0=0.01' and 'momentum=0.937' and determining best 'optimizer', 'lr0' and 'momentum' automatically... \n",
      "\u001b[34m\u001b[1moptimizer:\u001b[0m AdamW(lr=0.002, momentum=0.9) with parameter groups 57 weight(decay=0.0), 64 weight(decay=0.0005), 63 bias(decay=0.0)\n",
      "\u001b[34m\u001b[1mTensorBoard: \u001b[0mmodel graph visualization added ✅\n",
      "Image sizes 640 train, 640 val\n",
      "Using 0 dataloader workers\n",
      "Logging results to \u001b[1mruns\\detect\\train9\u001b[0m\n",
      "Starting training for 100 epochs...\n",
      "\n",
      "      Epoch    GPU_mem   box_loss   cls_loss   dfl_loss  Instances       Size\n",
      "                   all        800          0          0          0          0          0\n",
      "WARNING ⚠️ no labels found in detect set, can not compute metrics without labels\n",
      "\n",
      "      Epoch    GPU_mem   box_loss   cls_loss   dfl_loss  Instances       Size\n",
      "                   all        800          0          0          0          0          0\n",
      "WARNING ⚠️ no labels found in detect set, can not compute metrics without labels\n",
      "\n",
      "      Epoch    GPU_mem   box_loss   cls_loss   dfl_loss  Instances       Size\n",
      "                   all        800          0          0          0          0          0\n",
      "WARNING ⚠️ no labels found in detect set, can not compute metrics without labels\n",
      "\n",
      "      Epoch    GPU_mem   box_loss   cls_loss   dfl_loss  Instances       Size\n",
      "                   all        800          0          0          0          0          0\n",
      "WARNING ⚠️ no labels found in detect set, can not compute metrics without labels\n",
      "\n",
      "      Epoch    GPU_mem   box_loss   cls_loss   dfl_loss  Instances       Size\n"
     ]
    },
    {
     "name": "stderr",
     "output_type": "stream",
     "text": [
      "\n",
      "\u001b[34m\u001b[1mtrain: \u001b[0mScanning D:\\Engineering\\SEM6\\PROJECTS\\DeepLearning\\FloW_IMG\\training\\labels...:   0%|          | 0/1200 [00:00<?, ?it/s]\n",
      "\u001b[34m\u001b[1mtrain: \u001b[0mScanning D:\\Engineering\\SEM6\\PROJECTS\\DeepLearning\\FloW_IMG\\training\\labels... 0 images, 582 backgrounds, 0 corrupt:  48%|████▊     | 582/1200 [00:00<00:00, 5649.06it/s]\n",
      "\u001b[34m\u001b[1mtrain: \u001b[0mScanning D:\\Engineering\\SEM6\\PROJECTS\\DeepLearning\\FloW_IMG\\training\\labels... 0 images, 1200 backgrounds, 0 corrupt: 100%|██████████| 1200/1200 [00:00<00:00, 6113.54it/s]\n",
      "\n",
      "\u001b[34m\u001b[1mval: \u001b[0mScanning D:\\Engineering\\SEM6\\PROJECTS\\DeepLearning\\FloW_IMG\\test\\labels...:   0%|          | 0/800 [00:00<?, ?it/s]\n",
      "\u001b[34m\u001b[1mval: \u001b[0mScanning D:\\Engineering\\SEM6\\PROJECTS\\DeepLearning\\FloW_IMG\\test\\labels... 0 images, 638 backgrounds, 0 corrupt:  80%|███████▉  | 638/800 [00:00<00:00, 6365.27it/s]\n",
      "\u001b[34m\u001b[1mval: \u001b[0mScanning D:\\Engineering\\SEM6\\PROJECTS\\DeepLearning\\FloW_IMG\\test\\labels... 0 images, 800 backgrounds, 0 corrupt: 100%|██████████| 800/800 [00:00<00:00, 6595.58it/s]\n",
      "\n",
      "  0%|          | 0/75 [00:00<?, ?it/s]\n",
      "      1/100         0G          0      120.6          0          0        640:   0%|          | 0/75 [00:03<?, ?it/s]\n",
      "      1/100         0G          0      120.6          0          0        640:   1%|▏         | 1/75 [00:03<04:22,  3.54s/it]\n",
      "      1/100         0G          0      120.7          0          0        640:   1%|▏         | 1/75 [00:07<04:22,  3.54s/it]\n",
      "      1/100         0G          0      120.7          0          0        640:   3%|▎         | 2/75 [00:07<04:18,  3.54s/it]\n",
      "      1/100         0G          0      120.6          0          0        640:   3%|▎         | 2/75 [00:10<04:18,  3.54s/it]\n",
      "      1/100         0G          0      120.6          0          0        640:   4%|▍         | 3/75 [00:10<04:13,  3.52s/it]\n",
      "      1/100         0G          0      120.4          0          0        640:   4%|▍         | 3/75 [00:14<04:13,  3.52s/it]\n",
      "      1/100         0G          0      120.4          0          0        640:   5%|▌         | 4/75 [00:14<04:08,  3.50s/it]\n",
      "      1/100         0G          0      120.2          0          0        640:   5%|▌         | 4/75 [00:17<04:08,  3.50s/it]\n",
      "      1/100         0G          0      120.2          0          0        640:   7%|▋         | 5/75 [00:17<04:04,  3.49s/it]\n",
      "      1/100         0G          0      119.9          0          0        640:   7%|▋         | 5/75 [00:20<04:04,  3.49s/it]\n",
      "      1/100         0G          0      119.9          0          0        640:   8%|▊         | 6/75 [00:20<04:00,  3.49s/it]\n",
      "      1/100         0G          0      119.7          0          0        640:   8%|▊         | 6/75 [00:24<04:00,  3.49s/it]\n",
      "      1/100         0G          0      119.7          0          0        640:   9%|▉         | 7/75 [00:24<03:57,  3.49s/it]\n",
      "      1/100         0G          0      119.5          0          0        640:   9%|▉         | 7/75 [00:27<03:57,  3.49s/it]\n",
      "      1/100         0G          0      119.5          0          0        640:  11%|█         | 8/75 [00:27<03:53,  3.49s/it]\n",
      "      1/100         0G          0      119.2          0          0        640:  11%|█         | 8/75 [00:31<03:53,  3.49s/it]\n",
      "      1/100         0G          0      119.2          0          0        640:  12%|█▏        | 9/75 [00:31<03:49,  3.47s/it]\n",
      "      1/100         0G          0      118.9          0          0        640:  12%|█▏        | 9/75 [00:34<03:49,  3.47s/it]\n",
      "      1/100         0G          0      118.9          0          0        640:  13%|█▎        | 10/75 [00:34<03:45,  3.48s/it]\n",
      "      1/100         0G          0      118.6          0          0        640:  13%|█▎        | 10/75 [00:38<03:45,  3.48s/it]\n",
      "      1/100         0G          0      118.6          0          0        640:  15%|█▍        | 11/75 [00:38<03:41,  3.47s/it]\n",
      "      1/100         0G          0      118.4          0          0        640:  15%|█▍        | 11/75 [00:41<03:41,  3.47s/it]\n",
      "      1/100         0G          0      118.4          0          0        640:  16%|█▌        | 12/75 [00:41<03:38,  3.47s/it]\n",
      "      1/100         0G          0      118.1          0          0        640:  16%|█▌        | 12/75 [00:45<03:38,  3.47s/it]\n",
      "      1/100         0G          0      118.1          0          0        640:  17%|█▋        | 13/75 [00:45<03:34,  3.46s/it]\n",
      "      1/100         0G          0      117.8          0          0        640:  17%|█▋        | 13/75 [00:48<03:34,  3.46s/it]\n",
      "      1/100         0G          0      117.8          0          0        640:  19%|█▊        | 14/75 [00:48<03:31,  3.47s/it]\n",
      "      1/100         0G          0      117.4          0          0        640:  19%|█▊        | 14/75 [00:52<03:31,  3.47s/it]\n",
      "      1/100         0G          0      117.4          0          0        640:  20%|██        | 15/75 [00:52<03:28,  3.47s/it]\n",
      "      1/100         0G          0        117          0          0        640:  20%|██        | 15/75 [00:55<03:28,  3.47s/it]\n",
      "      1/100         0G          0        117          0          0        640:  21%|██▏       | 16/75 [00:55<03:24,  3.46s/it]\n",
      "      1/100         0G          0      116.6          0          0        640:  21%|██▏       | 16/75 [00:59<03:24,  3.46s/it]\n",
      "      1/100         0G          0      116.6          0          0        640:  23%|██▎       | 17/75 [00:59<03:21,  3.47s/it]\n",
      "      1/100         0G          0      116.1          0          0        640:  23%|██▎       | 17/75 [01:02<03:21,  3.47s/it]\n",
      "      1/100         0G          0      116.1          0          0        640:  24%|██▍       | 18/75 [01:02<03:17,  3.46s/it]\n",
      "      1/100         0G          0      115.6          0          0        640:  24%|██▍       | 18/75 [01:06<03:17,  3.46s/it]\n",
      "      1/100         0G          0      115.6          0          0        640:  25%|██▌       | 19/75 [01:06<03:14,  3.47s/it]\n",
      "      1/100         0G          0      115.1          0          0        640:  25%|██▌       | 19/75 [01:09<03:14,  3.47s/it]\n",
      "      1/100         0G          0      115.1          0          0        640:  27%|██▋       | 20/75 [01:09<03:11,  3.49s/it]\n",
      "      1/100         0G          0      114.6          0          0        640:  27%|██▋       | 20/75 [01:13<03:11,  3.49s/it]\n",
      "      1/100         0G          0      114.6          0          0        640:  28%|██▊       | 21/75 [01:13<03:08,  3.49s/it]\n",
      "      1/100         0G          0        114          0          0        640:  28%|██▊       | 21/75 [01:16<03:08,  3.49s/it]\n",
      "      1/100         0G          0        114          0          0        640:  29%|██▉       | 22/75 [01:16<03:05,  3.49s/it]\n",
      "      1/100         0G          0      113.4          0          0        640:  29%|██▉       | 22/75 [01:20<03:05,  3.49s/it]\n",
      "      1/100         0G          0      113.4          0          0        640:  31%|███       | 23/75 [01:20<03:00,  3.48s/it]\n",
      "      1/100         0G          0      112.7          0          0        640:  31%|███       | 23/75 [01:23<03:00,  3.48s/it]\n",
      "      1/100         0G          0      112.7          0          0        640:  32%|███▏      | 24/75 [01:23<02:57,  3.48s/it]\n",
      "      1/100         0G          0        112          0          0        640:  32%|███▏      | 24/75 [01:27<02:57,  3.48s/it]\n",
      "      1/100         0G          0        112          0          0        640:  33%|███▎      | 25/75 [01:27<02:53,  3.48s/it]\n",
      "      1/100         0G          0      111.5          0          0        640:  33%|███▎      | 25/75 [01:30<02:53,  3.48s/it]\n",
      "      1/100         0G          0      111.5          0          0        640:  35%|███▍      | 26/75 [01:30<02:50,  3.47s/it]\n",
      "      1/100         0G          0      110.9          0          0        640:  35%|███▍      | 26/75 [01:33<02:50,  3.47s/it]\n",
      "      1/100         0G          0      110.9          0          0        640:  36%|███▌      | 27/75 [01:33<02:47,  3.49s/it]\n",
      "      1/100         0G          0      110.2          0          0        640:  36%|███▌      | 27/75 [01:37<02:47,  3.49s/it]\n",
      "      1/100         0G          0      110.2          0          0        640:  37%|███▋      | 28/75 [01:37<02:43,  3.48s/it]\n",
      "      1/100         0G          0      109.5          0          0        640:  37%|███▋      | 28/75 [01:40<02:43,  3.48s/it]\n",
      "      1/100         0G          0      109.5          0          0        640:  39%|███▊      | 29/75 [01:40<02:40,  3.50s/it]\n",
      "      1/100         0G          0      108.9          0          0        640:  39%|███▊      | 29/75 [01:44<02:40,  3.50s/it]\n",
      "      1/100         0G          0      108.9          0          0        640:  40%|████      | 30/75 [01:44<02:37,  3.49s/it]\n",
      "      1/100         0G          0      108.3          0          0        640:  40%|████      | 30/75 [01:47<02:37,  3.49s/it]\n",
      "      1/100         0G          0      108.3          0          0        640:  41%|████▏     | 31/75 [01:47<02:33,  3.50s/it]\n",
      "      1/100         0G          0      107.7          0          0        640:  41%|████▏     | 31/75 [01:51<02:33,  3.50s/it]\n",
      "      1/100         0G          0      107.7          0          0        640:  43%|████▎     | 32/75 [01:51<02:28,  3.47s/it]\n",
      "      1/100         0G          0      107.1          0          0        640:  43%|████▎     | 32/75 [01:54<02:28,  3.47s/it]\n",
      "      1/100         0G          0      107.1          0          0        640:  44%|████▍     | 33/75 [01:54<02:24,  3.43s/it]\n",
      "      1/100         0G          0      106.6          0          0        640:  44%|████▍     | 33/75 [01:57<02:24,  3.43s/it]\n",
      "      1/100         0G          0      106.6          0          0        640:  45%|████▌     | 34/75 [01:57<02:18,  3.38s/it]\n",
      "      1/100         0G          0      105.9          0          0        640:  45%|████▌     | 34/75 [02:01<02:18,  3.38s/it]\n",
      "      1/100         0G          0      105.9          0          0        640:  47%|████▋     | 35/75 [02:01<02:14,  3.37s/it]\n",
      "      1/100         0G          0      105.3          0          0        640:  47%|████▋     | 35/75 [02:04<02:14,  3.37s/it]\n",
      "      1/100         0G          0      105.3          0          0        640:  48%|████▊     | 36/75 [02:04<02:10,  3.34s/it]\n",
      "      1/100         0G          0      104.7          0          0        640:  48%|████▊     | 36/75 [02:07<02:10,  3.34s/it]\n",
      "      1/100         0G          0      104.7          0          0        640:  49%|████▉     | 37/75 [02:07<02:06,  3.33s/it]\n",
      "      1/100         0G          0      104.1          0          0        640:  49%|████▉     | 37/75 [02:11<02:06,  3.33s/it]\n",
      "      1/100         0G          0      104.1          0          0        640:  51%|█████     | 38/75 [02:11<02:03,  3.33s/it]\n",
      "      1/100         0G          0      103.5          0          0        640:  51%|█████     | 38/75 [02:14<02:03,  3.33s/it]\n",
      "      1/100         0G          0      103.5          0          0        640:  52%|█████▏    | 39/75 [02:14<01:59,  3.32s/it]\n",
      "      1/100         0G          0      102.9          0          0        640:  52%|█████▏    | 39/75 [02:17<01:59,  3.32s/it]\n",
      "      1/100         0G          0      102.9          0          0        640:  53%|█████▎    | 40/75 [02:17<01:56,  3.32s/it]\n",
      "      1/100         0G          0      102.4          0          0        640:  53%|█████▎    | 40/75 [02:21<01:56,  3.32s/it]\n",
      "      1/100         0G          0      102.4          0          0        640:  55%|█████▍    | 41/75 [02:21<01:53,  3.34s/it]\n",
      "      1/100         0G          0      101.9          0          0        640:  55%|█████▍    | 41/75 [02:24<01:53,  3.34s/it]\n",
      "      1/100         0G          0      101.9          0          0        640:  56%|█████▌    | 42/75 [02:24<01:50,  3.33s/it]\n",
      "      1/100         0G          0      101.3          0          0        640:  56%|█████▌    | 42/75 [02:28<01:50,  3.33s/it]\n",
      "      1/100         0G          0      101.3          0          0        640:  57%|█████▋    | 43/75 [02:28<01:48,  3.39s/it]\n",
      "      1/100         0G          0      100.8          0          0        640:  57%|█████▋    | 43/75 [02:31<01:48,  3.39s/it]\n",
      "      1/100         0G          0      100.8          0          0        640:  59%|█████▊    | 44/75 [02:31<01:46,  3.42s/it]\n",
      "      1/100         0G          0      100.5          0          0        640:  59%|█████▊    | 44/75 [02:35<01:46,  3.42s/it]\n",
      "      1/100         0G          0      100.5          0          0        640:  60%|██████    | 45/75 [02:35<01:43,  3.44s/it]\n",
      "      1/100         0G          0      100.2          0          0        640:  60%|██████    | 45/75 [02:38<01:43,  3.44s/it]\n",
      "      1/100         0G          0      100.2          0          0        640:  61%|██████▏   | 46/75 [02:38<01:40,  3.46s/it]\n",
      "      1/100         0G          0      99.74          0          0        640:  61%|██████▏   | 46/75 [02:42<01:40,  3.46s/it]\n",
      "      1/100         0G          0      99.74          0          0        640:  63%|██████▎   | 47/75 [02:42<01:37,  3.47s/it]\n",
      "      1/100         0G          0      99.39          0          0        640:  63%|██████▎   | 47/75 [02:45<01:37,  3.47s/it]\n",
      "      1/100         0G          0      99.39          0          0        640:  64%|██████▍   | 48/75 [02:45<01:32,  3.43s/it]\n",
      "      1/100         0G          0      98.95          0          0        640:  64%|██████▍   | 48/75 [02:48<01:32,  3.43s/it]\n",
      "      1/100         0G          0      98.95          0          0        640:  65%|██████▌   | 49/75 [02:48<01:28,  3.40s/it]\n",
      "      1/100         0G          0       98.5          0          0        640:  65%|██████▌   | 49/75 [02:51<01:28,  3.40s/it]\n",
      "      1/100         0G          0       98.5          0          0        640:  67%|██████▋   | 50/75 [02:51<01:23,  3.36s/it]\n",
      "      1/100         0G          0      98.05          0          0        640:  67%|██████▋   | 50/75 [02:55<01:23,  3.36s/it]\n",
      "      1/100         0G          0      98.05          0          0        640:  68%|██████▊   | 51/75 [02:55<01:21,  3.38s/it]\n",
      "      1/100         0G          0      97.62          0          0        640:  68%|██████▊   | 51/75 [02:58<01:21,  3.38s/it]\n",
      "      1/100         0G          0      97.62          0          0        640:  69%|██████▉   | 52/75 [02:58<01:17,  3.38s/it]\n",
      "      1/100         0G          0      97.37          0          0        640:  69%|██████▉   | 52/75 [03:02<01:17,  3.38s/it]\n",
      "      1/100         0G          0      97.37          0          0        640:  71%|███████   | 53/75 [03:02<01:13,  3.36s/it]\n",
      "      1/100         0G          0      96.96          0          0        640:  71%|███████   | 53/75 [03:05<01:13,  3.36s/it]\n",
      "      1/100         0G          0      96.96          0          0        640:  72%|███████▏  | 54/75 [03:05<01:11,  3.38s/it]\n",
      "      1/100         0G          0      96.54          0          0        640:  72%|███████▏  | 54/75 [03:08<01:11,  3.38s/it]\n",
      "      1/100         0G          0      96.54          0          0        640:  73%|███████▎  | 55/75 [03:08<01:08,  3.40s/it]\n",
      "      1/100         0G          0      96.14          0          0        640:  73%|███████▎  | 55/75 [03:12<01:08,  3.40s/it]\n",
      "      1/100         0G          0      96.14          0          0        640:  75%|███████▍  | 56/75 [03:12<01:05,  3.43s/it]\n",
      "      1/100         0G          0      95.74          0          0        640:  75%|███████▍  | 56/75 [03:15<01:05,  3.43s/it]\n",
      "      1/100         0G          0      95.74          0          0        640:  76%|███████▌  | 57/75 [03:15<01:01,  3.44s/it]\n",
      "      1/100         0G          0      95.43          0          0        640:  76%|███████▌  | 57/75 [03:19<01:01,  3.44s/it]\n",
      "      1/100         0G          0      95.43          0          0        640:  77%|███████▋  | 58/75 [03:19<00:59,  3.51s/it]\n",
      "      1/100         0G          0      95.05          0          0        640:  77%|███████▋  | 58/75 [03:23<00:59,  3.51s/it]\n",
      "      1/100         0G          0      95.05          0          0        640:  79%|███████▊  | 59/75 [03:23<00:56,  3.54s/it]\n",
      "      1/100         0G          0      94.69          0          0        640:  79%|███████▊  | 59/75 [03:26<00:56,  3.54s/it]\n",
      "      1/100         0G          0      94.69          0          0        640:  80%|████████  | 60/75 [03:26<00:52,  3.48s/it]\n",
      "      1/100         0G          0      94.35          0          0        640:  80%|████████  | 60/75 [03:29<00:52,  3.48s/it]\n",
      "      1/100         0G          0      94.35          0          0        640:  81%|████████▏ | 61/75 [03:29<00:48,  3.44s/it]\n",
      "      1/100         0G          0         94          0          0        640:  81%|████████▏ | 61/75 [03:33<00:48,  3.44s/it]\n",
      "      1/100         0G          0         94          0          0        640:  83%|████████▎ | 62/75 [03:33<00:44,  3.43s/it]\n",
      "      1/100         0G          0      93.67          0          0        640:  83%|████████▎ | 62/75 [03:36<00:44,  3.43s/it]\n",
      "      1/100         0G          0      93.67          0          0        640:  84%|████████▍ | 63/75 [03:36<00:41,  3.47s/it]\n",
      "      1/100         0G          0      93.34          0          0        640:  84%|████████▍ | 63/75 [03:40<00:41,  3.47s/it]\n",
      "      1/100         0G          0      93.34          0          0        640:  85%|████████▌ | 64/75 [03:40<00:38,  3.53s/it]\n",
      "      1/100         0G          0      93.01          0          0        640:  85%|████████▌ | 64/75 [03:44<00:38,  3.53s/it]\n",
      "      1/100         0G          0      93.01          0          0        640:  87%|████████▋ | 65/75 [03:44<00:35,  3.53s/it]\n",
      "      1/100         0G          0      92.69          0          0        640:  87%|████████▋ | 65/75 [03:47<00:35,  3.53s/it]\n",
      "      1/100         0G          0      92.69          0          0        640:  88%|████████▊ | 66/75 [03:47<00:31,  3.48s/it]\n",
      "      1/100         0G          0      92.36          0          0        640:  88%|████████▊ | 66/75 [03:50<00:31,  3.48s/it]\n",
      "      1/100         0G          0      92.36          0          0        640:  89%|████████▉ | 67/75 [03:50<00:27,  3.46s/it]\n",
      "      1/100         0G          0      92.04          0          0        640:  89%|████████▉ | 67/75 [03:54<00:27,  3.46s/it]\n",
      "      1/100         0G          0      92.04          0          0        640:  91%|█████████ | 68/75 [03:54<00:23,  3.41s/it]\n",
      "      1/100         0G          0      91.74          0          0        640:  91%|█████████ | 68/75 [03:57<00:23,  3.41s/it]\n",
      "      1/100         0G          0      91.74          0          0        640:  92%|█████████▏| 69/75 [03:57<00:20,  3.38s/it]\n",
      "      1/100         0G          0      91.44          0          0        640:  92%|█████████▏| 69/75 [04:00<00:20,  3.38s/it]\n",
      "      1/100         0G          0      91.44          0          0        640:  93%|█████████▎| 70/75 [04:00<00:16,  3.36s/it]\n",
      "      1/100         0G          0      91.13          0          0        640:  93%|█████████▎| 70/75 [04:04<00:16,  3.36s/it]\n",
      "      1/100         0G          0      91.13          0          0        640:  95%|█████████▍| 71/75 [04:04<00:13,  3.36s/it]\n",
      "      1/100         0G          0      90.83          0          0        640:  95%|█████████▍| 71/75 [04:07<00:13,  3.36s/it]\n",
      "      1/100         0G          0      90.83          0          0        640:  96%|█████████▌| 72/75 [04:07<00:10,  3.42s/it]\n",
      "      1/100         0G          0      90.54          0          0        640:  96%|█████████▌| 72/75 [04:11<00:10,  3.42s/it]\n",
      "      1/100         0G          0      90.54          0          0        640:  97%|█████████▋| 73/75 [04:11<00:06,  3.43s/it]\n",
      "      1/100         0G          0      90.24          0          0        640:  97%|█████████▋| 73/75 [04:14<00:06,  3.43s/it]\n",
      "      1/100         0G          0      90.24          0          0        640:  99%|█████████▊| 74/75 [04:14<00:03,  3.40s/it]\n",
      "      1/100         0G          0      89.94          0          0        640:  99%|█████████▊| 74/75 [04:17<00:03,  3.40s/it]\n",
      "      1/100         0G          0      89.94          0          0        640: 100%|██████████| 75/75 [04:17<00:00,  3.40s/it]\n",
      "      1/100         0G          0      89.94          0          0        640: 100%|██████████| 75/75 [04:17<00:00,  3.44s/it]\n",
      "\n",
      "                 Class     Images  Instances      Box(P          R      mAP50  mAP50-95):   0%|          | 0/25 [00:00<?, ?it/s]\n",
      "                 Class     Images  Instances      Box(P          R      mAP50  mAP50-95):   4%|▍         | 1/25 [00:01<00:39,  1.64s/it]\n",
      "                 Class     Images  Instances      Box(P          R      mAP50  mAP50-95):   8%|▊         | 2/25 [00:03<00:37,  1.61s/it]\n",
      "                 Class     Images  Instances      Box(P          R      mAP50  mAP50-95):  12%|█▏        | 3/25 [00:04<00:34,  1.58s/it]\n",
      "                 Class     Images  Instances      Box(P          R      mAP50  mAP50-95):  16%|█▌        | 4/25 [00:06<00:32,  1.56s/it]\n",
      "                 Class     Images  Instances      Box(P          R      mAP50  mAP50-95):  20%|██        | 5/25 [00:07<00:30,  1.55s/it]\n",
      "                 Class     Images  Instances      Box(P          R      mAP50  mAP50-95):  24%|██▍       | 6/25 [00:09<00:29,  1.55s/it]\n",
      "                 Class     Images  Instances      Box(P          R      mAP50  mAP50-95):  28%|██▊       | 7/25 [00:10<00:27,  1.54s/it]\n",
      "                 Class     Images  Instances      Box(P          R      mAP50  mAP50-95):  32%|███▏      | 8/25 [00:12<00:26,  1.54s/it]\n",
      "                 Class     Images  Instances      Box(P          R      mAP50  mAP50-95):  36%|███▌      | 9/25 [00:13<00:24,  1.54s/it]\n",
      "                 Class     Images  Instances      Box(P          R      mAP50  mAP50-95):  40%|████      | 10/25 [00:15<00:23,  1.54s/it]\n",
      "                 Class     Images  Instances      Box(P          R      mAP50  mAP50-95):  44%|████▍     | 11/25 [00:17<00:21,  1.55s/it]\n",
      "                 Class     Images  Instances      Box(P          R      mAP50  mAP50-95):  48%|████▊     | 12/25 [00:18<00:20,  1.58s/it]\n",
      "                 Class     Images  Instances      Box(P          R      mAP50  mAP50-95):  52%|█████▏    | 13/25 [00:20<00:19,  1.60s/it]\n",
      "                 Class     Images  Instances      Box(P          R      mAP50  mAP50-95):  56%|█████▌    | 14/25 [00:21<00:17,  1.60s/it]\n",
      "                 Class     Images  Instances      Box(P          R      mAP50  mAP50-95):  60%|██████    | 15/25 [00:23<00:16,  1.61s/it]\n",
      "                 Class     Images  Instances      Box(P          R      mAP50  mAP50-95):  64%|██████▍   | 16/25 [00:25<00:14,  1.62s/it]\n",
      "                 Class     Images  Instances      Box(P          R      mAP50  mAP50-95):  68%|██████▊   | 17/25 [00:26<00:13,  1.63s/it]\n",
      "                 Class     Images  Instances      Box(P          R      mAP50  mAP50-95):  72%|███████▏  | 18/25 [00:28<00:11,  1.65s/it]\n",
      "                 Class     Images  Instances      Box(P          R      mAP50  mAP50-95):  76%|███████▌  | 19/25 [00:30<00:09,  1.66s/it]\n",
      "                 Class     Images  Instances      Box(P          R      mAP50  mAP50-95):  80%|████████  | 20/25 [00:32<00:08,  1.69s/it]\n",
      "                 Class     Images  Instances      Box(P          R      mAP50  mAP50-95):  84%|████████▍ | 21/25 [00:33<00:06,  1.69s/it]\n",
      "                 Class     Images  Instances      Box(P          R      mAP50  mAP50-95):  88%|████████▊ | 22/25 [00:35<00:05,  1.70s/it]\n",
      "                 Class     Images  Instances      Box(P          R      mAP50  mAP50-95):  92%|█████████▏| 23/25 [00:37<00:03,  1.69s/it]\n",
      "                 Class     Images  Instances      Box(P          R      mAP50  mAP50-95):  96%|█████████▌| 24/25 [00:38<00:01,  1.70s/it]\n",
      "                 Class     Images  Instances      Box(P          R      mAP50  mAP50-95): 100%|██████████| 25/25 [00:40<00:00,  1.73s/it]\n",
      "                 Class     Images  Instances      Box(P          R      mAP50  mAP50-95): 100%|██████████| 25/25 [00:40<00:00,  1.63s/it]\n",
      "\n",
      "  0%|          | 0/75 [00:00<?, ?it/s]\n",
      "      2/100         0G          0       68.2          0          0        640:   0%|          | 0/75 [00:03<?, ?it/s]\n",
      "      2/100         0G          0       68.2          0          0        640:   1%|▏         | 1/75 [00:03<04:25,  3.59s/it]\n",
      "      2/100         0G          0      67.76          0          0        640:   1%|▏         | 1/75 [00:07<04:25,  3.59s/it]\n",
      "      2/100         0G          0      67.76          0          0        640:   3%|▎         | 2/75 [00:07<04:20,  3.57s/it]\n",
      "      2/100         0G          0      67.58          0          0        640:   3%|▎         | 2/75 [00:10<04:20,  3.57s/it]\n",
      "      2/100         0G          0      67.58          0          0        640:   4%|▍         | 3/75 [00:10<04:07,  3.44s/it]\n",
      "      2/100         0G          0      67.21          0          0        640:   4%|▍         | 3/75 [00:13<04:07,  3.44s/it]\n",
      "      2/100         0G          0      67.21          0          0        640:   5%|▌         | 4/75 [00:13<03:58,  3.36s/it]\n",
      "      2/100         0G          0      67.06          0          0        640:   5%|▌         | 4/75 [00:17<03:58,  3.36s/it]\n",
      "      2/100         0G          0      67.06          0          0        640:   7%|▋         | 5/75 [00:17<03:54,  3.35s/it]\n",
      "      2/100         0G          0      66.76          0          0        640:   7%|▋         | 5/75 [00:20<03:54,  3.35s/it]\n",
      "      2/100         0G          0      66.76          0          0        640:   8%|▊         | 6/75 [00:20<03:47,  3.30s/it]\n",
      "      2/100         0G          0      67.28          0          0        640:   8%|▊         | 6/75 [00:23<03:47,  3.30s/it]\n",
      "      2/100         0G          0      67.28          0          0        640:   9%|▉         | 7/75 [00:23<03:42,  3.28s/it]\n",
      "      2/100         0G          0      67.02          0          0        640:   9%|▉         | 7/75 [00:26<03:42,  3.28s/it]\n",
      "      2/100         0G          0      67.02          0          0        640:  11%|█         | 8/75 [00:26<03:37,  3.25s/it]\n",
      "      2/100         0G          0      66.84          0          0        640:  11%|█         | 8/75 [00:29<03:37,  3.25s/it]\n",
      "      2/100         0G          0      66.84          0          0        640:  12%|█▏        | 9/75 [00:29<03:34,  3.25s/it]\n",
      "      2/100         0G          0      66.81          0          0        640:  12%|█▏        | 9/75 [00:33<03:34,  3.25s/it]\n",
      "      2/100         0G          0      66.81          0          0        640:  13%|█▎        | 10/75 [00:33<03:30,  3.25s/it]\n",
      "      2/100         0G          0      66.59          0          0        640:  13%|█▎        | 10/75 [00:36<03:30,  3.25s/it]\n",
      "      2/100         0G          0      66.59          0          0        640:  15%|█▍        | 11/75 [00:36<03:29,  3.27s/it]\n",
      "      2/100         0G          0      66.51          0          0        640:  15%|█▍        | 11/75 [00:39<03:29,  3.27s/it]\n",
      "      2/100         0G          0      66.51          0          0        640:  16%|█▌        | 12/75 [00:39<03:27,  3.29s/it]\n",
      "      2/100         0G          0       66.3          0          0        640:  16%|█▌        | 12/75 [00:43<03:27,  3.29s/it]\n",
      "      2/100         0G          0       66.3          0          0        640:  17%|█▋        | 13/75 [00:43<03:23,  3.28s/it]\n",
      "      2/100         0G          0      66.07          0          0        640:  17%|█▋        | 13/75 [00:46<03:23,  3.28s/it]\n",
      "      2/100         0G          0      66.07          0          0        640:  19%|█▊        | 14/75 [00:46<03:23,  3.33s/it]\n",
      "      2/100         0G          0         66          0          0        640:  19%|█▊        | 14/75 [00:50<03:23,  3.33s/it]\n",
      "      2/100         0G          0         66          0          0        640:  20%|██        | 15/75 [00:50<03:26,  3.44s/it]\n",
      "      2/100         0G          0      65.75          0          0        640:  20%|██        | 15/75 [00:53<03:26,  3.44s/it]\n",
      "      2/100         0G          0      65.75          0          0        640:  21%|██▏       | 16/75 [00:53<03:26,  3.50s/it]\n",
      "      2/100         0G          0      65.54          0          0        640:  21%|██▏       | 16/75 [00:57<03:26,  3.50s/it]\n",
      "      2/100         0G          0      65.54          0          0        640:  23%|██▎       | 17/75 [00:57<03:22,  3.49s/it]\n",
      "      2/100         0G          0      65.29          0          0        640:  23%|██▎       | 17/75 [01:00<03:22,  3.49s/it]\n",
      "      2/100         0G          0      65.29          0          0        640:  24%|██▍       | 18/75 [01:00<03:15,  3.43s/it]\n",
      "      2/100         0G          0      65.08          0          0        640:  24%|██▍       | 18/75 [01:03<03:15,  3.43s/it]\n",
      "      2/100         0G          0      65.08          0          0        640:  25%|██▌       | 19/75 [01:03<03:10,  3.41s/it]\n",
      "      2/100         0G          0      64.85          0          0        640:  25%|██▌       | 19/75 [01:07<03:10,  3.41s/it]\n",
      "      2/100         0G          0      64.85          0          0        640:  27%|██▋       | 20/75 [01:07<03:06,  3.40s/it]\n",
      "      2/100         0G          0      64.64          0          0        640:  27%|██▋       | 20/75 [01:10<03:06,  3.40s/it]\n",
      "      2/100         0G          0      64.64          0          0        640:  28%|██▊       | 21/75 [01:10<03:02,  3.38s/it]\n",
      "      2/100         0G          0      64.41          0          0        640:  28%|██▊       | 21/75 [01:13<03:02,  3.38s/it]\n",
      "      2/100         0G          0      64.41          0          0        640:  29%|██▉       | 22/75 [01:13<02:57,  3.35s/it]\n",
      "      2/100         0G          0       64.2          0          0        640:  29%|██▉       | 22/75 [01:17<02:57,  3.35s/it]\n",
      "      2/100         0G          0       64.2          0          0        640:  31%|███       | 23/75 [01:17<02:53,  3.34s/it]\n",
      "      2/100         0G          0      63.96          0          0        640:  31%|███       | 23/75 [01:20<02:53,  3.34s/it]\n",
      "      2/100         0G          0      63.96          0          0        640:  32%|███▏      | 24/75 [01:20<02:49,  3.33s/it]\n",
      "      2/100         0G          0      63.74          0          0        640:  32%|███▏      | 24/75 [01:24<02:49,  3.33s/it]\n",
      "      2/100         0G          0      63.74          0          0        640:  33%|███▎      | 25/75 [01:24<02:48,  3.38s/it]\n",
      "      2/100         0G          0      63.54          0          0        640:  33%|███▎      | 25/75 [01:27<02:48,  3.38s/it]\n",
      "      2/100         0G          0      63.54          0          0        640:  35%|███▍      | 26/75 [01:27<02:48,  3.45s/it]\n",
      "      2/100         0G          0      63.32          0          0        640:  35%|███▍      | 26/75 [01:31<02:48,  3.45s/it]\n",
      "      2/100         0G          0      63.32          0          0        640:  36%|███▌      | 27/75 [01:31<02:48,  3.51s/it]\n",
      "      2/100         0G          0      63.11          0          0        640:  36%|███▌      | 27/75 [01:34<02:48,  3.51s/it]\n",
      "      2/100         0G          0      63.11          0          0        640:  37%|███▋      | 28/75 [01:34<02:46,  3.54s/it]\n",
      "      2/100         0G          0       62.9          0          0        640:  37%|███▋      | 28/75 [01:38<02:46,  3.54s/it]\n",
      "      2/100         0G          0       62.9          0          0        640:  39%|███▊      | 29/75 [01:38<02:44,  3.57s/it]\n",
      "      2/100         0G          0      62.68          0          0        640:  39%|███▊      | 29/75 [01:42<02:44,  3.57s/it]\n",
      "      2/100         0G          0      62.68          0          0        640:  40%|████      | 30/75 [01:42<02:43,  3.63s/it]\n",
      "      2/100         0G          0      62.48          0          0        640:  40%|████      | 30/75 [01:46<02:43,  3.63s/it]\n",
      "      2/100         0G          0      62.48          0          0        640:  41%|████▏     | 31/75 [01:46<02:51,  3.90s/it]\n",
      "      2/100         0G          0      62.25          0          0        640:  41%|████▏     | 31/75 [01:52<02:51,  3.90s/it]\n",
      "      2/100         0G          0      62.25          0          0        640:  43%|████▎     | 32/75 [01:52<03:08,  4.38s/it]\n",
      "      2/100         0G          0      62.06          0          0        640:  43%|████▎     | 32/75 [01:57<03:08,  4.38s/it]\n",
      "      2/100         0G          0      62.06          0          0        640:  44%|████▍     | 33/75 [01:57<03:17,  4.69s/it]\n",
      "      2/100         0G          0      61.85          0          0        640:  44%|████▍     | 33/75 [02:03<03:17,  4.69s/it]\n",
      "      2/100         0G          0      61.85          0          0        640:  45%|████▌     | 34/75 [02:03<03:19,  4.86s/it]\n",
      "      2/100         0G          0      61.83          0          0        640:  45%|████▌     | 34/75 [02:08<03:19,  4.86s/it]\n",
      "      2/100         0G          0      61.83          0          0        640:  47%|████▋     | 35/75 [02:08<03:21,  5.05s/it]\n",
      "      2/100         0G          0      61.61          0          0        640:  47%|████▋     | 35/75 [02:14<03:21,  5.05s/it]\n",
      "      2/100         0G          0      61.61          0          0        640:  48%|████▊     | 36/75 [02:14<03:22,  5.19s/it]\n",
      "      2/100         0G          0       61.4          0          0        640:  48%|████▊     | 36/75 [02:19<03:22,  5.19s/it]\n",
      "      2/100         0G          0       61.4          0          0        640:  49%|████▉     | 37/75 [02:19<03:21,  5.31s/it]\n",
      "      2/100         0G          0      61.19          0          0        640:  49%|████▉     | 37/75 [02:25<03:21,  5.31s/it]\n",
      "      2/100         0G          0      61.19          0          0        640:  51%|█████     | 38/75 [02:25<03:19,  5.39s/it]\n",
      "      2/100         0G          0      60.99          0          0        640:  51%|█████     | 38/75 [02:30<03:19,  5.39s/it]\n",
      "      2/100         0G          0      60.99          0          0        640:  52%|█████▏    | 39/75 [02:30<03:13,  5.36s/it]\n",
      "      2/100         0G          0      60.79          0          0        640:  52%|█████▏    | 39/75 [02:35<03:13,  5.36s/it]\n",
      "      2/100         0G          0      60.79          0          0        640:  53%|█████▎    | 40/75 [02:35<03:06,  5.34s/it]\n",
      "      2/100         0G          0      60.58          0          0        640:  53%|█████▎    | 40/75 [02:41<03:06,  5.34s/it]\n",
      "      2/100         0G          0      60.58          0          0        640:  55%|█████▍    | 41/75 [02:41<03:01,  5.34s/it]\n",
      "      2/100         0G          0      60.37          0          0        640:  55%|█████▍    | 41/75 [02:46<03:01,  5.34s/it]\n",
      "      2/100         0G          0      60.37          0          0        640:  56%|█████▌    | 42/75 [02:46<02:58,  5.40s/it]\n",
      "      2/100         0G          0      60.17          0          0        640:  56%|█████▌    | 42/75 [02:52<02:58,  5.40s/it]\n",
      "      2/100         0G          0      60.17          0          0        640:  57%|█████▋    | 43/75 [02:52<02:52,  5.40s/it]\n",
      "      2/100         0G          0      59.97          0          0        640:  57%|█████▋    | 43/75 [02:57<02:52,  5.40s/it]\n",
      "      2/100         0G          0      59.97          0          0        640:  59%|█████▊    | 44/75 [02:57<02:45,  5.32s/it]\n",
      "      2/100         0G          0      59.77          0          0        640:  59%|█████▊    | 44/75 [03:02<02:45,  5.32s/it]\n",
      "      2/100         0G          0      59.77          0          0        640:  60%|██████    | 45/75 [03:02<02:39,  5.31s/it]\n",
      "      2/100         0G          0      59.57          0          0        640:  60%|██████    | 45/75 [03:07<02:39,  5.31s/it]\n",
      "      2/100         0G          0      59.57          0          0        640:  61%|██████▏   | 46/75 [03:07<02:34,  5.34s/it]\n",
      "      2/100         0G          0      59.37          0          0        640:  61%|██████▏   | 46/75 [03:13<02:34,  5.34s/it]\n",
      "      2/100         0G          0      59.37          0          0        640:  63%|██████▎   | 47/75 [03:13<02:31,  5.41s/it]\n",
      "      2/100         0G          0      59.18          0          0        640:  63%|██████▎   | 47/75 [03:19<02:31,  5.41s/it]\n",
      "      2/100         0G          0      59.18          0          0        640:  64%|██████▍   | 48/75 [03:19<02:27,  5.47s/it]\n",
      "      2/100         0G          0      59.01          0          0        640:  64%|██████▍   | 48/75 [03:24<02:27,  5.47s/it]\n",
      "      2/100         0G          0      59.01          0          0        640:  65%|██████▌   | 49/75 [03:24<02:24,  5.55s/it]\n",
      "      2/100         0G          0      58.82          0          0        640:  65%|██████▌   | 49/75 [03:30<02:24,  5.55s/it]\n",
      "      2/100         0G          0      58.82          0          0        640:  67%|██████▋   | 50/75 [03:30<02:18,  5.56s/it]\n",
      "      2/100         0G          0      58.65          0          0        640:  67%|██████▋   | 50/75 [03:36<02:18,  5.56s/it]\n",
      "      2/100         0G          0      58.65          0          0        640:  68%|██████▊   | 51/75 [03:36<02:14,  5.61s/it]\n",
      "      2/100         0G          0      58.47          0          0        640:  68%|██████▊   | 51/75 [03:41<02:14,  5.61s/it]\n",
      "      2/100         0G          0      58.47          0          0        640:  69%|██████▉   | 52/75 [03:41<02:09,  5.62s/it]\n",
      "      2/100         0G          0      58.29          0          0        640:  69%|██████▉   | 52/75 [03:47<02:09,  5.62s/it]\n",
      "      2/100         0G          0      58.29          0          0        640:  71%|███████   | 53/75 [03:47<02:03,  5.62s/it]\n",
      "      2/100         0G          0      58.11          0          0        640:  71%|███████   | 53/75 [03:53<02:03,  5.62s/it]\n",
      "      2/100         0G          0      58.11          0          0        640:  72%|███████▏  | 54/75 [03:53<01:58,  5.62s/it]\n",
      "      2/100         0G          0      57.94          0          0        640:  72%|███████▏  | 54/75 [03:58<01:58,  5.62s/it]\n",
      "      2/100         0G          0      57.94          0          0        640:  73%|███████▎  | 55/75 [03:58<01:53,  5.68s/it]\n",
      "      2/100         0G          0      57.76          0          0        640:  73%|███████▎  | 55/75 [04:04<01:53,  5.68s/it]\n",
      "      2/100         0G          0      57.76          0          0        640:  75%|███████▍  | 56/75 [04:04<01:47,  5.64s/it]\n",
      "      2/100         0G          0      57.59          0          0        640:  75%|███████▍  | 56/75 [04:10<01:47,  5.64s/it]\n",
      "      2/100         0G          0      57.59          0          0        640:  76%|███████▌  | 57/75 [04:10<01:42,  5.67s/it]\n",
      "      2/100         0G          0      57.42          0          0        640:  76%|███████▌  | 57/75 [04:15<01:42,  5.67s/it]\n",
      "      2/100         0G          0      57.42          0          0        640:  77%|███████▋  | 58/75 [04:15<01:36,  5.69s/it]\n",
      "      2/100         0G          0      57.25          0          0        640:  77%|███████▋  | 58/75 [04:21<01:36,  5.69s/it]\n",
      "      2/100         0G          0      57.25          0          0        640:  79%|███████▊  | 59/75 [04:21<01:30,  5.68s/it]\n",
      "      2/100         0G          0      57.08          0          0        640:  79%|███████▊  | 59/75 [04:27<01:30,  5.68s/it]\n",
      "      2/100         0G          0      57.08          0          0        640:  80%|████████  | 60/75 [04:27<01:24,  5.65s/it]\n",
      "      2/100         0G          0      56.91          0          0        640:  80%|████████  | 60/75 [04:32<01:24,  5.65s/it]\n",
      "      2/100         0G          0      56.91          0          0        640:  81%|████████▏ | 61/75 [04:32<01:19,  5.69s/it]\n",
      "      2/100         0G          0      56.74          0          0        640:  81%|████████▏ | 61/75 [04:38<01:19,  5.69s/it]\n",
      "      2/100         0G          0      56.74          0          0        640:  83%|████████▎ | 62/75 [04:38<01:13,  5.68s/it]\n",
      "      2/100         0G          0      56.57          0          0        640:  83%|████████▎ | 62/75 [04:44<01:13,  5.68s/it]\n",
      "      2/100         0G          0      56.57          0          0        640:  84%|████████▍ | 63/75 [04:44<01:08,  5.68s/it]\n",
      "      2/100         0G          0      56.41          0          0        640:  84%|████████▍ | 63/75 [04:49<01:08,  5.68s/it]\n",
      "      2/100         0G          0      56.41          0          0        640:  85%|████████▌ | 64/75 [04:49<01:02,  5.68s/it]\n",
      "      2/100         0G          0      56.23          0          0        640:  85%|████████▌ | 64/75 [04:55<01:02,  5.68s/it]\n",
      "      2/100         0G          0      56.23          0          0        640:  87%|████████▋ | 65/75 [04:55<00:56,  5.68s/it]\n",
      "      2/100         0G          0      56.06          0          0        640:  87%|████████▋ | 65/75 [05:01<00:56,  5.68s/it]\n",
      "      2/100         0G          0      56.06          0          0        640:  88%|████████▊ | 66/75 [05:01<00:50,  5.67s/it]\n",
      "      2/100         0G          0      55.89          0          0        640:  88%|████████▊ | 66/75 [05:06<00:50,  5.67s/it]\n",
      "      2/100         0G          0      55.89          0          0        640:  89%|████████▉ | 67/75 [05:06<00:45,  5.68s/it]\n",
      "      2/100         0G          0      55.72          0          0        640:  89%|████████▉ | 67/75 [05:12<00:45,  5.68s/it]\n",
      "      2/100         0G          0      55.72          0          0        640:  91%|█████████ | 68/75 [05:12<00:39,  5.66s/it]\n",
      "      2/100         0G          0      55.55          0          0        640:  91%|█████████ | 68/75 [05:18<00:39,  5.66s/it]\n",
      "      2/100         0G          0      55.55          0          0        640:  92%|█████████▏| 69/75 [05:18<00:33,  5.65s/it]\n",
      "      2/100         0G          0      55.38          0          0        640:  92%|█████████▏| 69/75 [05:23<00:33,  5.65s/it]\n",
      "      2/100         0G          0      55.38          0          0        640:  93%|█████████▎| 70/75 [05:23<00:28,  5.67s/it]\n",
      "      2/100         0G          0      55.21          0          0        640:  93%|█████████▎| 70/75 [05:29<00:28,  5.67s/it]\n",
      "      2/100         0G          0      55.21          0          0        640:  95%|█████████▍| 71/75 [05:29<00:22,  5.69s/it]\n",
      "      2/100         0G          0      55.04          0          0        640:  95%|█████████▍| 71/75 [05:35<00:22,  5.69s/it]\n",
      "      2/100         0G          0      55.04          0          0        640:  96%|█████████▌| 72/75 [05:35<00:16,  5.66s/it]\n",
      "      2/100         0G          0      54.87          0          0        640:  96%|█████████▌| 72/75 [05:40<00:16,  5.66s/it]\n",
      "      2/100         0G          0      54.87          0          0        640:  97%|█████████▋| 73/75 [05:40<00:11,  5.68s/it]\n",
      "      2/100         0G          0       54.7          0          0        640:  97%|█████████▋| 73/75 [05:46<00:11,  5.68s/it]\n",
      "      2/100         0G          0       54.7          0          0        640:  99%|█████████▊| 74/75 [05:46<00:05,  5.67s/it]\n",
      "      2/100         0G          0      54.53          0          0        640:  99%|█████████▊| 74/75 [05:52<00:05,  5.67s/it]\n",
      "      2/100         0G          0      54.53          0          0        640: 100%|██████████| 75/75 [05:52<00:00,  5.67s/it]\n",
      "      2/100         0G          0      54.53          0          0        640: 100%|██████████| 75/75 [05:52<00:00,  4.70s/it]\n",
      "\n",
      "                 Class     Images  Instances      Box(P          R      mAP50  mAP50-95):   0%|          | 0/25 [00:00<?, ?it/s]\n",
      "                 Class     Images  Instances      Box(P          R      mAP50  mAP50-95):   4%|▍         | 1/25 [00:02<01:09,  2.90s/it]\n",
      "                 Class     Images  Instances      Box(P          R      mAP50  mAP50-95):   8%|▊         | 2/25 [00:05<00:57,  2.52s/it]\n",
      "                 Class     Images  Instances      Box(P          R      mAP50  mAP50-95):  12%|█▏        | 3/25 [00:07<00:54,  2.48s/it]\n",
      "                 Class     Images  Instances      Box(P          R      mAP50  mAP50-95):  16%|█▌        | 4/25 [00:09<00:50,  2.39s/it]\n",
      "                 Class     Images  Instances      Box(P          R      mAP50  mAP50-95):  20%|██        | 5/25 [00:12<00:47,  2.38s/it]\n",
      "                 Class     Images  Instances      Box(P          R      mAP50  mAP50-95):  24%|██▍       | 6/25 [00:14<00:45,  2.40s/it]\n",
      "                 Class     Images  Instances      Box(P          R      mAP50  mAP50-95):  28%|██▊       | 7/25 [00:16<00:42,  2.34s/it]\n",
      "                 Class     Images  Instances      Box(P          R      mAP50  mAP50-95):  32%|███▏      | 8/25 [00:19<00:41,  2.42s/it]\n",
      "                 Class     Images  Instances      Box(P          R      mAP50  mAP50-95):  36%|███▌      | 9/25 [00:21<00:37,  2.37s/it]\n",
      "                 Class     Images  Instances      Box(P          R      mAP50  mAP50-95):  40%|████      | 10/25 [00:24<00:35,  2.40s/it]\n",
      "                 Class     Images  Instances      Box(P          R      mAP50  mAP50-95):  44%|████▍     | 11/25 [00:26<00:33,  2.38s/it]\n",
      "                 Class     Images  Instances      Box(P          R      mAP50  mAP50-95):  48%|████▊     | 12/25 [00:28<00:31,  2.40s/it]\n",
      "                 Class     Images  Instances      Box(P          R      mAP50  mAP50-95):  52%|█████▏    | 13/25 [00:31<00:30,  2.51s/it]\n",
      "                 Class     Images  Instances      Box(P          R      mAP50  mAP50-95):  56%|█████▌    | 14/25 [00:33<00:26,  2.44s/it]\n",
      "                 Class     Images  Instances      Box(P          R      mAP50  mAP50-95):  60%|██████    | 15/25 [00:36<00:24,  2.47s/it]\n",
      "                 Class     Images  Instances      Box(P          R      mAP50  mAP50-95):  64%|██████▍   | 16/25 [00:38<00:21,  2.44s/it]\n",
      "                 Class     Images  Instances      Box(P          R      mAP50  mAP50-95):  68%|██████▊   | 17/25 [00:41<00:19,  2.45s/it]\n",
      "                 Class     Images  Instances      Box(P          R      mAP50  mAP50-95):  72%|███████▏  | 18/25 [00:43<00:17,  2.46s/it]\n",
      "                 Class     Images  Instances      Box(P          R      mAP50  mAP50-95):  76%|███████▌  | 19/25 [00:46<00:14,  2.45s/it]\n",
      "                 Class     Images  Instances      Box(P          R      mAP50  mAP50-95):  80%|████████  | 20/25 [00:48<00:12,  2.49s/it]\n",
      "                 Class     Images  Instances      Box(P          R      mAP50  mAP50-95):  84%|████████▍ | 21/25 [00:51<00:09,  2.49s/it]\n",
      "                 Class     Images  Instances      Box(P          R      mAP50  mAP50-95):  88%|████████▊ | 22/25 [00:53<00:07,  2.52s/it]\n",
      "                 Class     Images  Instances      Box(P          R      mAP50  mAP50-95):  92%|█████████▏| 23/25 [00:56<00:04,  2.47s/it]\n",
      "                 Class     Images  Instances      Box(P          R      mAP50  mAP50-95):  96%|█████████▌| 24/25 [00:58<00:02,  2.50s/it]\n",
      "                 Class     Images  Instances      Box(P          R      mAP50  mAP50-95): 100%|██████████| 25/25 [01:01<00:00,  2.45s/it]\n",
      "                 Class     Images  Instances      Box(P          R      mAP50  mAP50-95): 100%|██████████| 25/25 [01:01<00:00,  2.45s/it]\n",
      "\n",
      "  0%|          | 0/75 [00:00<?, ?it/s]\n",
      "      3/100         0G          0      41.87          0          0        640:   0%|          | 0/75 [00:05<?, ?it/s]\n",
      "      3/100         0G          0      41.87          0          0        640:   1%|▏         | 1/75 [00:05<06:40,  5.41s/it]\n",
      "      3/100         0G          0      41.38          0          0        640:   1%|▏         | 1/75 [00:10<06:40,  5.41s/it]\n",
      "      3/100         0G          0      41.38          0          0        640:   3%|▎         | 2/75 [00:10<06:37,  5.45s/it]\n",
      "      3/100         0G          0       41.2          0          0        640:   3%|▎         | 2/75 [00:16<06:37,  5.45s/it]\n",
      "      3/100         0G          0       41.2          0          0        640:   4%|▍         | 3/75 [00:16<06:31,  5.43s/it]\n",
      "      3/100         0G          0      41.12          0          0        640:   4%|▍         | 3/75 [00:21<06:31,  5.43s/it]\n",
      "      3/100         0G          0      41.12          0          0        640:   5%|▌         | 4/75 [00:21<06:30,  5.50s/it]\n",
      "      3/100         0G          0      40.83          0          0        640:   5%|▌         | 4/75 [00:27<06:30,  5.50s/it]\n",
      "      3/100         0G          0      40.83          0          0        640:   7%|▋         | 5/75 [00:27<06:27,  5.54s/it]\n",
      "      3/100         0G          0      40.64          0          0        640:   7%|▋         | 5/75 [00:33<06:27,  5.54s/it]\n",
      "      3/100         0G          0      40.64          0          0        640:   8%|▊         | 6/75 [00:33<06:24,  5.57s/it]\n",
      "      3/100         0G          0      40.52          0          0        640:   8%|▊         | 6/75 [00:38<06:24,  5.57s/it]\n",
      "      3/100         0G          0      40.52          0          0        640:   9%|▉         | 7/75 [00:38<06:21,  5.62s/it]\n",
      "      3/100         0G          0      40.35          0          0        640:   9%|▉         | 7/75 [00:44<06:21,  5.62s/it]\n",
      "      3/100         0G          0      40.35          0          0        640:  11%|█         | 8/75 [00:44<06:15,  5.60s/it]\n",
      "      3/100         0G          0      40.17          0          0        640:  11%|█         | 8/75 [00:50<06:15,  5.60s/it]\n",
      "      3/100         0G          0      40.17          0          0        640:  12%|█▏        | 9/75 [00:50<06:11,  5.63s/it]\n",
      "      3/100         0G          0      40.02          0          0        640:  12%|█▏        | 9/75 [00:55<06:11,  5.63s/it]\n",
      "      3/100         0G          0      40.02          0          0        640:  13%|█▎        | 10/75 [00:55<06:08,  5.67s/it]\n",
      "      3/100         0G          0       39.8          0          0        640:  13%|█▎        | 10/75 [01:01<06:08,  5.67s/it]\n",
      "      3/100         0G          0       39.8          0          0        640:  15%|█▍        | 11/75 [01:01<06:02,  5.67s/it]\n",
      "      3/100         0G          0      39.62          0          0        640:  15%|█▍        | 11/75 [01:06<06:02,  5.67s/it]\n",
      "      3/100         0G          0      39.62          0          0        640:  16%|█▌        | 12/75 [01:06<05:51,  5.57s/it]\n",
      "      3/100         0G          0      39.48          0          0        640:  16%|█▌        | 12/75 [01:12<05:51,  5.57s/it]\n",
      "      3/100         0G          0      39.48          0          0        640:  17%|█▋        | 13/75 [01:12<05:41,  5.51s/it]\n",
      "      3/100         0G          0      39.29          0          0        640:  17%|█▋        | 13/75 [01:17<05:41,  5.51s/it]\n",
      "      3/100         0G          0      39.29          0          0        640:  19%|█▊        | 14/75 [01:17<05:35,  5.51s/it]\n",
      "      3/100         0G          0      39.17          0          0        640:  19%|█▊        | 14/75 [01:23<05:35,  5.51s/it]\n",
      "      3/100         0G          0      39.17          0          0        640:  20%|██        | 15/75 [01:23<05:26,  5.44s/it]\n",
      "      3/100         0G          0      39.02          0          0        640:  20%|██        | 15/75 [01:28<05:26,  5.44s/it]\n",
      "      3/100         0G          0      39.02          0          0        640:  21%|██▏       | 16/75 [01:28<05:18,  5.40s/it]\n",
      "      3/100         0G          0      38.85          0          0        640:  21%|██▏       | 16/75 [01:33<05:18,  5.40s/it]\n",
      "      3/100         0G          0      38.85          0          0        640:  23%|██▎       | 17/75 [01:33<05:09,  5.33s/it]\n",
      "      3/100         0G          0      38.69          0          0        640:  23%|██▎       | 17/75 [01:39<05:09,  5.33s/it]\n",
      "      3/100         0G          0      38.69          0          0        640:  24%|██▍       | 18/75 [01:39<05:06,  5.37s/it]\n",
      "      3/100         0G          0      38.56          0          0        640:  24%|██▍       | 18/75 [01:44<05:06,  5.37s/it]\n",
      "      3/100         0G          0      38.56          0          0        640:  25%|██▌       | 19/75 [01:44<04:59,  5.35s/it]\n",
      "      3/100         0G          0      38.39          0          0        640:  25%|██▌       | 19/75 [01:49<04:59,  5.35s/it]\n",
      "      3/100         0G          0      38.39          0          0        640:  27%|██▋       | 20/75 [01:49<04:57,  5.41s/it]\n",
      "      3/100         0G          0      38.22          0          0        640:  27%|██▋       | 20/75 [01:55<04:57,  5.41s/it]\n",
      "      3/100         0G          0      38.22          0          0        640:  28%|██▊       | 21/75 [01:55<04:56,  5.48s/it]\n",
      "      3/100         0G          0      38.07          0          0        640:  28%|██▊       | 21/75 [02:02<04:56,  5.48s/it]\n",
      "      3/100         0G          0      38.07          0          0        640:  29%|██▉       | 22/75 [02:02<05:14,  5.93s/it]\n",
      "      3/100         0G          0      37.89          0          0        640:  29%|██▉       | 22/75 [02:09<05:14,  5.93s/it]\n",
      "      3/100         0G          0      37.89          0          0        640:  31%|███       | 23/75 [02:09<05:29,  6.33s/it]\n",
      "      3/100         0G          0      37.74          0          0        640:  31%|███       | 23/75 [02:17<05:29,  6.33s/it]\n",
      "      3/100         0G          0      37.74          0          0        640:  32%|███▏      | 24/75 [02:17<05:37,  6.62s/it]\n",
      "      3/100         0G          0      37.59          0          0        640:  32%|███▏      | 24/75 [02:24<05:37,  6.62s/it]\n",
      "      3/100         0G          0      37.59          0          0        640:  33%|███▎      | 25/75 [02:24<05:41,  6.83s/it]\n",
      "      3/100         0G          0      37.41          0          0        640:  33%|███▎      | 25/75 [02:31<05:41,  6.83s/it]\n",
      "      3/100         0G          0      37.41          0          0        640:  35%|███▍      | 26/75 [02:31<05:37,  6.89s/it]\n",
      "      3/100         0G          0      37.25          0          0        640:  35%|███▍      | 26/75 [02:39<05:37,  6.89s/it]\n",
      "      3/100         0G          0      37.25          0          0        640:  36%|███▌      | 27/75 [02:39<05:41,  7.12s/it]\n",
      "      3/100         0G          0       37.1          0          0        640:  36%|███▌      | 27/75 [02:46<05:41,  7.12s/it]\n",
      "      3/100         0G          0       37.1          0          0        640:  37%|███▋      | 28/75 [02:46<05:38,  7.19s/it]\n",
      "      3/100         0G          0      36.93          0          0        640:  37%|███▋      | 28/75 [02:53<05:38,  7.19s/it]\n",
      "      3/100         0G          0      36.93          0          0        640:  39%|███▊      | 29/75 [02:53<05:26,  7.10s/it]\n",
      "      3/100         0G          0      36.77          0          0        640:  39%|███▊      | 29/75 [03:00<05:26,  7.10s/it]\n",
      "      3/100         0G          0      36.77          0          0        640:  40%|████      | 30/75 [03:00<05:18,  7.09s/it]\n",
      "      3/100         0G          0      36.62          0          0        640:  40%|████      | 30/75 [03:07<05:18,  7.09s/it]\n",
      "      3/100         0G          0      36.62          0          0        640:  41%|████▏     | 31/75 [03:07<05:14,  7.16s/it]\n",
      "      3/100         0G          0      36.43          0          0        640:  41%|████▏     | 31/75 [03:14<05:14,  7.16s/it]\n",
      "      3/100         0G          0      36.43          0          0        640:  43%|████▎     | 32/75 [03:14<05:08,  7.18s/it]\n",
      "      3/100         0G          0      36.26          0          0        640:  43%|████▎     | 32/75 [03:21<05:08,  7.18s/it]\n",
      "      3/100         0G          0      36.26          0          0        640:  44%|████▍     | 33/75 [03:21<04:57,  7.08s/it]\n",
      "      3/100         0G          0       36.1          0          0        640:  44%|████▍     | 33/75 [03:29<04:57,  7.08s/it]\n",
      "      3/100         0G          0       36.1          0          0        640:  45%|████▌     | 34/75 [03:29<04:58,  7.29s/it]\n",
      "      3/100         0G          0      35.94          0          0        640:  45%|████▌     | 34/75 [03:36<04:58,  7.29s/it]\n",
      "      3/100         0G          0      35.94          0          0        640:  47%|████▋     | 35/75 [03:36<04:51,  7.29s/it]\n",
      "      3/100         0G          0      35.78          0          0        640:  47%|████▋     | 35/75 [03:44<04:51,  7.29s/it]\n",
      "      3/100         0G          0      35.78          0          0        640:  48%|████▊     | 36/75 [03:44<04:54,  7.55s/it]\n",
      "      3/100         0G          0      35.62          0          0        640:  48%|████▊     | 36/75 [03:52<04:54,  7.55s/it]\n",
      "      3/100         0G          0      35.62          0          0        640:  49%|████▉     | 37/75 [03:52<04:49,  7.62s/it]\n",
      "      3/100         0G          0      35.45          0          0        640:  49%|████▉     | 37/75 [04:00<04:49,  7.62s/it]\n",
      "      3/100         0G          0      35.45          0          0        640:  51%|█████     | 38/75 [04:00<04:42,  7.64s/it]\n",
      "      3/100         0G          0      35.29          0          0        640:  51%|█████     | 38/75 [04:08<04:42,  7.64s/it]\n",
      "      3/100         0G          0      35.29          0          0        640:  52%|█████▏    | 39/75 [04:08<04:37,  7.71s/it]\n",
      "      3/100         0G          0       35.2          0          0        640:  52%|█████▏    | 39/75 [04:15<04:37,  7.71s/it]\n",
      "      3/100         0G          0       35.2          0          0        640:  53%|█████▎    | 40/75 [04:15<04:28,  7.67s/it]\n",
      "      3/100         0G          0      35.05          0          0        640:  53%|█████▎    | 40/75 [04:23<04:28,  7.67s/it]\n",
      "      3/100         0G          0      35.05          0          0        640:  55%|█████▍    | 41/75 [04:23<04:23,  7.74s/it]\n",
      "      3/100         0G          0      34.96          0          0        640:  55%|█████▍    | 41/75 [04:31<04:23,  7.74s/it]\n",
      "      3/100         0G          0      34.96          0          0        640:  56%|█████▌    | 42/75 [04:31<04:11,  7.61s/it]\n",
      "      3/100         0G          0       34.8          0          0        640:  56%|█████▌    | 42/75 [04:38<04:11,  7.61s/it]\n",
      "      3/100         0G          0       34.8          0          0        640:  57%|█████▋    | 43/75 [04:38<04:05,  7.68s/it]\n",
      "      3/100         0G          0      34.65          0          0        640:  57%|█████▋    | 43/75 [04:46<04:05,  7.68s/it]\n",
      "      3/100         0G          0      34.65          0          0        640:  59%|█████▊    | 44/75 [04:46<03:55,  7.58s/it]\n",
      "      3/100         0G          0      34.51          0          0        640:  59%|█████▊    | 44/75 [04:53<03:55,  7.58s/it]\n",
      "      3/100         0G          0      34.51          0          0        640:  60%|██████    | 45/75 [04:53<03:48,  7.62s/it]\n",
      "      3/100         0G          0      34.37          0          0        640:  60%|██████    | 45/75 [05:01<03:48,  7.62s/it]\n",
      "      3/100         0G          0      34.37          0          0        640:  61%|██████▏   | 46/75 [05:01<03:38,  7.54s/it]\n",
      "      3/100         0G          0      34.24          0          0        640:  61%|██████▏   | 46/75 [05:08<03:38,  7.54s/it]\n",
      "      3/100         0G          0      34.24          0          0        640:  63%|██████▎   | 47/75 [05:08<03:31,  7.54s/it]\n",
      "      3/100         0G          0      34.11          0          0        640:  63%|██████▎   | 47/75 [05:16<03:31,  7.54s/it]\n",
      "      3/100         0G          0      34.11          0          0        640:  64%|██████▍   | 48/75 [05:16<03:20,  7.44s/it]\n",
      "      3/100         0G          0      33.97          0          0        640:  64%|██████▍   | 48/75 [05:24<03:20,  7.44s/it]\n",
      "      3/100         0G          0      33.97          0          0        640:  65%|██████▌   | 49/75 [05:24<03:17,  7.61s/it]\n",
      "      3/100         0G          0      33.82          0          0        640:  65%|██████▌   | 49/75 [05:31<03:17,  7.61s/it]\n",
      "      3/100         0G          0      33.82          0          0        640:  67%|██████▋   | 50/75 [05:31<03:08,  7.55s/it]\n",
      "      3/100         0G          0      33.67          0          0        640:  67%|██████▋   | 50/75 [05:38<03:08,  7.55s/it]\n",
      "      3/100         0G          0      33.67          0          0        640:  68%|██████▊   | 51/75 [05:38<03:00,  7.51s/it]\n",
      "      3/100         0G          0      33.53          0          0        640:  68%|██████▊   | 51/75 [05:46<03:00,  7.51s/it]\n",
      "      3/100         0G          0      33.53          0          0        640:  69%|██████▉   | 52/75 [05:46<02:54,  7.58s/it]\n",
      "      3/100         0G          0      33.38          0          0        640:  69%|██████▉   | 52/75 [05:54<02:54,  7.58s/it]\n",
      "      3/100         0G          0      33.38          0          0        640:  71%|███████   | 53/75 [05:54<02:46,  7.59s/it]\n",
      "      3/100         0G          0      33.23          0          0        640:  71%|███████   | 53/75 [06:01<02:46,  7.59s/it]\n",
      "      3/100         0G          0      33.23          0          0        640:  72%|███████▏  | 54/75 [06:01<02:38,  7.56s/it]\n",
      "      3/100         0G          0      33.09          0          0        640:  72%|███████▏  | 54/75 [06:09<02:38,  7.56s/it]\n",
      "      3/100         0G          0      33.09          0          0        640:  73%|███████▎  | 55/75 [06:09<02:30,  7.52s/it]\n",
      "      3/100         0G          0      32.95          0          0        640:  73%|███████▎  | 55/75 [06:17<02:30,  7.52s/it]\n",
      "      3/100         0G          0      32.95          0          0        640:  75%|███████▍  | 56/75 [06:17<02:25,  7.67s/it]\n",
      "      3/100         0G          0      32.82          0          0        640:  75%|███████▍  | 56/75 [06:24<02:25,  7.67s/it]\n",
      "      3/100         0G          0      32.82          0          0        640:  76%|███████▌  | 57/75 [06:24<02:17,  7.64s/it]\n",
      "      3/100         0G          0      32.67          0          0        640:  76%|███████▌  | 57/75 [06:32<02:17,  7.64s/it]\n",
      "      3/100         0G          0      32.67          0          0        640:  77%|███████▋  | 58/75 [06:32<02:08,  7.55s/it]\n",
      "      3/100         0G          0      32.53          0          0        640:  77%|███████▋  | 58/75 [06:39<02:08,  7.55s/it]\n",
      "      3/100         0G          0      32.53          0          0        640:  79%|███████▊  | 59/75 [06:39<02:00,  7.54s/it]\n",
      "      3/100         0G          0      32.39          0          0        640:  79%|███████▊  | 59/75 [06:48<02:00,  7.54s/it]\n",
      "      3/100         0G          0      32.39          0          0        640:  80%|████████  | 60/75 [06:48<01:57,  7.81s/it]\n",
      "      3/100         0G          0      32.26          0          0        640:  80%|████████  | 60/75 [06:55<01:57,  7.81s/it]\n",
      "      3/100         0G          0      32.26          0          0        640:  81%|████████▏ | 61/75 [06:55<01:47,  7.68s/it]\n",
      "      3/100         0G          0      32.12          0          0        640:  81%|████████▏ | 61/75 [07:03<01:47,  7.68s/it]\n",
      "      3/100         0G          0      32.12          0          0        640:  83%|████████▎ | 62/75 [07:03<01:40,  7.74s/it]\n",
      "      3/100         0G          0      31.97          0          0        640:  83%|████████▎ | 62/75 [07:11<01:40,  7.74s/it]\n",
      "      3/100         0G          0      31.97          0          0        640:  84%|████████▍ | 63/75 [07:11<01:33,  7.78s/it]\n",
      "      3/100         0G          0      31.84          0          0        640:  84%|████████▍ | 63/75 [07:18<01:33,  7.78s/it]\n",
      "      3/100         0G          0      31.84          0          0        640:  85%|████████▌ | 64/75 [07:18<01:24,  7.72s/it]\n",
      "      3/100         0G          0      31.71          0          0        640:  85%|████████▌ | 64/75 [07:26<01:24,  7.72s/it]\n",
      "      3/100         0G          0      31.71          0          0        640:  87%|████████▋ | 65/75 [07:26<01:17,  7.79s/it]\n",
      "      3/100         0G          0      31.56          0          0        640:  87%|████████▋ | 65/75 [07:34<01:17,  7.79s/it]\n",
      "      3/100         0G          0      31.56          0          0        640:  88%|████████▊ | 66/75 [07:34<01:10,  7.85s/it]\n",
      "      3/100         0G          0      31.43          0          0        640:  88%|████████▊ | 66/75 [07:42<01:10,  7.85s/it]\n",
      "      3/100         0G          0      31.43          0          0        640:  89%|████████▉ | 67/75 [07:42<01:02,  7.78s/it]\n",
      "      3/100         0G          0      31.29          0          0        640:  89%|████████▉ | 67/75 [07:49<01:02,  7.78s/it]\n",
      "      3/100         0G          0      31.29          0          0        640:  91%|█████████ | 68/75 [07:49<00:54,  7.74s/it]\n",
      "      3/100         0G          0      31.16          0          0        640:  91%|█████████ | 68/75 [07:57<00:54,  7.74s/it]\n",
      "      3/100         0G          0      31.16          0          0        640:  92%|█████████▏| 69/75 [07:57<00:46,  7.79s/it]\n",
      "      3/100         0G          0      31.02          0          0        640:  92%|█████████▏| 69/75 [08:06<00:46,  7.79s/it]\n",
      "      3/100         0G          0      31.02          0          0        640:  93%|█████████▎| 70/75 [08:06<00:40,  8.00s/it]\n",
      "      3/100         0G          0      30.89          0          0        640:  93%|█████████▎| 70/75 [08:14<00:40,  8.00s/it]\n",
      "      3/100         0G          0      30.89          0          0        640:  95%|█████████▍| 71/75 [08:14<00:31,  7.94s/it]\n",
      "      3/100         0G          0      30.76          0          0        640:  95%|█████████▍| 71/75 [08:21<00:31,  7.94s/it]\n",
      "      3/100         0G          0      30.76          0          0        640:  96%|█████████▌| 72/75 [08:21<00:23,  7.79s/it]\n",
      "      3/100         0G          0      30.63          0          0        640:  96%|█████████▌| 72/75 [08:29<00:23,  7.79s/it]\n",
      "      3/100         0G          0      30.63          0          0        640:  97%|█████████▋| 73/75 [08:29<00:15,  7.81s/it]\n",
      "      3/100         0G          0      30.49          0          0        640:  97%|█████████▋| 73/75 [08:37<00:15,  7.81s/it]\n",
      "      3/100         0G          0      30.49          0          0        640:  99%|█████████▊| 74/75 [08:37<00:07,  7.91s/it]\n",
      "      3/100         0G          0      30.36          0          0        640:  99%|█████████▊| 74/75 [08:45<00:07,  7.91s/it]\n",
      "      3/100         0G          0      30.36          0          0        640: 100%|██████████| 75/75 [08:45<00:00,  7.95s/it]\n",
      "      3/100         0G          0      30.36          0          0        640: 100%|██████████| 75/75 [08:45<00:00,  7.01s/it]\n",
      "\n",
      "                 Class     Images  Instances      Box(P          R      mAP50  mAP50-95):   0%|          | 0/25 [00:00<?, ?it/s]\n",
      "                 Class     Images  Instances      Box(P          R      mAP50  mAP50-95):   4%|▍         | 1/25 [00:03<01:13,  3.06s/it]\n",
      "                 Class     Images  Instances      Box(P          R      mAP50  mAP50-95):   8%|▊         | 2/25 [00:06<01:11,  3.11s/it]\n",
      "                 Class     Images  Instances      Box(P          R      mAP50  mAP50-95):  12%|█▏        | 3/25 [00:09<01:10,  3.21s/it]\n",
      "                 Class     Images  Instances      Box(P          R      mAP50  mAP50-95):  16%|█▌        | 4/25 [00:12<01:06,  3.18s/it]\n",
      "                 Class     Images  Instances      Box(P          R      mAP50  mAP50-95):  20%|██        | 5/25 [00:15<01:03,  3.15s/it]\n",
      "                 Class     Images  Instances      Box(P          R      mAP50  mAP50-95):  24%|██▍       | 6/25 [00:18<01:00,  3.17s/it]\n",
      "                 Class     Images  Instances      Box(P          R      mAP50  mAP50-95):  28%|██▊       | 7/25 [00:22<00:57,  3.18s/it]\n",
      "                 Class     Images  Instances      Box(P          R      mAP50  mAP50-95):  32%|███▏      | 8/25 [00:25<00:53,  3.15s/it]\n",
      "                 Class     Images  Instances      Box(P          R      mAP50  mAP50-95):  36%|███▌      | 9/25 [00:28<00:49,  3.11s/it]\n",
      "                 Class     Images  Instances      Box(P          R      mAP50  mAP50-95):  40%|████      | 10/25 [00:31<00:49,  3.27s/it]\n",
      "                 Class     Images  Instances      Box(P          R      mAP50  mAP50-95):  44%|████▍     | 11/25 [00:35<00:47,  3.41s/it]\n",
      "                 Class     Images  Instances      Box(P          R      mAP50  mAP50-95):  48%|████▊     | 12/25 [00:39<00:44,  3.42s/it]\n",
      "                 Class     Images  Instances      Box(P          R      mAP50  mAP50-95):  52%|█████▏    | 13/25 [00:42<00:40,  3.41s/it]\n",
      "                 Class     Images  Instances      Box(P          R      mAP50  mAP50-95):  56%|█████▌    | 14/25 [00:45<00:36,  3.32s/it]\n",
      "                 Class     Images  Instances      Box(P          R      mAP50  mAP50-95):  60%|██████    | 15/25 [00:49<00:34,  3.41s/it]\n",
      "                 Class     Images  Instances      Box(P          R      mAP50  mAP50-95):  64%|██████▍   | 16/25 [00:52<00:30,  3.36s/it]\n",
      "                 Class     Images  Instances      Box(P          R      mAP50  mAP50-95):  68%|██████▊   | 17/25 [00:56<00:28,  3.57s/it]\n",
      "                 Class     Images  Instances      Box(P          R      mAP50  mAP50-95):  72%|███████▏  | 18/25 [01:00<00:26,  3.72s/it]\n",
      "                 Class     Images  Instances      Box(P          R      mAP50  mAP50-95):  76%|███████▌  | 19/25 [01:04<00:23,  3.89s/it]\n",
      "                 Class     Images  Instances      Box(P          R      mAP50  mAP50-95):  80%|████████  | 20/25 [01:09<00:20,  4.00s/it]\n",
      "                 Class     Images  Instances      Box(P          R      mAP50  mAP50-95):  84%|████████▍ | 21/25 [01:13<00:16,  4.09s/it]\n",
      "                 Class     Images  Instances      Box(P          R      mAP50  mAP50-95):  88%|████████▊ | 22/25 [01:17<00:12,  4.09s/it]\n",
      "                 Class     Images  Instances      Box(P          R      mAP50  mAP50-95):  92%|█████████▏| 23/25 [01:21<00:08,  4.11s/it]\n",
      "                 Class     Images  Instances      Box(P          R      mAP50  mAP50-95):  96%|█████████▌| 24/25 [01:26<00:04,  4.26s/it]\n",
      "                 Class     Images  Instances      Box(P          R      mAP50  mAP50-95): 100%|██████████| 25/25 [01:30<00:00,  4.16s/it]\n",
      "                 Class     Images  Instances      Box(P          R      mAP50  mAP50-95): 100%|██████████| 25/25 [01:30<00:00,  3.61s/it]\n",
      "\n",
      "  0%|          | 0/75 [00:00<?, ?it/s]\n",
      "      4/100         0G          0      20.46          0          0        640:   0%|          | 0/75 [00:08<?, ?it/s]\n",
      "      4/100         0G          0      20.46          0          0        640:   1%|▏         | 1/75 [00:08<10:55,  8.86s/it]\n",
      "      4/100         0G          0      20.45          0          0        640:   1%|▏         | 1/75 [00:17<10:55,  8.86s/it]\n",
      "      4/100         0G          0      20.45          0          0        640:   3%|▎         | 2/75 [00:17<10:36,  8.72s/it]\n",
      "      4/100         0G          0       20.4          0          0        640:   3%|▎         | 2/75 [00:26<10:36,  8.72s/it]\n",
      "      4/100         0G          0       20.4          0          0        640:   4%|▍         | 3/75 [00:26<10:41,  8.91s/it]\n",
      "      4/100         0G          0      20.12          0          0        640:   4%|▍         | 3/75 [00:36<10:41,  8.91s/it]\n",
      "      4/100         0G          0      20.12          0          0        640:   5%|▌         | 4/75 [00:36<10:51,  9.18s/it]\n",
      "      4/100         0G          0      19.98          0          0        640:   5%|▌         | 4/75 [00:45<10:51,  9.18s/it]\n",
      "      4/100         0G          0      19.98          0          0        640:   7%|▋         | 5/75 [00:45<10:48,  9.27s/it]\n",
      "      4/100         0G          0      19.89          0          0        640:   7%|▋         | 5/75 [00:55<10:48,  9.27s/it]\n",
      "      4/100         0G          0      19.89          0          0        640:   8%|▊         | 6/75 [00:55<10:59,  9.56s/it]\n",
      "      4/100         0G          0      19.71          0          0        640:   8%|▊         | 6/75 [01:05<10:59,  9.56s/it]\n",
      "      4/100         0G          0      19.71          0          0        640:   9%|▉         | 7/75 [01:05<10:52,  9.60s/it]\n",
      "      4/100         0G          0      19.57          0          0        640:   9%|▉         | 7/75 [01:14<10:52,  9.60s/it]\n",
      "      4/100         0G          0      19.57          0          0        640:  11%|█         | 8/75 [01:14<10:27,  9.37s/it]\n",
      "      4/100         0G          0      19.48          0          0        640:  11%|█         | 8/75 [01:23<10:27,  9.37s/it]\n",
      "      4/100         0G          0      19.48          0          0        640:  12%|█▏        | 9/75 [01:23<10:24,  9.47s/it]\n",
      "      4/100         0G          0       19.4          0          0        640:  12%|█▏        | 9/75 [01:34<10:24,  9.47s/it]\n",
      "      4/100         0G          0       19.4          0          0        640:  13%|█▎        | 10/75 [01:34<10:26,  9.64s/it]\n",
      "      4/100         0G          0      19.25          0          0        640:  13%|█▎        | 10/75 [01:43<10:26,  9.64s/it]\n",
      "      4/100         0G          0      19.25          0          0        640:  15%|█▍        | 11/75 [01:43<10:07,  9.49s/it]\n",
      "      4/100         0G          0      19.18          0          0        640:  15%|█▍        | 11/75 [01:52<10:07,  9.49s/it]\n",
      "      4/100         0G          0      19.18          0          0        640:  16%|█▌        | 12/75 [01:52<09:51,  9.39s/it]\n",
      "      4/100         0G          0       19.1          0          0        640:  16%|█▌        | 12/75 [02:01<09:51,  9.39s/it]\n",
      "      4/100         0G          0       19.1          0          0        640:  17%|█▋        | 13/75 [02:01<09:41,  9.39s/it]\n",
      "      4/100         0G          0      19.01          0          0        640:  17%|█▋        | 13/75 [02:11<09:41,  9.39s/it]\n",
      "      4/100         0G          0      19.01          0          0        640:  19%|█▊        | 14/75 [02:11<09:35,  9.43s/it]\n",
      "      4/100         0G          0      18.88          0          0        640:  19%|█▊        | 14/75 [02:20<09:35,  9.43s/it]\n",
      "      4/100         0G          0      18.88          0          0        640:  20%|██        | 15/75 [02:20<09:13,  9.23s/it]\n",
      "      4/100         0G          0      18.77          0          0        640:  20%|██        | 15/75 [02:29<09:13,  9.23s/it]\n",
      "      4/100         0G          0      18.77          0          0        640:  21%|██▏       | 16/75 [02:29<09:01,  9.18s/it]\n",
      "      4/100         0G          0      18.67          0          0        640:  21%|██▏       | 16/75 [02:38<09:01,  9.18s/it]\n",
      "      4/100         0G          0      18.67          0          0        640:  23%|██▎       | 17/75 [02:38<08:58,  9.28s/it]\n",
      "      4/100         0G          0      18.58          0          0        640:  23%|██▎       | 17/75 [02:48<08:58,  9.28s/it]\n",
      "      4/100         0G          0      18.58          0          0        640:  24%|██▍       | 18/75 [02:48<08:54,  9.38s/it]\n",
      "      4/100         0G          0      18.48          0          0        640:  24%|██▍       | 18/75 [02:57<08:54,  9.38s/it]\n",
      "      4/100         0G          0      18.48          0          0        640:  25%|██▌       | 19/75 [02:57<08:44,  9.37s/it]\n",
      "      4/100         0G          0      18.38          0          0        640:  25%|██▌       | 19/75 [03:07<08:44,  9.37s/it]\n",
      "      4/100         0G          0      18.38          0          0        640:  27%|██▋       | 20/75 [03:07<08:40,  9.46s/it]\n",
      "      4/100         0G          0      18.28          0          0        640:  27%|██▋       | 20/75 [03:16<08:40,  9.46s/it]\n",
      "      4/100         0G          0      18.28          0          0        640:  28%|██▊       | 21/75 [03:16<08:24,  9.34s/it]\n",
      "      4/100         0G          0      18.19          0          0        640:  28%|██▊       | 21/75 [03:26<08:24,  9.34s/it]\n",
      "      4/100         0G          0      18.19          0          0        640:  29%|██▉       | 22/75 [03:26<08:22,  9.48s/it]\n",
      "      4/100         0G          0      18.08          0          0        640:  29%|██▉       | 22/75 [03:35<08:22,  9.48s/it]\n",
      "      4/100         0G          0      18.08          0          0        640:  31%|███       | 23/75 [03:35<08:11,  9.45s/it]\n",
      "      4/100         0G          0      17.99          0          0        640:  31%|███       | 23/75 [03:42<08:11,  9.45s/it]\n",
      "      4/100         0G          0      17.99          0          0        640:  32%|███▏      | 24/75 [03:42<07:27,  8.77s/it]\n",
      "      4/100         0G          0      17.92          0          0        640:  32%|███▏      | 24/75 [03:49<07:27,  8.77s/it]\n",
      "      4/100         0G          0      17.92          0          0        640:  33%|███▎      | 25/75 [03:49<06:53,  8.26s/it]\n",
      "      4/100         0G          0      17.84          0          0        640:  33%|███▎      | 25/75 [03:57<06:53,  8.26s/it]\n",
      "      4/100         0G          0      17.84          0          0        640:  35%|███▍      | 26/75 [03:57<06:41,  8.18s/it]\n",
      "      4/100         0G          0      17.75          0          0        640:  35%|███▍      | 26/75 [04:04<06:41,  8.18s/it]\n",
      "      4/100         0G          0      17.75          0          0        640:  36%|███▌      | 27/75 [04:04<06:18,  7.88s/it]\n",
      "      4/100         0G          0      17.67          0          0        640:  36%|███▌      | 27/75 [04:12<06:18,  7.88s/it]\n",
      "      4/100         0G          0      17.67          0          0        640:  37%|███▋      | 28/75 [04:12<06:03,  7.74s/it]\n",
      "      4/100         0G          0       17.6          0          0        640:  37%|███▋      | 28/75 [04:19<06:03,  7.74s/it]\n",
      "      4/100         0G          0       17.6          0          0        640:  39%|███▊      | 29/75 [04:19<05:50,  7.63s/it]\n",
      "      4/100         0G          0      17.54          0          0        640:  39%|███▊      | 29/75 [04:27<05:50,  7.63s/it]\n",
      "      4/100         0G          0      17.54          0          0        640:  40%|████      | 30/75 [04:27<05:43,  7.64s/it]\n",
      "      4/100         0G          0      17.45          0          0        640:  40%|████      | 30/75 [04:35<05:43,  7.64s/it]\n",
      "      4/100         0G          0      17.45          0          0        640:  41%|████▏     | 31/75 [04:35<05:38,  7.68s/it]\n",
      "      4/100         0G          0      17.36          0          0        640:  41%|████▏     | 31/75 [04:42<05:38,  7.68s/it]\n",
      "      4/100         0G          0      17.36          0          0        640:  43%|████▎     | 32/75 [04:42<05:31,  7.71s/it]\n",
      "      4/100         0G          0      17.28          0          0        640:  43%|████▎     | 32/75 [04:50<05:31,  7.71s/it]\n",
      "      4/100         0G          0      17.28          0          0        640:  44%|████▍     | 33/75 [04:50<05:16,  7.54s/it]\n",
      "      4/100         0G          0      17.21          0          0        640:  44%|████▍     | 33/75 [04:57<05:16,  7.54s/it]\n",
      "      4/100         0G          0      17.21          0          0        640:  45%|████▌     | 34/75 [04:57<05:13,  7.65s/it]\n",
      "      4/100         0G          0      17.11          0          0        640:  45%|████▌     | 34/75 [05:05<05:13,  7.65s/it]\n",
      "      4/100         0G          0      17.11          0          0        640:  47%|████▋     | 35/75 [05:05<05:05,  7.65s/it]\n",
      "      4/100         0G          0      17.02          0          0        640:  47%|████▋     | 35/75 [05:13<05:05,  7.65s/it]\n",
      "      4/100         0G          0      17.02          0          0        640:  48%|████▊     | 36/75 [05:13<04:58,  7.66s/it]\n",
      "      4/100         0G          0      16.94          0          0        640:  48%|████▊     | 36/75 [05:20<04:58,  7.66s/it]\n",
      "      4/100         0G          0      16.94          0          0        640:  49%|████▉     | 37/75 [05:20<04:51,  7.67s/it]\n",
      "      4/100         0G          0      16.86          0          0        640:  49%|████▉     | 37/75 [05:28<04:51,  7.67s/it]\n",
      "      4/100         0G          0      16.86          0          0        640:  51%|█████     | 38/75 [05:28<04:44,  7.69s/it]\n",
      "      4/100         0G          0      16.77          0          0        640:  51%|█████     | 38/75 [05:36<04:44,  7.69s/it]\n",
      "      4/100         0G          0      16.77          0          0        640:  52%|█████▏    | 39/75 [05:36<04:38,  7.72s/it]\n",
      "      4/100         0G          0      16.68          0          0        640:  52%|█████▏    | 39/75 [05:44<04:38,  7.72s/it]\n",
      "      4/100         0G          0      16.68          0          0        640:  53%|█████▎    | 40/75 [05:44<04:29,  7.69s/it]\n",
      "      4/100         0G          0       16.6          0          0        640:  53%|█████▎    | 40/75 [05:51<04:29,  7.69s/it]\n",
      "      4/100         0G          0       16.6          0          0        640:  55%|█████▍    | 41/75 [05:51<04:17,  7.58s/it]\n",
      "      4/100         0G          0      16.52          0          0        640:  55%|█████▍    | 41/75 [05:59<04:17,  7.58s/it]\n",
      "      4/100         0G          0      16.52          0          0        640:  56%|█████▌    | 42/75 [05:59<04:11,  7.62s/it]\n",
      "      4/100         0G          0      16.43          0          0        640:  56%|█████▌    | 42/75 [06:06<04:11,  7.62s/it]\n",
      "      4/100         0G          0      16.43          0          0        640:  57%|█████▋    | 43/75 [06:06<04:01,  7.54s/it]\n",
      "      4/100         0G          0      16.34          0          0        640:  57%|█████▋    | 43/75 [06:14<04:01,  7.54s/it]\n",
      "      4/100         0G          0      16.34          0          0        640:  59%|█████▊    | 44/75 [06:14<03:54,  7.58s/it]\n",
      "      4/100         0G          0      16.26          0          0        640:  59%|█████▊    | 44/75 [06:21<03:54,  7.58s/it]\n",
      "      4/100         0G          0      16.26          0          0        640:  60%|██████    | 45/75 [06:21<03:48,  7.60s/it]\n",
      "      4/100         0G          0      16.17          0          0        640:  60%|██████    | 45/75 [06:29<03:48,  7.60s/it]\n",
      "      4/100         0G          0      16.17          0          0        640:  61%|██████▏   | 46/75 [06:29<03:41,  7.65s/it]\n",
      "      4/100         0G          0      16.08          0          0        640:  61%|██████▏   | 46/75 [06:37<03:41,  7.65s/it]\n",
      "      4/100         0G          0      16.08          0          0        640:  63%|██████▎   | 47/75 [06:37<03:36,  7.71s/it]\n",
      "      4/100         0G          0      15.99          0          0        640:  63%|██████▎   | 47/75 [06:44<03:36,  7.71s/it]\n",
      "      4/100         0G          0      15.99          0          0        640:  64%|██████▍   | 48/75 [06:44<03:25,  7.60s/it]\n",
      "      4/100         0G          0      15.91          0          0        640:  64%|██████▍   | 48/75 [06:53<03:25,  7.60s/it]\n",
      "      4/100         0G          0      15.91          0          0        640:  65%|██████▌   | 49/75 [06:53<03:22,  7.79s/it]\n",
      "      4/100         0G          0      15.83          0          0        640:  65%|██████▌   | 49/75 [07:01<03:22,  7.79s/it]\n",
      "      4/100         0G          0      15.83          0          0        640:  67%|██████▋   | 50/75 [07:01<03:22,  8.09s/it]\n",
      "      4/100         0G          0      15.74          0          0        640:  67%|██████▋   | 50/75 [07:09<03:22,  8.09s/it]\n",
      "      4/100         0G          0      15.74          0          0        640:  68%|██████▊   | 51/75 [07:09<03:12,  8.01s/it]\n",
      "      4/100         0G          0      15.66          0          0        640:  68%|██████▊   | 51/75 [07:17<03:12,  8.01s/it]\n",
      "      4/100         0G          0      15.66          0          0        640:  69%|██████▉   | 52/75 [07:17<03:02,  7.93s/it]\n",
      "      4/100         0G          0      15.58          0          0        640:  69%|██████▉   | 52/75 [07:25<03:02,  7.93s/it]\n",
      "      4/100         0G          0      15.58          0          0        640:  71%|███████   | 53/75 [07:25<02:53,  7.88s/it]\n",
      "      4/100         0G          0      15.51          0          0        640:  71%|███████   | 53/75 [07:33<02:53,  7.88s/it]\n",
      "      4/100         0G          0      15.51          0          0        640:  72%|███████▏  | 54/75 [07:33<02:48,  8.02s/it]\n",
      "      4/100         0G          0      15.42          0          0        640:  72%|███████▏  | 54/75 [07:41<02:48,  8.02s/it]\n",
      "      4/100         0G          0      15.42          0          0        640:  73%|███████▎  | 55/75 [07:41<02:38,  7.92s/it]\n",
      "      4/100         0G          0      15.34          0          0        640:  73%|███████▎  | 55/75 [07:48<02:38,  7.92s/it]\n",
      "      4/100         0G          0      15.34          0          0        640:  75%|███████▍  | 56/75 [07:48<02:27,  7.74s/it]\n",
      "      4/100         0G          0      15.26          0          0        640:  75%|███████▍  | 56/75 [07:56<02:27,  7.74s/it]\n",
      "      4/100         0G          0      15.26          0          0        640:  76%|███████▌  | 57/75 [07:56<02:18,  7.70s/it]\n",
      "      4/100         0G          0      15.18          0          0        640:  76%|███████▌  | 57/75 [08:04<02:18,  7.70s/it]\n",
      "      4/100         0G          0      15.18          0          0        640:  77%|███████▋  | 58/75 [08:04<02:12,  7.81s/it]\n",
      "      4/100         0G          0       15.1          0          0        640:  77%|███████▋  | 58/75 [08:12<02:12,  7.81s/it]\n",
      "      4/100         0G          0       15.1          0          0        640:  79%|███████▊  | 59/75 [08:12<02:06,  7.90s/it]\n",
      "      4/100         0G          0      15.02          0          0        640:  79%|███████▊  | 59/75 [08:20<02:06,  7.90s/it]\n",
      "      4/100         0G          0      15.02          0          0        640:  80%|████████  | 60/75 [08:20<01:57,  7.86s/it]\n",
      "      4/100         0G          0      14.95          0          0        640:  80%|████████  | 60/75 [08:27<01:57,  7.86s/it]\n",
      "      4/100         0G          0      14.95          0          0        640:  81%|████████▏ | 61/75 [08:27<01:50,  7.87s/it]\n",
      "      4/100         0G          0      14.87          0          0        640:  81%|████████▏ | 61/75 [08:35<01:50,  7.87s/it]\n",
      "      4/100         0G          0      14.87          0          0        640:  83%|████████▎ | 62/75 [08:35<01:42,  7.87s/it]\n",
      "      4/100         0G          0      14.79          0          0        640:  83%|████████▎ | 62/75 [08:43<01:42,  7.87s/it]\n",
      "      4/100         0G          0      14.79          0          0        640:  84%|████████▍ | 63/75 [08:43<01:35,  7.95s/it]\n",
      "      4/100         0G          0      14.71          0          0        640:  84%|████████▍ | 63/75 [08:51<01:35,  7.95s/it]\n",
      "      4/100         0G          0      14.71          0          0        640:  85%|████████▌ | 64/75 [08:51<01:26,  7.86s/it]\n",
      "      4/100         0G          0      14.64          0          0        640:  85%|████████▌ | 64/75 [08:59<01:26,  7.86s/it]\n",
      "      4/100         0G          0      14.64          0          0        640:  87%|████████▋ | 65/75 [08:59<01:18,  7.81s/it]\n",
      "      4/100         0G          0      14.56          0          0        640:  87%|████████▋ | 65/75 [09:07<01:18,  7.81s/it]\n",
      "      4/100         0G          0      14.56          0          0        640:  88%|████████▊ | 66/75 [09:07<01:10,  7.87s/it]\n",
      "      4/100         0G          0      14.49          0          0        640:  88%|████████▊ | 66/75 [09:14<01:10,  7.87s/it]\n",
      "      4/100         0G          0      14.49          0          0        640:  89%|████████▉ | 67/75 [09:14<01:02,  7.81s/it]\n",
      "      4/100         0G          0      14.41          0          0        640:  89%|████████▉ | 67/75 [09:22<01:02,  7.81s/it]\n",
      "      4/100         0G          0      14.41          0          0        640:  91%|█████████ | 68/75 [09:22<00:54,  7.78s/it]\n",
      "      4/100         0G          0      14.33          0          0        640:  91%|█████████ | 68/75 [09:30<00:54,  7.78s/it]\n",
      "      4/100         0G          0      14.33          0          0        640:  92%|█████████▏| 69/75 [09:30<00:46,  7.80s/it]\n",
      "      4/100         0G          0      14.26          0          0        640:  92%|█████████▏| 69/75 [09:38<00:46,  7.80s/it]\n",
      "      4/100         0G          0      14.26          0          0        640:  93%|█████████▎| 70/75 [09:38<00:39,  7.88s/it]\n",
      "      4/100         0G          0      14.18          0          0        640:  93%|█████████▎| 70/75 [09:46<00:39,  7.88s/it]\n",
      "      4/100         0G          0      14.18          0          0        640:  95%|█████████▍| 71/75 [09:46<00:31,  7.89s/it]\n",
      "      4/100         0G          0      14.11          0          0        640:  95%|█████████▍| 71/75 [09:54<00:31,  7.89s/it]\n",
      "      4/100         0G          0      14.11          0          0        640:  96%|█████████▌| 72/75 [09:54<00:23,  7.83s/it]\n",
      "      4/100         0G          0      14.03          0          0        640:  96%|█████████▌| 72/75 [10:02<00:23,  7.83s/it]\n",
      "      4/100         0G          0      14.03          0          0        640:  97%|█████████▋| 73/75 [10:02<00:15,  7.83s/it]\n",
      "      4/100         0G          0      13.96          0          0        640:  97%|█████████▋| 73/75 [10:09<00:15,  7.83s/it]\n",
      "      4/100         0G          0      13.96          0          0        640:  99%|█████████▊| 74/75 [10:09<00:07,  7.78s/it]\n",
      "      4/100         0G          0      13.88          0          0        640:  99%|█████████▊| 74/75 [10:17<00:07,  7.78s/it]\n",
      "      4/100         0G          0      13.88          0          0        640: 100%|██████████| 75/75 [10:17<00:00,  7.88s/it]\n",
      "      4/100         0G          0      13.88          0          0        640: 100%|██████████| 75/75 [10:17<00:00,  8.24s/it]\n",
      "\n",
      "                 Class     Images  Instances      Box(P          R      mAP50  mAP50-95):   0%|          | 0/25 [00:00<?, ?it/s]\n",
      "                 Class     Images  Instances      Box(P          R      mAP50  mAP50-95):   4%|▍         | 1/25 [00:03<01:33,  3.90s/it]\n",
      "                 Class     Images  Instances      Box(P          R      mAP50  mAP50-95):   8%|▊         | 2/25 [00:07<01:25,  3.73s/it]\n",
      "                 Class     Images  Instances      Box(P          R      mAP50  mAP50-95):  12%|█▏        | 3/25 [00:10<01:14,  3.40s/it]\n",
      "                 Class     Images  Instances      Box(P          R      mAP50  mAP50-95):  16%|█▌        | 4/25 [00:13<01:08,  3.28s/it]\n",
      "                 Class     Images  Instances      Box(P          R      mAP50  mAP50-95):  20%|██        | 5/25 [00:16<01:04,  3.24s/it]\n",
      "                 Class     Images  Instances      Box(P          R      mAP50  mAP50-95):  24%|██▍       | 6/25 [00:19<01:00,  3.18s/it]\n",
      "                 Class     Images  Instances      Box(P          R      mAP50  mAP50-95):  28%|██▊       | 7/25 [00:22<00:55,  3.09s/it]\n",
      "                 Class     Images  Instances      Box(P          R      mAP50  mAP50-95):  32%|███▏      | 8/25 [00:26<00:53,  3.16s/it]\n",
      "                 Class     Images  Instances      Box(P          R      mAP50  mAP50-95):  36%|███▌      | 9/25 [00:29<00:50,  3.18s/it]\n",
      "                 Class     Images  Instances      Box(P          R      mAP50  mAP50-95):  40%|████      | 10/25 [00:32<00:46,  3.08s/it]\n",
      "                 Class     Images  Instances      Box(P          R      mAP50  mAP50-95):  44%|████▍     | 11/25 [00:35<00:42,  3.06s/it]\n",
      "                 Class     Images  Instances      Box(P          R      mAP50  mAP50-95):  48%|████▊     | 12/25 [00:38<00:40,  3.15s/it]\n",
      "                 Class     Images  Instances      Box(P          R      mAP50  mAP50-95):  52%|█████▏    | 13/25 [00:42<00:39,  3.32s/it]\n",
      "                 Class     Images  Instances      Box(P          R      mAP50  mAP50-95):  56%|█████▌    | 14/25 [00:45<00:36,  3.35s/it]\n",
      "                 Class     Images  Instances      Box(P          R      mAP50  mAP50-95):  60%|██████    | 15/25 [00:48<00:33,  3.34s/it]\n",
      "                 Class     Images  Instances      Box(P          R      mAP50  mAP50-95):  64%|██████▍   | 16/25 [00:52<00:29,  3.31s/it]\n",
      "                 Class     Images  Instances      Box(P          R      mAP50  mAP50-95):  68%|██████▊   | 17/25 [00:55<00:26,  3.31s/it]\n",
      "                 Class     Images  Instances      Box(P          R      mAP50  mAP50-95):  72%|███████▏  | 18/25 [00:59<00:23,  3.38s/it]\n",
      "                 Class     Images  Instances      Box(P          R      mAP50  mAP50-95):  76%|███████▌  | 19/25 [01:02<00:20,  3.40s/it]\n",
      "                 Class     Images  Instances      Box(P          R      mAP50  mAP50-95):  80%|████████  | 20/25 [01:05<00:17,  3.40s/it]\n",
      "                 Class     Images  Instances      Box(P          R      mAP50  mAP50-95):  84%|████████▍ | 21/25 [01:09<00:13,  3.38s/it]\n",
      "                 Class     Images  Instances      Box(P          R      mAP50  mAP50-95):  88%|████████▊ | 22/25 [01:12<00:09,  3.31s/it]\n",
      "                 Class     Images  Instances      Box(P          R      mAP50  mAP50-95):  92%|█████████▏| 23/25 [01:15<00:06,  3.32s/it]\n",
      "                 Class     Images  Instances      Box(P          R      mAP50  mAP50-95):  96%|█████████▌| 24/25 [01:18<00:03,  3.30s/it]\n",
      "                 Class     Images  Instances      Box(P          R      mAP50  mAP50-95): 100%|██████████| 25/25 [01:22<00:00,  3.26s/it]\n",
      "                 Class     Images  Instances      Box(P          R      mAP50  mAP50-95): 100%|██████████| 25/25 [01:22<00:00,  3.29s/it]\n",
      "\n",
      "  0%|          | 0/75 [00:00<?, ?it/s]\n",
      "      5/100         0G          0      8.129          0          0        640:   0%|          | 0/75 [00:07<?, ?it/s]\n",
      "      5/100         0G          0      8.129          0          0        640:   1%|▏         | 1/75 [00:07<09:03,  7.35s/it]\n",
      "      5/100         0G          0      8.174          0          0        640:   1%|▏         | 1/75 [00:15<09:03,  7.35s/it]\n",
      "      5/100         0G          0      8.174          0          0        640:   3%|▎         | 2/75 [00:15<09:21,  7.70s/it]\n",
      "      5/100         0G          0      8.175          0          0        640:   3%|▎         | 2/75 [00:23<09:21,  7.70s/it]\n",
      "      5/100         0G          0      8.175          0          0        640:   4%|▍         | 3/75 [00:23<09:41,  8.08s/it]\n",
      "      5/100         0G          0      8.071          0          0        640:   4%|▍         | 3/75 [00:31<09:41,  8.08s/it]\n",
      "      5/100         0G          0      8.071          0          0        640:   5%|▌         | 4/75 [00:31<09:13,  7.80s/it]\n",
      "      5/100         0G          0      8.124          0          0        640:   5%|▌         | 4/75 [00:38<09:13,  7.80s/it]\n",
      "      5/100         0G          0      8.124          0          0        640:   7%|▋         | 5/75 [00:38<09:00,  7.73s/it]\n",
      "      5/100         0G          0      8.065          0          0        640:   7%|▋         | 5/75 [00:46<09:00,  7.73s/it]\n",
      "      5/100         0G          0      8.065          0          0        640:   8%|▊         | 6/75 [00:46<08:45,  7.62s/it]\n",
      "      5/100         0G          0      8.026          0          0        640:   8%|▊         | 6/75 [00:54<08:45,  7.62s/it]\n",
      "      5/100         0G          0      8.026          0          0        640:   9%|▉         | 7/75 [00:54<08:42,  7.69s/it]\n",
      "      5/100         0G          0      7.992          0          0        640:   9%|▉         | 7/75 [01:01<08:42,  7.69s/it]\n",
      "      5/100         0G          0      7.992          0          0        640:  11%|█         | 8/75 [01:01<08:23,  7.51s/it]\n",
      "      5/100         0G          0      7.989          0          0        640:  11%|█         | 8/75 [01:08<08:23,  7.51s/it]\n",
      "      5/100         0G          0      7.989          0          0        640:  12%|█▏        | 9/75 [01:08<08:11,  7.44s/it]\n",
      "      5/100         0G          0      7.951          0          0        640:  12%|█▏        | 9/75 [01:15<08:11,  7.44s/it]\n",
      "      5/100         0G          0      7.951          0          0        640:  13%|█▎        | 10/75 [01:15<08:05,  7.47s/it]\n",
      "      5/100         0G          0      7.929          0          0        640:  13%|█▎        | 10/75 [01:24<08:05,  7.47s/it]\n",
      "      5/100         0G          0      7.929          0          0        640:  15%|█▍        | 11/75 [01:24<08:09,  7.64s/it]\n",
      "      5/100         0G          0      7.853          0          0        640:  15%|█▍        | 11/75 [01:31<08:09,  7.64s/it]\n",
      "      5/100         0G          0      7.853          0          0        640:  16%|█▌        | 12/75 [01:31<07:55,  7.55s/it]\n",
      "      5/100         0G          0      7.793          0          0        640:  16%|█▌        | 12/75 [01:39<07:55,  7.55s/it]\n",
      "      5/100         0G          0      7.793          0          0        640:  17%|█▋        | 13/75 [01:39<07:50,  7.58s/it]\n",
      "      5/100         0G          0      7.738          0          0        640:  17%|█▋        | 13/75 [01:46<07:50,  7.58s/it]\n",
      "      5/100         0G          0      7.738          0          0        640:  19%|█▊        | 14/75 [01:46<07:40,  7.54s/it]\n",
      "      5/100         0G          0      7.689          0          0        640:  19%|█▊        | 14/75 [01:54<07:40,  7.54s/it]\n",
      "      5/100         0G          0      7.689          0          0        640:  20%|██        | 15/75 [01:54<07:35,  7.60s/it]\n",
      "      5/100         0G          0      7.624          0          0        640:  20%|██        | 15/75 [02:02<07:35,  7.60s/it]\n",
      "      5/100         0G          0      7.624          0          0        640:  21%|██▏       | 16/75 [02:02<07:33,  7.69s/it]\n",
      "      5/100         0G          0      7.564          0          0        640:  21%|██▏       | 16/75 [02:09<07:33,  7.69s/it]\n",
      "      5/100         0G          0      7.564          0          0        640:  23%|██▎       | 17/75 [02:09<07:28,  7.73s/it]\n",
      "      5/100         0G          0      7.525          0          0        640:  23%|██▎       | 17/75 [02:17<07:28,  7.73s/it]\n",
      "      5/100         0G          0      7.525          0          0        640:  24%|██▍       | 18/75 [02:17<07:19,  7.70s/it]\n",
      "      5/100         0G          0      7.478          0          0        640:  24%|██▍       | 18/75 [02:25<07:19,  7.70s/it]\n",
      "      5/100         0G          0      7.478          0          0        640:  25%|██▌       | 19/75 [02:25<07:12,  7.73s/it]\n",
      "      5/100         0G          0      7.428          0          0        640:  25%|██▌       | 19/75 [02:32<07:12,  7.73s/it]\n",
      "      5/100         0G          0      7.428          0          0        640:  27%|██▋       | 20/75 [02:32<06:53,  7.52s/it]\n",
      "      5/100         0G          0      7.386          0          0        640:  27%|██▋       | 20/75 [02:39<06:53,  7.52s/it]\n",
      "      5/100         0G          0      7.386          0          0        640:  28%|██▊       | 21/75 [02:39<06:47,  7.54s/it]\n",
      "      5/100         0G          0      7.343          0          0        640:  28%|██▊       | 21/75 [02:47<06:47,  7.54s/it]\n",
      "      5/100         0G          0      7.343          0          0        640:  29%|██▉       | 22/75 [02:47<06:32,  7.41s/it]\n",
      "      5/100         0G          0      7.306          0          0        640:  29%|██▉       | 22/75 [02:55<06:32,  7.41s/it]\n",
      "      5/100         0G          0      7.306          0          0        640:  31%|███       | 23/75 [02:55<06:34,  7.59s/it]\n",
      "      5/100         0G          0      7.251          0          0        640:  31%|███       | 23/75 [03:02<06:34,  7.59s/it]\n",
      "      5/100         0G          0      7.251          0          0        640:  32%|███▏      | 24/75 [03:02<06:27,  7.60s/it]\n",
      "      5/100         0G          0        7.2          0          0        640:  32%|███▏      | 24/75 [03:10<06:27,  7.60s/it]\n",
      "      5/100         0G          0        7.2          0          0        640:  33%|███▎      | 25/75 [03:10<06:18,  7.57s/it]\n",
      "      5/100         0G          0      7.153          0          0        640:  33%|███▎      | 25/75 [03:18<06:18,  7.57s/it]\n",
      "      5/100         0G          0      7.153          0          0        640:  35%|███▍      | 26/75 [03:18<06:23,  7.83s/it]\n",
      "      5/100         0G          0      7.111          0          0        640:  35%|███▍      | 26/75 [03:28<06:23,  7.83s/it]\n",
      "      5/100         0G          0      7.111          0          0        640:  36%|███▌      | 27/75 [03:28<06:40,  8.34s/it]\n",
      "      5/100         0G          0      7.061          0          0        640:  36%|███▌      | 27/75 [03:35<06:40,  8.34s/it]\n",
      "      5/100         0G          0      7.061          0          0        640:  37%|███▋      | 28/75 [03:35<06:20,  8.11s/it]\n",
      "      5/100         0G          0      7.013          0          0        640:  37%|███▋      | 28/75 [03:43<06:20,  8.11s/it]\n",
      "      5/100         0G          0      7.013          0          0        640:  39%|███▊      | 29/75 [03:43<06:06,  7.97s/it]\n",
      "      5/100         0G          0      6.969          0          0        640:  39%|███▊      | 29/75 [03:50<06:06,  7.97s/it]\n",
      "      5/100         0G          0      6.969          0          0        640:  40%|████      | 30/75 [03:50<05:47,  7.73s/it]\n",
      "      5/100         0G          0      6.927          0          0        640:  40%|████      | 30/75 [03:58<05:47,  7.73s/it]\n",
      "      5/100         0G          0      6.927          0          0        640:  41%|████▏     | 31/75 [03:58<05:41,  7.77s/it]\n",
      "      5/100         0G          0      6.877          0          0        640:  41%|████▏     | 31/75 [04:06<05:41,  7.77s/it]\n",
      "      5/100         0G          0      6.877          0          0        640:  43%|████▎     | 32/75 [04:06<05:32,  7.73s/it]\n",
      "      5/100         0G          0      6.831          0          0        640:  43%|████▎     | 32/75 [04:13<05:32,  7.73s/it]\n",
      "      5/100         0G          0      6.831          0          0        640:  44%|████▍     | 33/75 [04:13<05:17,  7.56s/it]\n",
      "      5/100         0G          0      6.786          0          0        640:  44%|████▍     | 33/75 [04:20<05:17,  7.56s/it]\n",
      "      5/100         0G          0      6.786          0          0        640:  45%|████▌     | 34/75 [04:20<05:10,  7.57s/it]\n",
      "      5/100         0G          0      6.745          0          0        640:  45%|████▌     | 34/75 [04:27<05:10,  7.57s/it]\n",
      "      5/100         0G          0      6.745          0          0        640:  47%|████▋     | 35/75 [04:27<04:58,  7.45s/it]\n",
      "      5/100         0G          0      6.697          0          0        640:  47%|████▋     | 35/75 [04:35<04:58,  7.45s/it]\n",
      "      5/100         0G          0      6.697          0          0        640:  48%|████▊     | 36/75 [04:35<04:49,  7.44s/it]\n",
      "      5/100         0G          0      6.652          0          0        640:  48%|████▊     | 36/75 [04:42<04:49,  7.44s/it]\n",
      "      5/100         0G          0      6.652          0          0        640:  49%|████▉     | 37/75 [04:42<04:43,  7.47s/it]\n",
      "      5/100         0G          0       6.61          0          0        640:  49%|████▉     | 37/75 [04:50<04:43,  7.47s/it]\n",
      "      5/100         0G          0       6.61          0          0        640:  51%|█████     | 38/75 [04:50<04:36,  7.48s/it]\n",
      "      5/100         0G          0      6.569          0          0        640:  51%|█████     | 38/75 [04:58<04:36,  7.48s/it]\n",
      "      5/100         0G          0      6.569          0          0        640:  52%|█████▏    | 39/75 [04:58<04:30,  7.52s/it]\n",
      "      5/100         0G          0      6.522          0          0        640:  52%|█████▏    | 39/75 [05:05<04:30,  7.52s/it]\n",
      "      5/100         0G          0      6.522          0          0        640:  53%|█████▎    | 40/75 [05:05<04:20,  7.43s/it]\n",
      "      5/100         0G          0      6.479          0          0        640:  53%|█████▎    | 40/75 [05:12<04:20,  7.43s/it]\n",
      "      5/100         0G          0      6.479          0          0        640:  55%|█████▍    | 41/75 [05:12<04:14,  7.49s/it]\n",
      "      5/100         0G          0      6.437          0          0        640:  55%|█████▍    | 41/75 [05:20<04:14,  7.49s/it]\n",
      "      5/100         0G          0      6.437          0          0        640:  56%|█████▌    | 42/75 [05:20<04:09,  7.56s/it]\n",
      "      5/100         0G          0      6.397          0          0        640:  56%|█████▌    | 42/75 [05:28<04:09,  7.56s/it]\n",
      "      5/100         0G          0      6.397          0          0        640:  57%|█████▋    | 43/75 [05:28<04:00,  7.52s/it]\n",
      "      5/100         0G          0      6.353          0          0        640:  57%|█████▋    | 43/75 [05:35<04:00,  7.52s/it]\n",
      "      5/100         0G          0      6.353          0          0        640:  59%|█████▊    | 44/75 [05:35<03:53,  7.53s/it]\n",
      "      5/100         0G          0       6.31          0          0        640:  59%|█████▊    | 44/75 [05:43<03:53,  7.53s/it]\n",
      "      5/100         0G          0       6.31          0          0        640:  60%|██████    | 45/75 [05:43<03:46,  7.56s/it]\n",
      "      5/100         0G          0       6.27          0          0        640:  60%|██████    | 45/75 [05:50<03:46,  7.56s/it]\n",
      "      5/100         0G          0       6.27          0          0        640:  61%|██████▏   | 46/75 [05:50<03:40,  7.59s/it]\n",
      "      5/100         0G          0      6.231          0          0        640:  61%|██████▏   | 46/75 [05:58<03:40,  7.59s/it]\n",
      "      5/100         0G          0      6.231          0          0        640:  63%|██████▎   | 47/75 [05:58<03:34,  7.65s/it]\n",
      "      5/100         0G          0       6.19          0          0        640:  63%|██████▎   | 47/75 [06:06<03:34,  7.65s/it]\n",
      "      5/100         0G          0       6.19          0          0        640:  64%|██████▍   | 48/75 [06:06<03:27,  7.69s/it]\n",
      "      5/100         0G          0      6.148          0          0        640:  64%|██████▍   | 48/75 [06:13<03:27,  7.69s/it]\n",
      "      5/100         0G          0      6.148          0          0        640:  65%|██████▌   | 49/75 [06:13<03:17,  7.59s/it]\n",
      "      5/100         0G          0      6.109          0          0        640:  65%|██████▌   | 49/75 [06:21<03:17,  7.59s/it]\n",
      "      5/100         0G          0      6.109          0          0        640:  67%|██████▋   | 50/75 [06:21<03:09,  7.58s/it]\n",
      "      5/100         0G          0      6.071          0          0        640:  67%|██████▋   | 50/75 [06:29<03:09,  7.58s/it]\n",
      "      5/100         0G          0      6.071          0          0        640:  68%|██████▊   | 51/75 [06:29<03:03,  7.66s/it]\n",
      "      5/100         0G          0       6.03          0          0        640:  68%|██████▊   | 51/75 [06:36<03:03,  7.66s/it]\n",
      "      5/100         0G          0       6.03          0          0        640:  69%|██████▉   | 52/75 [06:36<02:54,  7.58s/it]\n",
      "      5/100         0G          0       5.99          0          0        640:  69%|██████▉   | 52/75 [06:44<02:54,  7.58s/it]\n",
      "      5/100         0G          0       5.99          0          0        640:  71%|███████   | 53/75 [06:44<02:47,  7.61s/it]\n",
      "      5/100         0G          0      5.952          0          0        640:  71%|███████   | 53/75 [06:51<02:47,  7.61s/it]\n",
      "      5/100         0G          0      5.952          0          0        640:  72%|███████▏  | 54/75 [06:51<02:39,  7.59s/it]\n",
      "      5/100         0G          0      5.915          0          0        640:  72%|███████▏  | 54/75 [06:59<02:39,  7.59s/it]\n",
      "      5/100         0G          0      5.915          0          0        640:  73%|███████▎  | 55/75 [06:59<02:31,  7.56s/it]\n",
      "      5/100         0G          0      5.875          0          0        640:  73%|███████▎  | 55/75 [07:06<02:31,  7.56s/it]\n",
      "      5/100         0G          0      5.875          0          0        640:  75%|███████▍  | 56/75 [07:06<02:23,  7.54s/it]\n",
      "      5/100         0G          0      5.839          0          0        640:  75%|███████▍  | 56/75 [07:14<02:23,  7.54s/it]\n",
      "      5/100         0G          0      5.839          0          0        640:  76%|███████▌  | 57/75 [07:14<02:17,  7.67s/it]\n",
      "      5/100         0G          0      5.801          0          0        640:  76%|███████▌  | 57/75 [07:22<02:17,  7.67s/it]\n",
      "      5/100         0G          0      5.801          0          0        640:  77%|███████▋  | 58/75 [07:22<02:10,  7.70s/it]\n",
      "      5/100         0G          0      5.766          0          0        640:  77%|███████▋  | 58/75 [07:30<02:10,  7.70s/it]\n",
      "      5/100         0G          0      5.766          0          0        640:  79%|███████▊  | 59/75 [07:30<02:03,  7.69s/it]\n",
      "      5/100         0G          0      5.727          0          0        640:  79%|███████▊  | 59/75 [07:37<02:03,  7.69s/it]\n",
      "      5/100         0G          0      5.727          0          0        640:  80%|████████  | 60/75 [07:37<01:55,  7.71s/it]\n",
      "      5/100         0G          0      5.689          0          0        640:  80%|████████  | 60/75 [07:45<01:55,  7.71s/it]\n",
      "      5/100         0G          0      5.689          0          0        640:  81%|████████▏ | 61/75 [07:45<01:47,  7.68s/it]\n",
      "      5/100         0G          0      5.653          0          0        640:  81%|████████▏ | 61/75 [07:52<01:47,  7.68s/it]\n",
      "      5/100         0G          0      5.653          0          0        640:  83%|████████▎ | 62/75 [07:52<01:38,  7.55s/it]\n",
      "      5/100         0G          0      5.618          0          0        640:  83%|████████▎ | 62/75 [08:00<01:38,  7.55s/it]\n",
      "      5/100         0G          0      5.618          0          0        640:  84%|████████▍ | 63/75 [08:00<01:32,  7.67s/it]\n",
      "      5/100         0G          0      5.581          0          0        640:  84%|████████▍ | 63/75 [08:08<01:32,  7.67s/it]\n",
      "      5/100         0G          0      5.581          0          0        640:  85%|████████▌ | 64/75 [08:08<01:23,  7.61s/it]\n",
      "      5/100         0G          0      5.545          0          0        640:  85%|████████▌ | 64/75 [08:15<01:23,  7.61s/it]\n",
      "      5/100         0G          0      5.545          0          0        640:  87%|████████▋ | 65/75 [08:15<01:15,  7.57s/it]\n",
      "      5/100         0G          0       5.51          0          0        640:  87%|████████▋ | 65/75 [08:23<01:15,  7.57s/it]\n",
      "      5/100         0G          0       5.51          0          0        640:  88%|████████▊ | 66/75 [08:23<01:08,  7.57s/it]\n",
      "      5/100         0G          0      5.477          0          0        640:  88%|████████▊ | 66/75 [08:31<01:08,  7.57s/it]\n",
      "      5/100         0G          0      5.477          0          0        640:  89%|████████▉ | 67/75 [08:31<01:01,  7.63s/it]\n",
      "      5/100         0G          0       5.44          0          0        640:  89%|████████▉ | 67/75 [08:38<01:01,  7.63s/it]\n",
      "      5/100         0G          0       5.44          0          0        640:  91%|█████████ | 68/75 [08:38<00:53,  7.61s/it]\n",
      "      5/100         0G          0      5.404          0          0        640:  91%|█████████ | 68/75 [08:46<00:53,  7.61s/it]\n",
      "      5/100         0G          0      5.404          0          0        640:  92%|█████████▏| 69/75 [08:46<00:45,  7.58s/it]\n",
      "      5/100         0G          0       5.37          0          0        640:  92%|█████████▏| 69/75 [08:53<00:45,  7.58s/it]\n",
      "      5/100         0G          0       5.37          0          0        640:  93%|█████████▎| 70/75 [08:53<00:37,  7.59s/it]\n",
      "      5/100         0G          0      5.337          0          0        640:  93%|█████████▎| 70/75 [09:01<00:37,  7.59s/it]\n",
      "      5/100         0G          0      5.337          0          0        640:  95%|█████████▍| 71/75 [09:01<00:30,  7.63s/it]\n",
      "      5/100         0G          0      5.302          0          0        640:  95%|█████████▍| 71/75 [09:08<00:30,  7.63s/it]\n",
      "      5/100         0G          0      5.302          0          0        640:  96%|█████████▌| 72/75 [09:08<00:22,  7.56s/it]\n",
      "      5/100         0G          0      5.268          0          0        640:  96%|█████████▌| 72/75 [09:17<00:22,  7.56s/it]\n",
      "      5/100         0G          0      5.268          0          0        640:  97%|█████████▋| 73/75 [09:17<00:15,  7.87s/it]\n",
      "      5/100         0G          0      5.235          0          0        640:  97%|█████████▋| 73/75 [09:24<00:15,  7.87s/it]\n",
      "      5/100         0G          0      5.235          0          0        640:  99%|█████████▊| 74/75 [09:24<00:07,  7.76s/it]\n",
      "      5/100         0G          0      5.203          0          0        640:  99%|█████████▊| 74/75 [09:32<00:07,  7.76s/it]\n",
      "      5/100         0G          0      5.203          0          0        640: 100%|██████████| 75/75 [09:32<00:00,  7.75s/it]\n",
      "      5/100         0G          0      5.203          0          0        640: 100%|██████████| 75/75 [09:32<00:00,  7.64s/it]\n",
      "\n",
      "                 Class     Images  Instances      Box(P          R      mAP50  mAP50-95):   0%|          | 0/25 [00:00<?, ?it/s]\n",
      "                 Class     Images  Instances      Box(P          R      mAP50  mAP50-95):   4%|▍         | 1/25 [00:03<01:22,  3.43s/it]\n",
      "                 Class     Images  Instances      Box(P          R      mAP50  mAP50-95):   8%|▊         | 2/25 [00:06<01:16,  3.32s/it]\n",
      "                 Class     Images  Instances      Box(P          R      mAP50  mAP50-95):  12%|█▏        | 3/25 [00:09<01:11,  3.23s/it]\n",
      "                 Class     Images  Instances      Box(P          R      mAP50  mAP50-95):  16%|█▌        | 4/25 [00:13<01:12,  3.44s/it]\n",
      "                 Class     Images  Instances      Box(P          R      mAP50  mAP50-95):  20%|██        | 5/25 [00:17<01:11,  3.55s/it]\n",
      "                 Class     Images  Instances      Box(P          R      mAP50  mAP50-95):  24%|██▍       | 6/25 [00:20<01:07,  3.54s/it]\n",
      "                 Class     Images  Instances      Box(P          R      mAP50  mAP50-95):  28%|██▊       | 7/25 [00:24<01:04,  3.58s/it]\n",
      "                 Class     Images  Instances      Box(P          R      mAP50  mAP50-95):  32%|███▏      | 8/25 [00:28<01:02,  3.67s/it]\n",
      "                 Class     Images  Instances      Box(P          R      mAP50  mAP50-95):  36%|███▌      | 9/25 [00:32<01:00,  3.75s/it]\n",
      "                 Class     Images  Instances      Box(P          R      mAP50  mAP50-95):  40%|████      | 10/25 [00:36<00:56,  3.74s/it]\n",
      "                 Class     Images  Instances      Box(P          R      mAP50  mAP50-95):  44%|████▍     | 11/25 [00:39<00:52,  3.72s/it]\n",
      "                 Class     Images  Instances      Box(P          R      mAP50  mAP50-95):  48%|████▊     | 12/25 [00:43<00:50,  3.89s/it]\n",
      "                 Class     Images  Instances      Box(P          R      mAP50  mAP50-95):  52%|█████▏    | 13/25 [00:47<00:47,  3.92s/it]\n",
      "                 Class     Images  Instances      Box(P          R      mAP50  mAP50-95):  56%|█████▌    | 14/25 [00:52<00:44,  4.03s/it]\n",
      "                 Class     Images  Instances      Box(P          R      mAP50  mAP50-95):  60%|██████    | 15/25 [00:56<00:40,  4.04s/it]\n",
      "                 Class     Images  Instances      Box(P          R      mAP50  mAP50-95):  64%|██████▍   | 16/25 [01:00<00:36,  4.06s/it]\n",
      "                 Class     Images  Instances      Box(P          R      mAP50  mAP50-95):  68%|██████▊   | 17/25 [01:04<00:33,  4.15s/it]\n",
      "                 Class     Images  Instances      Box(P          R      mAP50  mAP50-95):  72%|███████▏  | 18/25 [01:08<00:28,  4.06s/it]\n",
      "                 Class     Images  Instances      Box(P          R      mAP50  mAP50-95):  76%|███████▌  | 19/25 [01:12<00:24,  4.14s/it]\n",
      "                 Class     Images  Instances      Box(P          R      mAP50  mAP50-95):  80%|████████  | 20/25 [01:16<00:20,  4.05s/it]\n",
      "                 Class     Images  Instances      Box(P          R      mAP50  mAP50-95):  84%|████████▍ | 21/25 [01:20<00:16,  4.05s/it]\n",
      "                 Class     Images  Instances      Box(P          R      mAP50  mAP50-95):  88%|████████▊ | 22/25 [01:25<00:12,  4.13s/it]\n",
      "                 Class     Images  Instances      Box(P          R      mAP50  mAP50-95):  92%|█████████▏| 23/25 [01:29<00:08,  4.18s/it]\n",
      "                 Class     Images  Instances      Box(P          R      mAP50  mAP50-95):  96%|█████████▌| 24/25 [01:33<00:04,  4.18s/it]\n",
      "                 Class     Images  Instances      Box(P          R      mAP50  mAP50-95): 100%|██████████| 25/25 [01:37<00:00,  4.07s/it]\n",
      "                 Class     Images  Instances      Box(P          R      mAP50  mAP50-95): 100%|██████████| 25/25 [01:37<00:00,  3.90s/it]\n",
      "Traceback (most recent call last):\n",
      "  File \"<frozen runpy>\", line 198, in _run_module_as_main\n",
      "  File \"<frozen runpy>\", line 88, in _run_code\n",
      "  File \"C:\\Users\\user\\AppData\\Local\\Programs\\Python\\Python311\\Scripts\\yolo.exe\\__main__.py\", line 7, in <module>\n",
      "  File \"C:\\Users\\user\\AppData\\Local\\Programs\\Python\\Python311\\Lib\\site-packages\\ultralytics\\cfg\\__init__.py\", line 582, in entrypoint\n",
      "    getattr(model, mode)(**overrides)  # default args from model\n",
      "    ^^^^^^^^^^^^^^^^^^^^^^^^^^^^^^^^^\n",
      "  File \"C:\\Users\\user\\AppData\\Local\\Programs\\Python\\Python311\\Lib\\site-packages\\ultralytics\\engine\\model.py\", line 667, in train\n",
      "    self.trainer.train()\n",
      "  File \"C:\\Users\\user\\AppData\\Local\\Programs\\Python\\Python311\\Lib\\site-packages\\ultralytics\\engine\\trainer.py\", line 213, in train\n",
      "    self._do_train(world_size)\n",
      "  File \"C:\\Users\\user\\AppData\\Local\\Programs\\Python\\Python311\\Lib\\site-packages\\ultralytics\\engine\\trainer.py\", line 429, in _do_train\n",
      "    self.metrics, self.fitness = self.validate()\n",
      "                                 ^^^^^^^^^^^^^^^\n",
      "  File \"C:\\Users\\user\\AppData\\Local\\Programs\\Python\\Python311\\Lib\\site-packages\\ultralytics\\engine\\trainer.py\", line 551, in validate\n",
      "    metrics = self.validator(self)\n",
      "              ^^^^^^^^^^^^^^^^^^^^\n",
      "  File \"C:\\Users\\user\\AppData\\Local\\Programs\\Python\\Python311\\Lib\\site-packages\\torch\\utils\\_contextlib.py\", line 115, in decorate_context\n",
      "    return func(*args, **kwargs)\n",
      "           ^^^^^^^^^^^^^^^^^^^^^\n",
      "  File \"C:\\Users\\user\\AppData\\Local\\Programs\\Python\\Python311\\Lib\\site-packages\\ultralytics\\engine\\validator.py\", line 195, in __call__\n",
      "    stats = self.get_stats()\n",
      "            ^^^^^^^^^^^^^^^^\n",
      "  File \"C:\\Users\\user\\AppData\\Local\\Programs\\Python\\Python311\\Lib\\site-packages\\ultralytics\\models\\yolo\\detect\\val.py\", line 168, in get_stats\n",
      "    stats = {k: torch.cat(v, 0).cpu().numpy() for k, v in self.stats.items()}  # to numpy\n",
      "            ^^^^^^^^^^^^^^^^^^^^^^^^^^^^^^^^^^^^^^^^^^^^^^^^^^^^^^^^^^^^^^^^^\n",
      "  File \"C:\\Users\\user\\AppData\\Local\\Programs\\Python\\Python311\\Lib\\site-packages\\ultralytics\\models\\yolo\\detect\\val.py\", line 168, in <dictcomp>\n",
      "    stats = {k: torch.cat(v, 0).cpu().numpy() for k, v in self.stats.items()}  # to numpy\n",
      "                ^^^^^^^^^^^^^^^\n",
      "RuntimeError: torch.cat(): expected a non-empty list of Tensors\n"
     ]
    },
    {
     "name": "stdout",
     "output_type": "stream",
     "text": [
      "New https://pypi.org/project/ultralytics/8.1.40 available 😃 Update with 'pip install -U ultralytics'\n",
      "Ultralytics YOLOv8.1.38 🚀 Python-3.11.2 torch-2.2.2+cpu CPU (AMD Ryzen 7 5700G with Radeon Graphics)\n",
      "\u001b[34m\u001b[1mengine\\trainer: \u001b[0mtask=detect, mode=train, model=yolov8n.pt, data=D:/Engineering/SEM6/PROJECTS/DeepLearning/FloW_IMG/config.yaml, epochs=100, time=None, patience=100, batch=16, imgsz=640, save=True, save_period=-1, cache=False, device=None, workers=8, project=None, name=train14, exist_ok=False, pretrained=True, optimizer=auto, verbose=True, seed=0, deterministic=True, single_cls=False, rect=False, cos_lr=False, close_mosaic=10, resume=False, amp=True, fraction=1.0, profile=False, freeze=None, multi_scale=False, overlap_mask=True, mask_ratio=4, dropout=0.0, val=True, split=val, save_json=False, save_hybrid=False, conf=None, iou=0.7, max_det=300, half=False, dnn=False, plots=True, source=None, vid_stride=1, stream_buffer=False, visualize=False, augment=False, agnostic_nms=False, classes=None, retina_masks=False, embed=None, show=False, save_frames=False, save_txt=False, save_conf=False, save_crop=False, show_labels=True, show_conf=True, show_boxes=True, line_width=None, format=torchscript, keras=False, optimize=False, int8=False, dynamic=False, simplify=False, opset=None, workspace=4, nms=False, lr0=0.01, lrf=0.01, momentum=0.937, weight_decay=0.0005, warmup_epochs=3.0, warmup_momentum=0.8, warmup_bias_lr=0.1, box=7.5, cls=0.5, dfl=1.5, pose=12.0, kobj=1.0, label_smoothing=0.0, nbs=64, hsv_h=0.015, hsv_s=0.7, hsv_v=0.4, degrees=0.0, translate=0.1, scale=0.5, shear=0.0, perspective=0.0, flipud=0.0, fliplr=0.5, bgr=0.0, mosaic=1.0, mixup=0.0, copy_paste=0.0, auto_augment=randaugment, erasing=0.4, crop_fraction=1.0, cfg=None, tracker=botsort.yaml, save_dir=runs\\detect\\train14\n",
      "Overriding model.yaml nc=80 with nc=1\n",
      "\n",
      "                   from  n    params  module                                       arguments                     \n",
      "  0                  -1  1       464  ultralytics.nn.modules.conv.Conv             [3, 16, 3, 2]                 \n",
      "  1                  -1  1      4672  ultralytics.nn.modules.conv.Conv             [16, 32, 3, 2]                \n",
      "  2                  -1  1      7360  ultralytics.nn.modules.block.C2f             [32, 32, 1, True]             \n",
      "  3                  -1  1     18560  ultralytics.nn.modules.conv.Conv             [32, 64, 3, 2]                \n",
      "  4                  -1  2     49664  ultralytics.nn.modules.block.C2f             [64, 64, 2, True]             \n",
      "  5                  -1  1     73984  ultralytics.nn.modules.conv.Conv             [64, 128, 3, 2]               \n",
      "  6                  -1  2    197632  ultralytics.nn.modules.block.C2f             [128, 128, 2, True]           \n",
      "  7                  -1  1    295424  ultralytics.nn.modules.conv.Conv             [128, 256, 3, 2]              \n",
      "  8                  -1  1    460288  ultralytics.nn.modules.block.C2f             [256, 256, 1, True]           \n",
      "  9                  -1  1    164608  ultralytics.nn.modules.block.SPPF            [256, 256, 5]                 \n",
      " 10                  -1  1         0  torch.nn.modules.upsampling.Upsample         [None, 2, 'nearest']          \n",
      " 11             [-1, 6]  1         0  ultralytics.nn.modules.conv.Concat           [1]                           \n",
      " 12                  -1  1    148224  ultralytics.nn.modules.block.C2f             [384, 128, 1]                 \n",
      " 13                  -1  1         0  torch.nn.modules.upsampling.Upsample         [None, 2, 'nearest']          \n",
      " 14             [-1, 4]  1         0  ultralytics.nn.modules.conv.Concat           [1]                           \n",
      " 15                  -1  1     37248  ultralytics.nn.modules.block.C2f             [192, 64, 1]                  \n",
      " 16                  -1  1     36992  ultralytics.nn.modules.conv.Conv             [64, 64, 3, 2]                \n",
      " 17            [-1, 12]  1         0  ultralytics.nn.modules.conv.Concat           [1]                           \n",
      " 18                  -1  1    123648  ultralytics.nn.modules.block.C2f             [192, 128, 1]                 \n",
      " 19                  -1  1    147712  ultralytics.nn.modules.conv.Conv             [128, 128, 3, 2]              \n",
      " 20             [-1, 9]  1         0  ultralytics.nn.modules.conv.Concat           [1]                           \n",
      " 21                  -1  1    493056  ultralytics.nn.modules.block.C2f             [384, 256, 1]                 \n",
      " 22        [15, 18, 21]  1    751507  ultralytics.nn.modules.head.Detect           [1, [64, 128, 256]]           \n",
      "Model summary: 225 layers, 3011043 parameters, 3011027 gradients, 8.2 GFLOPs\n",
      "\n",
      "Transferred 319/355 items from pretrained weights\n",
      "\u001b[34m\u001b[1mTensorBoard: \u001b[0mStart with 'tensorboard --logdir runs\\detect\\train14', view at http://localhost:6006/\n",
      "Freezing layer 'model.22.dfl.conv.weight'\n",
      "WARNING ⚠️ No labels found in D:\\Engineering\\SEM6\\PROJECTS\\DeepLearning\\FloW_IMG\\training\\labels.cache, training may not work correctly. See https://docs.ultralytics.com/datasets/detect for dataset formatting guidance.\n",
      "\u001b[34m\u001b[1malbumentations: \u001b[0mBlur(p=0.01, blur_limit=(3, 7)), MedianBlur(p=0.01, blur_limit=(3, 7)), ToGray(p=0.01), CLAHE(p=0.01, clip_limit=(1, 4.0), tile_grid_size=(8, 8))\n",
      "WARNING ⚠️ No labels found in D:\\Engineering\\SEM6\\PROJECTS\\DeepLearning\\FloW_IMG\\test\\labels.cache, training may not work correctly. See https://docs.ultralytics.com/datasets/detect for dataset formatting guidance.\n",
      "Plotting labels to runs\\detect\\train14\\labels.jpg... \n",
      "zero-size array to reduction operation maximum which has no identity\n",
      "\u001b[34m\u001b[1moptimizer:\u001b[0m 'optimizer=auto' found, ignoring 'lr0=0.01' and 'momentum=0.937' and determining best 'optimizer', 'lr0' and 'momentum' automatically... \n",
      "\u001b[34m\u001b[1moptimizer:\u001b[0m AdamW(lr=0.002, momentum=0.9) with parameter groups 57 weight(decay=0.0), 64 weight(decay=0.0005), 63 bias(decay=0.0)\n",
      "\u001b[34m\u001b[1mTensorBoard: \u001b[0mmodel graph visualization added ✅\n",
      "Image sizes 640 train, 640 val\n",
      "Using 0 dataloader workers\n",
      "Logging results to \u001b[1mruns\\detect\\train14\u001b[0m\n",
      "Starting training for 100 epochs...\n",
      "\n",
      "      Epoch    GPU_mem   box_loss   cls_loss   dfl_loss  Instances       Size\n",
      "                   all        800          0          0          0          0          0\n",
      "WARNING ⚠️ no labels found in detect set, can not compute metrics without labels\n",
      "\n",
      "      Epoch    GPU_mem   box_loss   cls_loss   dfl_loss  Instances       Size\n",
      "                   all        800          0          0          0          0          0\n",
      "WARNING ⚠️ no labels found in detect set, can not compute metrics without labels\n",
      "\n",
      "      Epoch    GPU_mem   box_loss   cls_loss   dfl_loss  Instances       Size\n",
      "                   all        800          0          0          0          0          0\n",
      "WARNING ⚠️ no labels found in detect set, can not compute metrics without labels\n",
      "\n",
      "      Epoch    GPU_mem   box_loss   cls_loss   dfl_loss  Instances       Size\n",
      "                   all        800          0          0          0          0          0\n",
      "WARNING ⚠️ no labels found in detect set, can not compute metrics without labels\n",
      "\n",
      "      Epoch    GPU_mem   box_loss   cls_loss   dfl_loss  Instances       Size\n"
     ]
    },
    {
     "name": "stderr",
     "output_type": "stream",
     "text": [
      "\n",
      "\u001b[34m\u001b[1mtrain: \u001b[0mScanning D:\\Engineering\\SEM6\\PROJECTS\\DeepLearning\\FloW_IMG\\training\\labels.cache... 0 images, 1200 backgrounds, 0 corrupt: 100%|██████████| 1200/1200 [00:00<?, ?it/s]\n",
      "\u001b[34m\u001b[1mtrain: \u001b[0mScanning D:\\Engineering\\SEM6\\PROJECTS\\DeepLearning\\FloW_IMG\\training\\labels.cache... 0 images, 1200 backgrounds, 0 corrupt: 100%|██████████| 1200/1200 [00:00<?, ?it/s]\n",
      "\n",
      "\u001b[34m\u001b[1mval: \u001b[0mScanning D:\\Engineering\\SEM6\\PROJECTS\\DeepLearning\\FloW_IMG\\test\\labels.cache... 0 images, 800 backgrounds, 0 corrupt: 100%|██████████| 800/800 [00:00<?, ?it/s]\n",
      "\u001b[34m\u001b[1mval: \u001b[0mScanning D:\\Engineering\\SEM6\\PROJECTS\\DeepLearning\\FloW_IMG\\test\\labels.cache... 0 images, 800 backgrounds, 0 corrupt: 100%|██████████| 800/800 [00:00<?, ?it/s]\n",
      "\n",
      "  0%|          | 0/75 [00:00<?, ?it/s]\n",
      "      1/100         0G          0      120.6          0          0        640:   0%|          | 0/75 [00:05<?, ?it/s]\n",
      "      1/100         0G          0      120.6          0          0        640:   1%|▏         | 1/75 [00:05<07:06,  5.77s/it]\n",
      "      1/100         0G          0      120.7          0          0        640:   1%|▏         | 1/75 [00:11<07:06,  5.77s/it]\n",
      "      1/100         0G          0      120.7          0          0        640:   3%|▎         | 2/75 [00:11<07:10,  5.89s/it]\n",
      "      1/100         0G          0      120.6          0          0        640:   3%|▎         | 2/75 [00:17<07:10,  5.89s/it]\n",
      "      1/100         0G          0      120.6          0          0        640:   4%|▍         | 3/75 [00:17<07:01,  5.86s/it]\n",
      "      1/100         0G          0      120.4          0          0        640:   4%|▍         | 3/75 [00:23<07:01,  5.86s/it]\n",
      "      1/100         0G          0      120.4          0          0        640:   5%|▌         | 4/75 [00:23<06:52,  5.81s/it]\n",
      "      1/100         0G          0      120.2          0          0        640:   5%|▌         | 4/75 [00:29<06:52,  5.81s/it]\n",
      "      1/100         0G          0      120.2          0          0        640:   7%|▋         | 5/75 [00:29<06:49,  5.85s/it]\n",
      "      1/100         0G          0      119.9          0          0        640:   7%|▋         | 5/75 [00:34<06:49,  5.85s/it]\n",
      "      1/100         0G          0      119.9          0          0        640:   8%|▊         | 6/75 [00:34<06:41,  5.82s/it]\n",
      "      1/100         0G          0      119.7          0          0        640:   8%|▊         | 6/75 [00:40<06:41,  5.82s/it]\n",
      "      1/100         0G          0      119.7          0          0        640:   9%|▉         | 7/75 [00:40<06:38,  5.86s/it]\n",
      "      1/100         0G          0      119.5          0          0        640:   9%|▉         | 7/75 [00:46<06:38,  5.86s/it]\n",
      "      1/100         0G          0      119.5          0          0        640:  11%|█         | 8/75 [00:46<06:28,  5.80s/it]\n",
      "      1/100         0G          0      119.2          0          0        640:  11%|█         | 8/75 [00:52<06:28,  5.80s/it]\n",
      "      1/100         0G          0      119.2          0          0        640:  12%|█▏        | 9/75 [00:52<06:22,  5.80s/it]\n",
      "      1/100         0G          0      118.9          0          0        640:  12%|█▏        | 9/75 [00:58<06:22,  5.80s/it]\n",
      "      1/100         0G          0      118.9          0          0        640:  13%|█▎        | 10/75 [00:58<06:17,  5.81s/it]\n",
      "      1/100         0G          0      118.6          0          0        640:  13%|█▎        | 10/75 [01:03<06:17,  5.81s/it]\n",
      "      1/100         0G          0      118.6          0          0        640:  15%|█▍        | 11/75 [01:03<06:08,  5.76s/it]\n",
      "      1/100         0G          0      118.4          0          0        640:  15%|█▍        | 11/75 [01:09<06:08,  5.76s/it]\n",
      "      1/100         0G          0      118.4          0          0        640:  16%|█▌        | 12/75 [01:09<05:56,  5.66s/it]\n",
      "      1/100         0G          0      118.1          0          0        640:  16%|█▌        | 12/75 [01:14<05:56,  5.66s/it]\n",
      "      1/100         0G          0      118.1          0          0        640:  17%|█▋        | 13/75 [01:14<05:42,  5.52s/it]\n",
      "      1/100         0G          0      117.8          0          0        640:  17%|█▋        | 13/75 [01:19<05:42,  5.52s/it]\n",
      "      1/100         0G          0      117.8          0          0        640:  19%|█▊        | 14/75 [01:19<05:33,  5.46s/it]\n",
      "      1/100         0G          0      117.4          0          0        640:  19%|█▊        | 14/75 [01:25<05:33,  5.46s/it]\n",
      "      1/100         0G          0      117.4          0          0        640:  20%|██        | 15/75 [01:25<05:26,  5.44s/it]\n",
      "      1/100         0G          0        117          0          0        640:  20%|██        | 15/75 [01:30<05:26,  5.44s/it]\n",
      "      1/100         0G          0        117          0          0        640:  21%|██▏       | 16/75 [01:30<05:25,  5.51s/it]\n",
      "      1/100         0G          0      116.6          0          0        640:  21%|██▏       | 16/75 [01:36<05:25,  5.51s/it]\n",
      "      1/100         0G          0      116.6          0          0        640:  23%|██▎       | 17/75 [01:36<05:25,  5.60s/it]\n",
      "      1/100         0G          0      116.1          0          0        640:  23%|██▎       | 17/75 [01:42<05:25,  5.60s/it]\n",
      "      1/100         0G          0      116.1          0          0        640:  24%|██▍       | 18/75 [01:42<05:20,  5.62s/it]\n",
      "      1/100         0G          0      115.6          0          0        640:  24%|██▍       | 18/75 [01:48<05:20,  5.62s/it]\n",
      "      1/100         0G          0      115.6          0          0        640:  25%|██▌       | 19/75 [01:48<05:15,  5.63s/it]\n",
      "      1/100         0G          0      115.1          0          0        640:  25%|██▌       | 19/75 [01:53<05:15,  5.63s/it]\n",
      "      1/100         0G          0      115.1          0          0        640:  27%|██▋       | 20/75 [01:53<05:11,  5.66s/it]\n",
      "      1/100         0G          0      114.6          0          0        640:  27%|██▋       | 20/75 [01:59<05:11,  5.66s/it]\n",
      "      1/100         0G          0      114.6          0          0        640:  28%|██▊       | 21/75 [01:59<05:06,  5.68s/it]\n",
      "      1/100         0G          0        114          0          0        640:  28%|██▊       | 21/75 [02:05<05:06,  5.68s/it]\n",
      "      1/100         0G          0        114          0          0        640:  29%|██▉       | 22/75 [02:05<05:00,  5.67s/it]\n",
      "      1/100         0G          0      113.4          0          0        640:  29%|██▉       | 22/75 [02:10<05:00,  5.67s/it]\n",
      "      1/100         0G          0      113.4          0          0        640:  31%|███       | 23/75 [02:10<04:54,  5.67s/it]\n",
      "      1/100         0G          0      112.7          0          0        640:  31%|███       | 23/75 [02:16<04:54,  5.67s/it]\n",
      "      1/100         0G          0      112.7          0          0        640:  32%|███▏      | 24/75 [02:16<04:48,  5.66s/it]\n",
      "      1/100         0G          0        112          0          0        640:  32%|███▏      | 24/75 [02:22<04:48,  5.66s/it]\n",
      "      1/100         0G          0        112          0          0        640:  33%|███▎      | 25/75 [02:22<04:43,  5.66s/it]\n",
      "      1/100         0G          0      111.5          0          0        640:  33%|███▎      | 25/75 [02:27<04:43,  5.66s/it]\n",
      "      1/100         0G          0      111.5          0          0        640:  35%|███▍      | 26/75 [02:27<04:39,  5.70s/it]\n",
      "      1/100         0G          0      110.9          0          0        640:  35%|███▍      | 26/75 [02:33<04:39,  5.70s/it]\n",
      "      1/100         0G          0      110.9          0          0        640:  36%|███▌      | 27/75 [02:33<04:33,  5.70s/it]\n",
      "      1/100         0G          0      110.2          0          0        640:  36%|███▌      | 27/75 [02:39<04:33,  5.70s/it]\n",
      "      1/100         0G          0      110.2          0          0        640:  37%|███▋      | 28/75 [02:39<04:26,  5.67s/it]\n",
      "      1/100         0G          0      109.5          0          0        640:  37%|███▋      | 28/75 [02:44<04:26,  5.67s/it]\n",
      "      1/100         0G          0      109.5          0          0        640:  39%|███▊      | 29/75 [02:44<04:21,  5.68s/it]\n",
      "      1/100         0G          0      108.9          0          0        640:  39%|███▊      | 29/75 [02:50<04:21,  5.68s/it]\n",
      "      1/100         0G          0      108.9          0          0        640:  40%|████      | 30/75 [02:50<04:15,  5.69s/it]\n",
      "      1/100         0G          0      108.3          0          0        640:  40%|████      | 30/75 [02:56<04:15,  5.69s/it]\n",
      "      1/100         0G          0      108.3          0          0        640:  41%|████▏     | 31/75 [02:56<04:10,  5.69s/it]\n",
      "      1/100         0G          0      107.7          0          0        640:  41%|████▏     | 31/75 [03:01<04:10,  5.69s/it]\n",
      "      1/100         0G          0      107.7          0          0        640:  43%|████▎     | 32/75 [03:01<04:04,  5.68s/it]\n",
      "      1/100         0G          0      107.1          0          0        640:  43%|████▎     | 32/75 [03:07<04:04,  5.68s/it]\n",
      "      1/100         0G          0      107.1          0          0        640:  44%|████▍     | 33/75 [03:07<03:58,  5.68s/it]\n",
      "      1/100         0G          0      106.6          0          0        640:  44%|████▍     | 33/75 [03:13<03:58,  5.68s/it]\n",
      "      1/100         0G          0      106.6          0          0        640:  45%|████▌     | 34/75 [03:13<03:55,  5.74s/it]\n",
      "      1/100         0G          0      105.9          0          0        640:  45%|████▌     | 34/75 [03:19<03:55,  5.74s/it]\n",
      "      1/100         0G          0      105.9          0          0        640:  47%|████▋     | 35/75 [03:19<03:49,  5.73s/it]\n",
      "      1/100         0G          0      105.3          0          0        640:  47%|████▋     | 35/75 [03:24<03:49,  5.73s/it]\n",
      "      1/100         0G          0      105.3          0          0        640:  48%|████▊     | 36/75 [03:24<03:42,  5.71s/it]\n",
      "      1/100         0G          0      104.7          0          0        640:  48%|████▊     | 36/75 [03:30<03:42,  5.71s/it]\n",
      "      1/100         0G          0      104.7          0          0        640:  49%|████▉     | 37/75 [03:30<03:36,  5.70s/it]\n",
      "      1/100         0G          0      104.1          0          0        640:  49%|████▉     | 37/75 [03:36<03:36,  5.70s/it]\n",
      "      1/100         0G          0      104.1          0          0        640:  51%|█████     | 38/75 [03:36<03:30,  5.69s/it]\n",
      "      1/100         0G          0      103.5          0          0        640:  51%|█████     | 38/75 [03:41<03:30,  5.69s/it]\n",
      "      1/100         0G          0      103.5          0          0        640:  52%|█████▏    | 39/75 [03:41<03:24,  5.68s/it]\n",
      "      1/100         0G          0      102.9          0          0        640:  52%|█████▏    | 39/75 [03:47<03:24,  5.68s/it]\n",
      "      1/100         0G          0      102.9          0          0        640:  53%|█████▎    | 40/75 [03:47<03:19,  5.71s/it]\n",
      "      1/100         0G          0      102.4          0          0        640:  53%|█████▎    | 40/75 [03:53<03:19,  5.71s/it]\n",
      "      1/100         0G          0      102.4          0          0        640:  55%|█████▍    | 41/75 [03:53<03:13,  5.70s/it]\n",
      "      1/100         0G          0      101.9          0          0        640:  55%|█████▍    | 41/75 [03:59<03:13,  5.70s/it]\n",
      "      1/100         0G          0      101.9          0          0        640:  56%|█████▌    | 42/75 [03:59<03:09,  5.74s/it]\n",
      "      1/100         0G          0      101.3          0          0        640:  56%|█████▌    | 42/75 [04:04<03:09,  5.74s/it]\n",
      "      1/100         0G          0      101.3          0          0        640:  57%|█████▋    | 43/75 [04:04<03:03,  5.74s/it]\n",
      "      1/100         0G          0      100.8          0          0        640:  57%|█████▋    | 43/75 [04:10<03:03,  5.74s/it]\n",
      "      1/100         0G          0      100.8          0          0        640:  59%|█████▊    | 44/75 [04:10<02:58,  5.77s/it]\n",
      "      1/100         0G          0      100.5          0          0        640:  59%|█████▊    | 44/75 [04:16<02:58,  5.77s/it]\n",
      "      1/100         0G          0      100.5          0          0        640:  60%|██████    | 45/75 [04:16<02:53,  5.78s/it]\n",
      "      1/100         0G          0      100.2          0          0        640:  60%|██████    | 45/75 [04:22<02:53,  5.78s/it]\n",
      "      1/100         0G          0      100.2          0          0        640:  61%|██████▏   | 46/75 [04:22<02:47,  5.79s/it]\n",
      "      1/100         0G          0      99.74          0          0        640:  61%|██████▏   | 46/75 [04:28<02:47,  5.79s/it]\n",
      "      1/100         0G          0      99.74          0          0        640:  63%|██████▎   | 47/75 [04:28<02:41,  5.77s/it]\n",
      "      1/100         0G          0      99.39          0          0        640:  63%|██████▎   | 47/75 [04:33<02:41,  5.77s/it]\n",
      "      1/100         0G          0      99.39          0          0        640:  64%|██████▍   | 48/75 [04:33<02:36,  5.78s/it]\n",
      "      1/100         0G          0      98.95          0          0        640:  64%|██████▍   | 48/75 [04:39<02:36,  5.78s/it]\n",
      "      1/100         0G          0      98.95          0          0        640:  65%|██████▌   | 49/75 [04:39<02:29,  5.73s/it]\n",
      "      1/100         0G          0       98.5          0          0        640:  65%|██████▌   | 49/75 [04:45<02:29,  5.73s/it]\n",
      "      1/100         0G          0       98.5          0          0        640:  67%|██████▋   | 50/75 [04:45<02:21,  5.66s/it]\n",
      "      1/100         0G          0      98.05          0          0        640:  67%|██████▋   | 50/75 [04:50<02:21,  5.66s/it]\n",
      "      1/100         0G          0      98.05          0          0        640:  68%|██████▊   | 51/75 [04:50<02:16,  5.67s/it]\n",
      "      1/100         0G          0      97.62          0          0        640:  68%|██████▊   | 51/75 [04:56<02:16,  5.67s/it]\n",
      "      1/100         0G          0      97.62          0          0        640:  69%|██████▉   | 52/75 [04:56<02:10,  5.66s/it]\n",
      "      1/100         0G          0      97.37          0          0        640:  69%|██████▉   | 52/75 [05:01<02:10,  5.66s/it]\n",
      "      1/100         0G          0      97.37          0          0        640:  71%|███████   | 53/75 [05:01<02:04,  5.65s/it]\n",
      "      1/100         0G          0      96.96          0          0        640:  71%|███████   | 53/75 [05:07<02:04,  5.65s/it]\n",
      "      1/100         0G          0      96.96          0          0        640:  72%|███████▏  | 54/75 [05:07<01:57,  5.60s/it]\n",
      "      1/100         0G          0      96.54          0          0        640:  72%|███████▏  | 54/75 [05:12<01:57,  5.60s/it]\n",
      "      1/100         0G          0      96.54          0          0        640:  73%|███████▎  | 55/75 [05:12<01:51,  5.55s/it]\n",
      "      1/100         0G          0      96.14          0          0        640:  73%|███████▎  | 55/75 [05:18<01:51,  5.55s/it]\n",
      "      1/100         0G          0      96.14          0          0        640:  75%|███████▍  | 56/75 [05:18<01:46,  5.61s/it]\n",
      "      1/100         0G          0      95.74          0          0        640:  75%|███████▍  | 56/75 [05:24<01:46,  5.61s/it]\n",
      "      1/100         0G          0      95.74          0          0        640:  76%|███████▌  | 57/75 [05:24<01:41,  5.62s/it]\n",
      "      1/100         0G          0      95.43          0          0        640:  76%|███████▌  | 57/75 [05:30<01:41,  5.62s/it]\n",
      "      1/100         0G          0      95.43          0          0        640:  77%|███████▋  | 58/75 [05:30<01:36,  5.70s/it]\n",
      "      1/100         0G          0      95.05          0          0        640:  77%|███████▋  | 58/75 [05:35<01:36,  5.70s/it]\n",
      "      1/100         0G          0      95.05          0          0        640:  79%|███████▊  | 59/75 [05:35<01:30,  5.65s/it]\n",
      "      1/100         0G          0      94.69          0          0        640:  79%|███████▊  | 59/75 [05:41<01:30,  5.65s/it]\n",
      "      1/100         0G          0      94.69          0          0        640:  80%|████████  | 60/75 [05:41<01:25,  5.68s/it]\n",
      "      1/100         0G          0      94.35          0          0        640:  80%|████████  | 60/75 [05:47<01:25,  5.68s/it]\n",
      "      1/100         0G          0      94.35          0          0        640:  81%|████████▏ | 61/75 [05:47<01:18,  5.64s/it]\n",
      "      1/100         0G          0         94          0          0        640:  81%|████████▏ | 61/75 [05:52<01:18,  5.64s/it]\n",
      "      1/100         0G          0         94          0          0        640:  83%|████████▎ | 62/75 [05:52<01:13,  5.65s/it]\n",
      "      1/100         0G          0      93.67          0          0        640:  83%|████████▎ | 62/75 [05:58<01:13,  5.65s/it]\n",
      "      1/100         0G          0      93.67          0          0        640:  84%|████████▍ | 63/75 [05:58<01:07,  5.65s/it]\n",
      "      1/100         0G          0      93.34          0          0        640:  84%|████████▍ | 63/75 [06:04<01:07,  5.65s/it]\n",
      "      1/100         0G          0      93.34          0          0        640:  85%|████████▌ | 64/75 [06:04<01:02,  5.67s/it]\n",
      "      1/100         0G          0      93.01          0          0        640:  85%|████████▌ | 64/75 [06:09<01:02,  5.67s/it]\n",
      "      1/100         0G          0      93.01          0          0        640:  87%|████████▋ | 65/75 [06:09<00:56,  5.67s/it]\n",
      "      1/100         0G          0      92.69          0          0        640:  87%|████████▋ | 65/75 [06:15<00:56,  5.67s/it]\n",
      "      1/100         0G          0      92.69          0          0        640:  88%|████████▊ | 66/75 [06:15<00:50,  5.62s/it]\n",
      "      1/100         0G          0      92.36          0          0        640:  88%|████████▊ | 66/75 [06:20<00:50,  5.62s/it]\n",
      "      1/100         0G          0      92.36          0          0        640:  89%|████████▉ | 67/75 [06:20<00:44,  5.53s/it]\n",
      "      1/100         0G          0      92.04          0          0        640:  89%|████████▉ | 67/75 [06:26<00:44,  5.53s/it]\n",
      "      1/100         0G          0      92.04          0          0        640:  91%|█████████ | 68/75 [06:26<00:38,  5.51s/it]\n",
      "      1/100         0G          0      91.74          0          0        640:  91%|█████████ | 68/75 [06:31<00:38,  5.51s/it]\n",
      "      1/100         0G          0      91.74          0          0        640:  92%|█████████▏| 69/75 [06:31<00:32,  5.45s/it]\n",
      "      1/100         0G          0      91.44          0          0        640:  92%|█████████▏| 69/75 [06:36<00:32,  5.45s/it]\n",
      "      1/100         0G          0      91.44          0          0        640:  93%|█████████▎| 70/75 [06:36<00:27,  5.42s/it]\n",
      "      1/100         0G          0      91.13          0          0        640:  93%|█████████▎| 70/75 [06:41<00:27,  5.42s/it]\n",
      "      1/100         0G          0      91.13          0          0        640:  95%|█████████▍| 71/75 [06:41<00:21,  5.37s/it]\n",
      "      1/100         0G          0      90.83          0          0        640:  95%|█████████▍| 71/75 [06:47<00:21,  5.37s/it]\n",
      "      1/100         0G          0      90.83          0          0        640:  96%|█████████▌| 72/75 [06:47<00:16,  5.40s/it]\n",
      "      1/100         0G          0      90.54          0          0        640:  96%|█████████▌| 72/75 [06:52<00:16,  5.40s/it]\n",
      "      1/100         0G          0      90.54          0          0        640:  97%|█████████▋| 73/75 [06:52<00:10,  5.35s/it]\n",
      "      1/100         0G          0      90.24          0          0        640:  97%|█████████▋| 73/75 [06:58<00:10,  5.35s/it]\n",
      "      1/100         0G          0      90.24          0          0        640:  99%|█████████▊| 74/75 [06:58<00:05,  5.44s/it]\n",
      "      1/100         0G          0      89.94          0          0        640:  99%|█████████▊| 74/75 [07:03<00:05,  5.44s/it]\n",
      "      1/100         0G          0      89.94          0          0        640: 100%|██████████| 75/75 [07:03<00:00,  5.50s/it]\n",
      "      1/100         0G          0      89.94          0          0        640: 100%|██████████| 75/75 [07:03<00:00,  5.65s/it]\n",
      "\n",
      "                 Class     Images  Instances      Box(P          R      mAP50  mAP50-95):   0%|          | 0/25 [00:00<?, ?it/s]\n",
      "                 Class     Images  Instances      Box(P          R      mAP50  mAP50-95):   4%|▍         | 1/25 [00:02<01:06,  2.77s/it]\n",
      "                 Class     Images  Instances      Box(P          R      mAP50  mAP50-95):   8%|▊         | 2/25 [00:05<01:07,  2.95s/it]\n",
      "                 Class     Images  Instances      Box(P          R      mAP50  mAP50-95):  12%|█▏        | 3/25 [00:08<01:05,  2.99s/it]\n",
      "                 Class     Images  Instances      Box(P          R      mAP50  mAP50-95):  16%|█▌        | 4/25 [00:11<01:02,  3.00s/it]\n",
      "                 Class     Images  Instances      Box(P          R      mAP50  mAP50-95):  20%|██        | 5/25 [00:15<01:01,  3.08s/it]\n",
      "                 Class     Images  Instances      Box(P          R      mAP50  mAP50-95):  24%|██▍       | 6/25 [00:17<00:56,  2.99s/it]\n",
      "                 Class     Images  Instances      Box(P          R      mAP50  mAP50-95):  28%|██▊       | 7/25 [00:21<00:54,  3.03s/it]\n",
      "                 Class     Images  Instances      Box(P          R      mAP50  mAP50-95):  32%|███▏      | 8/25 [00:24<00:53,  3.13s/it]\n",
      "                 Class     Images  Instances      Box(P          R      mAP50  mAP50-95):  36%|███▌      | 9/25 [00:27<00:48,  3.04s/it]\n",
      "                 Class     Images  Instances      Box(P          R      mAP50  mAP50-95):  40%|████      | 10/25 [00:30<00:45,  3.04s/it]\n",
      "                 Class     Images  Instances      Box(P          R      mAP50  mAP50-95):  44%|████▍     | 11/25 [00:33<00:41,  2.96s/it]\n",
      "                 Class     Images  Instances      Box(P          R      mAP50  mAP50-95):  48%|████▊     | 12/25 [00:36<00:41,  3.20s/it]\n",
      "                 Class     Images  Instances      Box(P          R      mAP50  mAP50-95):  52%|█████▏    | 13/25 [00:40<00:38,  3.23s/it]\n",
      "                 Class     Images  Instances      Box(P          R      mAP50  mAP50-95):  56%|█████▌    | 14/25 [00:43<00:36,  3.31s/it]\n",
      "                 Class     Images  Instances      Box(P          R      mAP50  mAP50-95):  60%|██████    | 15/25 [00:47<00:34,  3.43s/it]\n",
      "                 Class     Images  Instances      Box(P          R      mAP50  mAP50-95):  64%|██████▍   | 16/25 [00:50<00:31,  3.48s/it]\n",
      "                 Class     Images  Instances      Box(P          R      mAP50  mAP50-95):  68%|██████▊   | 17/25 [00:54<00:27,  3.45s/it]\n",
      "                 Class     Images  Instances      Box(P          R      mAP50  mAP50-95):  72%|███████▏  | 18/25 [00:57<00:23,  3.41s/it]\n",
      "                 Class     Images  Instances      Box(P          R      mAP50  mAP50-95):  76%|███████▌  | 19/25 [01:01<00:20,  3.48s/it]\n",
      "                 Class     Images  Instances      Box(P          R      mAP50  mAP50-95):  80%|████████  | 20/25 [01:04<00:17,  3.51s/it]\n",
      "                 Class     Images  Instances      Box(P          R      mAP50  mAP50-95):  84%|████████▍ | 21/25 [01:08<00:14,  3.54s/it]\n",
      "                 Class     Images  Instances      Box(P          R      mAP50  mAP50-95):  88%|████████▊ | 22/25 [01:11<00:10,  3.51s/it]\n",
      "                 Class     Images  Instances      Box(P          R      mAP50  mAP50-95):  92%|█████████▏| 23/25 [01:15<00:07,  3.53s/it]\n",
      "                 Class     Images  Instances      Box(P          R      mAP50  mAP50-95):  96%|█████████▌| 24/25 [01:18<00:03,  3.43s/it]\n",
      "                 Class     Images  Instances      Box(P          R      mAP50  mAP50-95): 100%|██████████| 25/25 [01:22<00:00,  3.52s/it]\n",
      "                 Class     Images  Instances      Box(P          R      mAP50  mAP50-95): 100%|██████████| 25/25 [01:22<00:00,  3.30s/it]\n",
      "\n",
      "  0%|          | 0/75 [00:00<?, ?it/s]\n",
      "      2/100         0G          0       68.2          0          0        640:   0%|          | 0/75 [00:08<?, ?it/s]\n",
      "      2/100         0G          0       68.2          0          0        640:   1%|▏         | 1/75 [00:08<10:00,  8.12s/it]\n",
      "      2/100         0G          0      67.76          0          0        640:   1%|▏         | 1/75 [00:15<10:00,  8.12s/it]\n",
      "      2/100         0G          0      67.76          0          0        640:   3%|▎         | 2/75 [00:15<09:39,  7.94s/it]\n",
      "      2/100         0G          0      67.58          0          0        640:   3%|▎         | 2/75 [00:24<09:39,  7.94s/it]\n",
      "      2/100         0G          0      67.58          0          0        640:   4%|▍         | 3/75 [00:24<09:36,  8.01s/it]\n",
      "      2/100         0G          0      67.21          0          0        640:   4%|▍         | 3/75 [00:31<09:36,  8.01s/it]\n",
      "      2/100         0G          0      67.21          0          0        640:   5%|▌         | 4/75 [00:31<09:23,  7.94s/it]\n",
      "      2/100         0G          0      67.06          0          0        640:   5%|▌         | 4/75 [00:39<09:23,  7.94s/it]\n",
      "      2/100         0G          0      67.06          0          0        640:   7%|▋         | 5/75 [00:39<09:16,  7.95s/it]\n",
      "      2/100         0G          0      66.76          0          0        640:   7%|▋         | 5/75 [00:47<09:16,  7.95s/it]\n",
      "      2/100         0G          0      66.76          0          0        640:   8%|▊         | 6/75 [00:47<08:59,  7.82s/it]\n",
      "      2/100         0G          0      67.28          0          0        640:   8%|▊         | 6/75 [00:55<08:59,  7.82s/it]\n",
      "      2/100         0G          0      67.28          0          0        640:   9%|▉         | 7/75 [00:55<08:52,  7.83s/it]\n",
      "      2/100         0G          0      67.02          0          0        640:   9%|▉         | 7/75 [01:02<08:52,  7.83s/it]\n",
      "      2/100         0G          0      67.02          0          0        640:  11%|█         | 8/75 [01:02<08:31,  7.64s/it]\n",
      "      2/100         0G          0      66.84          0          0        640:  11%|█         | 8/75 [01:10<08:31,  7.64s/it]\n",
      "      2/100         0G          0      66.84          0          0        640:  12%|█▏        | 9/75 [01:10<08:25,  7.66s/it]\n",
      "      2/100         0G          0      66.81          0          0        640:  12%|█▏        | 9/75 [01:17<08:25,  7.66s/it]\n",
      "      2/100         0G          0      66.81          0          0        640:  13%|█▎        | 10/75 [01:17<08:11,  7.57s/it]\n",
      "      2/100         0G          0      66.59          0          0        640:  13%|█▎        | 10/75 [01:25<08:11,  7.57s/it]\n",
      "      2/100         0G          0      66.59          0          0        640:  15%|█▍        | 11/75 [01:25<08:04,  7.57s/it]\n",
      "      2/100         0G          0      66.51          0          0        640:  15%|█▍        | 11/75 [01:32<08:04,  7.57s/it]\n",
      "      2/100         0G          0      66.51          0          0        640:  16%|█▌        | 12/75 [01:32<07:55,  7.55s/it]\n",
      "      2/100         0G          0       66.3          0          0        640:  16%|█▌        | 12/75 [01:40<07:55,  7.55s/it]\n",
      "      2/100         0G          0       66.3          0          0        640:  17%|█▋        | 13/75 [01:40<07:45,  7.51s/it]\n",
      "      2/100         0G          0      66.07          0          0        640:  17%|█▋        | 13/75 [01:47<07:45,  7.51s/it]\n",
      "      2/100         0G          0      66.07          0          0        640:  19%|█▊        | 14/75 [01:47<07:37,  7.50s/it]\n",
      "      2/100         0G          0         66          0          0        640:  19%|█▊        | 14/75 [01:55<07:37,  7.50s/it]\n",
      "      2/100         0G          0         66          0          0        640:  20%|██        | 15/75 [01:55<07:34,  7.57s/it]\n",
      "      2/100         0G          0      65.75          0          0        640:  20%|██        | 15/75 [02:02<07:34,  7.57s/it]\n",
      "      2/100         0G          0      65.75          0          0        640:  21%|██▏       | 16/75 [02:02<07:17,  7.41s/it]\n",
      "      2/100         0G          0      65.54          0          0        640:  21%|██▏       | 16/75 [02:10<07:17,  7.41s/it]\n",
      "      2/100         0G          0      65.54          0          0        640:  23%|██▎       | 17/75 [02:10<07:24,  7.66s/it]\n",
      "      2/100         0G          0      65.29          0          0        640:  23%|██▎       | 17/75 [02:17<07:24,  7.66s/it]\n",
      "      2/100         0G          0      65.29          0          0        640:  24%|██▍       | 18/75 [02:17<07:05,  7.47s/it]\n",
      "      2/100         0G          0      65.08          0          0        640:  24%|██▍       | 18/75 [02:25<07:05,  7.47s/it]\n",
      "      2/100         0G          0      65.08          0          0        640:  25%|██▌       | 19/75 [02:25<07:10,  7.69s/it]\n",
      "      2/100         0G          0      64.85          0          0        640:  25%|██▌       | 19/75 [02:32<07:10,  7.69s/it]\n",
      "      2/100         0G          0      64.85          0          0        640:  27%|██▋       | 20/75 [02:32<06:49,  7.44s/it]\n",
      "      2/100         0G          0      64.64          0          0        640:  27%|██▋       | 20/75 [02:40<06:49,  7.44s/it]\n",
      "      2/100         0G          0      64.64          0          0        640:  28%|██▊       | 21/75 [02:40<06:48,  7.57s/it]\n",
      "      2/100         0G          0      64.41          0          0        640:  28%|██▊       | 21/75 [02:47<06:48,  7.57s/it]\n",
      "      2/100         0G          0      64.41          0          0        640:  29%|██▉       | 22/75 [02:47<06:35,  7.46s/it]\n",
      "      2/100         0G          0       64.2          0          0        640:  29%|██▉       | 22/75 [02:55<06:35,  7.46s/it]\n",
      "      2/100         0G          0       64.2          0          0        640:  31%|███       | 23/75 [02:55<06:37,  7.65s/it]\n",
      "      2/100         0G          0      63.96          0          0        640:  31%|███       | 23/75 [03:03<06:37,  7.65s/it]\n",
      "      2/100         0G          0      63.96          0          0        640:  32%|███▏      | 24/75 [03:03<06:25,  7.55s/it]\n",
      "      2/100         0G          0      63.74          0          0        640:  32%|███▏      | 24/75 [03:10<06:25,  7.55s/it]\n",
      "      2/100         0G          0      63.74          0          0        640:  33%|███▎      | 25/75 [03:10<06:18,  7.56s/it]\n",
      "      2/100         0G          0      63.54          0          0        640:  33%|███▎      | 25/75 [03:17<06:18,  7.56s/it]\n",
      "      2/100         0G          0      63.54          0          0        640:  35%|███▍      | 26/75 [03:17<05:59,  7.35s/it]\n",
      "      2/100         0G          0      63.32          0          0        640:  35%|███▍      | 26/75 [03:25<05:59,  7.35s/it]\n",
      "      2/100         0G          0      63.32          0          0        640:  36%|███▌      | 27/75 [03:25<06:05,  7.61s/it]\n",
      "      2/100         0G          0      63.11          0          0        640:  36%|███▌      | 27/75 [03:33<06:05,  7.61s/it]\n",
      "      2/100         0G          0      63.11          0          0        640:  37%|███▋      | 28/75 [03:33<06:00,  7.66s/it]\n",
      "      2/100         0G          0       62.9          0          0        640:  37%|███▋      | 28/75 [03:41<06:00,  7.66s/it]\n",
      "      2/100         0G          0       62.9          0          0        640:  39%|███▊      | 29/75 [03:41<05:54,  7.70s/it]\n",
      "      2/100         0G          0      62.68          0          0        640:  39%|███▊      | 29/75 [03:49<05:54,  7.70s/it]\n",
      "      2/100         0G          0      62.68          0          0        640:  40%|████      | 30/75 [03:49<05:49,  7.76s/it]\n",
      "      2/100         0G          0      62.48          0          0        640:  40%|████      | 30/75 [03:57<05:49,  7.76s/it]\n",
      "      2/100         0G          0      62.48          0          0        640:  41%|████▏     | 31/75 [03:57<05:42,  7.78s/it]\n",
      "      2/100         0G          0      62.25          0          0        640:  41%|████▏     | 31/75 [04:04<05:42,  7.78s/it]\n",
      "      2/100         0G          0      62.25          0          0        640:  43%|████▎     | 32/75 [04:04<05:29,  7.67s/it]\n",
      "      2/100         0G          0      62.06          0          0        640:  43%|████▎     | 32/75 [04:12<05:29,  7.67s/it]\n",
      "      2/100         0G          0      62.06          0          0        640:  44%|████▍     | 33/75 [04:12<05:28,  7.81s/it]\n",
      "      2/100         0G          0      61.85          0          0        640:  44%|████▍     | 33/75 [04:20<05:28,  7.81s/it]\n",
      "      2/100         0G          0      61.85          0          0        640:  45%|████▌     | 34/75 [04:20<05:16,  7.71s/it]\n",
      "      2/100         0G          0      61.83          0          0        640:  45%|████▌     | 34/75 [04:28<05:16,  7.71s/it]\n",
      "      2/100         0G          0      61.83          0          0        640:  47%|████▋     | 35/75 [04:28<05:13,  7.84s/it]\n",
      "      2/100         0G          0      61.61          0          0        640:  47%|████▋     | 35/75 [04:35<05:13,  7.84s/it]\n",
      "      2/100         0G          0      61.61          0          0        640:  48%|████▊     | 36/75 [04:35<04:59,  7.68s/it]\n",
      "      2/100         0G          0       61.4          0          0        640:  48%|████▊     | 36/75 [04:44<04:59,  7.68s/it]\n",
      "      2/100         0G          0       61.4          0          0        640:  49%|████▉     | 37/75 [04:44<05:00,  7.91s/it]\n",
      "      2/100         0G          0      61.19          0          0        640:  49%|████▉     | 37/75 [04:51<05:00,  7.91s/it]\n",
      "      2/100         0G          0      61.19          0          0        640:  51%|█████     | 38/75 [04:51<04:47,  7.77s/it]\n",
      "      2/100         0G          0      60.99          0          0        640:  51%|█████     | 38/75 [04:59<04:47,  7.77s/it]\n",
      "      2/100         0G          0      60.99          0          0        640:  52%|█████▏    | 39/75 [04:59<04:39,  7.77s/it]\n",
      "      2/100         0G          0      60.79          0          0        640:  52%|█████▏    | 39/75 [05:07<04:39,  7.77s/it]\n",
      "      2/100         0G          0      60.79          0          0        640:  53%|█████▎    | 40/75 [05:07<04:35,  7.86s/it]\n",
      "      2/100         0G          0      60.58          0          0        640:  53%|█████▎    | 40/75 [05:14<04:35,  7.86s/it]\n",
      "      2/100         0G          0      60.58          0          0        640:  55%|█████▍    | 41/75 [05:14<04:17,  7.58s/it]\n",
      "      2/100         0G          0      60.37          0          0        640:  55%|█████▍    | 41/75 [05:21<04:17,  7.58s/it]\n",
      "      2/100         0G          0      60.37          0          0        640:  56%|█████▌    | 42/75 [05:21<04:09,  7.57s/it]\n",
      "      2/100         0G          0      60.17          0          0        640:  56%|█████▌    | 42/75 [05:29<04:09,  7.57s/it]\n",
      "      2/100         0G          0      60.17          0          0        640:  57%|█████▋    | 43/75 [05:29<04:07,  7.74s/it]\n",
      "      2/100         0G          0      59.97          0          0        640:  57%|█████▋    | 43/75 [05:37<04:07,  7.74s/it]\n",
      "      2/100         0G          0      59.97          0          0        640:  59%|█████▊    | 44/75 [05:37<03:59,  7.74s/it]\n",
      "      2/100         0G          0      59.77          0          0        640:  59%|█████▊    | 44/75 [05:45<03:59,  7.74s/it]\n",
      "      2/100         0G          0      59.77          0          0        640:  60%|██████    | 45/75 [05:45<03:53,  7.78s/it]\n",
      "      2/100         0G          0      59.57          0          0        640:  60%|██████    | 45/75 [05:53<03:53,  7.78s/it]\n",
      "      2/100         0G          0      59.57          0          0        640:  61%|██████▏   | 46/75 [05:53<03:44,  7.75s/it]\n",
      "      2/100         0G          0      59.37          0          0        640:  61%|██████▏   | 46/75 [06:00<03:44,  7.75s/it]\n",
      "      2/100         0G          0      59.37          0          0        640:  63%|██████▎   | 47/75 [06:00<03:37,  7.77s/it]\n",
      "      2/100         0G          0      59.18          0          0        640:  63%|██████▎   | 47/75 [06:08<03:37,  7.77s/it]\n",
      "      2/100         0G          0      59.18          0          0        640:  64%|██████▍   | 48/75 [06:08<03:28,  7.72s/it]\n",
      "      2/100         0G          0      59.01          0          0        640:  64%|██████▍   | 48/75 [06:16<03:28,  7.72s/it]\n",
      "      2/100         0G          0      59.01          0          0        640:  65%|██████▌   | 49/75 [06:16<03:24,  7.85s/it]\n",
      "      2/100         0G          0      58.82          0          0        640:  65%|██████▌   | 49/75 [06:24<03:24,  7.85s/it]\n",
      "      2/100         0G          0      58.82          0          0        640:  67%|██████▋   | 50/75 [06:24<03:15,  7.82s/it]\n",
      "      2/100         0G          0      58.65          0          0        640:  67%|██████▋   | 50/75 [06:33<03:15,  7.82s/it]\n",
      "      2/100         0G          0      58.65          0          0        640:  68%|██████▊   | 51/75 [06:33<03:15,  8.16s/it]\n",
      "      2/100         0G          0      58.47          0          0        640:  68%|██████▊   | 51/75 [06:43<03:15,  8.16s/it]\n",
      "      2/100         0G          0      58.47          0          0        640:  69%|██████▉   | 52/75 [06:43<03:21,  8.78s/it]\n",
      "      2/100         0G          0      58.29          0          0        640:  69%|██████▉   | 52/75 [06:53<03:21,  8.78s/it]\n",
      "      2/100         0G          0      58.29          0          0        640:  71%|███████   | 53/75 [06:53<03:16,  8.94s/it]\n",
      "      2/100         0G          0      58.11          0          0        640:  71%|███████   | 53/75 [07:01<03:16,  8.94s/it]\n",
      "      2/100         0G          0      58.11          0          0        640:  72%|███████▏  | 54/75 [07:01<03:04,  8.78s/it]\n",
      "      2/100         0G          0      57.94          0          0        640:  72%|███████▏  | 54/75 [07:12<03:04,  8.78s/it]\n",
      "      2/100         0G          0      57.94          0          0        640:  73%|███████▎  | 55/75 [07:12<03:06,  9.33s/it]\n",
      "      2/100         0G          0      57.76          0          0        640:  73%|███████▎  | 55/75 [07:20<03:06,  9.33s/it]\n",
      "      2/100         0G          0      57.76          0          0        640:  75%|███████▍  | 56/75 [07:20<02:54,  9.21s/it]\n",
      "      2/100         0G          0      57.59          0          0        640:  75%|███████▍  | 56/75 [07:30<02:54,  9.21s/it]\n",
      "      2/100         0G          0      57.59          0          0        640:  76%|███████▌  | 57/75 [07:30<02:47,  9.31s/it]\n",
      "      2/100         0G          0      57.42          0          0        640:  76%|███████▌  | 57/75 [07:40<02:47,  9.31s/it]\n",
      "      2/100         0G          0      57.42          0          0        640:  77%|███████▋  | 58/75 [07:40<02:40,  9.43s/it]\n",
      "      2/100         0G          0      57.25          0          0        640:  77%|███████▋  | 58/75 [07:49<02:40,  9.43s/it]\n",
      "      2/100         0G          0      57.25          0          0        640:  79%|███████▊  | 59/75 [07:49<02:31,  9.50s/it]\n",
      "      2/100         0G          0      57.08          0          0        640:  79%|███████▊  | 59/75 [07:59<02:31,  9.50s/it]\n",
      "      2/100         0G          0      57.08          0          0        640:  80%|████████  | 60/75 [07:59<02:22,  9.51s/it]\n",
      "      2/100         0G          0      56.91          0          0        640:  80%|████████  | 60/75 [08:09<02:22,  9.51s/it]\n",
      "      2/100         0G          0      56.91          0          0        640:  81%|████████▏ | 61/75 [08:09<02:15,  9.69s/it]\n",
      "      2/100         0G          0      56.74          0          0        640:  81%|████████▏ | 61/75 [08:19<02:15,  9.69s/it]\n",
      "      2/100         0G          0      56.74          0          0        640:  83%|████████▎ | 62/75 [08:19<02:05,  9.64s/it]\n",
      "      2/100         0G          0      56.57          0          0        640:  83%|████████▎ | 62/75 [08:28<02:05,  9.64s/it]\n",
      "      2/100         0G          0      56.57          0          0        640:  84%|████████▍ | 63/75 [08:28<01:55,  9.61s/it]\n",
      "      2/100         0G          0      56.41          0          0        640:  84%|████████▍ | 63/75 [08:38<01:55,  9.61s/it]\n",
      "      2/100         0G          0      56.41          0          0        640:  85%|████████▌ | 64/75 [08:38<01:45,  9.57s/it]\n",
      "      2/100         0G          0      56.23          0          0        640:  85%|████████▌ | 64/75 [08:46<01:45,  9.57s/it]\n",
      "      2/100         0G          0      56.23          0          0        640:  87%|████████▋ | 65/75 [08:46<01:33,  9.38s/it]\n",
      "      2/100         0G          0      56.06          0          0        640:  87%|████████▋ | 65/75 [08:56<01:33,  9.38s/it]\n",
      "      2/100         0G          0      56.06          0          0        640:  88%|████████▊ | 66/75 [08:56<01:23,  9.33s/it]\n",
      "      2/100         0G          0      55.89          0          0        640:  88%|████████▊ | 66/75 [09:06<01:23,  9.33s/it]\n",
      "      2/100         0G          0      55.89          0          0        640:  89%|████████▉ | 67/75 [09:06<01:15,  9.50s/it]\n",
      "      2/100         0G          0      55.72          0          0        640:  89%|████████▉ | 67/75 [09:14<01:15,  9.50s/it]\n",
      "      2/100         0G          0      55.72          0          0        640:  91%|█████████ | 68/75 [09:14<01:05,  9.31s/it]\n",
      "      2/100         0G          0      55.55          0          0        640:  91%|█████████ | 68/75 [09:23<01:05,  9.31s/it]\n",
      "      2/100         0G          0      55.55          0          0        640:  92%|█████████▏| 69/75 [09:23<00:54,  9.17s/it]\n",
      "      2/100         0G          0      55.38          0          0        640:  92%|█████████▏| 69/75 [09:33<00:54,  9.17s/it]\n",
      "      2/100         0G          0      55.38          0          0        640:  93%|█████████▎| 70/75 [09:33<00:46,  9.40s/it]\n",
      "      2/100         0G          0      55.21          0          0        640:  93%|█████████▎| 70/75 [09:43<00:46,  9.40s/it]\n",
      "      2/100         0G          0      55.21          0          0        640:  95%|█████████▍| 71/75 [09:43<00:37,  9.49s/it]\n",
      "      2/100         0G          0      55.04          0          0        640:  95%|█████████▍| 71/75 [09:52<00:37,  9.49s/it]\n",
      "      2/100         0G          0      55.04          0          0        640:  96%|█████████▌| 72/75 [09:52<00:28,  9.45s/it]\n",
      "      2/100         0G          0      54.87          0          0        640:  96%|█████████▌| 72/75 [10:01<00:28,  9.45s/it]\n",
      "      2/100         0G          0      54.87          0          0        640:  97%|█████████▋| 73/75 [10:01<00:18,  9.34s/it]\n",
      "      2/100         0G          0       54.7          0          0        640:  97%|█████████▋| 73/75 [10:11<00:18,  9.34s/it]\n",
      "      2/100         0G          0       54.7          0          0        640:  99%|█████████▊| 74/75 [10:11<00:09,  9.35s/it]\n",
      "      2/100         0G          0      54.53          0          0        640:  99%|█████████▊| 74/75 [10:20<00:09,  9.35s/it]\n",
      "      2/100         0G          0      54.53          0          0        640: 100%|██████████| 75/75 [10:20<00:00,  9.30s/it]\n",
      "      2/100         0G          0      54.53          0          0        640: 100%|██████████| 75/75 [10:20<00:00,  8.27s/it]\n",
      "\n",
      "                 Class     Images  Instances      Box(P          R      mAP50  mAP50-95):   0%|          | 0/25 [00:00<?, ?it/s]\n",
      "                 Class     Images  Instances      Box(P          R      mAP50  mAP50-95):   4%|▍         | 1/25 [00:04<01:41,  4.22s/it]\n",
      "                 Class     Images  Instances      Box(P          R      mAP50  mAP50-95):   8%|▊         | 2/25 [00:08<01:32,  4.01s/it]\n",
      "                 Class     Images  Instances      Box(P          R      mAP50  mAP50-95):  12%|█▏        | 3/25 [00:11<01:24,  3.83s/it]\n",
      "                 Class     Images  Instances      Box(P          R      mAP50  mAP50-95):  16%|█▌        | 4/25 [00:15<01:22,  3.91s/it]\n",
      "                 Class     Images  Instances      Box(P          R      mAP50  mAP50-95):  20%|██        | 5/25 [00:19<01:17,  3.86s/it]\n",
      "                 Class     Images  Instances      Box(P          R      mAP50  mAP50-95):  24%|██▍       | 6/25 [00:22<01:10,  3.69s/it]\n",
      "                 Class     Images  Instances      Box(P          R      mAP50  mAP50-95):  28%|██▊       | 7/25 [00:25<01:02,  3.44s/it]\n",
      "                 Class     Images  Instances      Box(P          R      mAP50  mAP50-95):  32%|███▏      | 8/25 [00:28<00:56,  3.30s/it]\n",
      "                 Class     Images  Instances      Box(P          R      mAP50  mAP50-95):  36%|███▌      | 9/25 [00:31<00:52,  3.25s/it]\n",
      "                 Class     Images  Instances      Box(P          R      mAP50  mAP50-95):  40%|████      | 10/25 [00:35<00:48,  3.22s/it]\n",
      "                 Class     Images  Instances      Box(P          R      mAP50  mAP50-95):  44%|████▍     | 11/25 [00:38<00:43,  3.14s/it]\n",
      "                 Class     Images  Instances      Box(P          R      mAP50  mAP50-95):  48%|████▊     | 12/25 [00:41<00:40,  3.10s/it]\n",
      "                 Class     Images  Instances      Box(P          R      mAP50  mAP50-95):  52%|█████▏    | 13/25 [00:44<00:37,  3.10s/it]\n",
      "                 Class     Images  Instances      Box(P          R      mAP50  mAP50-95):  56%|█████▌    | 14/25 [00:47<00:34,  3.15s/it]\n",
      "                 Class     Images  Instances      Box(P          R      mAP50  mAP50-95):  60%|██████    | 15/25 [00:50<00:31,  3.19s/it]\n",
      "                 Class     Images  Instances      Box(P          R      mAP50  mAP50-95):  64%|██████▍   | 16/25 [00:53<00:28,  3.22s/it]\n",
      "                 Class     Images  Instances      Box(P          R      mAP50  mAP50-95):  68%|██████▊   | 17/25 [00:57<00:25,  3.18s/it]\n",
      "                 Class     Images  Instances      Box(P          R      mAP50  mAP50-95):  72%|███████▏  | 18/25 [01:00<00:22,  3.25s/it]\n",
      "                 Class     Images  Instances      Box(P          R      mAP50  mAP50-95):  76%|███████▌  | 19/25 [01:03<00:19,  3.31s/it]\n",
      "                 Class     Images  Instances      Box(P          R      mAP50  mAP50-95):  80%|████████  | 20/25 [01:07<00:16,  3.28s/it]\n",
      "                 Class     Images  Instances      Box(P          R      mAP50  mAP50-95):  84%|████████▍ | 21/25 [01:10<00:13,  3.26s/it]\n",
      "                 Class     Images  Instances      Box(P          R      mAP50  mAP50-95):  88%|████████▊ | 22/25 [01:13<00:10,  3.35s/it]\n",
      "                 Class     Images  Instances      Box(P          R      mAP50  mAP50-95):  92%|█████████▏| 23/25 [01:17<00:06,  3.43s/it]\n",
      "                 Class     Images  Instances      Box(P          R      mAP50  mAP50-95):  96%|█████████▌| 24/25 [01:21<00:03,  3.56s/it]\n",
      "                 Class     Images  Instances      Box(P          R      mAP50  mAP50-95): 100%|██████████| 25/25 [01:24<00:00,  3.51s/it]\n",
      "                 Class     Images  Instances      Box(P          R      mAP50  mAP50-95): 100%|██████████| 25/25 [01:24<00:00,  3.39s/it]\n",
      "\n",
      "  0%|          | 0/75 [00:00<?, ?it/s]\n",
      "      3/100         0G          0      41.87          0          0        640:   0%|          | 0/75 [00:07<?, ?it/s]\n",
      "      3/100         0G          0      41.87          0          0        640:   1%|▏         | 1/75 [00:07<09:16,  7.52s/it]\n",
      "      3/100         0G          0      41.38          0          0        640:   1%|▏         | 1/75 [00:14<09:16,  7.52s/it]\n",
      "      3/100         0G          0      41.38          0          0        640:   3%|▎         | 2/75 [00:14<09:00,  7.40s/it]\n",
      "      3/100         0G          0       41.2          0          0        640:   3%|▎         | 2/75 [00:22<09:00,  7.40s/it]\n",
      "      3/100         0G          0       41.2          0          0        640:   4%|▍         | 3/75 [00:22<08:55,  7.44s/it]\n",
      "      3/100         0G          0      41.12          0          0        640:   4%|▍         | 3/75 [00:30<08:55,  7.44s/it]\n",
      "      3/100         0G          0      41.12          0          0        640:   5%|▌         | 4/75 [00:30<09:17,  7.85s/it]\n",
      "      3/100         0G          0      40.83          0          0        640:   5%|▌         | 4/75 [00:38<09:17,  7.85s/it]\n",
      "      3/100         0G          0      40.83          0          0        640:   7%|▋         | 5/75 [00:38<08:58,  7.69s/it]\n",
      "      3/100         0G          0      40.64          0          0        640:   7%|▋         | 5/75 [00:45<08:58,  7.69s/it]\n",
      "      3/100         0G          0      40.64          0          0        640:   8%|▊         | 6/75 [00:45<08:48,  7.65s/it]\n",
      "      3/100         0G          0      40.52          0          0        640:   8%|▊         | 6/75 [00:53<08:48,  7.65s/it]\n",
      "      3/100         0G          0      40.52          0          0        640:   9%|▉         | 7/75 [00:53<08:46,  7.74s/it]\n",
      "      3/100         0G          0      40.35          0          0        640:   9%|▉         | 7/75 [01:00<08:46,  7.74s/it]\n",
      "      3/100         0G          0      40.35          0          0        640:  11%|█         | 8/75 [01:00<08:28,  7.58s/it]\n",
      "      3/100         0G          0      40.17          0          0        640:  11%|█         | 8/75 [01:08<08:28,  7.58s/it]\n",
      "      3/100         0G          0      40.17          0          0        640:  12%|█▏        | 9/75 [01:08<08:22,  7.62s/it]\n",
      "      3/100         0G          0      40.02          0          0        640:  12%|█▏        | 9/75 [01:16<08:22,  7.62s/it]\n",
      "      3/100         0G          0      40.02          0          0        640:  13%|█▎        | 10/75 [01:16<08:20,  7.71s/it]\n",
      "      3/100         0G          0       39.8          0          0        640:  13%|█▎        | 10/75 [01:23<08:20,  7.71s/it]\n",
      "      3/100         0G          0       39.8          0          0        640:  15%|█▍        | 11/75 [01:23<08:06,  7.60s/it]\n",
      "      3/100         0G          0      39.62          0          0        640:  15%|█▍        | 11/75 [01:31<08:06,  7.60s/it]\n",
      "      3/100         0G          0      39.62          0          0        640:  16%|█▌        | 12/75 [01:31<07:55,  7.54s/it]\n",
      "      3/100         0G          0      39.48          0          0        640:  16%|█▌        | 12/75 [01:39<07:55,  7.54s/it]\n",
      "      3/100         0G          0      39.48          0          0        640:  17%|█▋        | 13/75 [01:39<07:57,  7.71s/it]\n",
      "      3/100         0G          0      39.29          0          0        640:  17%|█▋        | 13/75 [01:46<07:57,  7.71s/it]\n",
      "      3/100         0G          0      39.29          0          0        640:  19%|█▊        | 14/75 [01:46<07:39,  7.54s/it]\n",
      "      3/100         0G          0      39.17          0          0        640:  19%|█▊        | 14/75 [01:53<07:39,  7.54s/it]\n",
      "      3/100         0G          0      39.17          0          0        640:  20%|██        | 15/75 [01:53<07:27,  7.46s/it]\n",
      "      3/100         0G          0      39.02          0          0        640:  20%|██        | 15/75 [02:01<07:27,  7.46s/it]\n",
      "      3/100         0G          0      39.02          0          0        640:  21%|██▏       | 16/75 [02:01<07:30,  7.64s/it]\n",
      "      3/100         0G          0      38.85          0          0        640:  21%|██▏       | 16/75 [02:10<07:30,  7.64s/it]\n",
      "      3/100         0G          0      38.85          0          0        640:  23%|██▎       | 17/75 [02:10<07:33,  7.82s/it]\n",
      "      3/100         0G          0      38.69          0          0        640:  23%|██▎       | 17/75 [02:18<07:33,  7.82s/it]\n",
      "      3/100         0G          0      38.69          0          0        640:  24%|██▍       | 18/75 [02:18<07:37,  8.02s/it]\n",
      "      3/100         0G          0      38.56          0          0        640:  24%|██▍       | 18/75 [02:26<07:37,  8.02s/it]\n",
      "      3/100         0G          0      38.56          0          0        640:  25%|██▌       | 19/75 [02:26<07:31,  8.06s/it]\n",
      "      3/100         0G          0      38.39          0          0        640:  25%|██▌       | 19/75 [02:35<07:31,  8.06s/it]\n",
      "      3/100         0G          0      38.39          0          0        640:  27%|██▋       | 20/75 [02:35<07:27,  8.14s/it]\n",
      "      3/100         0G          0      38.22          0          0        640:  27%|██▋       | 20/75 [02:43<07:27,  8.14s/it]\n",
      "      3/100         0G          0      38.22          0          0        640:  28%|██▊       | 21/75 [02:43<07:15,  8.07s/it]\n",
      "      3/100         0G          0      38.07          0          0        640:  28%|██▊       | 21/75 [02:51<07:15,  8.07s/it]\n",
      "      3/100         0G          0      38.07          0          0        640:  29%|██▉       | 22/75 [02:51<07:12,  8.16s/it]\n",
      "      3/100         0G          0      37.89          0          0        640:  29%|██▉       | 22/75 [02:58<07:12,  8.16s/it]\n",
      "      3/100         0G          0      37.89          0          0        640:  31%|███       | 23/75 [02:58<06:46,  7.81s/it]\n",
      "      3/100         0G          0      37.74          0          0        640:  31%|███       | 23/75 [03:06<06:46,  7.81s/it]\n",
      "      3/100         0G          0      37.74          0          0        640:  32%|███▏      | 24/75 [03:06<06:37,  7.80s/it]\n",
      "      3/100         0G          0      37.59          0          0        640:  32%|███▏      | 24/75 [03:14<06:37,  7.80s/it]\n",
      "      3/100         0G          0      37.59          0          0        640:  33%|███▎      | 25/75 [03:14<06:35,  7.91s/it]\n",
      "      3/100         0G          0      37.41          0          0        640:  33%|███▎      | 25/75 [03:21<06:35,  7.91s/it]\n",
      "      3/100         0G          0      37.41          0          0        640:  35%|███▍      | 26/75 [03:21<06:18,  7.72s/it]\n",
      "      3/100         0G          0      37.25          0          0        640:  35%|███▍      | 26/75 [03:29<06:18,  7.72s/it]\n",
      "      3/100         0G          0      37.25          0          0        640:  36%|███▌      | 27/75 [03:29<06:11,  7.73s/it]\n",
      "      3/100         0G          0       37.1          0          0        640:  36%|███▌      | 27/75 [03:36<06:11,  7.73s/it]\n",
      "      3/100         0G          0       37.1          0          0        640:  37%|███▋      | 28/75 [03:36<05:59,  7.65s/it]\n",
      "      3/100         0G          0      36.93          0          0        640:  37%|███▋      | 28/75 [03:44<05:59,  7.65s/it]\n",
      "      3/100         0G          0      36.93          0          0        640:  39%|███▊      | 29/75 [03:44<05:48,  7.59s/it]\n",
      "      3/100         0G          0      36.77          0          0        640:  39%|███▊      | 29/75 [03:52<05:48,  7.59s/it]\n",
      "      3/100         0G          0      36.77          0          0        640:  40%|████      | 30/75 [03:52<05:45,  7.69s/it]\n",
      "      3/100         0G          0      36.62          0          0        640:  40%|████      | 30/75 [04:00<05:45,  7.69s/it]\n",
      "      3/100         0G          0      36.62          0          0        640:  41%|████▏     | 31/75 [04:00<05:44,  7.83s/it]\n",
      "      3/100         0G          0      36.43          0          0        640:  41%|████▏     | 31/75 [04:07<05:44,  7.83s/it]\n",
      "      3/100         0G          0      36.43          0          0        640:  43%|████▎     | 32/75 [04:07<05:31,  7.71s/it]\n",
      "      3/100         0G          0      36.26          0          0        640:  43%|████▎     | 32/75 [04:15<05:31,  7.71s/it]\n",
      "      3/100         0G          0      36.26          0          0        640:  44%|████▍     | 33/75 [04:15<05:26,  7.77s/it]\n",
      "      3/100         0G          0       36.1          0          0        640:  44%|████▍     | 33/75 [04:23<05:26,  7.77s/it]\n",
      "      3/100         0G          0       36.1          0          0        640:  45%|████▌     | 34/75 [04:23<05:17,  7.76s/it]\n",
      "      3/100         0G          0      35.94          0          0        640:  45%|████▌     | 34/75 [04:31<05:17,  7.76s/it]\n",
      "      3/100         0G          0      35.94          0          0        640:  47%|████▋     | 35/75 [04:31<05:08,  7.71s/it]\n",
      "      3/100         0G          0      35.78          0          0        640:  47%|████▋     | 35/75 [04:38<05:08,  7.71s/it]\n",
      "      3/100         0G          0      35.78          0          0        640:  48%|████▊     | 36/75 [04:38<05:01,  7.73s/it]\n",
      "      3/100         0G          0      35.62          0          0        640:  48%|████▊     | 36/75 [04:46<05:01,  7.73s/it]\n",
      "      3/100         0G          0      35.62          0          0        640:  49%|████▉     | 37/75 [04:46<04:58,  7.85s/it]\n",
      "      3/100         0G          0      35.45          0          0        640:  49%|████▉     | 37/75 [04:54<04:58,  7.85s/it]\n",
      "      3/100         0G          0      35.45          0          0        640:  51%|█████     | 38/75 [04:54<04:50,  7.84s/it]\n",
      "      3/100         0G          0      35.29          0          0        640:  51%|█████     | 38/75 [05:02<04:50,  7.84s/it]\n",
      "      3/100         0G          0      35.29          0          0        640:  52%|█████▏    | 39/75 [05:02<04:39,  7.76s/it]\n",
      "      3/100         0G          0       35.2          0          0        640:  52%|█████▏    | 39/75 [05:09<04:39,  7.76s/it]\n",
      "      3/100         0G          0       35.2          0          0        640:  53%|█████▎    | 40/75 [05:09<04:27,  7.65s/it]\n",
      "      3/100         0G          0      35.05          0          0        640:  53%|█████▎    | 40/75 [05:17<04:27,  7.65s/it]\n",
      "      3/100         0G          0      35.05          0          0        640:  55%|█████▍    | 41/75 [05:17<04:25,  7.81s/it]\n",
      "      3/100         0G          0      34.96          0          0        640:  55%|█████▍    | 41/75 [05:25<04:25,  7.81s/it]\n",
      "      3/100         0G          0      34.96          0          0        640:  56%|█████▌    | 42/75 [05:25<04:13,  7.68s/it]\n",
      "      3/100         0G          0       34.8          0          0        640:  56%|█████▌    | 42/75 [05:34<04:13,  7.68s/it]\n",
      "      3/100         0G          0       34.8          0          0        640:  57%|█████▋    | 43/75 [05:34<04:17,  8.04s/it]\n",
      "      3/100         0G          0      34.65          0          0        640:  57%|█████▋    | 43/75 [05:41<04:17,  8.04s/it]\n",
      "      3/100         0G          0      34.65          0          0        640:  59%|█████▊    | 44/75 [05:41<04:05,  7.92s/it]\n",
      "      3/100         0G          0      34.51          0          0        640:  59%|█████▊    | 44/75 [05:49<04:05,  7.92s/it]\n",
      "      3/100         0G          0      34.51          0          0        640:  60%|██████    | 45/75 [05:49<03:57,  7.91s/it]\n",
      "      3/100         0G          0      34.37          0          0        640:  60%|██████    | 45/75 [05:57<03:57,  7.91s/it]\n",
      "      3/100         0G          0      34.37          0          0        640:  61%|██████▏   | 46/75 [05:57<03:48,  7.88s/it]\n",
      "      3/100         0G          0      34.24          0          0        640:  61%|██████▏   | 46/75 [06:04<03:48,  7.88s/it]\n",
      "      3/100         0G          0      34.24          0          0        640:  63%|██████▎   | 47/75 [06:04<03:36,  7.74s/it]\n",
      "      3/100         0G          0      34.11          0          0        640:  63%|██████▎   | 47/75 [06:13<03:36,  7.74s/it]\n",
      "      3/100         0G          0      34.11          0          0        640:  64%|██████▍   | 48/75 [06:13<03:32,  7.86s/it]\n",
      "      3/100         0G          0      33.97          0          0        640:  64%|██████▍   | 48/75 [06:21<03:32,  7.86s/it]\n",
      "      3/100         0G          0      33.97          0          0        640:  65%|██████▌   | 49/75 [06:21<03:30,  8.09s/it]\n",
      "      3/100         0G          0      33.82          0          0        640:  65%|██████▌   | 49/75 [06:29<03:30,  8.09s/it]\n",
      "      3/100         0G          0      33.82          0          0        640:  67%|██████▋   | 50/75 [06:29<03:19,  7.97s/it]\n",
      "      3/100         0G          0      33.67          0          0        640:  67%|██████▋   | 50/75 [06:37<03:19,  7.97s/it]\n",
      "      3/100         0G          0      33.67          0          0        640:  68%|██████▊   | 51/75 [06:37<03:09,  7.88s/it]\n",
      "      3/100         0G          0      33.53          0          0        640:  68%|██████▊   | 51/75 [06:44<03:09,  7.88s/it]\n",
      "      3/100         0G          0      33.53          0          0        640:  69%|██████▉   | 52/75 [06:44<02:59,  7.82s/it]\n",
      "      3/100         0G          0      33.38          0          0        640:  69%|██████▉   | 52/75 [06:52<02:59,  7.82s/it]\n",
      "      3/100         0G          0      33.38          0          0        640:  71%|███████   | 53/75 [06:52<02:49,  7.72s/it]\n",
      "      3/100         0G          0      33.23          0          0        640:  71%|███████   | 53/75 [06:59<02:49,  7.72s/it]\n",
      "      3/100         0G          0      33.23          0          0        640:  72%|███████▏  | 54/75 [06:59<02:40,  7.67s/it]\n",
      "      3/100         0G          0      33.09          0          0        640:  72%|███████▏  | 54/75 [07:07<02:40,  7.67s/it]\n",
      "      3/100         0G          0      33.09          0          0        640:  73%|███████▎  | 55/75 [07:07<02:31,  7.59s/it]\n",
      "      3/100         0G          0      32.95          0          0        640:  73%|███████▎  | 55/75 [07:14<02:31,  7.59s/it]\n",
      "      3/100         0G          0      32.95          0          0        640:  75%|███████▍  | 56/75 [07:14<02:24,  7.62s/it]\n",
      "      3/100         0G          0      32.82          0          0        640:  75%|███████▍  | 56/75 [07:22<02:24,  7.62s/it]\n",
      "      3/100         0G          0      32.82          0          0        640:  76%|███████▌  | 57/75 [07:22<02:19,  7.72s/it]\n",
      "      3/100         0G          0      32.67          0          0        640:  76%|███████▌  | 57/75 [07:30<02:19,  7.72s/it]\n",
      "      3/100         0G          0      32.67          0          0        640:  77%|███████▋  | 58/75 [07:30<02:09,  7.64s/it]\n",
      "      3/100         0G          0      32.53          0          0        640:  77%|███████▋  | 58/75 [07:37<02:09,  7.64s/it]\n",
      "      3/100         0G          0      32.53          0          0        640:  79%|███████▊  | 59/75 [07:37<02:00,  7.53s/it]\n",
      "      3/100         0G          0      32.39          0          0        640:  79%|███████▊  | 59/75 [07:44<02:00,  7.53s/it]\n",
      "      3/100         0G          0      32.39          0          0        640:  80%|████████  | 60/75 [07:44<01:52,  7.50s/it]\n",
      "      3/100         0G          0      32.26          0          0        640:  80%|████████  | 60/75 [07:52<01:52,  7.50s/it]\n",
      "      3/100         0G          0      32.26          0          0        640:  81%|████████▏ | 61/75 [07:52<01:47,  7.67s/it]\n",
      "      3/100         0G          0      32.12          0          0        640:  81%|████████▏ | 61/75 [08:00<01:47,  7.67s/it]\n",
      "      3/100         0G          0      32.12          0          0        640:  83%|████████▎ | 62/75 [08:00<01:37,  7.52s/it]\n",
      "      3/100         0G          0      31.97          0          0        640:  83%|████████▎ | 62/75 [08:07<01:37,  7.52s/it]\n",
      "      3/100         0G          0      31.97          0          0        640:  84%|████████▍ | 63/75 [08:07<01:30,  7.55s/it]\n",
      "      3/100         0G          0      31.84          0          0        640:  84%|████████▍ | 63/75 [08:15<01:30,  7.55s/it]\n",
      "      3/100         0G          0      31.84          0          0        640:  85%|████████▌ | 64/75 [08:15<01:22,  7.48s/it]\n",
      "      3/100         0G          0      31.71          0          0        640:  85%|████████▌ | 64/75 [08:23<01:22,  7.48s/it]\n",
      "      3/100         0G          0      31.71          0          0        640:  87%|████████▋ | 65/75 [08:23<01:16,  7.62s/it]\n",
      "      3/100         0G          0      31.56          0          0        640:  87%|████████▋ | 65/75 [08:30<01:16,  7.62s/it]\n",
      "      3/100         0G          0      31.56          0          0        640:  88%|████████▊ | 66/75 [08:30<01:07,  7.55s/it]\n",
      "      3/100         0G          0      31.43          0          0        640:  88%|████████▊ | 66/75 [08:38<01:07,  7.55s/it]\n",
      "      3/100         0G          0      31.43          0          0        640:  89%|████████▉ | 67/75 [08:38<01:01,  7.64s/it]\n",
      "      3/100         0G          0      31.29          0          0        640:  89%|████████▉ | 67/75 [08:45<01:01,  7.64s/it]\n",
      "      3/100         0G          0      31.29          0          0        640:  91%|█████████ | 68/75 [08:45<00:53,  7.64s/it]\n",
      "      3/100         0G          0      31.16          0          0        640:  91%|█████████ | 68/75 [08:54<00:53,  7.64s/it]\n",
      "      3/100         0G          0      31.16          0          0        640:  92%|█████████▏| 69/75 [08:54<00:47,  7.84s/it]\n",
      "      3/100         0G          0      31.02          0          0        640:  92%|█████████▏| 69/75 [09:01<00:47,  7.84s/it]\n",
      "      3/100         0G          0      31.02          0          0        640:  93%|█████████▎| 70/75 [09:01<00:38,  7.74s/it]\n",
      "      3/100         0G          0      30.89          0          0        640:  93%|█████████▎| 70/75 [09:09<00:38,  7.74s/it]\n",
      "      3/100         0G          0      30.89          0          0        640:  95%|█████████▍| 71/75 [09:09<00:30,  7.68s/it]\n",
      "      3/100         0G          0      30.76          0          0        640:  95%|█████████▍| 71/75 [09:16<00:30,  7.68s/it]\n",
      "      3/100         0G          0      30.76          0          0        640:  96%|█████████▌| 72/75 [09:16<00:22,  7.53s/it]\n",
      "      3/100         0G          0      30.63          0          0        640:  96%|█████████▌| 72/75 [09:24<00:22,  7.53s/it]\n",
      "      3/100         0G          0      30.63          0          0        640:  97%|█████████▋| 73/75 [09:24<00:15,  7.61s/it]\n",
      "      3/100         0G          0      30.49          0          0        640:  97%|█████████▋| 73/75 [09:31<00:15,  7.61s/it]\n",
      "      3/100         0G          0      30.49          0          0        640:  99%|█████████▊| 74/75 [09:31<00:07,  7.63s/it]\n",
      "      3/100         0G          0      30.36          0          0        640:  99%|█████████▊| 74/75 [09:39<00:07,  7.63s/it]\n",
      "      3/100         0G          0      30.36          0          0        640: 100%|██████████| 75/75 [09:39<00:00,  7.54s/it]\n",
      "      3/100         0G          0      30.36          0          0        640: 100%|██████████| 75/75 [09:39<00:00,  7.72s/it]\n",
      "\n",
      "                 Class     Images  Instances      Box(P          R      mAP50  mAP50-95):   0%|          | 0/25 [00:00<?, ?it/s]\n",
      "                 Class     Images  Instances      Box(P          R      mAP50  mAP50-95):   4%|▍         | 1/25 [00:03<01:25,  3.55s/it]\n",
      "                 Class     Images  Instances      Box(P          R      mAP50  mAP50-95):   8%|▊         | 2/25 [00:06<01:15,  3.29s/it]\n",
      "                 Class     Images  Instances      Box(P          R      mAP50  mAP50-95):  12%|█▏        | 3/25 [00:09<01:11,  3.23s/it]\n",
      "                 Class     Images  Instances      Box(P          R      mAP50  mAP50-95):  16%|█▌        | 4/25 [00:12<01:07,  3.20s/it]\n",
      "                 Class     Images  Instances      Box(P          R      mAP50  mAP50-95):  20%|██        | 5/25 [00:16<01:04,  3.23s/it]\n",
      "                 Class     Images  Instances      Box(P          R      mAP50  mAP50-95):  24%|██▍       | 6/25 [00:19<01:00,  3.17s/it]\n",
      "                 Class     Images  Instances      Box(P          R      mAP50  mAP50-95):  28%|██▊       | 7/25 [00:22<00:54,  3.02s/it]\n",
      "                 Class     Images  Instances      Box(P          R      mAP50  mAP50-95):  32%|███▏      | 8/25 [00:25<00:51,  3.06s/it]\n",
      "                 Class     Images  Instances      Box(P          R      mAP50  mAP50-95):  36%|███▌      | 9/25 [00:28<00:48,  3.03s/it]\n",
      "                 Class     Images  Instances      Box(P          R      mAP50  mAP50-95):  40%|████      | 10/25 [00:31<00:48,  3.25s/it]\n",
      "                 Class     Images  Instances      Box(P          R      mAP50  mAP50-95):  44%|████▍     | 11/25 [00:35<00:48,  3.48s/it]\n",
      "                 Class     Images  Instances      Box(P          R      mAP50  mAP50-95):  48%|████▊     | 12/25 [00:40<00:49,  3.80s/it]\n",
      "                 Class     Images  Instances      Box(P          R      mAP50  mAP50-95):  52%|█████▏    | 13/25 [00:43<00:43,  3.63s/it]\n",
      "                 Class     Images  Instances      Box(P          R      mAP50  mAP50-95):  56%|█████▌    | 14/25 [00:46<00:38,  3.54s/it]\n",
      "                 Class     Images  Instances      Box(P          R      mAP50  mAP50-95):  60%|██████    | 15/25 [00:50<00:34,  3.49s/it]\n",
      "                 Class     Images  Instances      Box(P          R      mAP50  mAP50-95):  64%|██████▍   | 16/25 [00:53<00:31,  3.48s/it]\n",
      "                 Class     Images  Instances      Box(P          R      mAP50  mAP50-95):  68%|██████▊   | 17/25 [00:57<00:27,  3.49s/it]\n",
      "                 Class     Images  Instances      Box(P          R      mAP50  mAP50-95):  72%|███████▏  | 18/25 [01:00<00:24,  3.45s/it]\n",
      "                 Class     Images  Instances      Box(P          R      mAP50  mAP50-95):  76%|███████▌  | 19/25 [01:03<00:19,  3.33s/it]\n",
      "                 Class     Images  Instances      Box(P          R      mAP50  mAP50-95):  80%|████████  | 20/25 [01:06<00:16,  3.24s/it]\n",
      "                 Class     Images  Instances      Box(P          R      mAP50  mAP50-95):  84%|████████▍ | 21/25 [01:09<00:12,  3.23s/it]\n",
      "                 Class     Images  Instances      Box(P          R      mAP50  mAP50-95):  88%|████████▊ | 22/25 [01:13<00:09,  3.24s/it]\n",
      "                 Class     Images  Instances      Box(P          R      mAP50  mAP50-95):  92%|█████████▏| 23/25 [01:16<00:06,  3.30s/it]\n",
      "                 Class     Images  Instances      Box(P          R      mAP50  mAP50-95):  96%|█████████▌| 24/25 [01:20<00:03,  3.36s/it]\n",
      "                 Class     Images  Instances      Box(P          R      mAP50  mAP50-95): 100%|██████████| 25/25 [01:23<00:00,  3.39s/it]\n",
      "                 Class     Images  Instances      Box(P          R      mAP50  mAP50-95): 100%|██████████| 25/25 [01:23<00:00,  3.34s/it]\n",
      "\n",
      "  0%|          | 0/75 [00:00<?, ?it/s]\n",
      "      4/100         0G          0      20.46          0          0        640:   0%|          | 0/75 [00:07<?, ?it/s]\n",
      "      4/100         0G          0      20.46          0          0        640:   1%|▏         | 1/75 [00:07<09:16,  7.51s/it]\n",
      "      4/100         0G          0      20.45          0          0        640:   1%|▏         | 1/75 [00:15<09:16,  7.51s/it]\n",
      "      4/100         0G          0      20.45          0          0        640:   3%|▎         | 2/75 [00:15<09:34,  7.86s/it]\n",
      "      4/100         0G          0       20.4          0          0        640:   3%|▎         | 2/75 [00:22<09:34,  7.86s/it]\n",
      "      4/100         0G          0       20.4          0          0        640:   4%|▍         | 3/75 [00:22<09:05,  7.58s/it]\n",
      "      4/100         0G          0      20.12          0          0        640:   4%|▍         | 3/75 [00:30<09:05,  7.58s/it]\n",
      "      4/100         0G          0      20.12          0          0        640:   5%|▌         | 4/75 [00:30<08:58,  7.58s/it]\n",
      "      4/100         0G          0      19.98          0          0        640:   5%|▌         | 4/75 [00:37<08:58,  7.58s/it]\n",
      "      4/100         0G          0      19.98          0          0        640:   7%|▋         | 5/75 [00:37<08:49,  7.57s/it]\n",
      "      4/100         0G          0      19.89          0          0        640:   7%|▋         | 5/75 [00:45<08:49,  7.57s/it]\n",
      "      4/100         0G          0      19.89          0          0        640:   8%|▊         | 6/75 [00:45<08:44,  7.60s/it]\n",
      "      4/100         0G          0      19.71          0          0        640:   8%|▊         | 6/75 [00:52<08:44,  7.60s/it]\n",
      "      4/100         0G          0      19.71          0          0        640:   9%|▉         | 7/75 [00:52<08:30,  7.50s/it]\n",
      "      4/100         0G          0      19.57          0          0        640:   9%|▉         | 7/75 [01:00<08:30,  7.50s/it]\n",
      "      4/100         0G          0      19.57          0          0        640:  11%|█         | 8/75 [01:00<08:20,  7.47s/it]\n",
      "      4/100         0G          0      19.48          0          0        640:  11%|█         | 8/75 [01:08<08:20,  7.47s/it]\n",
      "      4/100         0G          0      19.48          0          0        640:  12%|█▏        | 9/75 [01:08<08:31,  7.75s/it]\n",
      "      4/100         0G          0       19.4          0          0        640:  12%|█▏        | 9/75 [01:16<08:31,  7.75s/it]\n",
      "      4/100         0G          0       19.4          0          0        640:  13%|█▎        | 10/75 [01:16<08:16,  7.64s/it]\n",
      "      4/100         0G          0      19.25          0          0        640:  13%|█▎        | 10/75 [01:23<08:16,  7.64s/it]\n",
      "      4/100         0G          0      19.25          0          0        640:  15%|█▍        | 11/75 [01:23<08:05,  7.58s/it]\n",
      "      4/100         0G          0      19.18          0          0        640:  15%|█▍        | 11/75 [01:31<08:05,  7.58s/it]\n",
      "      4/100         0G          0      19.18          0          0        640:  16%|█▌        | 12/75 [01:31<07:58,  7.59s/it]\n",
      "      4/100         0G          0       19.1          0          0        640:  16%|█▌        | 12/75 [01:39<07:58,  7.59s/it]\n",
      "      4/100         0G          0       19.1          0          0        640:  17%|█▋        | 13/75 [01:39<07:55,  7.67s/it]\n",
      "      4/100         0G          0      19.01          0          0        640:  17%|█▋        | 13/75 [01:46<07:55,  7.67s/it]\n",
      "      4/100         0G          0      19.01          0          0        640:  19%|█▊        | 14/75 [01:46<07:49,  7.70s/it]\n",
      "      4/100         0G          0      18.88          0          0        640:  19%|█▊        | 14/75 [01:54<07:49,  7.70s/it]\n",
      "      4/100         0G          0      18.88          0          0        640:  20%|██        | 15/75 [01:54<07:37,  7.63s/it]\n",
      "      4/100         0G          0      18.77          0          0        640:  20%|██        | 15/75 [02:01<07:37,  7.63s/it]\n",
      "      4/100         0G          0      18.77          0          0        640:  21%|██▏       | 16/75 [02:01<07:31,  7.65s/it]\n",
      "      4/100         0G          0      18.67          0          0        640:  21%|██▏       | 16/75 [02:09<07:31,  7.65s/it]\n",
      "      4/100         0G          0      18.67          0          0        640:  23%|██▎       | 17/75 [02:09<07:22,  7.62s/it]\n",
      "      4/100         0G          0      18.58          0          0        640:  23%|██▎       | 17/75 [02:17<07:22,  7.62s/it]\n",
      "      4/100         0G          0      18.58          0          0        640:  24%|██▍       | 18/75 [02:17<07:26,  7.83s/it]\n",
      "      4/100         0G          0      18.48          0          0        640:  24%|██▍       | 18/75 [02:25<07:26,  7.83s/it]\n",
      "      4/100         0G          0      18.48          0          0        640:  25%|██▌       | 19/75 [02:25<07:14,  7.75s/it]\n",
      "      4/100         0G          0      18.38          0          0        640:  25%|██▌       | 19/75 [02:32<07:14,  7.75s/it]\n",
      "      4/100         0G          0      18.38          0          0        640:  27%|██▋       | 20/75 [02:32<06:59,  7.64s/it]\n",
      "      4/100         0G          0      18.28          0          0        640:  27%|██▋       | 20/75 [02:40<06:59,  7.64s/it]\n",
      "      4/100         0G          0      18.28          0          0        640:  28%|██▊       | 21/75 [02:40<06:52,  7.63s/it]\n",
      "      4/100         0G          0      18.19          0          0        640:  28%|██▊       | 21/75 [02:48<06:52,  7.63s/it]\n",
      "      4/100         0G          0      18.19          0          0        640:  29%|██▉       | 22/75 [02:48<06:48,  7.72s/it]\n",
      "      4/100         0G          0      18.08          0          0        640:  29%|██▉       | 22/75 [02:55<06:48,  7.72s/it]\n",
      "      4/100         0G          0      18.08          0          0        640:  31%|███       | 23/75 [02:55<06:34,  7.59s/it]\n",
      "      4/100         0G          0      17.99          0          0        640:  31%|███       | 23/75 [03:02<06:34,  7.59s/it]\n",
      "      4/100         0G          0      17.99          0          0        640:  32%|███▏      | 24/75 [03:02<06:23,  7.52s/it]\n",
      "      4/100         0G          0      17.92          0          0        640:  32%|███▏      | 24/75 [03:11<06:23,  7.52s/it]\n",
      "      4/100         0G          0      17.92          0          0        640:  33%|███▎      | 25/75 [03:11<06:24,  7.69s/it]\n",
      "      4/100         0G          0      17.84          0          0        640:  33%|███▎      | 25/75 [03:19<06:24,  7.69s/it]\n",
      "      4/100         0G          0      17.84          0          0        640:  35%|███▍      | 26/75 [03:19<06:21,  7.79s/it]\n",
      "      4/100         0G          0      17.75          0          0        640:  35%|███▍      | 26/75 [03:26<06:21,  7.79s/it]\n",
      "      4/100         0G          0      17.75          0          0        640:  36%|███▌      | 27/75 [03:26<06:04,  7.59s/it]\n",
      "      4/100         0G          0      17.67          0          0        640:  36%|███▌      | 27/75 [03:33<06:04,  7.59s/it]\n",
      "      4/100         0G          0      17.67          0          0        640:  37%|███▋      | 28/75 [03:33<05:53,  7.53s/it]\n",
      "      4/100         0G          0       17.6          0          0        640:  37%|███▋      | 28/75 [03:41<05:53,  7.53s/it]\n",
      "      4/100         0G          0       17.6          0          0        640:  39%|███▊      | 29/75 [03:41<05:45,  7.50s/it]\n",
      "      4/100         0G          0      17.54          0          0        640:  39%|███▊      | 29/75 [03:49<05:45,  7.50s/it]\n",
      "      4/100         0G          0      17.54          0          0        640:  40%|████      | 30/75 [03:49<05:48,  7.74s/it]\n",
      "      4/100         0G          0      17.45          0          0        640:  40%|████      | 30/75 [03:56<05:48,  7.74s/it]\n",
      "      4/100         0G          0      17.45          0          0        640:  41%|████▏     | 31/75 [03:56<05:31,  7.54s/it]\n",
      "      4/100         0G          0      17.36          0          0        640:  41%|████▏     | 31/75 [04:03<05:31,  7.54s/it]\n",
      "      4/100         0G          0      17.36          0          0        640:  43%|████▎     | 32/75 [04:03<05:24,  7.56s/it]\n",
      "      4/100         0G          0      17.28          0          0        640:  43%|████▎     | 32/75 [04:11<05:24,  7.56s/it]\n",
      "      4/100         0G          0      17.28          0          0        640:  44%|████▍     | 33/75 [04:11<05:15,  7.52s/it]\n",
      "      4/100         0G          0      17.21          0          0        640:  44%|████▍     | 33/75 [04:19<05:15,  7.52s/it]\n",
      "      4/100         0G          0      17.21          0          0        640:  45%|████▌     | 34/75 [04:19<05:15,  7.69s/it]\n",
      "      4/100         0G          0      17.11          0          0        640:  45%|████▌     | 34/75 [04:27<05:15,  7.69s/it]\n",
      "      4/100         0G          0      17.11          0          0        640:  47%|████▋     | 35/75 [04:27<05:06,  7.65s/it]\n",
      "      4/100         0G          0      17.02          0          0        640:  47%|████▋     | 35/75 [04:34<05:06,  7.65s/it]\n",
      "      4/100         0G          0      17.02          0          0        640:  48%|████▊     | 36/75 [04:34<04:54,  7.55s/it]\n",
      "      4/100         0G          0      16.94          0          0        640:  48%|████▊     | 36/75 [04:41<04:54,  7.55s/it]\n",
      "      4/100         0G          0      16.94          0          0        640:  49%|████▉     | 37/75 [04:41<04:46,  7.53s/it]\n",
      "      4/100         0G          0      16.86          0          0        640:  49%|████▉     | 37/75 [04:50<04:46,  7.53s/it]\n",
      "      4/100         0G          0      16.86          0          0        640:  51%|█████     | 38/75 [04:50<04:47,  7.76s/it]\n",
      "      4/100         0G          0      16.77          0          0        640:  51%|█████     | 38/75 [04:57<04:47,  7.76s/it]\n",
      "      4/100         0G          0      16.77          0          0        640:  52%|█████▏    | 39/75 [04:57<04:35,  7.66s/it]\n",
      "      4/100         0G          0      16.68          0          0        640:  52%|█████▏    | 39/75 [05:05<04:35,  7.66s/it]\n",
      "      4/100         0G          0      16.68          0          0        640:  53%|█████▎    | 40/75 [05:05<04:30,  7.74s/it]\n",
      "      4/100         0G          0       16.6          0          0        640:  53%|█████▎    | 40/75 [05:13<04:30,  7.74s/it]\n",
      "      4/100         0G          0       16.6          0          0        640:  55%|█████▍    | 41/75 [05:13<04:21,  7.70s/it]\n",
      "      4/100         0G          0      16.52          0          0        640:  55%|█████▍    | 41/75 [05:21<04:21,  7.70s/it]\n",
      "      4/100         0G          0      16.52          0          0        640:  56%|█████▌    | 42/75 [05:21<04:18,  7.83s/it]\n",
      "      4/100         0G          0      16.43          0          0        640:  56%|█████▌    | 42/75 [05:29<04:18,  7.83s/it]\n",
      "      4/100         0G          0      16.43          0          0        640:  57%|█████▋    | 43/75 [05:29<04:10,  7.84s/it]\n",
      "      4/100         0G          0      16.34          0          0        640:  57%|█████▋    | 43/75 [05:38<04:10,  7.84s/it]\n",
      "      4/100         0G          0      16.34          0          0        640:  59%|█████▊    | 44/75 [05:38<04:17,  8.32s/it]\n",
      "      4/100         0G          0      16.26          0          0        640:  59%|█████▊    | 44/75 [05:47<04:17,  8.32s/it]\n",
      "      4/100         0G          0      16.26          0          0        640:  60%|██████    | 45/75 [05:47<04:16,  8.56s/it]\n",
      "      4/100         0G          0      16.17          0          0        640:  60%|██████    | 45/75 [05:57<04:16,  8.56s/it]\n",
      "      4/100         0G          0      16.17          0          0        640:  61%|██████▏   | 46/75 [05:57<04:21,  9.00s/it]\n",
      "      4/100         0G          0      16.08          0          0        640:  61%|██████▏   | 46/75 [06:07<04:21,  9.00s/it]\n",
      "      4/100         0G          0      16.08          0          0        640:  63%|██████▎   | 47/75 [06:07<04:15,  9.13s/it]\n",
      "      4/100         0G          0      15.99          0          0        640:  63%|██████▎   | 47/75 [06:16<04:15,  9.13s/it]\n",
      "      4/100         0G          0      15.99          0          0        640:  64%|██████▍   | 48/75 [06:16<04:09,  9.22s/it]\n",
      "      4/100         0G          0      15.91          0          0        640:  64%|██████▍   | 48/75 [06:26<04:09,  9.22s/it]\n",
      "      4/100         0G          0      15.91          0          0        640:  65%|██████▌   | 49/75 [06:26<04:02,  9.34s/it]\n",
      "      4/100         0G          0      15.83          0          0        640:  65%|██████▌   | 49/75 [06:36<04:02,  9.34s/it]\n",
      "      4/100         0G          0      15.83          0          0        640:  67%|██████▋   | 50/75 [06:36<03:57,  9.51s/it]\n",
      "      4/100         0G          0      15.74          0          0        640:  67%|██████▋   | 50/75 [06:45<03:57,  9.51s/it]\n",
      "      4/100         0G          0      15.74          0          0        640:  68%|██████▊   | 51/75 [06:45<03:46,  9.43s/it]\n",
      "      4/100         0G          0      15.66          0          0        640:  68%|██████▊   | 51/75 [06:54<03:46,  9.43s/it]\n",
      "      4/100         0G          0      15.66          0          0        640:  69%|██████▉   | 52/75 [06:54<03:35,  9.37s/it]\n",
      "      4/100         0G          0      15.58          0          0        640:  69%|██████▉   | 52/75 [07:02<03:35,  9.37s/it]\n",
      "      4/100         0G          0      15.58          0          0        640:  71%|███████   | 53/75 [07:02<03:16,  8.95s/it]\n",
      "      4/100         0G          0      15.51          0          0        640:  71%|███████   | 53/75 [07:09<03:16,  8.95s/it]\n",
      "      4/100         0G          0      15.51          0          0        640:  72%|███████▏  | 54/75 [07:09<02:56,  8.40s/it]\n",
      "      4/100         0G          0      15.42          0          0        640:  72%|███████▏  | 54/75 [07:17<02:56,  8.40s/it]\n",
      "      4/100         0G          0      15.42          0          0        640:  73%|███████▎  | 55/75 [07:17<02:42,  8.11s/it]\n",
      "      4/100         0G          0      15.34          0          0        640:  73%|███████▎  | 55/75 [07:24<02:42,  8.11s/it]\n",
      "      4/100         0G          0      15.34          0          0        640:  75%|███████▍  | 56/75 [07:24<02:28,  7.81s/it]\n",
      "      4/100         0G          0      15.26          0          0        640:  75%|███████▍  | 56/75 [07:30<02:28,  7.81s/it]\n",
      "      4/100         0G          0      15.26          0          0        640:  76%|███████▌  | 57/75 [07:30<02:14,  7.50s/it]\n",
      "      4/100         0G          0      15.18          0          0        640:  76%|███████▌  | 57/75 [07:37<02:14,  7.50s/it]\n",
      "      4/100         0G          0      15.18          0          0        640:  77%|███████▋  | 58/75 [07:37<02:04,  7.34s/it]\n",
      "      4/100         0G          0       15.1          0          0        640:  77%|███████▋  | 58/75 [07:45<02:04,  7.34s/it]\n",
      "      4/100         0G          0       15.1          0          0        640:  79%|███████▊  | 59/75 [07:45<01:56,  7.27s/it]\n",
      "      4/100         0G          0      15.02          0          0        640:  79%|███████▊  | 59/75 [07:51<01:56,  7.27s/it]\n",
      "      4/100         0G          0      15.02          0          0        640:  80%|████████  | 60/75 [07:51<01:47,  7.16s/it]\n",
      "      4/100         0G          0      14.95          0          0        640:  80%|████████  | 60/75 [07:59<01:47,  7.16s/it]\n",
      "      4/100         0G          0      14.95          0          0        640:  81%|████████▏ | 61/75 [07:59<01:39,  7.13s/it]\n",
      "      4/100         0G          0      14.87          0          0        640:  81%|████████▏ | 61/75 [08:06<01:39,  7.13s/it]\n",
      "      4/100         0G          0      14.87          0          0        640:  83%|████████▎ | 62/75 [08:06<01:33,  7.20s/it]\n",
      "      4/100         0G          0      14.79          0          0        640:  83%|████████▎ | 62/75 [08:14<01:33,  7.20s/it]\n",
      "      4/100         0G          0      14.79          0          0        640:  84%|████████▍ | 63/75 [08:14<01:28,  7.34s/it]\n",
      "      4/100         0G          0      14.71          0          0        640:  84%|████████▍ | 63/75 [08:20<01:28,  7.34s/it]\n",
      "      4/100         0G          0      14.71          0          0        640:  85%|████████▌ | 64/75 [08:20<01:19,  7.19s/it]\n",
      "      4/100         0G          0      14.64          0          0        640:  85%|████████▌ | 64/75 [08:27<01:19,  7.19s/it]\n",
      "      4/100         0G          0      14.64          0          0        640:  87%|████████▋ | 65/75 [08:27<01:11,  7.12s/it]\n",
      "      4/100         0G          0      14.56          0          0        640:  87%|████████▋ | 65/75 [08:35<01:11,  7.12s/it]\n",
      "      4/100         0G          0      14.56          0          0        640:  88%|████████▊ | 66/75 [08:35<01:05,  7.27s/it]\n",
      "      4/100         0G          0      14.49          0          0        640:  88%|████████▊ | 66/75 [08:42<01:05,  7.27s/it]\n",
      "      4/100         0G          0      14.49          0          0        640:  89%|████████▉ | 67/75 [08:42<00:57,  7.18s/it]\n",
      "      4/100         0G          0      14.41          0          0        640:  89%|████████▉ | 67/75 [08:49<00:57,  7.18s/it]\n",
      "      4/100         0G          0      14.41          0          0        640:  91%|█████████ | 68/75 [08:49<00:50,  7.16s/it]\n",
      "      4/100         0G          0      14.33          0          0        640:  91%|█████████ | 68/75 [08:56<00:50,  7.16s/it]\n",
      "      4/100         0G          0      14.33          0          0        640:  92%|█████████▏| 69/75 [08:56<00:42,  7.05s/it]\n",
      "      4/100         0G          0      14.26          0          0        640:  92%|█████████▏| 69/75 [09:03<00:42,  7.05s/it]\n",
      "      4/100         0G          0      14.26          0          0        640:  93%|█████████▎| 70/75 [09:03<00:36,  7.22s/it]\n",
      "      4/100         0G          0      14.18          0          0        640:  93%|█████████▎| 70/75 [09:11<00:36,  7.22s/it]\n",
      "      4/100         0G          0      14.18          0          0        640:  95%|█████████▍| 71/75 [09:11<00:29,  7.37s/it]\n",
      "      4/100         0G          0      14.11          0          0        640:  95%|█████████▍| 71/75 [09:18<00:29,  7.37s/it]\n",
      "      4/100         0G          0      14.11          0          0        640:  96%|█████████▌| 72/75 [09:18<00:21,  7.17s/it]\n",
      "      4/100         0G          0      14.03          0          0        640:  96%|█████████▌| 72/75 [09:25<00:21,  7.17s/it]\n",
      "      4/100         0G          0      14.03          0          0        640:  97%|█████████▋| 73/75 [09:25<00:14,  7.16s/it]\n",
      "      4/100         0G          0      13.96          0          0        640:  97%|█████████▋| 73/75 [09:32<00:14,  7.16s/it]\n",
      "      4/100         0G          0      13.96          0          0        640:  99%|█████████▊| 74/75 [09:32<00:07,  7.16s/it]\n",
      "      4/100         0G          0      13.88          0          0        640:  99%|█████████▊| 74/75 [09:39<00:07,  7.16s/it]\n",
      "      4/100         0G          0      13.88          0          0        640: 100%|██████████| 75/75 [09:39<00:00,  7.11s/it]\n",
      "      4/100         0G          0      13.88          0          0        640: 100%|██████████| 75/75 [09:39<00:00,  7.73s/it]\n",
      "\n",
      "                 Class     Images  Instances      Box(P          R      mAP50  mAP50-95):   0%|          | 0/25 [00:00<?, ?it/s]\n",
      "                 Class     Images  Instances      Box(P          R      mAP50  mAP50-95):   4%|▍         | 1/25 [00:03<01:24,  3.50s/it]\n",
      "                 Class     Images  Instances      Box(P          R      mAP50  mAP50-95):   8%|▊         | 2/25 [00:06<01:08,  2.98s/it]\n",
      "                 Class     Images  Instances      Box(P          R      mAP50  mAP50-95):  12%|█▏        | 3/25 [00:09<01:05,  2.96s/it]\n",
      "                 Class     Images  Instances      Box(P          R      mAP50  mAP50-95):  16%|█▌        | 4/25 [00:11<01:01,  2.95s/it]\n",
      "                 Class     Images  Instances      Box(P          R      mAP50  mAP50-95):  20%|██        | 5/25 [00:14<00:56,  2.80s/it]\n",
      "                 Class     Images  Instances      Box(P          R      mAP50  mAP50-95):  24%|██▍       | 6/25 [00:16<00:50,  2.67s/it]\n",
      "                 Class     Images  Instances      Box(P          R      mAP50  mAP50-95):  28%|██▊       | 7/25 [00:19<00:49,  2.77s/it]\n",
      "                 Class     Images  Instances      Box(P          R      mAP50  mAP50-95):  32%|███▏      | 8/25 [00:22<00:46,  2.71s/it]\n",
      "                 Class     Images  Instances      Box(P          R      mAP50  mAP50-95):  36%|███▌      | 9/25 [00:25<00:43,  2.74s/it]\n",
      "                 Class     Images  Instances      Box(P          R      mAP50  mAP50-95):  40%|████      | 10/25 [00:28<00:42,  2.85s/it]\n",
      "                 Class     Images  Instances      Box(P          R      mAP50  mAP50-95):  44%|████▍     | 11/25 [00:30<00:38,  2.75s/it]\n",
      "                 Class     Images  Instances      Box(P          R      mAP50  mAP50-95):  48%|████▊     | 12/25 [00:33<00:37,  2.85s/it]\n",
      "                 Class     Images  Instances      Box(P          R      mAP50  mAP50-95):  52%|█████▏    | 13/25 [00:37<00:36,  3.01s/it]\n",
      "                 Class     Images  Instances      Box(P          R      mAP50  mAP50-95):  56%|█████▌    | 14/25 [00:40<00:32,  2.93s/it]\n",
      "                 Class     Images  Instances      Box(P          R      mAP50  mAP50-95):  60%|██████    | 15/25 [00:43<00:29,  2.97s/it]\n",
      "                 Class     Images  Instances      Box(P          R      mAP50  mAP50-95):  64%|██████▍   | 16/25 [00:46<00:27,  3.01s/it]\n",
      "                 Class     Images  Instances      Box(P          R      mAP50  mAP50-95):  68%|██████▊   | 17/25 [00:49<00:24,  3.00s/it]\n",
      "                 Class     Images  Instances      Box(P          R      mAP50  mAP50-95):  72%|███████▏  | 18/25 [00:52<00:21,  3.04s/it]\n",
      "                 Class     Images  Instances      Box(P          R      mAP50  mAP50-95):  76%|███████▌  | 19/25 [00:55<00:17,  2.98s/it]\n",
      "                 Class     Images  Instances      Box(P          R      mAP50  mAP50-95):  80%|████████  | 20/25 [00:58<00:15,  3.06s/it]\n",
      "                 Class     Images  Instances      Box(P          R      mAP50  mAP50-95):  84%|████████▍ | 21/25 [01:01<00:12,  3.05s/it]\n",
      "                 Class     Images  Instances      Box(P          R      mAP50  mAP50-95):  88%|████████▊ | 22/25 [01:04<00:08,  2.98s/it]\n",
      "                 Class     Images  Instances      Box(P          R      mAP50  mAP50-95):  92%|█████████▏| 23/25 [01:07<00:06,  3.02s/it]\n",
      "                 Class     Images  Instances      Box(P          R      mAP50  mAP50-95):  96%|█████████▌| 24/25 [01:10<00:03,  3.05s/it]\n",
      "                 Class     Images  Instances      Box(P          R      mAP50  mAP50-95): 100%|██████████| 25/25 [01:13<00:00,  3.02s/it]\n",
      "                 Class     Images  Instances      Box(P          R      mAP50  mAP50-95): 100%|██████████| 25/25 [01:13<00:00,  2.94s/it]\n",
      "\n",
      "  0%|          | 0/75 [00:00<?, ?it/s]\n",
      "      5/100         0G          0      8.129          0          0        640:   0%|          | 0/75 [00:06<?, ?it/s]\n",
      "      5/100         0G          0      8.129          0          0        640:   1%|▏         | 1/75 [00:06<08:12,  6.65s/it]\n",
      "      5/100         0G          0      8.174          0          0        640:   1%|▏         | 1/75 [00:13<08:12,  6.65s/it]\n",
      "      5/100         0G          0      8.174          0          0        640:   3%|▎         | 2/75 [00:13<08:21,  6.87s/it]\n",
      "      5/100         0G          0      8.175          0          0        640:   3%|▎         | 2/75 [00:21<08:21,  6.87s/it]\n",
      "      5/100         0G          0      8.175          0          0        640:   4%|▍         | 3/75 [00:21<08:34,  7.15s/it]\n",
      "      5/100         0G          0      8.071          0          0        640:   4%|▍         | 3/75 [00:28<08:34,  7.15s/it]\n",
      "      5/100         0G          0      8.071          0          0        640:   5%|▌         | 4/75 [00:28<08:35,  7.26s/it]\n",
      "      5/100         0G          0      8.124          0          0        640:   5%|▌         | 4/75 [00:35<08:35,  7.26s/it]\n",
      "      5/100         0G          0      8.124          0          0        640:   7%|▋         | 5/75 [00:35<08:26,  7.23s/it]\n",
      "      5/100         0G          0      8.065          0          0        640:   7%|▋         | 5/75 [00:42<08:26,  7.23s/it]\n",
      "      5/100         0G          0      8.065          0          0        640:   8%|▊         | 6/75 [00:42<08:10,  7.10s/it]\n",
      "      5/100         0G          0      8.026          0          0        640:   8%|▊         | 6/75 [00:50<08:10,  7.10s/it]\n",
      "      5/100         0G          0      8.026          0          0        640:   9%|▉         | 7/75 [00:50<08:11,  7.23s/it]\n",
      "      5/100         0G          0      7.992          0          0        640:   9%|▉         | 7/75 [00:57<08:11,  7.23s/it]\n",
      "      5/100         0G          0      7.992          0          0        640:  11%|█         | 8/75 [00:57<07:58,  7.14s/it]\n",
      "      5/100         0G          0      7.989          0          0        640:  11%|█         | 8/75 [01:04<07:58,  7.14s/it]\n",
      "      5/100         0G          0      7.989          0          0        640:  12%|█▏        | 9/75 [01:04<07:53,  7.18s/it]\n",
      "      5/100         0G          0      7.951          0          0        640:  12%|█▏        | 9/75 [01:11<07:53,  7.18s/it]\n",
      "      5/100         0G          0      7.951          0          0        640:  13%|█▎        | 10/75 [01:11<07:47,  7.20s/it]\n",
      "      5/100         0G          0      7.929          0          0        640:  13%|█▎        | 10/75 [01:19<07:47,  7.20s/it]\n",
      "      5/100         0G          0      7.929          0          0        640:  15%|█▍        | 11/75 [01:19<07:53,  7.39s/it]\n",
      "      5/100         0G          0      7.853          0          0        640:  15%|█▍        | 11/75 [01:26<07:53,  7.39s/it]\n",
      "      5/100         0G          0      7.853          0          0        640:  16%|█▌        | 12/75 [01:26<07:41,  7.32s/it]\n",
      "      5/100         0G          0      7.793          0          0        640:  16%|█▌        | 12/75 [01:33<07:41,  7.32s/it]\n",
      "      5/100         0G          0      7.793          0          0        640:  17%|█▋        | 13/75 [01:33<07:27,  7.21s/it]\n",
      "      5/100         0G          0      7.738          0          0        640:  17%|█▋        | 13/75 [01:40<07:27,  7.21s/it]\n",
      "      5/100         0G          0      7.738          0          0        640:  19%|█▊        | 14/75 [01:40<07:09,  7.04s/it]\n",
      "      5/100         0G          0      7.689          0          0        640:  19%|█▊        | 14/75 [01:47<07:09,  7.04s/it]\n",
      "      5/100         0G          0      7.689          0          0        640:  20%|██        | 15/75 [01:47<07:06,  7.11s/it]\n",
      "      5/100         0G          0      7.624          0          0        640:  20%|██        | 15/75 [01:54<07:06,  7.11s/it]\n",
      "      5/100         0G          0      7.624          0          0        640:  21%|██▏       | 16/75 [01:54<06:53,  7.00s/it]\n",
      "      5/100         0G          0      7.564          0          0        640:  21%|██▏       | 16/75 [02:01<06:53,  7.00s/it]\n",
      "      5/100         0G          0      7.564          0          0        640:  23%|██▎       | 17/75 [02:01<06:52,  7.11s/it]\n",
      "      5/100         0G          0      7.525          0          0        640:  23%|██▎       | 17/75 [02:08<06:52,  7.11s/it]\n",
      "      5/100         0G          0      7.525          0          0        640:  24%|██▍       | 18/75 [02:08<06:50,  7.19s/it]\n",
      "      5/100         0G          0      7.478          0          0        640:  24%|██▍       | 18/75 [02:16<06:50,  7.19s/it]\n",
      "      5/100         0G          0      7.478          0          0        640:  25%|██▌       | 19/75 [02:16<06:48,  7.29s/it]\n",
      "      5/100         0G          0      7.428          0          0        640:  25%|██▌       | 19/75 [02:23<06:48,  7.29s/it]\n",
      "      5/100         0G          0      7.428          0          0        640:  27%|██▋       | 20/75 [02:23<06:30,  7.10s/it]\n",
      "      5/100         0G          0      7.386          0          0        640:  27%|██▋       | 20/75 [02:30<06:30,  7.10s/it]\n",
      "      5/100         0G          0      7.386          0          0        640:  28%|██▊       | 21/75 [02:30<06:21,  7.07s/it]\n",
      "      5/100         0G          0      7.343          0          0        640:  28%|██▊       | 21/75 [02:37<06:21,  7.07s/it]\n",
      "      5/100         0G          0      7.343          0          0        640:  29%|██▉       | 22/75 [02:37<06:15,  7.08s/it]\n",
      "      5/100         0G          0      7.306          0          0        640:  29%|██▉       | 22/75 [02:44<06:15,  7.08s/it]\n",
      "      5/100         0G          0      7.306          0          0        640:  31%|███       | 23/75 [02:44<06:11,  7.15s/it]\n",
      "      5/100         0G          0      7.251          0          0        640:  31%|███       | 23/75 [02:51<06:11,  7.15s/it]\n",
      "      5/100         0G          0      7.251          0          0        640:  32%|███▏      | 24/75 [02:51<06:04,  7.14s/it]\n",
      "      5/100         0G          0        7.2          0          0        640:  32%|███▏      | 24/75 [02:59<06:04,  7.14s/it]\n",
      "      5/100         0G          0        7.2          0          0        640:  33%|███▎      | 25/75 [02:59<06:01,  7.23s/it]\n",
      "      5/100         0G          0      7.153          0          0        640:  33%|███▎      | 25/75 [03:06<06:01,  7.23s/it]\n",
      "      5/100         0G          0      7.153          0          0        640:  35%|███▍      | 26/75 [03:06<05:56,  7.27s/it]\n",
      "      5/100         0G          0      7.111          0          0        640:  35%|███▍      | 26/75 [03:13<05:56,  7.27s/it]\n",
      "      5/100         0G          0      7.111          0          0        640:  36%|███▌      | 27/75 [03:13<05:50,  7.31s/it]\n",
      "      5/100         0G          0      7.061          0          0        640:  36%|███▌      | 27/75 [03:20<05:50,  7.31s/it]\n",
      "      5/100         0G          0      7.061          0          0        640:  37%|███▋      | 28/75 [03:20<05:37,  7.19s/it]\n",
      "      5/100         0G          0      7.013          0          0        640:  37%|███▋      | 28/75 [03:27<05:37,  7.19s/it]\n",
      "      5/100         0G          0      7.013          0          0        640:  39%|███▊      | 29/75 [03:27<05:28,  7.14s/it]\n",
      "      5/100         0G          0      6.969          0          0        640:  39%|███▊      | 29/75 [03:35<05:28,  7.14s/it]\n",
      "      5/100         0G          0      6.969          0          0        640:  40%|████      | 30/75 [03:35<05:24,  7.20s/it]\n",
      "      5/100         0G          0      6.927          0          0        640:  40%|████      | 30/75 [03:42<05:24,  7.20s/it]\n",
      "      5/100         0G          0      6.927          0          0        640:  41%|████▏     | 31/75 [03:42<05:15,  7.16s/it]\n",
      "      5/100         0G          0      6.877          0          0        640:  41%|████▏     | 31/75 [03:48<05:15,  7.16s/it]\n",
      "      5/100         0G          0      6.877          0          0        640:  43%|████▎     | 32/75 [03:48<05:02,  7.03s/it]\n",
      "      5/100         0G          0      6.831          0          0        640:  43%|████▎     | 32/75 [03:56<05:02,  7.03s/it]\n",
      "      5/100         0G          0      6.831          0          0        640:  44%|████▍     | 33/75 [03:56<04:59,  7.12s/it]\n",
      "      5/100         0G          0      6.786          0          0        640:  44%|████▍     | 33/75 [04:03<04:59,  7.12s/it]\n",
      "      5/100         0G          0      6.786          0          0        640:  45%|████▌     | 34/75 [04:03<04:54,  7.18s/it]\n",
      "      5/100         0G          0      6.745          0          0        640:  45%|████▌     | 34/75 [04:10<04:54,  7.18s/it]\n",
      "      5/100         0G          0      6.745          0          0        640:  47%|████▋     | 35/75 [04:10<04:48,  7.22s/it]\n",
      "      5/100         0G          0      6.697          0          0        640:  47%|████▋     | 35/75 [04:18<04:48,  7.22s/it]\n",
      "      5/100         0G          0      6.697          0          0        640:  48%|████▊     | 36/75 [04:18<04:41,  7.21s/it]\n",
      "      5/100         0G          0      6.652          0          0        640:  48%|████▊     | 36/75 [04:25<04:41,  7.21s/it]\n",
      "      5/100         0G          0      6.652          0          0        640:  49%|████▉     | 37/75 [04:25<04:32,  7.16s/it]\n",
      "      5/100         0G          0       6.61          0          0        640:  49%|████▉     | 37/75 [04:32<04:32,  7.16s/it]\n",
      "      5/100         0G          0       6.61          0          0        640:  51%|█████     | 38/75 [04:32<04:22,  7.09s/it]\n",
      "      5/100         0G          0      6.569          0          0        640:  51%|█████     | 38/75 [04:39<04:22,  7.09s/it]\n",
      "      5/100         0G          0      6.569          0          0        640:  52%|█████▏    | 39/75 [04:39<04:17,  7.15s/it]\n",
      "      5/100         0G          0      6.522          0          0        640:  52%|█████▏    | 39/75 [04:46<04:17,  7.15s/it]\n",
      "      5/100         0G          0      6.522          0          0        640:  53%|█████▎    | 40/75 [04:46<04:07,  7.07s/it]\n",
      "      5/100         0G          0      6.479          0          0        640:  53%|█████▎    | 40/75 [04:53<04:07,  7.07s/it]\n",
      "      5/100         0G          0      6.479          0          0        640:  55%|█████▍    | 41/75 [04:53<04:03,  7.17s/it]\n",
      "      5/100         0G          0      6.437          0          0        640:  55%|█████▍    | 41/75 [05:01<04:03,  7.17s/it]\n",
      "      5/100         0G          0      6.437          0          0        640:  56%|█████▌    | 42/75 [05:01<04:01,  7.31s/it]\n",
      "      5/100         0G          0      6.397          0          0        640:  56%|█████▌    | 42/75 [05:08<04:01,  7.31s/it]\n",
      "      5/100         0G          0      6.397          0          0        640:  57%|█████▋    | 43/75 [05:08<03:55,  7.36s/it]\n",
      "      5/100         0G          0      6.353          0          0        640:  57%|█████▋    | 43/75 [05:15<03:55,  7.36s/it]\n",
      "      5/100         0G          0      6.353          0          0        640:  59%|█████▊    | 44/75 [05:15<03:42,  7.16s/it]\n",
      "      5/100         0G          0       6.31          0          0        640:  59%|█████▊    | 44/75 [05:22<03:42,  7.16s/it]\n",
      "      5/100         0G          0       6.31          0          0        640:  60%|██████    | 45/75 [05:22<03:33,  7.10s/it]\n",
      "      5/100         0G          0       6.27          0          0        640:  60%|██████    | 45/75 [05:29<03:33,  7.10s/it]\n",
      "      5/100         0G          0       6.27          0          0        640:  61%|██████▏   | 46/75 [05:29<03:25,  7.08s/it]\n",
      "      5/100         0G          0      6.231          0          0        640:  61%|██████▏   | 46/75 [05:36<03:25,  7.08s/it]\n",
      "      5/100         0G          0      6.231          0          0        640:  63%|██████▎   | 47/75 [05:36<03:20,  7.14s/it]\n",
      "      5/100         0G          0       6.19          0          0        640:  63%|██████▎   | 47/75 [05:43<03:20,  7.14s/it]\n",
      "      5/100         0G          0       6.19          0          0        640:  64%|██████▍   | 48/75 [05:43<03:11,  7.08s/it]\n",
      "      5/100         0G          0      6.148          0          0        640:  64%|██████▍   | 48/75 [05:50<03:11,  7.08s/it]\n",
      "      5/100         0G          0      6.148          0          0        640:  65%|██████▌   | 49/75 [05:50<03:05,  7.14s/it]\n",
      "      5/100         0G          0      6.109          0          0        640:  65%|██████▌   | 49/75 [05:58<03:05,  7.14s/it]\n",
      "      5/100         0G          0      6.109          0          0        640:  67%|██████▋   | 50/75 [05:58<03:01,  7.25s/it]\n",
      "      5/100         0G          0      6.071          0          0        640:  67%|██████▋   | 50/75 [06:05<03:01,  7.25s/it]\n",
      "      5/100         0G          0      6.071          0          0        640:  68%|██████▊   | 51/75 [06:05<02:55,  7.31s/it]\n",
      "      5/100         0G          0       6.03          0          0        640:  68%|██████▊   | 51/75 [06:12<02:55,  7.31s/it]\n",
      "      5/100         0G          0       6.03          0          0        640:  69%|██████▉   | 52/75 [06:12<02:43,  7.12s/it]\n",
      "      5/100         0G          0       5.99          0          0        640:  69%|██████▉   | 52/75 [06:19<02:43,  7.12s/it]\n",
      "      5/100         0G          0       5.99          0          0        640:  71%|███████   | 53/75 [06:19<02:34,  7.03s/it]\n",
      "      5/100         0G          0      5.952          0          0        640:  71%|███████   | 53/75 [06:26<02:34,  7.03s/it]\n",
      "      5/100         0G          0      5.952          0          0        640:  72%|███████▏  | 54/75 [06:26<02:27,  7.02s/it]\n",
      "      5/100         0G          0      5.915          0          0        640:  72%|███████▏  | 54/75 [06:33<02:27,  7.02s/it]\n",
      "      5/100         0G          0      5.915          0          0        640:  73%|███████▎  | 55/75 [06:33<02:20,  7.03s/it]\n",
      "      5/100         0G          0      5.875          0          0        640:  73%|███████▎  | 55/75 [06:40<02:20,  7.03s/it]\n",
      "      5/100         0G          0      5.875          0          0        640:  75%|███████▍  | 56/75 [06:40<02:14,  7.08s/it]\n",
      "      5/100         0G          0      5.839          0          0        640:  75%|███████▍  | 56/75 [06:48<02:14,  7.08s/it]\n",
      "      5/100         0G          0      5.839          0          0        640:  76%|███████▌  | 57/75 [06:48<02:09,  7.18s/it]\n",
      "      5/100         0G          0      5.801          0          0        640:  76%|███████▌  | 57/75 [06:55<02:09,  7.18s/it]\n",
      "      5/100         0G          0      5.801          0          0        640:  77%|███████▋  | 58/75 [06:55<02:01,  7.15s/it]\n",
      "      5/100         0G          0      5.766          0          0        640:  77%|███████▋  | 58/75 [07:03<02:01,  7.15s/it]\n",
      "      5/100         0G          0      5.766          0          0        640:  79%|███████▊  | 59/75 [07:03<01:58,  7.39s/it]\n",
      "      5/100         0G          0      5.727          0          0        640:  79%|███████▊  | 59/75 [07:09<01:58,  7.39s/it]\n",
      "      5/100         0G          0      5.727          0          0        640:  80%|████████  | 60/75 [07:09<01:48,  7.21s/it]\n",
      "      5/100         0G          0      5.689          0          0        640:  80%|████████  | 60/75 [07:17<01:48,  7.21s/it]\n",
      "      5/100         0G          0      5.689          0          0        640:  81%|████████▏ | 61/75 [07:17<01:40,  7.20s/it]\n",
      "      5/100         0G          0      5.653          0          0        640:  81%|████████▏ | 61/75 [07:24<01:40,  7.20s/it]\n",
      "      5/100         0G          0      5.653          0          0        640:  83%|████████▎ | 62/75 [07:24<01:32,  7.15s/it]\n",
      "      5/100         0G          0      5.618          0          0        640:  83%|████████▎ | 62/75 [07:31<01:32,  7.15s/it]\n",
      "      5/100         0G          0      5.618          0          0        640:  84%|████████▍ | 63/75 [07:31<01:26,  7.24s/it]\n",
      "      5/100         0G          0      5.581          0          0        640:  84%|████████▍ | 63/75 [07:38<01:26,  7.24s/it]\n",
      "      5/100         0G          0      5.581          0          0        640:  85%|████████▌ | 64/75 [07:38<01:19,  7.21s/it]\n",
      "      5/100         0G          0      5.545          0          0        640:  85%|████████▌ | 64/75 [07:46<01:19,  7.21s/it]\n",
      "      5/100         0G          0      5.545          0          0        640:  87%|████████▋ | 65/75 [07:46<01:13,  7.33s/it]\n",
      "      5/100         0G          0       5.51          0          0        640:  87%|████████▋ | 65/75 [07:53<01:13,  7.33s/it]\n",
      "      5/100         0G          0       5.51          0          0        640:  88%|████████▊ | 66/75 [07:53<01:06,  7.39s/it]\n",
      "      5/100         0G          0      5.477          0          0        640:  88%|████████▊ | 66/75 [08:00<01:06,  7.39s/it]\n",
      "      5/100         0G          0      5.477          0          0        640:  89%|████████▉ | 67/75 [08:00<00:58,  7.27s/it]\n",
      "      5/100         0G          0       5.44          0          0        640:  89%|████████▉ | 67/75 [08:07<00:58,  7.27s/it]\n",
      "      5/100         0G          0       5.44          0          0        640:  91%|█████████ | 68/75 [08:07<00:49,  7.07s/it]\n",
      "      5/100         0G          0      5.404          0          0        640:  91%|█████████ | 68/75 [08:13<00:49,  7.07s/it]\n",
      "      5/100         0G          0      5.404          0          0        640:  92%|█████████▏| 69/75 [08:13<00:40,  6.82s/it]\n",
      "      5/100         0G          0       5.37          0          0        640:  92%|█████████▏| 69/75 [08:19<00:40,  6.82s/it]\n",
      "      5/100         0G          0       5.37          0          0        640:  93%|█████████▎| 70/75 [08:19<00:33,  6.67s/it]\n",
      "      5/100         0G          0      5.337          0          0        640:  93%|█████████▎| 70/75 [08:27<00:33,  6.67s/it]\n",
      "      5/100         0G          0      5.337          0          0        640:  95%|█████████▍| 71/75 [08:27<00:27,  6.82s/it]\n",
      "      5/100         0G          0      5.302          0          0        640:  95%|█████████▍| 71/75 [08:34<00:27,  6.82s/it]\n",
      "      5/100         0G          0      5.302          0          0        640:  96%|█████████▌| 72/75 [08:34<00:20,  6.98s/it]\n",
      "      5/100         0G          0      5.268          0          0        640:  96%|█████████▌| 72/75 [08:41<00:20,  6.98s/it]\n",
      "      5/100         0G          0      5.268          0          0        640:  97%|█████████▋| 73/75 [08:41<00:13,  7.00s/it]\n",
      "      5/100         0G          0      5.235          0          0        640:  97%|█████████▋| 73/75 [08:47<00:13,  7.00s/it]\n",
      "      5/100         0G          0      5.235          0          0        640:  99%|█████████▊| 74/75 [08:47<00:06,  6.60s/it]\n",
      "      5/100         0G          0      5.203          0          0        640:  99%|█████████▊| 74/75 [08:52<00:06,  6.60s/it]\n",
      "      5/100         0G          0      5.203          0          0        640: 100%|██████████| 75/75 [08:52<00:00,  6.16s/it]\n",
      "      5/100         0G          0      5.203          0          0        640: 100%|██████████| 75/75 [08:52<00:00,  7.10s/it]\n",
      "\n",
      "                 Class     Images  Instances      Box(P          R      mAP50  mAP50-95):   0%|          | 0/25 [00:00<?, ?it/s]\n",
      "                 Class     Images  Instances      Box(P          R      mAP50  mAP50-95):   4%|▍         | 1/25 [00:02<00:57,  2.41s/it]\n",
      "                 Class     Images  Instances      Box(P          R      mAP50  mAP50-95):   8%|▊         | 2/25 [00:04<00:51,  2.25s/it]\n",
      "                 Class     Images  Instances      Box(P          R      mAP50  mAP50-95):  12%|█▏        | 3/25 [00:06<00:47,  2.15s/it]\n",
      "                 Class     Images  Instances      Box(P          R      mAP50  mAP50-95):  16%|█▌        | 4/25 [00:08<00:43,  2.07s/it]\n",
      "                 Class     Images  Instances      Box(P          R      mAP50  mAP50-95):  20%|██        | 5/25 [00:10<00:39,  1.97s/it]\n",
      "                 Class     Images  Instances      Box(P          R      mAP50  mAP50-95):  24%|██▍       | 6/25 [00:12<00:37,  1.99s/it]\n",
      "                 Class     Images  Instances      Box(P          R      mAP50  mAP50-95):  28%|██▊       | 7/25 [00:14<00:36,  2.02s/it]\n",
      "                 Class     Images  Instances      Box(P          R      mAP50  mAP50-95):  32%|███▏      | 8/25 [00:16<00:34,  2.01s/it]\n",
      "                 Class     Images  Instances      Box(P          R      mAP50  mAP50-95):  36%|███▌      | 9/25 [00:18<00:31,  1.95s/it]\n",
      "                 Class     Images  Instances      Box(P          R      mAP50  mAP50-95):  40%|████      | 10/25 [00:20<00:29,  1.97s/it]\n",
      "                 Class     Images  Instances      Box(P          R      mAP50  mAP50-95):  44%|████▍     | 11/25 [00:22<00:28,  2.02s/it]\n",
      "                 Class     Images  Instances      Box(P          R      mAP50  mAP50-95):  48%|████▊     | 12/25 [00:24<00:26,  2.05s/it]\n",
      "                 Class     Images  Instances      Box(P          R      mAP50  mAP50-95):  52%|█████▏    | 13/25 [00:26<00:25,  2.17s/it]\n",
      "                 Class     Images  Instances      Box(P          R      mAP50  mAP50-95):  56%|█████▌    | 14/25 [00:29<00:23,  2.15s/it]\n",
      "                 Class     Images  Instances      Box(P          R      mAP50  mAP50-95):  60%|██████    | 15/25 [00:31<00:21,  2.17s/it]\n",
      "                 Class     Images  Instances      Box(P          R      mAP50  mAP50-95):  64%|██████▍   | 16/25 [00:33<00:19,  2.16s/it]\n",
      "                 Class     Images  Instances      Box(P          R      mAP50  mAP50-95):  68%|██████▊   | 17/25 [00:35<00:17,  2.18s/it]\n",
      "                 Class     Images  Instances      Box(P          R      mAP50  mAP50-95):  72%|███████▏  | 18/25 [00:37<00:15,  2.20s/it]\n",
      "                 Class     Images  Instances      Box(P          R      mAP50  mAP50-95):  76%|███████▌  | 19/25 [00:40<00:13,  2.20s/it]\n",
      "                 Class     Images  Instances      Box(P          R      mAP50  mAP50-95):  80%|████████  | 20/25 [00:42<00:11,  2.25s/it]\n",
      "                 Class     Images  Instances      Box(P          R      mAP50  mAP50-95):  84%|████████▍ | 21/25 [00:44<00:08,  2.20s/it]\n",
      "                 Class     Images  Instances      Box(P          R      mAP50  mAP50-95):  88%|████████▊ | 22/25 [00:46<00:06,  2.23s/it]\n",
      "                 Class     Images  Instances      Box(P          R      mAP50  mAP50-95):  92%|█████████▏| 23/25 [00:49<00:04,  2.21s/it]\n",
      "                 Class     Images  Instances      Box(P          R      mAP50  mAP50-95):  96%|█████████▌| 24/25 [00:51<00:02,  2.23s/it]\n",
      "                 Class     Images  Instances      Box(P          R      mAP50  mAP50-95): 100%|██████████| 25/25 [00:53<00:00,  2.25s/it]\n",
      "                 Class     Images  Instances      Box(P          R      mAP50  mAP50-95): 100%|██████████| 25/25 [00:53<00:00,  2.14s/it]\n",
      "Traceback (most recent call last):\n",
      "  File \"<frozen runpy>\", line 198, in _run_module_as_main\n",
      "  File \"<frozen runpy>\", line 88, in _run_code\n",
      "  File \"C:\\Users\\user\\AppData\\Local\\Programs\\Python\\Python311\\Scripts\\yolo.exe\\__main__.py\", line 7, in <module>\n",
      "  File \"C:\\Users\\user\\AppData\\Local\\Programs\\Python\\Python311\\Lib\\site-packages\\ultralytics\\cfg\\__init__.py\", line 582, in entrypoint\n",
      "    getattr(model, mode)(**overrides)  # default args from model\n",
      "    ^^^^^^^^^^^^^^^^^^^^^^^^^^^^^^^^^\n",
      "  File \"C:\\Users\\user\\AppData\\Local\\Programs\\Python\\Python311\\Lib\\site-packages\\ultralytics\\engine\\model.py\", line 667, in train\n",
      "    self.trainer.train()\n",
      "  File \"C:\\Users\\user\\AppData\\Local\\Programs\\Python\\Python311\\Lib\\site-packages\\ultralytics\\engine\\trainer.py\", line 213, in train\n",
      "    self._do_train(world_size)\n",
      "  File \"C:\\Users\\user\\AppData\\Local\\Programs\\Python\\Python311\\Lib\\site-packages\\ultralytics\\engine\\trainer.py\", line 429, in _do_train\n",
      "    self.metrics, self.fitness = self.validate()\n",
      "                                 ^^^^^^^^^^^^^^^\n",
      "  File \"C:\\Users\\user\\AppData\\Local\\Programs\\Python\\Python311\\Lib\\site-packages\\ultralytics\\engine\\trainer.py\", line 551, in validate\n",
      "    metrics = self.validator(self)\n",
      "              ^^^^^^^^^^^^^^^^^^^^\n",
      "  File \"C:\\Users\\user\\AppData\\Local\\Programs\\Python\\Python311\\Lib\\site-packages\\torch\\utils\\_contextlib.py\", line 115, in decorate_context\n",
      "    return func(*args, **kwargs)\n",
      "           ^^^^^^^^^^^^^^^^^^^^^\n",
      "  File \"C:\\Users\\user\\AppData\\Local\\Programs\\Python\\Python311\\Lib\\site-packages\\ultralytics\\engine\\validator.py\", line 195, in __call__\n",
      "    stats = self.get_stats()\n",
      "            ^^^^^^^^^^^^^^^^\n",
      "  File \"C:\\Users\\user\\AppData\\Local\\Programs\\Python\\Python311\\Lib\\site-packages\\ultralytics\\models\\yolo\\detect\\val.py\", line 168, in get_stats\n",
      "    stats = {k: torch.cat(v, 0).cpu().numpy() for k, v in self.stats.items()}  # to numpy\n",
      "            ^^^^^^^^^^^^^^^^^^^^^^^^^^^^^^^^^^^^^^^^^^^^^^^^^^^^^^^^^^^^^^^^^\n",
      "  File \"C:\\Users\\user\\AppData\\Local\\Programs\\Python\\Python311\\Lib\\site-packages\\ultralytics\\models\\yolo\\detect\\val.py\", line 168, in <dictcomp>\n",
      "    stats = {k: torch.cat(v, 0).cpu().numpy() for k, v in self.stats.items()}  # to numpy\n",
      "                ^^^^^^^^^^^^^^^\n",
      "RuntimeError: torch.cat(): expected a non-empty list of Tensors\n"
     ]
    }
   ],
   "source": [
    "# Function to convert XML annotations to YOLO format\n",
    "def convert_xml_to_yolo(xml_folder, output_folder, class_mapping):\n",
    "    # Create output folder if it doesn't exist\n",
    "    os.makedirs(output_folder, exist_ok=True)\n",
    "\n",
    "    # Loop through each XML file in the XML folder\n",
    "    for xml_file in os.listdir(xml_folder):\n",
    "        if xml_file.endswith('.xml'):\n",
    "            xml_path = os.path.join(xml_folder, xml_file)\n",
    "            # Parse XML\n",
    "            tree = ET.parse(xml_path)\n",
    "            root = tree.getroot()\n",
    "\n",
    "            # Get image width and height\n",
    "            size = root.find('size')\n",
    "            width = int(size.find('width').text)\n",
    "            height = int(size.find('height').text)\n",
    "\n",
    "            # Create output file\n",
    "            txt_file = os.path.splitext(xml_file)[0] + '.txt'\n",
    "            txt_path = os.path.join(output_folder, txt_file)\n",
    "\n",
    "            # Open output file\n",
    "            with open(txt_path, 'w') as txt_file:\n",
    "                # Loop through each object in XML\n",
    "                for obj in root.findall('object'):\n",
    "                    class_name = obj.find('name').text\n",
    "                    # Check if class exists in class_mapping\n",
    "                    if class_name in class_mapping:\n",
    "                        class_id = class_mapping[class_name]\n",
    "                        bbox = obj.find('bndbox')\n",
    "                        xmin = float(bbox.find('xmin').text)\n",
    "                        ymin = float(bbox.find('ymin').text)\n",
    "                        xmax = float(bbox.find('xmax').text)\n",
    "                        ymax = float(bbox.find('ymax').text)\n",
    "\n",
    "                        # Convert bounding box coordinates to YOLO format\n",
    "                        x_center = (xmin + xmax) / (2 * width)\n",
    "                        y_center = (ymin + ymax) / (2 * height)\n",
    "                        bbox_width = (xmax - xmin) / width\n",
    "                        bbox_height = (ymax - ymin) / height\n",
    "\n",
    "                        # Write to output file in YOLO format\n",
    "                        txt_file.write(f\"{class_id} {x_center} {y_center} {bbox_width} {bbox_height}\\n\")\n",
    "\n",
    "# Example usage\n",
    "xml_folder = 'D:\\Engineering\\SEM6\\PROJECTS\\DeepLearning\\FloatingWaste-I-master\\dataset_test\\Annotations'   # Path to folder containing XML annotations\n",
    "output_folder = 'D:\\Engineering\\SEM6\\PROJECTS\\DeepLearning\\FloatingWaste-I-master\\dataset_test\\labels'  # Output folder for YOLO annotations\n",
    "class_mapping = {'bottle':0, 'carton':1, 'plastic':2, 'paper':3}  # Mapping of class names to class IDs\n",
    "\n",
    "\n",
    "convert_xml_to_yolo(xml_folder, output_folder, class_mapping)\n",
    "\n"
   ]
  },
  {
   "cell_type": "code",
   "execution_count": null,
   "metadata": {},
   "outputs": [
    {
     "name": "stdout",
     "output_type": "stream",
     "text": [
      "New https://pypi.org/project/ultralytics/8.3.25 available  Update with 'pip install -U ultralytics'\n",
      "Ultralytics 8.3.18  Python-3.12.3 torch-2.4.1+cu118 CUDA:0 (NVIDIA GeForce RTX 3060, 8192MiB)\n",
      "\u001b[34m\u001b[1mengine\\trainer: \u001b[0mtask=detect, mode=train, model=yolov8s.pt, data=C:\\Users\\user\\Desktop\\anisha_dl\\FloatingWaste-I-master\\data.yaml, epochs=40, time=None, patience=100, batch=16, imgsz=640, save=True, save_period=-1, cache=False, device=None, workers=8, project=None, name=train40, exist_ok=False, pretrained=True, optimizer=auto, verbose=True, seed=0, deterministic=True, single_cls=False, rect=False, cos_lr=False, close_mosaic=10, resume=False, amp=True, fraction=1.0, profile=False, freeze=None, multi_scale=False, overlap_mask=True, mask_ratio=4, dropout=0.0, val=True, split=val, save_json=False, save_hybrid=False, conf=None, iou=0.7, max_det=300, half=False, dnn=False, plots=True, source=None, vid_stride=1, stream_buffer=False, visualize=False, augment=False, agnostic_nms=False, classes=None, retina_masks=False, embed=None, show=False, save_frames=False, save_txt=False, save_conf=False, save_crop=False, show_labels=True, show_conf=True, show_boxes=True, line_width=None, format=torchscript, keras=False, optimize=False, int8=False, dynamic=False, simplify=True, opset=None, workspace=4, nms=False, lr0=0.01, lrf=0.01, momentum=0.937, weight_decay=0.0005, warmup_epochs=3.0, warmup_momentum=0.8, warmup_bias_lr=0.1, box=7.5, cls=0.5, dfl=1.5, pose=12.0, kobj=1.0, label_smoothing=0.0, nbs=64, hsv_h=0.015, hsv_s=0.7, hsv_v=0.4, degrees=0.0, translate=0.1, scale=0.5, shear=0.0, perspective=0.0, flipud=0.0, fliplr=0.5, bgr=0.0, mosaic=1.0, mixup=0.0, copy_paste=0.0, copy_paste_mode=flip, auto_augment=randaugment, erasing=0.4, crop_fraction=1.0, cfg=None, tracker=botsort.yaml, save_dir=runs\\detect\\train40\n",
      "Overriding model.yaml nc=80 with nc=4\n",
      "\n",
      "                   from  n    params  module                                       arguments                     \n",
      "  0                  -1  1       928  ultralytics.nn.modules.conv.Conv             [3, 32, 3, 2]                 \n",
      "  1                  -1  1     18560  ultralytics.nn.modules.conv.Conv             [32, 64, 3, 2]                \n",
      "  2                  -1  1     29056  ultralytics.nn.modules.block.C2f             [64, 64, 1, True]             \n",
      "  3                  -1  1     73984  ultralytics.nn.modules.conv.Conv             [64, 128, 3, 2]               \n",
      "  4                  -1  2    197632  ultralytics.nn.modules.block.C2f             [128, 128, 2, True]           \n",
      "  5                  -1  1    295424  ultralytics.nn.modules.conv.Conv             [128, 256, 3, 2]              \n",
      "  6                  -1  2    788480  ultralytics.nn.modules.block.C2f             [256, 256, 2, True]           \n",
      "  7                  -1  1   1180672  ultralytics.nn.modules.conv.Conv             [256, 512, 3, 2]              \n",
      "  8                  -1  1   1838080  ultralytics.nn.modules.block.C2f             [512, 512, 1, True]           \n",
      "  9                  -1  1    656896  ultralytics.nn.modules.block.SPPF            [512, 512, 5]                 \n",
      " 10                  -1  1         0  torch.nn.modules.upsampling.Upsample         [None, 2, 'nearest']          \n",
      " 11             [-1, 6]  1         0  ultralytics.nn.modules.conv.Concat           [1]                           \n",
      " 12                  -1  1    591360  ultralytics.nn.modules.block.C2f             [768, 256, 1]                 \n",
      " 13                  -1  1         0  torch.nn.modules.upsampling.Upsample         [None, 2, 'nearest']          \n",
      " 14             [-1, 4]  1         0  ultralytics.nn.modules.conv.Concat           [1]                           \n",
      " 15                  -1  1    148224  ultralytics.nn.modules.block.C2f             [384, 128, 1]                 \n",
      " 16                  -1  1    147712  ultralytics.nn.modules.conv.Conv             [128, 128, 3, 2]              \n",
      " 17            [-1, 12]  1         0  ultralytics.nn.modules.conv.Concat           [1]                           \n",
      " 18                  -1  1    493056  ultralytics.nn.modules.block.C2f             [384, 256, 1]                 \n",
      " 19                  -1  1    590336  ultralytics.nn.modules.conv.Conv             [256, 256, 3, 2]              \n",
      " 20             [-1, 9]  1         0  ultralytics.nn.modules.conv.Concat           [1]                           \n",
      " 21                  -1  1   1969152  ultralytics.nn.modules.block.C2f             [768, 512, 1]                 \n",
      " 22        [15, 18, 21]  1   2117596  ultralytics.nn.modules.head.Detect           [4, [128, 256, 512]]          \n",
      "Model summary: 225 layers, 11,137,148 parameters, 11,137,132 gradients, 28.7 GFLOPs\n",
      "\n",
      "Transferred 349/355 items from pretrained weights\n",
      "\u001b[34m\u001b[1mTensorBoard: \u001b[0mStart with 'tensorboard --logdir runs\\detect\\train40', view at http://localhost:6006/\n",
      "Freezing layer 'model.22.dfl.conv.weight'\n",
      "\u001b[34m\u001b[1mAMP: \u001b[0mrunning Automatic Mixed Precision (AMP) checks with YOLO11n...\n",
      "\u001b[34m\u001b[1mAMP: \u001b[0mchecks passed \n"
     ]
    },
    {
     "name": "stderr",
     "output_type": "stream",
     "text": [
      "\u001b[34m\u001b[1mtrain: \u001b[0mScanning C:\\Users\\user\\Desktop\\anisha_dl\\FloatingWaste-I-master\\train\\labels.cache... 1445 images, 0 backgrounds, 0 corrupt: 100%|██████████| 1445/1445 [00:00<?, ?it/s]\n",
      "\u001b[34m\u001b[1mval: \u001b[0mScanning C:\\Users\\user\\Desktop\\anisha_dl\\FloatingWaste-I-master\\val\\labels.cache... 301 images, 0 backgrounds, 0 corrupt: 100%|██████████| 301/301 [00:00<?, ?it/s]\n"
     ]
    },
    {
     "name": "stdout",
     "output_type": "stream",
     "text": [
      "Plotting labels to runs\\detect\\train40\\labels.jpg... \n",
      "\u001b[34m\u001b[1moptimizer:\u001b[0m 'optimizer=auto' found, ignoring 'lr0=0.01' and 'momentum=0.937' and determining best 'optimizer', 'lr0' and 'momentum' automatically... \n",
      "\u001b[34m\u001b[1moptimizer:\u001b[0m AdamW(lr=0.00125, momentum=0.9) with parameter groups 57 weight(decay=0.0), 64 weight(decay=0.0005), 63 bias(decay=0.0)\n",
      "\u001b[34m\u001b[1mTensorBoard: \u001b[0mmodel graph visualization added \n",
      "Image sizes 640 train, 640 val\n",
      "Using 8 dataloader workers\n",
      "Logging results to \u001b[1mruns\\detect\\train40\u001b[0m\n",
      "Starting training for 40 epochs...\n",
      "\n",
      "      Epoch    GPU_mem   box_loss   cls_loss   dfl_loss  Instances       Size\n"
     ]
    },
    {
     "name": "stderr",
     "output_type": "stream",
     "text": [
      "       1/40      7.25G      2.114      3.916      1.046         21        640: 100%|██████████| 91/91 [00:25<00:00,  3.55it/s]\n",
      "                 Class     Images  Instances      Box(P          R      mAP50  mAP50-95): 100%|██████████| 10/10 [00:02<00:00,  3.72it/s]"
     ]
    },
    {
     "name": "stdout",
     "output_type": "stream",
     "text": [
      "                   all        301       1042      0.583      0.365      0.418      0.197\n"
     ]
    },
    {
     "name": "stderr",
     "output_type": "stream",
     "text": [
      "\n"
     ]
    },
    {
     "name": "stdout",
     "output_type": "stream",
     "text": [
      "\n",
      "      Epoch    GPU_mem   box_loss   cls_loss   dfl_loss  Instances       Size\n"
     ]
    },
    {
     "name": "stderr",
     "output_type": "stream",
     "text": [
      "       2/40      7.16G      1.767      1.327      0.957         19        640: 100%|██████████| 91/91 [00:27<00:00,  3.35it/s]\n",
      "                 Class     Images  Instances      Box(P          R      mAP50  mAP50-95): 100%|██████████| 10/10 [00:02<00:00,  3.97it/s]"
     ]
    },
    {
     "name": "stdout",
     "output_type": "stream",
     "text": [
      "                   all        301       1042      0.646      0.455      0.499      0.235\n"
     ]
    },
    {
     "name": "stderr",
     "output_type": "stream",
     "text": [
      "\n"
     ]
    },
    {
     "name": "stdout",
     "output_type": "stream",
     "text": [
      "\n",
      "      Epoch    GPU_mem   box_loss   cls_loss   dfl_loss  Instances       Size\n"
     ]
    },
    {
     "name": "stderr",
     "output_type": "stream",
     "text": [
      "       3/40      7.13G      1.841       1.27     0.9636         47        640: 100%|██████████| 91/91 [00:25<00:00,  3.60it/s]\n",
      "                 Class     Images  Instances      Box(P          R      mAP50  mAP50-95): 100%|██████████| 10/10 [00:02<00:00,  3.87it/s]"
     ]
    },
    {
     "name": "stdout",
     "output_type": "stream",
     "text": [
      "                   all        301       1042       0.67      0.457      0.506      0.228\n"
     ]
    },
    {
     "name": "stderr",
     "output_type": "stream",
     "text": [
      "\n"
     ]
    },
    {
     "name": "stdout",
     "output_type": "stream",
     "text": [
      "\n",
      "      Epoch    GPU_mem   box_loss   cls_loss   dfl_loss  Instances       Size\n"
     ]
    },
    {
     "name": "stderr",
     "output_type": "stream",
     "text": [
      "       4/40      7.12G      1.757      1.155     0.9576         31        640: 100%|██████████| 91/91 [00:24<00:00,  3.65it/s]\n",
      "                 Class     Images  Instances      Box(P          R      mAP50  mAP50-95): 100%|██████████| 10/10 [00:02<00:00,  3.94it/s]"
     ]
    },
    {
     "name": "stdout",
     "output_type": "stream",
     "text": [
      "                   all        301       1042      0.622      0.468      0.511      0.242\n"
     ]
    },
    {
     "name": "stderr",
     "output_type": "stream",
     "text": [
      "\n"
     ]
    },
    {
     "name": "stdout",
     "output_type": "stream",
     "text": [
      "\n",
      "      Epoch    GPU_mem   box_loss   cls_loss   dfl_loss  Instances       Size\n"
     ]
    },
    {
     "name": "stderr",
     "output_type": "stream",
     "text": [
      "       5/40       7.1G      1.799      1.096     0.9639         37        640: 100%|██████████| 91/91 [00:25<00:00,  3.59it/s]\n",
      "                 Class     Images  Instances      Box(P          R      mAP50  mAP50-95): 100%|██████████| 10/10 [00:02<00:00,  3.70it/s]"
     ]
    },
    {
     "name": "stdout",
     "output_type": "stream",
     "text": [
      "                   all        301       1042      0.733      0.487      0.568      0.253\n"
     ]
    },
    {
     "name": "stderr",
     "output_type": "stream",
     "text": [
      "\n"
     ]
    },
    {
     "name": "stdout",
     "output_type": "stream",
     "text": [
      "\n",
      "      Epoch    GPU_mem   box_loss   cls_loss   dfl_loss  Instances       Size\n"
     ]
    },
    {
     "name": "stderr",
     "output_type": "stream",
     "text": [
      "       6/40      7.16G       1.73      1.046     0.9455         20        640: 100%|██████████| 91/91 [00:26<00:00,  3.45it/s]\n",
      "                 Class     Images  Instances      Box(P          R      mAP50  mAP50-95): 100%|██████████| 10/10 [00:03<00:00,  2.71it/s]"
     ]
    },
    {
     "name": "stdout",
     "output_type": "stream",
     "text": [
      "                   all        301       1042      0.675      0.508      0.574      0.268\n"
     ]
    },
    {
     "name": "stderr",
     "output_type": "stream",
     "text": [
      "\n"
     ]
    },
    {
     "name": "stdout",
     "output_type": "stream",
     "text": [
      "\n",
      "      Epoch    GPU_mem   box_loss   cls_loss   dfl_loss  Instances       Size\n"
     ]
    },
    {
     "name": "stderr",
     "output_type": "stream",
     "text": [
      "       7/40       7.1G      1.677       1.01     0.9414         31        640: 100%|██████████| 91/91 [00:23<00:00,  3.88it/s]\n",
      "                 Class     Images  Instances      Box(P          R      mAP50  mAP50-95): 100%|██████████| 10/10 [00:02<00:00,  4.14it/s]"
     ]
    },
    {
     "name": "stdout",
     "output_type": "stream",
     "text": [
      "                   all        301       1042      0.675      0.529      0.577      0.258\n"
     ]
    },
    {
     "name": "stderr",
     "output_type": "stream",
     "text": [
      "\n"
     ]
    },
    {
     "name": "stdout",
     "output_type": "stream",
     "text": [
      "\n",
      "      Epoch    GPU_mem   box_loss   cls_loss   dfl_loss  Instances       Size\n"
     ]
    },
    {
     "name": "stderr",
     "output_type": "stream",
     "text": [
      "       8/40      7.12G      1.656     0.9955     0.9334         15        640: 100%|██████████| 91/91 [00:23<00:00,  3.87it/s]\n",
      "                 Class     Images  Instances      Box(P          R      mAP50  mAP50-95): 100%|██████████| 10/10 [00:02<00:00,  3.87it/s]"
     ]
    },
    {
     "name": "stdout",
     "output_type": "stream",
     "text": [
      "                   all        301       1042      0.698       0.54      0.599      0.283\n"
     ]
    },
    {
     "name": "stderr",
     "output_type": "stream",
     "text": [
      "\n"
     ]
    },
    {
     "name": "stdout",
     "output_type": "stream",
     "text": [
      "\n",
      "      Epoch    GPU_mem   box_loss   cls_loss   dfl_loss  Instances       Size\n"
     ]
    },
    {
     "name": "stderr",
     "output_type": "stream",
     "text": [
      "       9/40      7.13G      1.638     0.9409     0.9292         24        640: 100%|██████████| 91/91 [00:23<00:00,  3.92it/s]\n",
      "                 Class     Images  Instances      Box(P          R      mAP50  mAP50-95): 100%|██████████| 10/10 [00:02<00:00,  3.94it/s]"
     ]
    },
    {
     "name": "stdout",
     "output_type": "stream",
     "text": [
      "                   all        301       1042      0.703      0.492      0.572      0.245\n"
     ]
    },
    {
     "name": "stderr",
     "output_type": "stream",
     "text": [
      "\n"
     ]
    },
    {
     "name": "stdout",
     "output_type": "stream",
     "text": [
      "\n",
      "      Epoch    GPU_mem   box_loss   cls_loss   dfl_loss  Instances       Size\n"
     ]
    },
    {
     "name": "stderr",
     "output_type": "stream",
     "text": [
      "      10/40      7.16G      1.668     0.9533      0.931         37        640: 100%|██████████| 91/91 [00:26<00:00,  3.44it/s]\n",
      "                 Class     Images  Instances      Box(P          R      mAP50  mAP50-95): 100%|██████████| 10/10 [00:02<00:00,  3.73it/s]"
     ]
    },
    {
     "name": "stdout",
     "output_type": "stream",
     "text": [
      "                   all        301       1042       0.69      0.502      0.592      0.272\n"
     ]
    },
    {
     "name": "stderr",
     "output_type": "stream",
     "text": [
      "\n"
     ]
    },
    {
     "name": "stdout",
     "output_type": "stream",
     "text": [
      "\n",
      "      Epoch    GPU_mem   box_loss   cls_loss   dfl_loss  Instances       Size\n"
     ]
    },
    {
     "name": "stderr",
     "output_type": "stream",
     "text": [
      "      11/40       7.1G      1.617     0.9317      0.935         34        640: 100%|██████████| 91/91 [00:25<00:00,  3.63it/s]\n",
      "                 Class     Images  Instances      Box(P          R      mAP50  mAP50-95): 100%|██████████| 10/10 [00:02<00:00,  4.73it/s]"
     ]
    },
    {
     "name": "stdout",
     "output_type": "stream",
     "text": [
      "                   all        301       1042      0.756      0.599      0.662      0.316\n"
     ]
    },
    {
     "name": "stderr",
     "output_type": "stream",
     "text": [
      "\n"
     ]
    },
    {
     "name": "stdout",
     "output_type": "stream",
     "text": [
      "\n",
      "      Epoch    GPU_mem   box_loss   cls_loss   dfl_loss  Instances       Size\n"
     ]
    },
    {
     "name": "stderr",
     "output_type": "stream",
     "text": [
      "      12/40      7.12G      1.629     0.9121      0.914         21        640: 100%|██████████| 91/91 [00:23<00:00,  3.92it/s]\n",
      "                 Class     Images  Instances      Box(P          R      mAP50  mAP50-95): 100%|██████████| 10/10 [00:01<00:00,  5.02it/s]"
     ]
    },
    {
     "name": "stdout",
     "output_type": "stream",
     "text": [
      "                   all        301       1042      0.795      0.603       0.68      0.337\n"
     ]
    },
    {
     "name": "stderr",
     "output_type": "stream",
     "text": [
      "\n"
     ]
    },
    {
     "name": "stdout",
     "output_type": "stream",
     "text": [
      "\n",
      "      Epoch    GPU_mem   box_loss   cls_loss   dfl_loss  Instances       Size\n"
     ]
    },
    {
     "name": "stderr",
     "output_type": "stream",
     "text": [
      "      13/40       7.1G      1.573     0.8589     0.9049         54        640: 100%|██████████| 91/91 [00:23<00:00,  3.83it/s]\n",
      "                 Class     Images  Instances      Box(P          R      mAP50  mAP50-95): 100%|██████████| 10/10 [00:01<00:00,  5.11it/s]"
     ]
    },
    {
     "name": "stdout",
     "output_type": "stream",
     "text": [
      "                   all        301       1042      0.734      0.596      0.666      0.316\n"
     ]
    },
    {
     "name": "stderr",
     "output_type": "stream",
     "text": [
      "\n"
     ]
    },
    {
     "name": "stdout",
     "output_type": "stream",
     "text": [
      "\n",
      "      Epoch    GPU_mem   box_loss   cls_loss   dfl_loss  Instances       Size\n"
     ]
    },
    {
     "name": "stderr",
     "output_type": "stream",
     "text": [
      "      14/40      7.17G       1.54      0.834     0.9116         22        640: 100%|██████████| 91/91 [00:23<00:00,  3.91it/s]\n",
      "                 Class     Images  Instances      Box(P          R      mAP50  mAP50-95): 100%|██████████| 10/10 [00:01<00:00,  5.14it/s]"
     ]
    },
    {
     "name": "stdout",
     "output_type": "stream",
     "text": [
      "                   all        301       1042      0.785      0.627      0.709      0.333\n"
     ]
    },
    {
     "name": "stderr",
     "output_type": "stream",
     "text": [
      "\n"
     ]
    },
    {
     "name": "stdout",
     "output_type": "stream",
     "text": [
      "\n",
      "      Epoch    GPU_mem   box_loss   cls_loss   dfl_loss  Instances       Size\n"
     ]
    },
    {
     "name": "stderr",
     "output_type": "stream",
     "text": [
      "      15/40      7.11G      1.528     0.8351     0.9019         35        640: 100%|██████████| 91/91 [00:23<00:00,  3.95it/s]\n",
      "                 Class     Images  Instances      Box(P          R      mAP50  mAP50-95): 100%|██████████| 10/10 [00:01<00:00,  5.06it/s]"
     ]
    },
    {
     "name": "stdout",
     "output_type": "stream",
     "text": [
      "                   all        301       1042      0.764      0.616      0.682      0.338\n"
     ]
    },
    {
     "name": "stderr",
     "output_type": "stream",
     "text": [
      "\n"
     ]
    },
    {
     "name": "stdout",
     "output_type": "stream",
     "text": [
      "\n",
      "      Epoch    GPU_mem   box_loss   cls_loss   dfl_loss  Instances       Size\n"
     ]
    },
    {
     "name": "stderr",
     "output_type": "stream",
     "text": [
      "      16/40      7.13G      1.561     0.8163     0.8991         23        640: 100%|██████████| 91/91 [00:23<00:00,  3.93it/s]\n",
      "                 Class     Images  Instances      Box(P          R      mAP50  mAP50-95): 100%|██████████| 10/10 [00:01<00:00,  5.13it/s]"
     ]
    },
    {
     "name": "stdout",
     "output_type": "stream",
     "text": [
      "                   all        301       1042      0.779      0.613      0.693      0.339\n"
     ]
    },
    {
     "name": "stderr",
     "output_type": "stream",
     "text": [
      "\n"
     ]
    },
    {
     "name": "stdout",
     "output_type": "stream",
     "text": [
      "\n",
      "      Epoch    GPU_mem   box_loss   cls_loss   dfl_loss  Instances       Size\n"
     ]
    },
    {
     "name": "stderr",
     "output_type": "stream",
     "text": [
      "      17/40       7.1G      1.518     0.8074     0.9044         23        640: 100%|██████████| 91/91 [00:22<00:00,  3.98it/s]\n",
      "                 Class     Images  Instances      Box(P          R      mAP50  mAP50-95): 100%|██████████| 10/10 [00:02<00:00,  4.79it/s]"
     ]
    },
    {
     "name": "stdout",
     "output_type": "stream",
     "text": [
      "                   all        301       1042      0.794      0.646      0.717      0.352\n"
     ]
    },
    {
     "name": "stderr",
     "output_type": "stream",
     "text": [
      "\n"
     ]
    },
    {
     "name": "stdout",
     "output_type": "stream",
     "text": [
      "\n",
      "      Epoch    GPU_mem   box_loss   cls_loss   dfl_loss  Instances       Size\n"
     ]
    },
    {
     "name": "stderr",
     "output_type": "stream",
     "text": [
      "      18/40      7.09G      1.505     0.8021      0.892         21        640: 100%|██████████| 91/91 [00:23<00:00,  3.92it/s]\n",
      "                 Class     Images  Instances      Box(P          R      mAP50  mAP50-95): 100%|██████████| 10/10 [00:02<00:00,  4.85it/s]"
     ]
    },
    {
     "name": "stdout",
     "output_type": "stream",
     "text": [
      "                   all        301       1042        0.8      0.628      0.702      0.348\n"
     ]
    },
    {
     "name": "stderr",
     "output_type": "stream",
     "text": [
      "\n"
     ]
    },
    {
     "name": "stdout",
     "output_type": "stream",
     "text": [
      "\n",
      "      Epoch    GPU_mem   box_loss   cls_loss   dfl_loss  Instances       Size\n"
     ]
    },
    {
     "name": "stderr",
     "output_type": "stream",
     "text": [
      "      19/40       7.1G      1.522     0.8011      0.912         22        640: 100%|██████████| 91/91 [00:23<00:00,  3.96it/s]\n",
      "                 Class     Images  Instances      Box(P          R      mAP50  mAP50-95): 100%|██████████| 10/10 [00:02<00:00,  4.71it/s]"
     ]
    },
    {
     "name": "stdout",
     "output_type": "stream",
     "text": [
      "                   all        301       1042      0.783      0.649      0.717       0.37\n"
     ]
    },
    {
     "name": "stderr",
     "output_type": "stream",
     "text": [
      "\n"
     ]
    },
    {
     "name": "stdout",
     "output_type": "stream",
     "text": [
      "\n",
      "      Epoch    GPU_mem   box_loss   cls_loss   dfl_loss  Instances       Size\n"
     ]
    },
    {
     "name": "stderr",
     "output_type": "stream",
     "text": [
      "      20/40      7.13G      1.491     0.8029     0.8971         20        640: 100%|██████████| 91/91 [00:23<00:00,  3.90it/s]\n",
      "                 Class     Images  Instances      Box(P          R      mAP50  mAP50-95): 100%|██████████| 10/10 [00:01<00:00,  5.07it/s]"
     ]
    },
    {
     "name": "stdout",
     "output_type": "stream",
     "text": [
      "                   all        301       1042      0.798      0.629      0.719      0.361\n"
     ]
    },
    {
     "name": "stderr",
     "output_type": "stream",
     "text": [
      "\n"
     ]
    },
    {
     "name": "stdout",
     "output_type": "stream",
     "text": [
      "\n",
      "      Epoch    GPU_mem   box_loss   cls_loss   dfl_loss  Instances       Size\n"
     ]
    },
    {
     "name": "stderr",
     "output_type": "stream",
     "text": [
      "      21/40       7.1G      1.467     0.7637     0.8902         46        640: 100%|██████████| 91/91 [00:23<00:00,  3.91it/s]\n",
      "                 Class     Images  Instances      Box(P          R      mAP50  mAP50-95): 100%|██████████| 10/10 [00:02<00:00,  4.99it/s]"
     ]
    },
    {
     "name": "stdout",
     "output_type": "stream",
     "text": [
      "                   all        301       1042      0.799       0.67       0.73      0.366\n"
     ]
    },
    {
     "name": "stderr",
     "output_type": "stream",
     "text": [
      "\n"
     ]
    },
    {
     "name": "stdout",
     "output_type": "stream",
     "text": [
      "\n",
      "      Epoch    GPU_mem   box_loss   cls_loss   dfl_loss  Instances       Size\n"
     ]
    },
    {
     "name": "stderr",
     "output_type": "stream",
     "text": [
      "      22/40      7.14G      1.403     0.7406      0.891         45        640: 100%|██████████| 91/91 [00:23<00:00,  3.95it/s]\n",
      "                 Class     Images  Instances      Box(P          R      mAP50  mAP50-95): 100%|██████████| 10/10 [00:02<00:00,  4.91it/s]"
     ]
    },
    {
     "name": "stdout",
     "output_type": "stream",
     "text": [
      "                   all        301       1042      0.793      0.675      0.736      0.365\n"
     ]
    },
    {
     "name": "stderr",
     "output_type": "stream",
     "text": [
      "\n"
     ]
    },
    {
     "name": "stdout",
     "output_type": "stream",
     "text": [
      "\n",
      "      Epoch    GPU_mem   box_loss   cls_loss   dfl_loss  Instances       Size\n"
     ]
    },
    {
     "name": "stderr",
     "output_type": "stream",
     "text": [
      "      23/40      7.11G      1.482     0.7449     0.8919         24        640: 100%|██████████| 91/91 [00:23<00:00,  3.87it/s]\n",
      "                 Class     Images  Instances      Box(P          R      mAP50  mAP50-95): 100%|██████████| 10/10 [00:01<00:00,  5.00it/s]"
     ]
    },
    {
     "name": "stdout",
     "output_type": "stream",
     "text": [
      "                   all        301       1042      0.781      0.654      0.721      0.367\n"
     ]
    },
    {
     "name": "stderr",
     "output_type": "stream",
     "text": [
      "\n"
     ]
    },
    {
     "name": "stdout",
     "output_type": "stream",
     "text": [
      "\n",
      "      Epoch    GPU_mem   box_loss   cls_loss   dfl_loss  Instances       Size\n"
     ]
    },
    {
     "name": "stderr",
     "output_type": "stream",
     "text": [
      "      24/40      7.13G      1.423     0.7177     0.8832         18        640: 100%|██████████| 91/91 [00:23<00:00,  3.92it/s]\n",
      "                 Class     Images  Instances      Box(P          R      mAP50  mAP50-95): 100%|██████████| 10/10 [00:02<00:00,  4.47it/s]"
     ]
    },
    {
     "name": "stdout",
     "output_type": "stream",
     "text": [
      "                   all        301       1042      0.845      0.658       0.76      0.391\n"
     ]
    },
    {
     "name": "stderr",
     "output_type": "stream",
     "text": [
      "\n"
     ]
    },
    {
     "name": "stdout",
     "output_type": "stream",
     "text": [
      "\n",
      "      Epoch    GPU_mem   box_loss   cls_loss   dfl_loss  Instances       Size\n"
     ]
    },
    {
     "name": "stderr",
     "output_type": "stream",
     "text": [
      "      25/40      7.11G       1.39     0.7088     0.8857         23        640: 100%|██████████| 91/91 [00:23<00:00,  3.89it/s]\n",
      "                 Class     Images  Instances      Box(P          R      mAP50  mAP50-95): 100%|██████████| 10/10 [00:02<00:00,  4.91it/s]"
     ]
    },
    {
     "name": "stdout",
     "output_type": "stream",
     "text": [
      "                   all        301       1042      0.842        0.7      0.772      0.391\n"
     ]
    },
    {
     "name": "stderr",
     "output_type": "stream",
     "text": [
      "\n"
     ]
    },
    {
     "name": "stdout",
     "output_type": "stream",
     "text": [
      "\n",
      "      Epoch    GPU_mem   box_loss   cls_loss   dfl_loss  Instances       Size\n"
     ]
    },
    {
     "name": "stderr",
     "output_type": "stream",
     "text": [
      "      26/40      7.09G      1.425     0.7056     0.8753         22        640: 100%|██████████| 91/91 [00:23<00:00,  3.91it/s]\n",
      "                 Class     Images  Instances      Box(P          R      mAP50  mAP50-95): 100%|██████████| 10/10 [00:02<00:00,  4.65it/s]"
     ]
    },
    {
     "name": "stdout",
     "output_type": "stream",
     "text": [
      "                   all        301       1042      0.841       0.66      0.759      0.397\n"
     ]
    },
    {
     "name": "stderr",
     "output_type": "stream",
     "text": [
      "\n"
     ]
    },
    {
     "name": "stdout",
     "output_type": "stream",
     "text": [
      "\n",
      "      Epoch    GPU_mem   box_loss   cls_loss   dfl_loss  Instances       Size\n"
     ]
    },
    {
     "name": "stderr",
     "output_type": "stream",
     "text": [
      "      27/40      7.11G      1.356     0.6824     0.8723         23        640: 100%|██████████| 91/91 [00:23<00:00,  3.80it/s]\n",
      "                 Class     Images  Instances      Box(P          R      mAP50  mAP50-95): 100%|██████████| 10/10 [00:02<00:00,  4.46it/s]"
     ]
    },
    {
     "name": "stdout",
     "output_type": "stream",
     "text": [
      "                   all        301       1042      0.837      0.682      0.765      0.383\n"
     ]
    },
    {
     "name": "stderr",
     "output_type": "stream",
     "text": [
      "\n"
     ]
    },
    {
     "name": "stdout",
     "output_type": "stream",
     "text": [
      "\n",
      "      Epoch    GPU_mem   box_loss   cls_loss   dfl_loss  Instances       Size\n"
     ]
    },
    {
     "name": "stderr",
     "output_type": "stream",
     "text": [
      "      28/40      7.13G      1.396      0.691      0.873         13        640: 100%|██████████| 91/91 [00:32<00:00,  2.76it/s]\n",
      "                 Class     Images  Instances      Box(P          R      mAP50  mAP50-95): 100%|██████████| 10/10 [00:02<00:00,  3.53it/s]"
     ]
    },
    {
     "name": "stdout",
     "output_type": "stream",
     "text": [
      "                   all        301       1042      0.864      0.681      0.777      0.385\n"
     ]
    },
    {
     "name": "stderr",
     "output_type": "stream",
     "text": [
      "\n"
     ]
    },
    {
     "name": "stdout",
     "output_type": "stream",
     "text": [
      "\n",
      "      Epoch    GPU_mem   box_loss   cls_loss   dfl_loss  Instances       Size\n"
     ]
    },
    {
     "name": "stderr",
     "output_type": "stream",
     "text": [
      "      29/40      7.11G      1.357     0.6703     0.8716         28        640: 100%|██████████| 91/91 [00:29<00:00,  3.08it/s]\n",
      "                 Class     Images  Instances      Box(P          R      mAP50  mAP50-95): 100%|██████████| 10/10 [00:02<00:00,  3.66it/s]"
     ]
    },
    {
     "name": "stdout",
     "output_type": "stream",
     "text": [
      "                   all        301       1042      0.842      0.706      0.787        0.4\n"
     ]
    },
    {
     "name": "stderr",
     "output_type": "stream",
     "text": [
      "\n"
     ]
    },
    {
     "name": "stdout",
     "output_type": "stream",
     "text": [
      "\n",
      "      Epoch    GPU_mem   box_loss   cls_loss   dfl_loss  Instances       Size\n"
     ]
    },
    {
     "name": "stderr",
     "output_type": "stream",
     "text": [
      "      30/40      7.13G      1.324      0.643     0.8625         30        640: 100%|██████████| 91/91 [00:28<00:00,  3.22it/s]\n",
      "                 Class     Images  Instances      Box(P          R      mAP50  mAP50-95): 100%|██████████| 10/10 [00:02<00:00,  3.73it/s]"
     ]
    },
    {
     "name": "stdout",
     "output_type": "stream",
     "text": [
      "                   all        301       1042      0.847      0.706      0.787      0.415\n"
     ]
    },
    {
     "name": "stderr",
     "output_type": "stream",
     "text": [
      "\n"
     ]
    },
    {
     "name": "stdout",
     "output_type": "stream",
     "text": [
      "Closing dataloader mosaic\n",
      "\n",
      "      Epoch    GPU_mem   box_loss   cls_loss   dfl_loss  Instances       Size\n"
     ]
    },
    {
     "name": "stderr",
     "output_type": "stream",
     "text": [
      "      31/40      7.07G      1.361     0.6605     0.8919         57        640:  16%|█▋        | 15/91 [02:32<11:47,  9.31s/it]"
     ]
    }
   ],
   "source": [
    "\n",
    "#yolov8s\n",
    "from ultralytics import YOLO\n",
    "\n",
    "# Load a model\n",
    "\n",
    "model = YOLO(\"yolov8s.pt\")  # load a pretrained model (recommended for training)\n",
    "\n",
    "# Use the model\n",
    "model.train(data=r\"C:\\Users\\user\\Desktop\\anisha_dl\\FloatingWaste-I-master\\data.yaml\", epochs=40)  # train the model\n",
    "metrics = model.val()  # evaluate model performance on the validation set\n"
   ]
  },
  {
   "cell_type": "markdown",
   "metadata": {},
   "source": [
    "yolov8m"
   ]
  },
  {
   "cell_type": "code",
   "execution_count": 2,
   "metadata": {},
   "outputs": [
    {
     "name": "stdout",
     "output_type": "stream",
     "text": [
      "New https://pypi.org/project/ultralytics/8.2.2 available  Update with 'pip install -U ultralytics'\n",
      "Ultralytics YOLOv8.1.44  Python-3.11.2 torch-2.2.2+cpu CPU (AMD Ryzen 7 5700G with Radeon Graphics)\n",
      "\u001b[34m\u001b[1mengine\\trainer: \u001b[0mtask=detect, mode=train, model=D:\\Engineering\\SEM6\\PROJECTS\\DeepLearning\\FloW_IMG\\runs\\detect\\train36\\weights\\last.pt, data=C:\\Users\\user\\Desktop\\anisha_dl\\FloatingWaste-I-master\\data.yaml, epochs=40, time=None, patience=100, batch=16, imgsz=640, save=True, save_period=-1, cache=False, device=None, workers=0, project=None, name=train36, exist_ok=False, pretrained=True, optimizer=auto, verbose=True, seed=0, deterministic=True, single_cls=False, rect=False, cos_lr=False, close_mosaic=10, resume=D:\\Engineering\\SEM6\\PROJECTS\\DeepLearning\\FloW_IMG\\runs\\detect\\train36\\weights\\last.pt, amp=True, fraction=1.0, profile=False, freeze=None, multi_scale=False, overlap_mask=True, mask_ratio=4, dropout=0.0, val=True, split=val, save_json=False, save_hybrid=False, conf=None, iou=0.7, max_det=300, half=False, dnn=False, plots=True, source=None, vid_stride=1, stream_buffer=False, visualize=False, augment=False, agnostic_nms=False, classes=None, retina_masks=False, embed=None, show=False, save_frames=False, save_txt=False, save_conf=False, save_crop=False, show_labels=True, show_conf=True, show_boxes=True, line_width=None, format=torchscript, keras=False, optimize=False, int8=False, dynamic=False, simplify=False, opset=None, workspace=4, nms=False, lr0=0.01, lrf=0.01, momentum=0.937, weight_decay=0.0005, warmup_epochs=3.0, warmup_momentum=0.8, warmup_bias_lr=0.0, box=7.5, cls=0.5, dfl=1.5, pose=12.0, kobj=1.0, label_smoothing=0.0, nbs=64, hsv_h=0.015, hsv_s=0.7, hsv_v=0.4, degrees=0.0, translate=0.1, scale=0.5, shear=0.0, perspective=0.0, flipud=0.0, fliplr=0.5, bgr=0.0, mosaic=1.0, mixup=0.0, copy_paste=0.0, auto_augment=randaugment, erasing=0.4, crop_fraction=1.0, cfg=None, tracker=botsort.yaml, save_dir=runs\\detect\\train36\n",
      "\u001b[34m\u001b[1mTensorBoard: \u001b[0mStart with 'tensorboard --logdir runs\\detect\\train36', view at http://localhost:6006/\n",
      "\n",
      "                   from  n    params  module                                       arguments                     \n",
      "  0                  -1  1      1392  ultralytics.nn.modules.conv.Conv             [3, 48, 3, 2]                 \n",
      "  1                  -1  1     41664  ultralytics.nn.modules.conv.Conv             [48, 96, 3, 2]                \n",
      "  2                  -1  2    111360  ultralytics.nn.modules.block.C2f             [96, 96, 2, True]             \n",
      "  3                  -1  1    166272  ultralytics.nn.modules.conv.Conv             [96, 192, 3, 2]               \n",
      "  4                  -1  4    813312  ultralytics.nn.modules.block.C2f             [192, 192, 4, True]           \n",
      "  5                  -1  1    664320  ultralytics.nn.modules.conv.Conv             [192, 384, 3, 2]              \n",
      "  6                  -1  4   3248640  ultralytics.nn.modules.block.C2f             [384, 384, 4, True]           \n",
      "  7                  -1  1   1991808  ultralytics.nn.modules.conv.Conv             [384, 576, 3, 2]              \n",
      "  8                  -1  2   3985920  ultralytics.nn.modules.block.C2f             [576, 576, 2, True]           \n",
      "  9                  -1  1    831168  ultralytics.nn.modules.block.SPPF            [576, 576, 5]                 \n",
      " 10                  -1  1         0  torch.nn.modules.upsampling.Upsample         [None, 2, 'nearest']          \n",
      " 11             [-1, 6]  1         0  ultralytics.nn.modules.conv.Concat           [1]                           \n",
      " 12                  -1  2   1993728  ultralytics.nn.modules.block.C2f             [960, 384, 2]                 \n",
      " 13                  -1  1         0  torch.nn.modules.upsampling.Upsample         [None, 2, 'nearest']          \n",
      " 14             [-1, 4]  1         0  ultralytics.nn.modules.conv.Concat           [1]                           \n",
      " 15                  -1  2    517632  ultralytics.nn.modules.block.C2f             [576, 192, 2]                 \n",
      " 16                  -1  1    332160  ultralytics.nn.modules.conv.Conv             [192, 192, 3, 2]              \n",
      " 17            [-1, 12]  1         0  ultralytics.nn.modules.conv.Concat           [1]                           \n",
      " 18                  -1  2   1846272  ultralytics.nn.modules.block.C2f             [576, 384, 2]                 \n",
      " 19                  -1  1   1327872  ultralytics.nn.modules.conv.Conv             [384, 384, 3, 2]              \n",
      " 20             [-1, 9]  1         0  ultralytics.nn.modules.conv.Concat           [1]                           \n",
      " 21                  -1  2   4207104  ultralytics.nn.modules.block.C2f             [960, 576, 2]                 \n",
      " 22        [15, 18, 21]  1   3778012  ultralytics.nn.modules.head.Detect           [4, [192, 384, 576]]          \n",
      "Model summary: 295 layers, 25858636 parameters, 25858620 gradients, 79.1 GFLOPs\n",
      "\n",
      "Transferred 475/475 items from pretrained weights\n",
      "Freezing layer 'model.22.dfl.conv.weight'\n"
     ]
    },
    {
     "name": "stderr",
     "output_type": "stream",
     "text": [
      "\u001b[34m\u001b[1mtrain: \u001b[0mScanning C:\\Users\\user\\Desktop\\anisha_dl\\FloatingWaste-I-master\\train\\labels.cache... 1445 images, 0 backgrounds, 0 corrupt: 100%|██████████| 1445/1445 [00:00<?, ?it/s]"
     ]
    },
    {
     "name": "stdout",
     "output_type": "stream",
     "text": [
      "\u001b[34m\u001b[1malbumentations: \u001b[0mBlur(p=0.01, blur_limit=(3, 7)), MedianBlur(p=0.01, blur_limit=(3, 7)), ToGray(p=0.01), CLAHE(p=0.01, clip_limit=(1, 4.0), tile_grid_size=(8, 8))\n"
     ]
    },
    {
     "name": "stderr",
     "output_type": "stream",
     "text": [
      "\n",
      "\u001b[34m\u001b[1mval: \u001b[0mScanning C:\\Users\\user\\Desktop\\anisha_dl\\FloatingWaste-I-master\\val\\labels.cache... 301 images, 0 backgrounds, 0 corrupt: 100%|██████████| 301/301 [00:00<?, ?it/s]"
     ]
    },
    {
     "name": "stdout",
     "output_type": "stream",
     "text": [
      "Plotting labels to runs\\detect\\train36\\labels.jpg... \n"
     ]
    },
    {
     "name": "stderr",
     "output_type": "stream",
     "text": [
      "\n"
     ]
    },
    {
     "name": "stdout",
     "output_type": "stream",
     "text": [
      "\u001b[34m\u001b[1moptimizer:\u001b[0m 'optimizer=auto' found, ignoring 'lr0=0.01' and 'momentum=0.937' and determining best 'optimizer', 'lr0' and 'momentum' automatically... \n",
      "\u001b[34m\u001b[1moptimizer:\u001b[0m AdamW(lr=0.00125, momentum=0.9) with parameter groups 77 weight(decay=0.0), 84 weight(decay=0.0005), 83 bias(decay=0.0)\n",
      "Resuming training D:\\Engineering\\SEM6\\PROJECTS\\DeepLearning\\FloW_IMG\\runs\\detect\\train36\\weights\\last.pt from epoch 13 to 40 total epochs\n",
      "\u001b[34m\u001b[1mTensorBoard: \u001b[0mmodel graph visualization added \n",
      "Image sizes 640 train, 640 val\n",
      "Using 0 dataloader workers\n",
      "Logging results to \u001b[1mruns\\detect\\train36\u001b[0m\n",
      "Starting training for 40 epochs...\n",
      "\n",
      "      Epoch    GPU_mem   box_loss   cls_loss   dfl_loss  Instances       Size\n"
     ]
    },
    {
     "name": "stderr",
     "output_type": "stream",
     "text": [
      "      13/40         0G      1.791      1.116      1.006         16        640: 100%|██████████| 91/91 [25:31<00:00, 16.83s/it]\n",
      "                 Class     Images  Instances      Box(P          R      mAP50  mAP50-95): 100%|██████████| 10/10 [01:09<00:00,  6.90s/it]"
     ]
    },
    {
     "name": "stdout",
     "output_type": "stream",
     "text": [
      "                   all        301       1042      0.591      0.245      0.284      0.146\n"
     ]
    },
    {
     "name": "stderr",
     "output_type": "stream",
     "text": [
      "\n"
     ]
    },
    {
     "name": "stdout",
     "output_type": "stream",
     "text": [
      "\n",
      "      Epoch    GPU_mem   box_loss   cls_loss   dfl_loss  Instances       Size\n"
     ]
    },
    {
     "name": "stderr",
     "output_type": "stream",
     "text": [
      "      14/40         0G      1.587     0.9165     0.9381         23        640: 100%|██████████| 91/91 [25:25<00:00, 16.76s/it]\n",
      "                 Class     Images  Instances      Box(P          R      mAP50  mAP50-95): 100%|██████████| 10/10 [01:09<00:00,  6.97s/it]"
     ]
    },
    {
     "name": "stdout",
     "output_type": "stream",
     "text": [
      "                   all        301       1042      0.773      0.583      0.664      0.321\n"
     ]
    },
    {
     "name": "stderr",
     "output_type": "stream",
     "text": [
      "\n"
     ]
    },
    {
     "name": "stdout",
     "output_type": "stream",
     "text": [
      "\n",
      "      Epoch    GPU_mem   box_loss   cls_loss   dfl_loss  Instances       Size\n"
     ]
    },
    {
     "name": "stderr",
     "output_type": "stream",
     "text": [
      "      15/40         0G       1.56      0.896     0.9225         31        640: 100%|██████████| 91/91 [25:31<00:00, 16.83s/it]\n",
      "                 Class     Images  Instances      Box(P          R      mAP50  mAP50-95): 100%|██████████| 10/10 [01:09<00:00,  6.95s/it]"
     ]
    },
    {
     "name": "stdout",
     "output_type": "stream",
     "text": [
      "                   all        301       1042      0.703      0.534      0.604      0.293\n"
     ]
    },
    {
     "name": "stderr",
     "output_type": "stream",
     "text": [
      "\n"
     ]
    },
    {
     "name": "stdout",
     "output_type": "stream",
     "text": [
      "\n",
      "      Epoch    GPU_mem   box_loss   cls_loss   dfl_loss  Instances       Size\n"
     ]
    },
    {
     "name": "stderr",
     "output_type": "stream",
     "text": [
      "      16/40         0G      1.572     0.8883     0.9186         22        640: 100%|██████████| 91/91 [25:28<00:00, 16.80s/it]\n",
      "                 Class     Images  Instances      Box(P          R      mAP50  mAP50-95): 100%|██████████| 10/10 [01:09<00:00,  6.91s/it]"
     ]
    },
    {
     "name": "stdout",
     "output_type": "stream",
     "text": [
      "                   all        301       1042       0.74      0.599      0.668      0.326\n"
     ]
    },
    {
     "name": "stderr",
     "output_type": "stream",
     "text": [
      "\n"
     ]
    },
    {
     "name": "stdout",
     "output_type": "stream",
     "text": [
      "\n",
      "      Epoch    GPU_mem   box_loss   cls_loss   dfl_loss  Instances       Size\n"
     ]
    },
    {
     "name": "stderr",
     "output_type": "stream",
     "text": [
      "      17/40         0G       1.57     0.8616     0.9193         27        640: 100%|██████████| 91/91 [25:32<00:00, 16.84s/it]\n",
      "                 Class     Images  Instances      Box(P          R      mAP50  mAP50-95): 100%|██████████| 10/10 [01:09<00:00,  6.91s/it]"
     ]
    },
    {
     "name": "stdout",
     "output_type": "stream",
     "text": [
      "                   all        301       1042      0.734      0.619       0.68       0.33\n"
     ]
    },
    {
     "name": "stderr",
     "output_type": "stream",
     "text": [
      "\n"
     ]
    },
    {
     "name": "stdout",
     "output_type": "stream",
     "text": [
      "\n",
      "      Epoch    GPU_mem   box_loss   cls_loss   dfl_loss  Instances       Size\n"
     ]
    },
    {
     "name": "stderr",
     "output_type": "stream",
     "text": [
      "      18/40         0G      1.499     0.8059     0.9098         15        640: 100%|██████████| 91/91 [25:10<00:00, 16.60s/it]\n",
      "                 Class     Images  Instances      Box(P          R      mAP50  mAP50-95): 100%|██████████| 10/10 [01:09<00:00,  6.93s/it]"
     ]
    },
    {
     "name": "stdout",
     "output_type": "stream",
     "text": [
      "                   all        301       1042      0.776      0.606      0.694      0.345\n"
     ]
    },
    {
     "name": "stderr",
     "output_type": "stream",
     "text": [
      "\n"
     ]
    },
    {
     "name": "stdout",
     "output_type": "stream",
     "text": [
      "\n",
      "      Epoch    GPU_mem   box_loss   cls_loss   dfl_loss  Instances       Size\n"
     ]
    },
    {
     "name": "stderr",
     "output_type": "stream",
     "text": [
      "      19/40         0G      1.457     0.7689     0.9036         16        640: 100%|██████████| 91/91 [25:50<00:00, 17.04s/it]\n",
      "                 Class     Images  Instances      Box(P          R      mAP50  mAP50-95): 100%|██████████| 10/10 [01:08<00:00,  6.88s/it]"
     ]
    },
    {
     "name": "stdout",
     "output_type": "stream",
     "text": [
      "                   all        301       1042       0.81      0.622      0.728      0.368\n"
     ]
    },
    {
     "name": "stderr",
     "output_type": "stream",
     "text": [
      "\n"
     ]
    },
    {
     "name": "stdout",
     "output_type": "stream",
     "text": [
      "\n",
      "      Epoch    GPU_mem   box_loss   cls_loss   dfl_loss  Instances       Size\n"
     ]
    },
    {
     "name": "stderr",
     "output_type": "stream",
     "text": [
      "      20/40         0G      1.478     0.7818     0.8898         25        640: 100%|██████████| 91/91 [24:59<00:00, 16.47s/it]\n",
      "                 Class     Images  Instances      Box(P          R      mAP50  mAP50-95): 100%|██████████| 10/10 [01:08<00:00,  6.86s/it]"
     ]
    },
    {
     "name": "stdout",
     "output_type": "stream",
     "text": [
      "                   all        301       1042      0.757      0.655      0.733      0.363\n"
     ]
    },
    {
     "name": "stderr",
     "output_type": "stream",
     "text": [
      "\n"
     ]
    },
    {
     "name": "stdout",
     "output_type": "stream",
     "text": [
      "\n",
      "      Epoch    GPU_mem   box_loss   cls_loss   dfl_loss  Instances       Size\n"
     ]
    },
    {
     "name": "stderr",
     "output_type": "stream",
     "text": [
      "      21/40         0G      1.452     0.7479     0.9047         26        640: 100%|██████████| 91/91 [24:56<00:00, 16.45s/it]\n",
      "                 Class     Images  Instances      Box(P          R      mAP50  mAP50-95): 100%|██████████| 10/10 [01:07<00:00,  6.76s/it]"
     ]
    },
    {
     "name": "stdout",
     "output_type": "stream",
     "text": [
      "                   all        301       1042      0.819      0.631      0.733       0.37\n"
     ]
    },
    {
     "name": "stderr",
     "output_type": "stream",
     "text": [
      "\n"
     ]
    },
    {
     "name": "stdout",
     "output_type": "stream",
     "text": [
      "\n",
      "      Epoch    GPU_mem   box_loss   cls_loss   dfl_loss  Instances       Size\n"
     ]
    },
    {
     "name": "stderr",
     "output_type": "stream",
     "text": [
      "      22/40         0G      1.463     0.7419     0.8996         30        640: 100%|██████████| 91/91 [24:46<00:00, 16.33s/it]\n",
      "                 Class     Images  Instances      Box(P          R      mAP50  mAP50-95): 100%|██████████| 10/10 [01:07<00:00,  6.76s/it]"
     ]
    },
    {
     "name": "stdout",
     "output_type": "stream",
     "text": [
      "                   all        301       1042        0.8       0.67      0.742      0.373\n"
     ]
    },
    {
     "name": "stderr",
     "output_type": "stream",
     "text": [
      "\n"
     ]
    },
    {
     "name": "stdout",
     "output_type": "stream",
     "text": [
      "\n",
      "      Epoch    GPU_mem   box_loss   cls_loss   dfl_loss  Instances       Size\n"
     ]
    },
    {
     "name": "stderr",
     "output_type": "stream",
     "text": [
      "      23/40         0G      1.444     0.7372       0.89         13        640: 100%|██████████| 91/91 [25:09<00:00, 16.59s/it]\n",
      "                 Class     Images  Instances      Box(P          R      mAP50  mAP50-95): 100%|██████████| 10/10 [01:07<00:00,  6.78s/it]"
     ]
    },
    {
     "name": "stdout",
     "output_type": "stream",
     "text": [
      "                   all        301       1042      0.809      0.681      0.764       0.37\n"
     ]
    },
    {
     "name": "stderr",
     "output_type": "stream",
     "text": [
      "\n"
     ]
    },
    {
     "name": "stdout",
     "output_type": "stream",
     "text": [
      "\n",
      "      Epoch    GPU_mem   box_loss   cls_loss   dfl_loss  Instances       Size\n"
     ]
    },
    {
     "name": "stderr",
     "output_type": "stream",
     "text": [
      "      24/40         0G      1.401     0.7164     0.8938         33        640: 100%|██████████| 91/91 [24:21<00:00, 16.06s/it]\n",
      "                 Class     Images  Instances      Box(P          R      mAP50  mAP50-95): 100%|██████████| 10/10 [01:06<00:00,  6.67s/it]"
     ]
    },
    {
     "name": "stdout",
     "output_type": "stream",
     "text": [
      "                   all        301       1042      0.867      0.683      0.769      0.384\n"
     ]
    },
    {
     "name": "stderr",
     "output_type": "stream",
     "text": [
      "\n"
     ]
    },
    {
     "name": "stdout",
     "output_type": "stream",
     "text": [
      "\n",
      "      Epoch    GPU_mem   box_loss   cls_loss   dfl_loss  Instances       Size\n"
     ]
    },
    {
     "name": "stderr",
     "output_type": "stream",
     "text": [
      "      25/40         0G      1.448     0.7384     0.8944         28        640: 100%|██████████| 91/91 [24:13<00:00, 15.97s/it]\n",
      "                 Class     Images  Instances      Box(P          R      mAP50  mAP50-95): 100%|██████████| 10/10 [01:06<00:00,  6.62s/it]"
     ]
    },
    {
     "name": "stdout",
     "output_type": "stream",
     "text": [
      "                   all        301       1042      0.744      0.647      0.717      0.358\n"
     ]
    },
    {
     "name": "stderr",
     "output_type": "stream",
     "text": [
      "\n"
     ]
    },
    {
     "name": "stdout",
     "output_type": "stream",
     "text": [
      "\n",
      "      Epoch    GPU_mem   box_loss   cls_loss   dfl_loss  Instances       Size\n"
     ]
    },
    {
     "name": "stderr",
     "output_type": "stream",
     "text": [
      "      26/40         0G      1.434     0.7378     0.8877         24        640: 100%|██████████| 91/91 [24:39<00:00, 16.25s/it]\n",
      "                 Class     Images  Instances      Box(P          R      mAP50  mAP50-95): 100%|██████████| 10/10 [01:07<00:00,  6.72s/it]"
     ]
    },
    {
     "name": "stdout",
     "output_type": "stream",
     "text": [
      "                   all        301       1042      0.813      0.681      0.758      0.388\n"
     ]
    },
    {
     "name": "stderr",
     "output_type": "stream",
     "text": [
      "\n"
     ]
    },
    {
     "name": "stdout",
     "output_type": "stream",
     "text": [
      "\n",
      "      Epoch    GPU_mem   box_loss   cls_loss   dfl_loss  Instances       Size\n"
     ]
    },
    {
     "name": "stderr",
     "output_type": "stream",
     "text": [
      "      27/40         0G      1.388     0.7025     0.8873         29        640: 100%|██████████| 91/91 [24:14<00:00, 15.99s/it]\n",
      "                 Class     Images  Instances      Box(P          R      mAP50  mAP50-95): 100%|██████████| 10/10 [01:08<00:00,  6.85s/it]"
     ]
    },
    {
     "name": "stdout",
     "output_type": "stream",
     "text": [
      "                   all        301       1042      0.815      0.674       0.76      0.377\n"
     ]
    },
    {
     "name": "stderr",
     "output_type": "stream",
     "text": [
      "\n"
     ]
    },
    {
     "name": "stdout",
     "output_type": "stream",
     "text": [
      "\n",
      "      Epoch    GPU_mem   box_loss   cls_loss   dfl_loss  Instances       Size\n"
     ]
    },
    {
     "name": "stderr",
     "output_type": "stream",
     "text": [
      "      28/40         0G      1.396     0.6918     0.8766         22        640: 100%|██████████| 91/91 [23:58<00:00, 15.81s/it]\n",
      "                 Class     Images  Instances      Box(P          R      mAP50  mAP50-95): 100%|██████████| 10/10 [01:08<00:00,  6.86s/it]"
     ]
    },
    {
     "name": "stdout",
     "output_type": "stream",
     "text": [
      "                   all        301       1042      0.814       0.68      0.767      0.381\n"
     ]
    },
    {
     "name": "stderr",
     "output_type": "stream",
     "text": [
      "\n"
     ]
    },
    {
     "name": "stdout",
     "output_type": "stream",
     "text": [
      "\n",
      "      Epoch    GPU_mem   box_loss   cls_loss   dfl_loss  Instances       Size\n"
     ]
    },
    {
     "name": "stderr",
     "output_type": "stream",
     "text": [
      "      29/40         0G      1.388     0.6968     0.8786         18        640: 100%|██████████| 91/91 [23:56<00:00, 15.79s/it]\n",
      "                 Class     Images  Instances      Box(P          R      mAP50  mAP50-95): 100%|██████████| 10/10 [01:07<00:00,  6.77s/it]"
     ]
    },
    {
     "name": "stdout",
     "output_type": "stream",
     "text": [
      "                   all        301       1042      0.865      0.699      0.786      0.407\n"
     ]
    },
    {
     "name": "stderr",
     "output_type": "stream",
     "text": [
      "\n"
     ]
    },
    {
     "name": "stdout",
     "output_type": "stream",
     "text": [
      "\n",
      "      Epoch    GPU_mem   box_loss   cls_loss   dfl_loss  Instances       Size\n"
     ]
    },
    {
     "name": "stderr",
     "output_type": "stream",
     "text": [
      "      30/40         0G      1.347     0.6799     0.8735         26        640: 100%|██████████| 91/91 [24:04<00:00, 15.87s/it]\n",
      "                 Class     Images  Instances      Box(P          R      mAP50  mAP50-95): 100%|██████████| 10/10 [01:09<00:00,  6.93s/it]"
     ]
    },
    {
     "name": "stdout",
     "output_type": "stream",
     "text": [
      "                   all        301       1042      0.825       0.69      0.779      0.408\n"
     ]
    },
    {
     "name": "stderr",
     "output_type": "stream",
     "text": [
      "\n"
     ]
    },
    {
     "name": "stdout",
     "output_type": "stream",
     "text": [
      "Closing dataloader mosaic\n",
      "\u001b[34m\u001b[1malbumentations: \u001b[0mBlur(p=0.01, blur_limit=(3, 7)), MedianBlur(p=0.01, blur_limit=(3, 7)), ToGray(p=0.01), CLAHE(p=0.01, clip_limit=(1, 4.0), tile_grid_size=(8, 8))\n",
      "\n",
      "      Epoch    GPU_mem   box_loss   cls_loss   dfl_loss  Instances       Size\n"
     ]
    },
    {
     "name": "stderr",
     "output_type": "stream",
     "text": [
      "      31/40         0G      1.405     0.6995     0.8849         23        640: 100%|██████████| 91/91 [23:51<00:00, 15.73s/it]\n",
      "                 Class     Images  Instances      Box(P          R      mAP50  mAP50-95): 100%|██████████| 10/10 [01:08<00:00,  6.84s/it]"
     ]
    },
    {
     "name": "stdout",
     "output_type": "stream",
     "text": [
      "                   all        301       1042      0.825      0.695      0.774      0.394\n"
     ]
    },
    {
     "name": "stderr",
     "output_type": "stream",
     "text": [
      "\n"
     ]
    },
    {
     "name": "stdout",
     "output_type": "stream",
     "text": [
      "\n",
      "      Epoch    GPU_mem   box_loss   cls_loss   dfl_loss  Instances       Size\n"
     ]
    },
    {
     "name": "stderr",
     "output_type": "stream",
     "text": [
      "      32/40         0G      1.352     0.6841     0.8833         19        640: 100%|██████████| 91/91 [23:50<00:00, 15.72s/it]\n",
      "                 Class     Images  Instances      Box(P          R      mAP50  mAP50-95): 100%|██████████| 10/10 [01:08<00:00,  6.80s/it]"
     ]
    },
    {
     "name": "stdout",
     "output_type": "stream",
     "text": [
      "                   all        301       1042      0.874      0.681      0.782      0.416\n"
     ]
    },
    {
     "name": "stderr",
     "output_type": "stream",
     "text": [
      "\n"
     ]
    },
    {
     "name": "stdout",
     "output_type": "stream",
     "text": [
      "\n",
      "      Epoch    GPU_mem   box_loss   cls_loss   dfl_loss  Instances       Size\n"
     ]
    },
    {
     "name": "stderr",
     "output_type": "stream",
     "text": [
      "      33/40         0G      1.356     0.6765      0.888          9        640: 100%|██████████| 91/91 [23:58<00:00, 15.81s/it]\n",
      "                 Class     Images  Instances      Box(P          R      mAP50  mAP50-95): 100%|██████████| 10/10 [01:07<00:00,  6.76s/it]"
     ]
    },
    {
     "name": "stdout",
     "output_type": "stream",
     "text": [
      "                   all        301       1042      0.849      0.707      0.791      0.419\n"
     ]
    },
    {
     "name": "stderr",
     "output_type": "stream",
     "text": [
      "\n"
     ]
    },
    {
     "name": "stdout",
     "output_type": "stream",
     "text": [
      "\n",
      "      Epoch    GPU_mem   box_loss   cls_loss   dfl_loss  Instances       Size\n"
     ]
    },
    {
     "name": "stderr",
     "output_type": "stream",
     "text": [
      "      34/40         0G      1.347     0.6485     0.8735         17        640: 100%|██████████| 91/91 [24:23<00:00, 16.08s/it]\n",
      "                 Class     Images  Instances      Box(P          R      mAP50  mAP50-95): 100%|██████████| 10/10 [01:09<00:00,  6.90s/it]"
     ]
    },
    {
     "name": "stdout",
     "output_type": "stream",
     "text": [
      "                   all        301       1042      0.858      0.713      0.802      0.418\n"
     ]
    },
    {
     "name": "stderr",
     "output_type": "stream",
     "text": [
      "\n"
     ]
    },
    {
     "name": "stdout",
     "output_type": "stream",
     "text": [
      "\n",
      "      Epoch    GPU_mem   box_loss   cls_loss   dfl_loss  Instances       Size\n"
     ]
    },
    {
     "name": "stderr",
     "output_type": "stream",
     "text": [
      "      35/40         0G      1.339     0.6355     0.8803         14        640: 100%|██████████| 91/91 [24:28<00:00, 16.13s/it]\n",
      "                 Class     Images  Instances      Box(P          R      mAP50  mAP50-95): 100%|██████████| 10/10 [01:08<00:00,  6.90s/it]"
     ]
    },
    {
     "name": "stdout",
     "output_type": "stream",
     "text": [
      "                   all        301       1042       0.86       0.72      0.815      0.434\n"
     ]
    },
    {
     "name": "stderr",
     "output_type": "stream",
     "text": [
      "\n"
     ]
    },
    {
     "name": "stdout",
     "output_type": "stream",
     "text": [
      "\n",
      "      Epoch    GPU_mem   box_loss   cls_loss   dfl_loss  Instances       Size\n"
     ]
    },
    {
     "name": "stderr",
     "output_type": "stream",
     "text": [
      "      36/40         0G      1.312     0.6169     0.8732          7        640: 100%|██████████| 91/91 [24:22<00:00, 16.08s/it]\n",
      "                 Class     Images  Instances      Box(P          R      mAP50  mAP50-95): 100%|██████████| 10/10 [01:08<00:00,  6.90s/it]"
     ]
    },
    {
     "name": "stdout",
     "output_type": "stream",
     "text": [
      "                   all        301       1042      0.847      0.725      0.815      0.433\n"
     ]
    },
    {
     "name": "stderr",
     "output_type": "stream",
     "text": [
      "\n"
     ]
    },
    {
     "name": "stdout",
     "output_type": "stream",
     "text": [
      "\n",
      "      Epoch    GPU_mem   box_loss   cls_loss   dfl_loss  Instances       Size\n"
     ]
    },
    {
     "name": "stderr",
     "output_type": "stream",
     "text": [
      "      37/40         0G      1.291      0.623     0.8727         18        640: 100%|██████████| 91/91 [24:30<00:00, 16.16s/it]\n",
      "                 Class     Images  Instances      Box(P          R      mAP50  mAP50-95): 100%|██████████| 10/10 [01:08<00:00,  6.85s/it]"
     ]
    },
    {
     "name": "stdout",
     "output_type": "stream",
     "text": [
      "                   all        301       1042      0.848      0.739      0.818      0.434\n"
     ]
    },
    {
     "name": "stderr",
     "output_type": "stream",
     "text": [
      "\n"
     ]
    },
    {
     "name": "stdout",
     "output_type": "stream",
     "text": [
      "\n",
      "      Epoch    GPU_mem   box_loss   cls_loss   dfl_loss  Instances       Size\n"
     ]
    },
    {
     "name": "stderr",
     "output_type": "stream",
     "text": [
      "      38/40         0G      1.265      0.596      0.856         12        640: 100%|██████████| 91/91 [23:51<00:00, 15.73s/it]\n",
      "                 Class     Images  Instances      Box(P          R      mAP50  mAP50-95): 100%|██████████| 10/10 [01:08<00:00,  6.81s/it]"
     ]
    },
    {
     "name": "stdout",
     "output_type": "stream",
     "text": [
      "                   all        301       1042      0.844      0.729      0.815      0.439\n"
     ]
    },
    {
     "name": "stderr",
     "output_type": "stream",
     "text": [
      "\n"
     ]
    },
    {
     "name": "stdout",
     "output_type": "stream",
     "text": [
      "\n",
      "      Epoch    GPU_mem   box_loss   cls_loss   dfl_loss  Instances       Size\n"
     ]
    },
    {
     "name": "stderr",
     "output_type": "stream",
     "text": [
      "      39/40         0G      1.236     0.5774     0.8537         13        640: 100%|██████████| 91/91 [24:17<00:00, 16.01s/it]\n",
      "                 Class     Images  Instances      Box(P          R      mAP50  mAP50-95): 100%|██████████| 10/10 [01:08<00:00,  6.83s/it]"
     ]
    },
    {
     "name": "stdout",
     "output_type": "stream",
     "text": [
      "                   all        301       1042      0.854      0.732      0.819      0.446\n"
     ]
    },
    {
     "name": "stderr",
     "output_type": "stream",
     "text": [
      "\n"
     ]
    },
    {
     "name": "stdout",
     "output_type": "stream",
     "text": [
      "\n",
      "      Epoch    GPU_mem   box_loss   cls_loss   dfl_loss  Instances       Size\n"
     ]
    },
    {
     "name": "stderr",
     "output_type": "stream",
     "text": [
      "      40/40         0G      1.259     0.5825      0.858         10        640: 100%|██████████| 91/91 [24:26<00:00, 16.11s/it]\n",
      "                 Class     Images  Instances      Box(P          R      mAP50  mAP50-95): 100%|██████████| 10/10 [01:09<00:00,  6.93s/it]"
     ]
    },
    {
     "name": "stdout",
     "output_type": "stream",
     "text": [
      "                   all        301       1042      0.851      0.731       0.82      0.448\n"
     ]
    },
    {
     "name": "stderr",
     "output_type": "stream",
     "text": [
      "\n"
     ]
    },
    {
     "name": "stdout",
     "output_type": "stream",
     "text": [
      "\n",
      "28 epochs completed in 12.052 hours.\n",
      "Optimizer stripped from runs\\detect\\train36\\weights\\last.pt, 52.0MB\n",
      "Optimizer stripped from runs\\detect\\train36\\weights\\best.pt, 52.0MB\n",
      "\n",
      "Validating runs\\detect\\train36\\weights\\best.pt...\n",
      "Ultralytics YOLOv8.1.44  Python-3.11.2 torch-2.2.2+cpu CPU (AMD Ryzen 7 5700G with Radeon Graphics)\n",
      "Model summary (fused): 218 layers, 25842076 parameters, 0 gradients, 78.7 GFLOPs\n"
     ]
    },
    {
     "name": "stderr",
     "output_type": "stream",
     "text": [
      "                 Class     Images  Instances      Box(P          R      mAP50  mAP50-95): 100%|██████████| 10/10 [00:59<00:00,  5.99s/it]\n"
     ]
    },
    {
     "name": "stdout",
     "output_type": "stream",
     "text": [
      "                   all        301       1042      0.851      0.732       0.82      0.448\n",
      "                bottle        301        575      0.874      0.664      0.804      0.431\n",
      "                carton        301        220      0.845      0.744       0.81      0.454\n",
      "               plastic        301        126      0.912      0.817       0.92      0.544\n",
      "                 paper        301        121      0.773      0.702      0.744      0.362\n",
      "Speed: 1.1ms preprocess, 176.1ms inference, 0.0ms loss, 0.2ms postprocess per image\n",
      "Results saved to \u001b[1mruns\\detect\\train36\u001b[0m\n",
      "Ultralytics YOLOv8.1.44  Python-3.11.2 torch-2.2.2+cpu CPU (AMD Ryzen 7 5700G with Radeon Graphics)\n",
      "Model summary (fused): 218 layers, 25842076 parameters, 0 gradients, 78.7 GFLOPs\n"
     ]
    },
    {
     "name": "stderr",
     "output_type": "stream",
     "text": [
      "\u001b[34m\u001b[1mval: \u001b[0mScanning C:\\Users\\user\\Desktop\\anisha_dl\\FloatingWaste-I-master\\val\\labels.cache... 301 images, 0 backgrounds, 0 corrupt: 100%|██████████| 301/301 [00:00<?, ?it/s]\n",
      "                 Class     Images  Instances      Box(P          R      mAP50  mAP50-95): 100%|██████████| 19/19 [00:55<00:00,  2.94s/it]\n"
     ]
    },
    {
     "name": "stdout",
     "output_type": "stream",
     "text": [
      "                   all        301       1042      0.851      0.732       0.82      0.448\n",
      "                bottle        301        575      0.874      0.664      0.804      0.431\n",
      "                carton        301        220      0.845      0.744       0.81      0.454\n",
      "               plastic        301        126      0.912      0.817       0.92      0.544\n",
      "                 paper        301        121      0.773      0.702      0.744      0.362\n",
      "Speed: 0.6ms preprocess, 162.9ms inference, 0.0ms loss, 0.2ms postprocess per image\n",
      "Results saved to \u001b[1mruns\\detect\\train362\u001b[0m\n"
     ]
    }
   ],
   "source": [
    "from ultralytics import YOLO\n",
    "\n",
    "# Load a model\n",
    "\n",
    "model = YOLO(r\"D:\\Engineering\\SEM6\\PROJECTS\\DeepLearning\\FloW_IMG\\runs\\detect\\train36\\weights\\last.pt\")  # load a pretrained model (recommended for training)\n",
    "\n",
    "# Use the model\n",
    "model.train(resume=True)  # train the model\n",
    "metrics = model.val()  # evaluate model performance on the validation set\n"
   ]
  },
  {
   "cell_type": "markdown",
   "metadata": {},
   "source": [
    "#YOLOv8x"
   ]
  },
  {
   "cell_type": "code",
   "execution_count": 1,
   "metadata": {},
   "outputs": [
    {
     "name": "stdout",
     "output_type": "stream",
     "text": [
      "New https://pypi.org/project/ultralytics/8.2.0 available  Update with 'pip install -U ultralytics'\n",
      "Ultralytics YOLOv8.1.44  Python-3.11.2 torch-2.2.2+cpu CPU (AMD Ryzen 7 5700G with Radeon Graphics)\n",
      "\u001b[34m\u001b[1mengine\\trainer: \u001b[0mtask=detect, mode=train, model=D:\\Engineering\\SEM6\\PROJECTS\\DeepLearning\\FloW_IMG\\runs\\detect\\train30\\weights\\last.pt, data=C:\\Users\\user\\Desktop\\anisha_dl\\FloatingWaste-I-master\\data.yaml, epochs=40, time=None, patience=100, batch=16, imgsz=640, save=True, save_period=-1, cache=False, device=None, workers=8, project=None, name=train32, exist_ok=False, pretrained=True, optimizer=auto, verbose=True, seed=0, deterministic=True, single_cls=False, rect=False, cos_lr=False, close_mosaic=10, resume=False, amp=True, fraction=1.0, profile=False, freeze=None, multi_scale=False, overlap_mask=True, mask_ratio=4, dropout=0.0, val=True, split=val, save_json=False, save_hybrid=False, conf=None, iou=0.7, max_det=300, half=False, dnn=False, plots=True, source=None, vid_stride=1, stream_buffer=False, visualize=False, augment=False, agnostic_nms=False, classes=None, retina_masks=False, embed=None, show=False, save_frames=False, save_txt=False, save_conf=False, save_crop=False, show_labels=True, show_conf=True, show_boxes=True, line_width=None, format=torchscript, keras=False, optimize=False, int8=False, dynamic=False, simplify=False, opset=None, workspace=4, nms=False, lr0=0.01, lrf=0.01, momentum=0.937, weight_decay=0.0005, warmup_epochs=3.0, warmup_momentum=0.8, warmup_bias_lr=0.1, box=7.5, cls=0.5, dfl=1.5, pose=12.0, kobj=1.0, label_smoothing=0.0, nbs=64, hsv_h=0.015, hsv_s=0.7, hsv_v=0.4, degrees=0.0, translate=0.1, scale=0.5, shear=0.0, perspective=0.0, flipud=0.0, fliplr=0.5, bgr=0.0, mosaic=1.0, mixup=0.0, copy_paste=0.0, auto_augment=randaugment, erasing=0.4, crop_fraction=1.0, cfg=None, tracker=botsort.yaml, save_dir=runs\\detect\\train32\n",
      "\n",
      "                   from  n    params  module                                       arguments                     \n",
      "  0                  -1  1      2320  ultralytics.nn.modules.conv.Conv             [3, 80, 3, 2]                 \n",
      "  1                  -1  1    115520  ultralytics.nn.modules.conv.Conv             [80, 160, 3, 2]               \n",
      "  2                  -1  3    436800  ultralytics.nn.modules.block.C2f             [160, 160, 3, True]           \n",
      "  3                  -1  1    461440  ultralytics.nn.modules.conv.Conv             [160, 320, 3, 2]              \n",
      "  4                  -1  6   3281920  ultralytics.nn.modules.block.C2f             [320, 320, 6, True]           \n",
      "  5                  -1  1   1844480  ultralytics.nn.modules.conv.Conv             [320, 640, 3, 2]              \n",
      "  6                  -1  6  13117440  ultralytics.nn.modules.block.C2f             [640, 640, 6, True]           \n",
      "  7                  -1  1   3687680  ultralytics.nn.modules.conv.Conv             [640, 640, 3, 2]              \n",
      "  8                  -1  3   6969600  ultralytics.nn.modules.block.C2f             [640, 640, 3, True]           \n",
      "  9                  -1  1   1025920  ultralytics.nn.modules.block.SPPF            [640, 640, 5]                 \n",
      " 10                  -1  1         0  torch.nn.modules.upsampling.Upsample         [None, 2, 'nearest']          \n",
      " 11             [-1, 6]  1         0  ultralytics.nn.modules.conv.Concat           [1]                           \n",
      " 12                  -1  3   7379200  ultralytics.nn.modules.block.C2f             [1280, 640, 3]                \n",
      " 13                  -1  1         0  torch.nn.modules.upsampling.Upsample         [None, 2, 'nearest']          \n",
      " 14             [-1, 4]  1         0  ultralytics.nn.modules.conv.Concat           [1]                           \n",
      " 15                  -1  3   1948800  ultralytics.nn.modules.block.C2f             [960, 320, 3]                 \n",
      " 16                  -1  1    922240  ultralytics.nn.modules.conv.Conv             [320, 320, 3, 2]              \n",
      " 17            [-1, 12]  1         0  ultralytics.nn.modules.conv.Concat           [1]                           \n",
      " 18                  -1  3   7174400  ultralytics.nn.modules.block.C2f             [960, 640, 3]                 \n",
      " 19                  -1  1   3687680  ultralytics.nn.modules.conv.Conv             [640, 640, 3, 2]              \n",
      " 20             [-1, 9]  1         0  ultralytics.nn.modules.conv.Concat           [1]                           \n",
      " 21                  -1  3   7379200  ultralytics.nn.modules.block.C2f             [1280, 640, 3]                \n",
      " 22        [15, 18, 21]  1   8721820  ultralytics.nn.modules.head.Detect           [4, [320, 640, 640]]          \n",
      "Model summary: 365 layers, 68156460 parameters, 68156444 gradients, 258.1 GFLOPs\n",
      "\n",
      "Transferred 595/595 items from pretrained weights\n",
      "\u001b[34m\u001b[1mTensorBoard: \u001b[0mStart with 'tensorboard --logdir runs\\detect\\train32', view at http://localhost:6006/\n",
      "Freezing layer 'model.22.dfl.conv.weight'\n"
     ]
    },
    {
     "name": "stderr",
     "output_type": "stream",
     "text": [
      "\u001b[34m\u001b[1mtrain: \u001b[0mScanning C:\\Users\\user\\Desktop\\anisha_dl\\FloatingWaste-I-master\\train\\labels.cache... 1445 images, 0 backgrounds, 0 corrupt: 100%|██████████| 1445/1445 [00:00<?, ?it/s]\n"
     ]
    },
    {
     "name": "stdout",
     "output_type": "stream",
     "text": [
      "\u001b[34m\u001b[1malbumentations: \u001b[0mBlur(p=0.01, blur_limit=(3, 7)), MedianBlur(p=0.01, blur_limit=(3, 7)), ToGray(p=0.01), CLAHE(p=0.01, clip_limit=(1, 4.0), tile_grid_size=(8, 8))\n"
     ]
    },
    {
     "name": "stderr",
     "output_type": "stream",
     "text": [
      "\u001b[34m\u001b[1mval: \u001b[0mScanning C:\\Users\\user\\Desktop\\anisha_dl\\FloatingWaste-I-master\\val\\labels.cache... 301 images, 0 backgrounds, 0 corrupt: 100%|██████████| 301/301 [00:00<?, ?it/s]\n"
     ]
    },
    {
     "name": "stdout",
     "output_type": "stream",
     "text": [
      "Plotting labels to runs\\detect\\train32\\labels.jpg... \n",
      "\u001b[34m\u001b[1moptimizer:\u001b[0m 'optimizer=auto' found, ignoring 'lr0=0.01' and 'momentum=0.937' and determining best 'optimizer', 'lr0' and 'momentum' automatically... \n",
      "\u001b[34m\u001b[1moptimizer:\u001b[0m AdamW(lr=0.00125, momentum=0.9) with parameter groups 97 weight(decay=0.0), 104 weight(decay=0.0005), 103 bias(decay=0.0)\n",
      "\u001b[34m\u001b[1mTensorBoard: \u001b[0mmodel graph visualization added \n",
      "Image sizes 640 train, 640 val\n",
      "Using 0 dataloader workers\n",
      "Logging results to \u001b[1mruns\\detect\\train32\u001b[0m\n",
      "Starting training for 40 epochs...\n",
      "\n",
      "      Epoch    GPU_mem   box_loss   cls_loss   dfl_loss  Instances       Size\n"
     ]
    },
    {
     "name": "stderr",
     "output_type": "stream",
     "text": [
      "       1/40         0G      1.619     0.9619      0.925         16        640: 100%|██████████| 91/91 [59:05<00:00, 38.96s/it] \n",
      "                 Class     Images  Instances      Box(P          R      mAP50  mAP50-95): 100%|██████████| 10/10 [02:32<00:00, 15.23s/it]"
     ]
    },
    {
     "name": "stdout",
     "output_type": "stream",
     "text": [
      "                   all        301       1042      0.731      0.529      0.598      0.288\n"
     ]
    },
    {
     "name": "stderr",
     "output_type": "stream",
     "text": [
      "\n"
     ]
    },
    {
     "name": "stdout",
     "output_type": "stream",
     "text": [
      "\n",
      "      Epoch    GPU_mem   box_loss   cls_loss   dfl_loss  Instances       Size\n"
     ]
    },
    {
     "name": "stderr",
     "output_type": "stream",
     "text": [
      "       2/40         0G      1.613     0.9792     0.9333         23        640: 100%|██████████| 91/91 [58:08<00:00, 38.33s/it]\n",
      "                 Class     Images  Instances      Box(P          R      mAP50  mAP50-95): 100%|██████████| 10/10 [02:30<00:00, 15.03s/it]"
     ]
    },
    {
     "name": "stdout",
     "output_type": "stream",
     "text": [
      "                   all        301       1042      0.752      0.502      0.599      0.285\n"
     ]
    },
    {
     "name": "stderr",
     "output_type": "stream",
     "text": [
      "\n"
     ]
    },
    {
     "name": "stdout",
     "output_type": "stream",
     "text": [
      "\n",
      "      Epoch    GPU_mem   box_loss   cls_loss   dfl_loss  Instances       Size\n"
     ]
    },
    {
     "name": "stderr",
     "output_type": "stream",
     "text": [
      "       3/40         0G      1.636      1.036     0.9284         31        640: 100%|██████████| 91/91 [59:08<00:00, 39.00s/it]\n",
      "                 Class     Images  Instances      Box(P          R      mAP50  mAP50-95): 100%|██████████| 10/10 [02:30<00:00, 15.07s/it]"
     ]
    },
    {
     "name": "stdout",
     "output_type": "stream",
     "text": [
      "                   all        301       1042      0.702      0.445      0.513      0.226\n"
     ]
    },
    {
     "name": "stderr",
     "output_type": "stream",
     "text": [
      "\n"
     ]
    },
    {
     "name": "stdout",
     "output_type": "stream",
     "text": [
      "\n",
      "      Epoch    GPU_mem   box_loss   cls_loss   dfl_loss  Instances       Size\n"
     ]
    },
    {
     "name": "stderr",
     "output_type": "stream",
     "text": [
      "       4/40         0G      1.699      1.078     0.9487         22        640: 100%|██████████| 91/91 [59:33<00:00, 39.27s/it]\n",
      "                 Class     Images  Instances      Box(P          R      mAP50  mAP50-95): 100%|██████████| 10/10 [02:31<00:00, 15.16s/it]"
     ]
    },
    {
     "name": "stdout",
     "output_type": "stream",
     "text": [
      "                   all        301       1042      0.736      0.523      0.601      0.295\n"
     ]
    },
    {
     "name": "stderr",
     "output_type": "stream",
     "text": [
      "\n"
     ]
    },
    {
     "name": "stdout",
     "output_type": "stream",
     "text": [
      "\n",
      "      Epoch    GPU_mem   box_loss   cls_loss   dfl_loss  Instances       Size\n"
     ]
    },
    {
     "name": "stderr",
     "output_type": "stream",
     "text": [
      "       5/40         0G      1.673      1.037     0.9348         27        640: 100%|██████████| 91/91 [58:34<00:00, 38.62s/it]\n",
      "                 Class     Images  Instances      Box(P          R      mAP50  mAP50-95): 100%|██████████| 10/10 [02:33<00:00, 15.31s/it]"
     ]
    },
    {
     "name": "stdout",
     "output_type": "stream",
     "text": [
      "                   all        301       1042      0.758      0.516      0.593       0.28\n"
     ]
    },
    {
     "name": "stderr",
     "output_type": "stream",
     "text": [
      "\n"
     ]
    },
    {
     "name": "stdout",
     "output_type": "stream",
     "text": [
      "\n",
      "      Epoch    GPU_mem   box_loss   cls_loss   dfl_loss  Instances       Size\n"
     ]
    },
    {
     "name": "stderr",
     "output_type": "stream",
     "text": [
      "       6/40         0G      1.639      1.007     0.9311         15        640: 100%|██████████| 91/91 [58:50<00:00, 38.80s/it]\n",
      "                 Class     Images  Instances      Box(P          R      mAP50  mAP50-95): 100%|██████████| 10/10 [02:28<00:00, 14.82s/it]"
     ]
    },
    {
     "name": "stdout",
     "output_type": "stream",
     "text": [
      "                   all        301       1042      0.756      0.517      0.604      0.287\n"
     ]
    },
    {
     "name": "stderr",
     "output_type": "stream",
     "text": [
      "\n"
     ]
    },
    {
     "name": "stdout",
     "output_type": "stream",
     "text": [
      "\n",
      "      Epoch    GPU_mem   box_loss   cls_loss   dfl_loss  Instances       Size\n"
     ]
    },
    {
     "name": "stderr",
     "output_type": "stream",
     "text": [
      "       7/40         0G      1.588     0.9328     0.9251         16        640: 100%|██████████| 91/91 [59:32<00:00, 39.26s/it]\n",
      "                 Class     Images  Instances      Box(P          R      mAP50  mAP50-95): 100%|██████████| 10/10 [02:31<00:00, 15.13s/it]"
     ]
    },
    {
     "name": "stdout",
     "output_type": "stream",
     "text": [
      "                   all        301       1042      0.787      0.549      0.644      0.319\n"
     ]
    },
    {
     "name": "stderr",
     "output_type": "stream",
     "text": [
      "\n"
     ]
    },
    {
     "name": "stdout",
     "output_type": "stream",
     "text": [
      "\n",
      "      Epoch    GPU_mem   box_loss   cls_loss   dfl_loss  Instances       Size\n"
     ]
    },
    {
     "name": "stderr",
     "output_type": "stream",
     "text": [
      "       8/40         0G      1.602     0.9265     0.9101         25        640: 100%|██████████| 91/91 [58:33<00:00, 38.61s/it]\n",
      "                 Class     Images  Instances      Box(P          R      mAP50  mAP50-95): 100%|██████████| 10/10 [02:29<00:00, 14.94s/it]"
     ]
    },
    {
     "name": "stdout",
     "output_type": "stream",
     "text": [
      "                   all        301       1042      0.797      0.536      0.627      0.298\n"
     ]
    },
    {
     "name": "stderr",
     "output_type": "stream",
     "text": [
      "\n"
     ]
    },
    {
     "name": "stdout",
     "output_type": "stream",
     "text": [
      "\n",
      "      Epoch    GPU_mem   box_loss   cls_loss   dfl_loss  Instances       Size\n"
     ]
    },
    {
     "name": "stderr",
     "output_type": "stream",
     "text": [
      "       9/40         0G      1.588     0.8754     0.9259         26        640: 100%|██████████| 91/91 [58:31<00:00, 38.59s/it]\n",
      "                 Class     Images  Instances      Box(P          R      mAP50  mAP50-95): 100%|██████████| 10/10 [02:28<00:00, 14.87s/it]"
     ]
    },
    {
     "name": "stdout",
     "output_type": "stream",
     "text": [
      "                   all        301       1042      0.761      0.539       0.62      0.283\n"
     ]
    },
    {
     "name": "stderr",
     "output_type": "stream",
     "text": [
      "\n"
     ]
    },
    {
     "name": "stdout",
     "output_type": "stream",
     "text": [
      "\n",
      "      Epoch    GPU_mem   box_loss   cls_loss   dfl_loss  Instances       Size\n"
     ]
    },
    {
     "name": "stderr",
     "output_type": "stream",
     "text": [
      "      10/40         0G      1.613     0.9017     0.9249         30        640: 100%|██████████| 91/91 [1:00:07<00:00, 39.64s/it]\n",
      "                 Class     Images  Instances      Box(P          R      mAP50  mAP50-95): 100%|██████████| 10/10 [02:30<00:00, 15.08s/it]"
     ]
    },
    {
     "name": "stdout",
     "output_type": "stream",
     "text": [
      "                   all        301       1042      0.772      0.617      0.695      0.333\n"
     ]
    },
    {
     "name": "stderr",
     "output_type": "stream",
     "text": [
      "\n"
     ]
    },
    {
     "name": "stdout",
     "output_type": "stream",
     "text": [
      "\n",
      "      Epoch    GPU_mem   box_loss   cls_loss   dfl_loss  Instances       Size\n"
     ]
    },
    {
     "name": "stderr",
     "output_type": "stream",
     "text": [
      "      11/40         0G      1.591     0.8869     0.9123         13        640: 100%|██████████| 91/91 [59:52<00:00, 39.48s/it]\n",
      "                 Class     Images  Instances      Box(P          R      mAP50  mAP50-95): 100%|██████████| 10/10 [02:32<00:00, 15.23s/it]"
     ]
    },
    {
     "name": "stdout",
     "output_type": "stream",
     "text": [
      "                   all        301       1042       0.72      0.575      0.642      0.284\n"
     ]
    },
    {
     "name": "stderr",
     "output_type": "stream",
     "text": [
      "\n"
     ]
    },
    {
     "name": "stdout",
     "output_type": "stream",
     "text": [
      "\n",
      "      Epoch    GPU_mem   box_loss   cls_loss   dfl_loss  Instances       Size\n"
     ]
    },
    {
     "name": "stderr",
     "output_type": "stream",
     "text": [
      "      12/40         0G      1.559     0.8623     0.9254         33        640: 100%|██████████| 91/91 [59:45<00:00, 39.41s/it]\n",
      "                 Class     Images  Instances      Box(P          R      mAP50  mAP50-95): 100%|██████████| 10/10 [02:31<00:00, 15.16s/it]"
     ]
    },
    {
     "name": "stdout",
     "output_type": "stream",
     "text": [
      "                   all        301       1042      0.737      0.579      0.664       0.32\n"
     ]
    },
    {
     "name": "stderr",
     "output_type": "stream",
     "text": [
      "\n"
     ]
    },
    {
     "name": "stdout",
     "output_type": "stream",
     "text": [
      "\n",
      "      Epoch    GPU_mem   box_loss   cls_loss   dfl_loss  Instances       Size\n"
     ]
    },
    {
     "name": "stderr",
     "output_type": "stream",
     "text": [
      "      13/40         0G      1.572     0.8768      0.919         28        640: 100%|██████████| 91/91 [59:51<00:00, 39.46s/it]\n",
      "                 Class     Images  Instances      Box(P          R      mAP50  mAP50-95): 100%|██████████| 10/10 [02:31<00:00, 15.11s/it]"
     ]
    },
    {
     "name": "stdout",
     "output_type": "stream",
     "text": [
      "                   all        301       1042      0.774      0.578      0.667      0.317\n"
     ]
    },
    {
     "name": "stderr",
     "output_type": "stream",
     "text": [
      "\n"
     ]
    },
    {
     "name": "stdout",
     "output_type": "stream",
     "text": [
      "\n",
      "      Epoch    GPU_mem   box_loss   cls_loss   dfl_loss  Instances       Size\n"
     ]
    },
    {
     "name": "stderr",
     "output_type": "stream",
     "text": [
      "      14/40         0G      1.557     0.8759      0.907         24        640: 100%|██████████| 91/91 [59:51<00:00, 39.46s/it]\n",
      "                 Class     Images  Instances      Box(P          R      mAP50  mAP50-95): 100%|██████████| 10/10 [02:30<00:00, 15.04s/it]"
     ]
    },
    {
     "name": "stdout",
     "output_type": "stream",
     "text": [
      "                   all        301       1042      0.769       0.63      0.702      0.356\n"
     ]
    },
    {
     "name": "stderr",
     "output_type": "stream",
     "text": [
      "\n"
     ]
    },
    {
     "name": "stdout",
     "output_type": "stream",
     "text": [
      "\n",
      "      Epoch    GPU_mem   box_loss   cls_loss   dfl_loss  Instances       Size\n"
     ]
    },
    {
     "name": "stderr",
     "output_type": "stream",
     "text": [
      "      15/40         0G      1.493     0.8073     0.9029         29        640: 100%|██████████| 91/91 [58:49<00:00, 38.79s/it]\n",
      "                 Class     Images  Instances      Box(P          R      mAP50  mAP50-95): 100%|██████████| 10/10 [02:28<00:00, 14.83s/it]"
     ]
    },
    {
     "name": "stdout",
     "output_type": "stream",
     "text": [
      "                   all        301       1042      0.795      0.579      0.685      0.325\n"
     ]
    },
    {
     "name": "stderr",
     "output_type": "stream",
     "text": [
      "\n"
     ]
    },
    {
     "name": "stdout",
     "output_type": "stream",
     "text": [
      "\n",
      "      Epoch    GPU_mem   box_loss   cls_loss   dfl_loss  Instances       Size\n"
     ]
    },
    {
     "name": "stderr",
     "output_type": "stream",
     "text": [
      "      16/40         0G      1.491     0.7965     0.8969         22        640: 100%|██████████| 91/91 [59:43<00:00, 39.38s/it] \n",
      "                 Class     Images  Instances      Box(P          R      mAP50  mAP50-95): 100%|██████████| 10/10 [02:31<00:00, 15.13s/it]"
     ]
    },
    {
     "name": "stdout",
     "output_type": "stream",
     "text": [
      "                   all        301       1042      0.817      0.633      0.722      0.368\n"
     ]
    },
    {
     "name": "stderr",
     "output_type": "stream",
     "text": [
      "\n"
     ]
    },
    {
     "name": "stdout",
     "output_type": "stream",
     "text": [
      "\n",
      "      Epoch    GPU_mem   box_loss   cls_loss   dfl_loss  Instances       Size\n"
     ]
    },
    {
     "name": "stderr",
     "output_type": "stream",
     "text": [
      "      17/40         0G      1.507     0.7923     0.8993         18        640: 100%|██████████| 91/91 [1:00:15<00:00, 39.74s/it]\n",
      "                 Class     Images  Instances      Box(P          R      mAP50  mAP50-95): 100%|██████████| 10/10 [02:30<00:00, 15.04s/it]"
     ]
    },
    {
     "name": "stdout",
     "output_type": "stream",
     "text": [
      "                   all        301       1042      0.845      0.617      0.742      0.381\n"
     ]
    },
    {
     "name": "stderr",
     "output_type": "stream",
     "text": [
      "\n"
     ]
    },
    {
     "name": "stdout",
     "output_type": "stream",
     "text": [
      "\n",
      "      Epoch    GPU_mem   box_loss   cls_loss   dfl_loss  Instances       Size\n"
     ]
    },
    {
     "name": "stderr",
     "output_type": "stream",
     "text": [
      "      18/40         0G      1.483     0.7791     0.8971         26        640: 100%|██████████| 91/91 [58:52<00:00, 38.82s/it]\n",
      "                 Class     Images  Instances      Box(P          R      mAP50  mAP50-95): 100%|██████████| 10/10 [02:28<00:00, 14.84s/it]"
     ]
    },
    {
     "name": "stdout",
     "output_type": "stream",
     "text": [
      "                   all        301       1042      0.806       0.63      0.722      0.369\n"
     ]
    },
    {
     "name": "stderr",
     "output_type": "stream",
     "text": [
      "\n"
     ]
    },
    {
     "name": "stdout",
     "output_type": "stream",
     "text": [
      "\n",
      "      Epoch    GPU_mem   box_loss   cls_loss   dfl_loss  Instances       Size\n"
     ]
    },
    {
     "name": "stderr",
     "output_type": "stream",
     "text": [
      "      19/40         0G      1.462     0.7673     0.8975         28        640: 100%|██████████| 91/91 [58:51<00:00, 38.81s/it]\n",
      "                 Class     Images  Instances      Box(P          R      mAP50  mAP50-95): 100%|██████████| 10/10 [02:28<00:00, 14.88s/it]"
     ]
    },
    {
     "name": "stdout",
     "output_type": "stream",
     "text": [
      "                   all        301       1042      0.834      0.635      0.745      0.389\n"
     ]
    },
    {
     "name": "stderr",
     "output_type": "stream",
     "text": [
      "\n"
     ]
    },
    {
     "name": "stdout",
     "output_type": "stream",
     "text": [
      "\n",
      "      Epoch    GPU_mem   box_loss   cls_loss   dfl_loss  Instances       Size\n"
     ]
    },
    {
     "name": "stderr",
     "output_type": "stream",
     "text": [
      "      20/40         0G       1.46     0.7568        0.9         31        640: 100%|██████████| 91/91 [1:00:12<00:00, 39.70s/it]\n",
      "                 Class     Images  Instances      Box(P          R      mAP50  mAP50-95): 100%|██████████| 10/10 [02:31<00:00, 15.15s/it]"
     ]
    },
    {
     "name": "stdout",
     "output_type": "stream",
     "text": [
      "                   all        301       1042      0.837      0.638      0.747      0.396\n"
     ]
    },
    {
     "name": "stderr",
     "output_type": "stream",
     "text": [
      "\n"
     ]
    },
    {
     "name": "stdout",
     "output_type": "stream",
     "text": [
      "\n",
      "      Epoch    GPU_mem   box_loss   cls_loss   dfl_loss  Instances       Size\n"
     ]
    },
    {
     "name": "stderr",
     "output_type": "stream",
     "text": [
      "      21/40         0G      1.441     0.7525     0.8874         27        640: 100%|██████████| 91/91 [1:00:02<00:00, 39.59s/it]\n",
      "                 Class     Images  Instances      Box(P          R      mAP50  mAP50-95): 100%|██████████| 10/10 [02:30<00:00, 15.04s/it]"
     ]
    },
    {
     "name": "stdout",
     "output_type": "stream",
     "text": [
      "                   all        301       1042      0.861      0.679      0.777      0.396\n"
     ]
    },
    {
     "name": "stderr",
     "output_type": "stream",
     "text": [
      "\n"
     ]
    },
    {
     "name": "stdout",
     "output_type": "stream",
     "text": [
      "\n",
      "      Epoch    GPU_mem   box_loss   cls_loss   dfl_loss  Instances       Size\n"
     ]
    },
    {
     "name": "stderr",
     "output_type": "stream",
     "text": [
      "      22/40         0G      1.405     0.7309     0.8807         26        640: 100%|██████████| 91/91 [58:51<00:00, 38.80s/it]\n",
      "                 Class     Images  Instances      Box(P          R      mAP50  mAP50-95): 100%|██████████| 10/10 [02:27<00:00, 14.78s/it]"
     ]
    },
    {
     "name": "stdout",
     "output_type": "stream",
     "text": [
      "                   all        301       1042      0.812      0.679      0.759      0.397\n"
     ]
    },
    {
     "name": "stderr",
     "output_type": "stream",
     "text": [
      "\n"
     ]
    },
    {
     "name": "stdout",
     "output_type": "stream",
     "text": [
      "\n",
      "      Epoch    GPU_mem   box_loss   cls_loss   dfl_loss  Instances       Size\n"
     ]
    },
    {
     "name": "stderr",
     "output_type": "stream",
     "text": [
      "      23/40         0G       1.42     0.7268     0.8833         50        640: 100%|██████████| 91/91 [58:51<00:00, 38.81s/it]\n",
      "                 Class     Images  Instances      Box(P          R      mAP50  mAP50-95): 100%|██████████| 10/10 [02:29<00:00, 14.91s/it]"
     ]
    },
    {
     "name": "stdout",
     "output_type": "stream",
     "text": [
      "                   all        301       1042      0.845       0.68      0.757      0.388\n"
     ]
    },
    {
     "name": "stderr",
     "output_type": "stream",
     "text": [
      "\n"
     ]
    },
    {
     "name": "stdout",
     "output_type": "stream",
     "text": [
      "\n",
      "      Epoch    GPU_mem   box_loss   cls_loss   dfl_loss  Instances       Size\n"
     ]
    },
    {
     "name": "stderr",
     "output_type": "stream",
     "text": [
      "      24/40         0G       1.43     0.7212      0.886         24        640: 100%|██████████| 91/91 [1:00:03<00:00, 39.60s/it]\n",
      "                 Class     Images  Instances      Box(P          R      mAP50  mAP50-95): 100%|██████████| 10/10 [02:30<00:00, 15.06s/it]"
     ]
    },
    {
     "name": "stdout",
     "output_type": "stream",
     "text": [
      "                   all        301       1042      0.867      0.692       0.78      0.408\n"
     ]
    },
    {
     "name": "stderr",
     "output_type": "stream",
     "text": [
      "\n"
     ]
    },
    {
     "name": "stdout",
     "output_type": "stream",
     "text": [
      "\n",
      "      Epoch    GPU_mem   box_loss   cls_loss   dfl_loss  Instances       Size\n"
     ]
    },
    {
     "name": "stderr",
     "output_type": "stream",
     "text": [
      "      25/40         0G      1.395     0.6875     0.8888         39        640: 100%|██████████| 91/91 [58:59<00:00, 38.90s/it]\n",
      "                 Class     Images  Instances      Box(P          R      mAP50  mAP50-95): 100%|██████████| 10/10 [02:28<00:00, 14.83s/it]"
     ]
    },
    {
     "name": "stdout",
     "output_type": "stream",
     "text": [
      "                   all        301       1042      0.837      0.702      0.783       0.41\n"
     ]
    },
    {
     "name": "stderr",
     "output_type": "stream",
     "text": [
      "\n"
     ]
    },
    {
     "name": "stdout",
     "output_type": "stream",
     "text": [
      "\n",
      "      Epoch    GPU_mem   box_loss   cls_loss   dfl_loss  Instances       Size\n"
     ]
    },
    {
     "name": "stderr",
     "output_type": "stream",
     "text": [
      "      26/40         0G      1.384     0.6868     0.8776         37        640: 100%|██████████| 91/91 [59:50<00:00, 39.46s/it] \n",
      "                 Class     Images  Instances      Box(P          R      mAP50  mAP50-95): 100%|██████████| 10/10 [02:29<00:00, 14.99s/it]"
     ]
    },
    {
     "name": "stdout",
     "output_type": "stream",
     "text": [
      "                   all        301       1042      0.866       0.72      0.798      0.423\n"
     ]
    },
    {
     "name": "stderr",
     "output_type": "stream",
     "text": [
      "\n"
     ]
    },
    {
     "name": "stdout",
     "output_type": "stream",
     "text": [
      "\n",
      "      Epoch    GPU_mem   box_loss   cls_loss   dfl_loss  Instances       Size\n"
     ]
    },
    {
     "name": "stderr",
     "output_type": "stream",
     "text": [
      "      27/40         0G      1.329     0.6548     0.8785         17        640: 100%|██████████| 91/91 [59:55<00:00, 39.51s/it]\n",
      "                 Class     Images  Instances      Box(P          R      mAP50  mAP50-95): 100%|██████████| 10/10 [02:31<00:00, 15.12s/it]"
     ]
    },
    {
     "name": "stdout",
     "output_type": "stream",
     "text": [
      "                   all        301       1042      0.811      0.712      0.788      0.418\n"
     ]
    },
    {
     "name": "stderr",
     "output_type": "stream",
     "text": [
      "\n"
     ]
    },
    {
     "name": "stdout",
     "output_type": "stream",
     "text": [
      "\n",
      "      Epoch    GPU_mem   box_loss   cls_loss   dfl_loss  Instances       Size\n"
     ]
    },
    {
     "name": "stderr",
     "output_type": "stream",
     "text": [
      "      28/40         0G      1.371     0.6746     0.8784         13        640: 100%|██████████| 91/91 [58:57<00:00, 38.87s/it]\n",
      "                 Class     Images  Instances      Box(P          R      mAP50  mAP50-95): 100%|██████████| 10/10 [02:30<00:00, 15.04s/it]"
     ]
    },
    {
     "name": "stdout",
     "output_type": "stream",
     "text": [
      "                   all        301       1042      0.834      0.701      0.788       0.42\n"
     ]
    },
    {
     "name": "stderr",
     "output_type": "stream",
     "text": [
      "\n"
     ]
    },
    {
     "name": "stdout",
     "output_type": "stream",
     "text": [
      "\n",
      "      Epoch    GPU_mem   box_loss   cls_loss   dfl_loss  Instances       Size\n"
     ]
    },
    {
     "name": "stderr",
     "output_type": "stream",
     "text": [
      "      29/40         0G      1.316     0.6428     0.8699         17        640: 100%|██████████| 91/91 [59:05<00:00, 38.96s/it]\n",
      "                 Class     Images  Instances      Box(P          R      mAP50  mAP50-95): 100%|██████████| 10/10 [02:30<00:00, 15.07s/it]"
     ]
    },
    {
     "name": "stdout",
     "output_type": "stream",
     "text": [
      "                   all        301       1042      0.844      0.716      0.803       0.43\n"
     ]
    },
    {
     "name": "stderr",
     "output_type": "stream",
     "text": [
      "\n"
     ]
    },
    {
     "name": "stdout",
     "output_type": "stream",
     "text": [
      "\n",
      "      Epoch    GPU_mem   box_loss   cls_loss   dfl_loss  Instances       Size\n"
     ]
    },
    {
     "name": "stderr",
     "output_type": "stream",
     "text": [
      "      30/40         0G      1.319     0.6576     0.8704         16        640: 100%|██████████| 91/91 [59:24<00:00, 39.17s/it]\n",
      "                 Class     Images  Instances      Box(P          R      mAP50  mAP50-95): 100%|██████████| 10/10 [02:27<00:00, 14.76s/it]"
     ]
    },
    {
     "name": "stdout",
     "output_type": "stream",
     "text": [
      "                   all        301       1042      0.818      0.717      0.798      0.431\n"
     ]
    },
    {
     "name": "stderr",
     "output_type": "stream",
     "text": [
      "\n"
     ]
    },
    {
     "name": "stdout",
     "output_type": "stream",
     "text": [
      "Closing dataloader mosaic\n",
      "\u001b[34m\u001b[1malbumentations: \u001b[0mBlur(p=0.01, blur_limit=(3, 7)), MedianBlur(p=0.01, blur_limit=(3, 7)), ToGray(p=0.01), CLAHE(p=0.01, clip_limit=(1, 4.0), tile_grid_size=(8, 8))\n",
      "\n",
      "      Epoch    GPU_mem   box_loss   cls_loss   dfl_loss  Instances       Size\n"
     ]
    },
    {
     "name": "stderr",
     "output_type": "stream",
     "text": [
      "      31/40         0G      1.355     0.6477      0.876         14        640: 100%|██████████| 91/91 [58:48<00:00, 38.77s/it]\n",
      "                 Class     Images  Instances      Box(P          R      mAP50  mAP50-95): 100%|██████████| 10/10 [02:29<00:00, 14.90s/it]"
     ]
    },
    {
     "name": "stdout",
     "output_type": "stream",
     "text": [
      "                   all        301       1042      0.868      0.697       0.81      0.427\n"
     ]
    },
    {
     "name": "stderr",
     "output_type": "stream",
     "text": [
      "\n"
     ]
    },
    {
     "name": "stdout",
     "output_type": "stream",
     "text": [
      "\n",
      "      Epoch    GPU_mem   box_loss   cls_loss   dfl_loss  Instances       Size\n"
     ]
    },
    {
     "name": "stderr",
     "output_type": "stream",
     "text": [
      "      32/40         0G      1.335     0.6416     0.8675         22        640: 100%|██████████| 91/91 [58:37<00:00, 38.65s/it]\n",
      "                 Class     Images  Instances      Box(P          R      mAP50  mAP50-95): 100%|██████████| 10/10 [02:28<00:00, 14.89s/it]"
     ]
    },
    {
     "name": "stdout",
     "output_type": "stream",
     "text": [
      "                   all        301       1042      0.855      0.727      0.816      0.432\n"
     ]
    },
    {
     "name": "stderr",
     "output_type": "stream",
     "text": [
      "\n"
     ]
    },
    {
     "name": "stdout",
     "output_type": "stream",
     "text": [
      "\n",
      "      Epoch    GPU_mem   box_loss   cls_loss   dfl_loss  Instances       Size\n"
     ]
    },
    {
     "name": "stderr",
     "output_type": "stream",
     "text": [
      "      33/40         0G      1.312     0.6355     0.8668         14        640: 100%|██████████| 91/91 [58:51<00:00, 38.80s/it]\n",
      "                 Class     Images  Instances      Box(P          R      mAP50  mAP50-95): 100%|██████████| 10/10 [02:28<00:00, 14.87s/it]"
     ]
    },
    {
     "name": "stdout",
     "output_type": "stream",
     "text": [
      "                   all        301       1042      0.862      0.734      0.824      0.436\n"
     ]
    },
    {
     "name": "stderr",
     "output_type": "stream",
     "text": [
      "\n"
     ]
    },
    {
     "name": "stdout",
     "output_type": "stream",
     "text": [
      "\n",
      "      Epoch    GPU_mem   box_loss   cls_loss   dfl_loss  Instances       Size\n"
     ]
    },
    {
     "name": "stderr",
     "output_type": "stream",
     "text": [
      "      34/40         0G      1.308     0.6229     0.8732          8        640: 100%|██████████| 91/91 [59:42<00:00, 39.37s/it]\n",
      "                 Class     Images  Instances      Box(P          R      mAP50  mAP50-95): 100%|██████████| 10/10 [02:30<00:00, 15.07s/it]"
     ]
    },
    {
     "name": "stdout",
     "output_type": "stream",
     "text": [
      "                   all        301       1042      0.865      0.738      0.824      0.448\n"
     ]
    },
    {
     "name": "stderr",
     "output_type": "stream",
     "text": [
      "\n"
     ]
    },
    {
     "name": "stdout",
     "output_type": "stream",
     "text": [
      "\n",
      "      Epoch    GPU_mem   box_loss   cls_loss   dfl_loss  Instances       Size\n"
     ]
    },
    {
     "name": "stderr",
     "output_type": "stream",
     "text": [
      "      35/40         0G        1.3     0.6038     0.8656         16        640: 100%|██████████| 91/91 [59:46<00:00, 39.42s/it]\n",
      "                 Class     Images  Instances      Box(P          R      mAP50  mAP50-95): 100%|██████████| 10/10 [02:31<00:00, 15.11s/it]"
     ]
    },
    {
     "name": "stdout",
     "output_type": "stream",
     "text": [
      "                   all        301       1042      0.878      0.745      0.827      0.446\n"
     ]
    },
    {
     "name": "stderr",
     "output_type": "stream",
     "text": [
      "\n"
     ]
    },
    {
     "name": "stdout",
     "output_type": "stream",
     "text": [
      "\n",
      "      Epoch    GPU_mem   box_loss   cls_loss   dfl_loss  Instances       Size\n"
     ]
    },
    {
     "name": "stderr",
     "output_type": "stream",
     "text": [
      "      36/40         0G      1.273     0.6112     0.8628         14        640: 100%|██████████| 91/91 [58:47<00:00, 38.76s/it]\n",
      "                 Class     Images  Instances      Box(P          R      mAP50  mAP50-95): 100%|██████████| 10/10 [02:29<00:00, 14.92s/it]"
     ]
    },
    {
     "name": "stdout",
     "output_type": "stream",
     "text": [
      "                   all        301       1042      0.906      0.733      0.833       0.45\n"
     ]
    },
    {
     "name": "stderr",
     "output_type": "stream",
     "text": [
      "\n"
     ]
    },
    {
     "name": "stdout",
     "output_type": "stream",
     "text": [
      "\n",
      "      Epoch    GPU_mem   box_loss   cls_loss   dfl_loss  Instances       Size\n"
     ]
    },
    {
     "name": "stderr",
     "output_type": "stream",
     "text": [
      "      37/40         0G      1.264     0.5914     0.8677          7        640: 100%|██████████| 91/91 [59:48<00:00, 39.44s/it]\n",
      "                 Class     Images  Instances      Box(P          R      mAP50  mAP50-95): 100%|██████████| 10/10 [02:30<00:00, 15.07s/it]"
     ]
    },
    {
     "name": "stdout",
     "output_type": "stream",
     "text": [
      "                   all        301       1042      0.871      0.752      0.827      0.458\n"
     ]
    },
    {
     "name": "stderr",
     "output_type": "stream",
     "text": [
      "\n"
     ]
    },
    {
     "name": "stdout",
     "output_type": "stream",
     "text": [
      "\n",
      "      Epoch    GPU_mem   box_loss   cls_loss   dfl_loss  Instances       Size\n"
     ]
    },
    {
     "name": "stderr",
     "output_type": "stream",
     "text": [
      "      38/40         0G      1.238     0.5783      0.857         16        640: 100%|██████████| 91/91 [58:43<00:00, 38.72s/it]\n",
      "                 Class     Images  Instances      Box(P          R      mAP50  mAP50-95): 100%|██████████| 10/10 [02:27<00:00, 14.79s/it]"
     ]
    },
    {
     "name": "stdout",
     "output_type": "stream",
     "text": [
      "                   all        301       1042      0.857      0.768      0.839      0.459\n"
     ]
    },
    {
     "name": "stderr",
     "output_type": "stream",
     "text": [
      "\n"
     ]
    },
    {
     "name": "stdout",
     "output_type": "stream",
     "text": [
      "\n",
      "      Epoch    GPU_mem   box_loss   cls_loss   dfl_loss  Instances       Size\n"
     ]
    },
    {
     "name": "stderr",
     "output_type": "stream",
     "text": [
      "      39/40         0G      1.247     0.5719     0.8554         13        640: 100%|██████████| 91/91 [59:49<00:00, 39.45s/it]\n",
      "                 Class     Images  Instances      Box(P          R      mAP50  mAP50-95): 100%|██████████| 10/10 [02:29<00:00, 14.95s/it]"
     ]
    },
    {
     "name": "stdout",
     "output_type": "stream",
     "text": [
      "                   all        301       1042      0.856      0.767      0.841      0.464\n"
     ]
    },
    {
     "name": "stderr",
     "output_type": "stream",
     "text": [
      "\n"
     ]
    },
    {
     "name": "stdout",
     "output_type": "stream",
     "text": [
      "\n",
      "      Epoch    GPU_mem   box_loss   cls_loss   dfl_loss  Instances       Size\n"
     ]
    },
    {
     "name": "stderr",
     "output_type": "stream",
     "text": [
      "      40/40         0G      1.218     0.5654     0.8509         18        640: 100%|██████████| 91/91 [59:42<00:00, 39.37s/it] \n",
      "                 Class     Images  Instances      Box(P          R      mAP50  mAP50-95): 100%|██████████| 10/10 [02:31<00:00, 15.12s/it]"
     ]
    },
    {
     "name": "stdout",
     "output_type": "stream",
     "text": [
      "                   all        301       1042       0.88      0.757      0.842      0.467\n"
     ]
    },
    {
     "name": "stderr",
     "output_type": "stream",
     "text": [
      "\n"
     ]
    },
    {
     "name": "stdout",
     "output_type": "stream",
     "text": [
      "\n",
      "40 epochs completed in 41.288 hours.\n",
      "Optimizer stripped from runs\\detect\\train32\\weights\\last.pt, 136.7MB\n",
      "Optimizer stripped from runs\\detect\\train32\\weights\\best.pt, 136.7MB\n",
      "\n",
      "Validating runs\\detect\\train32\\weights\\best.pt...\n",
      "Ultralytics YOLOv8.1.44  Python-3.11.2 torch-2.2.2+cpu CPU (AMD Ryzen 7 5700G with Radeon Graphics)\n",
      "Model summary (fused): 268 layers, 68127420 parameters, 0 gradients, 257.4 GFLOPs\n"
     ]
    },
    {
     "name": "stderr",
     "output_type": "stream",
     "text": [
      "                 Class     Images  Instances      Box(P          R      mAP50  mAP50-95): 100%|██████████| 10/10 [02:19<00:00, 13.92s/it]\n"
     ]
    },
    {
     "name": "stdout",
     "output_type": "stream",
     "text": [
      "                   all        301       1042       0.88      0.757      0.842      0.467\n",
      "                bottle        301        575      0.894      0.687       0.81      0.438\n",
      "                carton        301        220      0.868      0.717      0.803      0.455\n",
      "               plastic        301        126      0.948      0.873      0.954      0.561\n",
      "                 paper        301        121      0.811      0.752      0.801      0.415\n",
      "Speed: 1.4ms preprocess, 440.3ms inference, 0.0ms loss, 0.2ms postprocess per image\n",
      "Results saved to \u001b[1mruns\\detect\\train32\u001b[0m\n",
      "Ultralytics YOLOv8.1.44  Python-3.11.2 torch-2.2.2+cpu CPU (AMD Ryzen 7 5700G with Radeon Graphics)\n",
      "Model summary (fused): 268 layers, 68127420 parameters, 0 gradients, 257.4 GFLOPs\n"
     ]
    },
    {
     "name": "stderr",
     "output_type": "stream",
     "text": [
      "\u001b[34m\u001b[1mval: \u001b[0mScanning C:\\Users\\user\\Desktop\\anisha_dl\\FloatingWaste-I-master\\val\\labels.cache... 301 images, 0 backgrounds, 0 corrupt: 100%|██████████| 301/301 [00:00<?, ?it/s]\n",
      "                 Class     Images  Instances      Box(P          R      mAP50  mAP50-95): 100%|██████████| 19/19 [02:19<00:00,  7.36s/it]\n"
     ]
    },
    {
     "name": "stdout",
     "output_type": "stream",
     "text": [
      "                   all        301       1042       0.88      0.757      0.842      0.467\n",
      "                bottle        301        575      0.894      0.687       0.81      0.438\n",
      "                carton        301        220      0.868      0.717      0.803      0.455\n",
      "               plastic        301        126      0.948      0.873      0.954      0.561\n",
      "                 paper        301        121      0.811      0.752      0.801      0.415\n",
      "Speed: 1.8ms preprocess, 439.9ms inference, 0.0ms loss, 0.3ms postprocess per image\n",
      "Results saved to \u001b[1mruns\\detect\\train322\u001b[0m\n"
     ]
    },
    {
     "data": {
      "text/plain": [
       "ultralytics.utils.metrics.DetMetrics object with attributes:\n",
       "\n",
       "ap_class_index: array([0, 1, 2, 3])\n",
       "box: ultralytics.utils.metrics.Metric object\n",
       "confusion_matrix: <ultralytics.utils.metrics.ConfusionMatrix object at 0x0000011F1B4A0D90>\n",
       "curves: ['Precision-Recall(B)', 'F1-Confidence(B)', 'Precision-Confidence(B)', 'Recall-Confidence(B)']\n",
       "curves_results: [[array([          0,    0.001001,    0.002002,    0.003003,    0.004004,    0.005005,    0.006006,    0.007007,    0.008008,    0.009009,     0.01001,    0.011011,    0.012012,    0.013013,    0.014014,    0.015015,    0.016016,    0.017017,    0.018018,    0.019019,     0.02002,    0.021021,    0.022022,    0.023023,\n",
       "          0.024024,    0.025025,    0.026026,    0.027027,    0.028028,    0.029029,     0.03003,    0.031031,    0.032032,    0.033033,    0.034034,    0.035035,    0.036036,    0.037037,    0.038038,    0.039039,     0.04004,    0.041041,    0.042042,    0.043043,    0.044044,    0.045045,    0.046046,    0.047047,\n",
       "          0.048048,    0.049049,     0.05005,    0.051051,    0.052052,    0.053053,    0.054054,    0.055055,    0.056056,    0.057057,    0.058058,    0.059059,     0.06006,    0.061061,    0.062062,    0.063063,    0.064064,    0.065065,    0.066066,    0.067067,    0.068068,    0.069069,     0.07007,    0.071071,\n",
       "          0.072072,    0.073073,    0.074074,    0.075075,    0.076076,    0.077077,    0.078078,    0.079079,     0.08008,    0.081081,    0.082082,    0.083083,    0.084084,    0.085085,    0.086086,    0.087087,    0.088088,    0.089089,     0.09009,    0.091091,    0.092092,    0.093093,    0.094094,    0.095095,\n",
       "          0.096096,    0.097097,    0.098098,    0.099099,      0.1001,      0.1011,      0.1021,      0.1031,      0.1041,     0.10511,     0.10611,     0.10711,     0.10811,     0.10911,     0.11011,     0.11111,     0.11211,     0.11311,     0.11411,     0.11512,     0.11612,     0.11712,     0.11812,     0.11912,\n",
       "           0.12012,     0.12112,     0.12212,     0.12312,     0.12412,     0.12513,     0.12613,     0.12713,     0.12813,     0.12913,     0.13013,     0.13113,     0.13213,     0.13313,     0.13413,     0.13514,     0.13614,     0.13714,     0.13814,     0.13914,     0.14014,     0.14114,     0.14214,     0.14314,\n",
       "           0.14414,     0.14515,     0.14615,     0.14715,     0.14815,     0.14915,     0.15015,     0.15115,     0.15215,     0.15315,     0.15415,     0.15516,     0.15616,     0.15716,     0.15816,     0.15916,     0.16016,     0.16116,     0.16216,     0.16316,     0.16416,     0.16517,     0.16617,     0.16717,\n",
       "           0.16817,     0.16917,     0.17017,     0.17117,     0.17217,     0.17317,     0.17417,     0.17518,     0.17618,     0.17718,     0.17818,     0.17918,     0.18018,     0.18118,     0.18218,     0.18318,     0.18418,     0.18519,     0.18619,     0.18719,     0.18819,     0.18919,     0.19019,     0.19119,\n",
       "           0.19219,     0.19319,     0.19419,      0.1952,      0.1962,      0.1972,      0.1982,      0.1992,      0.2002,      0.2012,      0.2022,      0.2032,      0.2042,     0.20521,     0.20621,     0.20721,     0.20821,     0.20921,     0.21021,     0.21121,     0.21221,     0.21321,     0.21421,     0.21522,\n",
       "           0.21622,     0.21722,     0.21822,     0.21922,     0.22022,     0.22122,     0.22222,     0.22322,     0.22422,     0.22523,     0.22623,     0.22723,     0.22823,     0.22923,     0.23023,     0.23123,     0.23223,     0.23323,     0.23423,     0.23524,     0.23624,     0.23724,     0.23824,     0.23924,\n",
       "           0.24024,     0.24124,     0.24224,     0.24324,     0.24424,     0.24525,     0.24625,     0.24725,     0.24825,     0.24925,     0.25025,     0.25125,     0.25225,     0.25325,     0.25425,     0.25526,     0.25626,     0.25726,     0.25826,     0.25926,     0.26026,     0.26126,     0.26226,     0.26326,\n",
       "           0.26426,     0.26527,     0.26627,     0.26727,     0.26827,     0.26927,     0.27027,     0.27127,     0.27227,     0.27327,     0.27427,     0.27528,     0.27628,     0.27728,     0.27828,     0.27928,     0.28028,     0.28128,     0.28228,     0.28328,     0.28428,     0.28529,     0.28629,     0.28729,\n",
       "           0.28829,     0.28929,     0.29029,     0.29129,     0.29229,     0.29329,     0.29429,      0.2953,      0.2963,      0.2973,      0.2983,      0.2993,      0.3003,      0.3013,      0.3023,      0.3033,      0.3043,     0.30531,     0.30631,     0.30731,     0.30831,     0.30931,     0.31031,     0.31131,\n",
       "           0.31231,     0.31331,     0.31431,     0.31532,     0.31632,     0.31732,     0.31832,     0.31932,     0.32032,     0.32132,     0.32232,     0.32332,     0.32432,     0.32533,     0.32633,     0.32733,     0.32833,     0.32933,     0.33033,     0.33133,     0.33233,     0.33333,     0.33433,     0.33534,\n",
       "           0.33634,     0.33734,     0.33834,     0.33934,     0.34034,     0.34134,     0.34234,     0.34334,     0.34434,     0.34535,     0.34635,     0.34735,     0.34835,     0.34935,     0.35035,     0.35135,     0.35235,     0.35335,     0.35435,     0.35536,     0.35636,     0.35736,     0.35836,     0.35936,\n",
       "           0.36036,     0.36136,     0.36236,     0.36336,     0.36436,     0.36537,     0.36637,     0.36737,     0.36837,     0.36937,     0.37037,     0.37137,     0.37237,     0.37337,     0.37437,     0.37538,     0.37638,     0.37738,     0.37838,     0.37938,     0.38038,     0.38138,     0.38238,     0.38338,\n",
       "           0.38438,     0.38539,     0.38639,     0.38739,     0.38839,     0.38939,     0.39039,     0.39139,     0.39239,     0.39339,     0.39439,      0.3954,      0.3964,      0.3974,      0.3984,      0.3994,      0.4004,      0.4014,      0.4024,      0.4034,      0.4044,     0.40541,     0.40641,     0.40741,\n",
       "           0.40841,     0.40941,     0.41041,     0.41141,     0.41241,     0.41341,     0.41441,     0.41542,     0.41642,     0.41742,     0.41842,     0.41942,     0.42042,     0.42142,     0.42242,     0.42342,     0.42442,     0.42543,     0.42643,     0.42743,     0.42843,     0.42943,     0.43043,     0.43143,\n",
       "           0.43243,     0.43343,     0.43443,     0.43544,     0.43644,     0.43744,     0.43844,     0.43944,     0.44044,     0.44144,     0.44244,     0.44344,     0.44444,     0.44545,     0.44645,     0.44745,     0.44845,     0.44945,     0.45045,     0.45145,     0.45245,     0.45345,     0.45445,     0.45546,\n",
       "           0.45646,     0.45746,     0.45846,     0.45946,     0.46046,     0.46146,     0.46246,     0.46346,     0.46446,     0.46547,     0.46647,     0.46747,     0.46847,     0.46947,     0.47047,     0.47147,     0.47247,     0.47347,     0.47447,     0.47548,     0.47648,     0.47748,     0.47848,     0.47948,\n",
       "           0.48048,     0.48148,     0.48248,     0.48348,     0.48448,     0.48549,     0.48649,     0.48749,     0.48849,     0.48949,     0.49049,     0.49149,     0.49249,     0.49349,     0.49449,      0.4955,      0.4965,      0.4975,      0.4985,      0.4995,      0.5005,      0.5015,      0.5025,      0.5035,\n",
       "            0.5045,     0.50551,     0.50651,     0.50751,     0.50851,     0.50951,     0.51051,     0.51151,     0.51251,     0.51351,     0.51451,     0.51552,     0.51652,     0.51752,     0.51852,     0.51952,     0.52052,     0.52152,     0.52252,     0.52352,     0.52452,     0.52553,     0.52653,     0.52753,\n",
       "           0.52853,     0.52953,     0.53053,     0.53153,     0.53253,     0.53353,     0.53453,     0.53554,     0.53654,     0.53754,     0.53854,     0.53954,     0.54054,     0.54154,     0.54254,     0.54354,     0.54454,     0.54555,     0.54655,     0.54755,     0.54855,     0.54955,     0.55055,     0.55155,\n",
       "           0.55255,     0.55355,     0.55455,     0.55556,     0.55656,     0.55756,     0.55856,     0.55956,     0.56056,     0.56156,     0.56256,     0.56356,     0.56456,     0.56557,     0.56657,     0.56757,     0.56857,     0.56957,     0.57057,     0.57157,     0.57257,     0.57357,     0.57457,     0.57558,\n",
       "           0.57658,     0.57758,     0.57858,     0.57958,     0.58058,     0.58158,     0.58258,     0.58358,     0.58458,     0.58559,     0.58659,     0.58759,     0.58859,     0.58959,     0.59059,     0.59159,     0.59259,     0.59359,     0.59459,      0.5956,      0.5966,      0.5976,      0.5986,      0.5996,\n",
       "            0.6006,      0.6016,      0.6026,      0.6036,      0.6046,     0.60561,     0.60661,     0.60761,     0.60861,     0.60961,     0.61061,     0.61161,     0.61261,     0.61361,     0.61461,     0.61562,     0.61662,     0.61762,     0.61862,     0.61962,     0.62062,     0.62162,     0.62262,     0.62362,\n",
       "           0.62462,     0.62563,     0.62663,     0.62763,     0.62863,     0.62963,     0.63063,     0.63163,     0.63263,     0.63363,     0.63463,     0.63564,     0.63664,     0.63764,     0.63864,     0.63964,     0.64064,     0.64164,     0.64264,     0.64364,     0.64464,     0.64565,     0.64665,     0.64765,\n",
       "           0.64865,     0.64965,     0.65065,     0.65165,     0.65265,     0.65365,     0.65465,     0.65566,     0.65666,     0.65766,     0.65866,     0.65966,     0.66066,     0.66166,     0.66266,     0.66366,     0.66466,     0.66567,     0.66667,     0.66767,     0.66867,     0.66967,     0.67067,     0.67167,\n",
       "           0.67267,     0.67367,     0.67467,     0.67568,     0.67668,     0.67768,     0.67868,     0.67968,     0.68068,     0.68168,     0.68268,     0.68368,     0.68468,     0.68569,     0.68669,     0.68769,     0.68869,     0.68969,     0.69069,     0.69169,     0.69269,     0.69369,     0.69469,      0.6957,\n",
       "            0.6967,      0.6977,      0.6987,      0.6997,      0.7007,      0.7017,      0.7027,      0.7037,      0.7047,     0.70571,     0.70671,     0.70771,     0.70871,     0.70971,     0.71071,     0.71171,     0.71271,     0.71371,     0.71471,     0.71572,     0.71672,     0.71772,     0.71872,     0.71972,\n",
       "           0.72072,     0.72172,     0.72272,     0.72372,     0.72472,     0.72573,     0.72673,     0.72773,     0.72873,     0.72973,     0.73073,     0.73173,     0.73273,     0.73373,     0.73473,     0.73574,     0.73674,     0.73774,     0.73874,     0.73974,     0.74074,     0.74174,     0.74274,     0.74374,\n",
       "           0.74474,     0.74575,     0.74675,     0.74775,     0.74875,     0.74975,     0.75075,     0.75175,     0.75275,     0.75375,     0.75475,     0.75576,     0.75676,     0.75776,     0.75876,     0.75976,     0.76076,     0.76176,     0.76276,     0.76376,     0.76476,     0.76577,     0.76677,     0.76777,\n",
       "           0.76877,     0.76977,     0.77077,     0.77177,     0.77277,     0.77377,     0.77477,     0.77578,     0.77678,     0.77778,     0.77878,     0.77978,     0.78078,     0.78178,     0.78278,     0.78378,     0.78478,     0.78579,     0.78679,     0.78779,     0.78879,     0.78979,     0.79079,     0.79179,\n",
       "           0.79279,     0.79379,     0.79479,      0.7958,      0.7968,      0.7978,      0.7988,      0.7998,      0.8008,      0.8018,      0.8028,      0.8038,      0.8048,     0.80581,     0.80681,     0.80781,     0.80881,     0.80981,     0.81081,     0.81181,     0.81281,     0.81381,     0.81481,     0.81582,\n",
       "           0.81682,     0.81782,     0.81882,     0.81982,     0.82082,     0.82182,     0.82282,     0.82382,     0.82482,     0.82583,     0.82683,     0.82783,     0.82883,     0.82983,     0.83083,     0.83183,     0.83283,     0.83383,     0.83483,     0.83584,     0.83684,     0.83784,     0.83884,     0.83984,\n",
       "           0.84084,     0.84184,     0.84284,     0.84384,     0.84484,     0.84585,     0.84685,     0.84785,     0.84885,     0.84985,     0.85085,     0.85185,     0.85285,     0.85385,     0.85485,     0.85586,     0.85686,     0.85786,     0.85886,     0.85986,     0.86086,     0.86186,     0.86286,     0.86386,\n",
       "           0.86486,     0.86587,     0.86687,     0.86787,     0.86887,     0.86987,     0.87087,     0.87187,     0.87287,     0.87387,     0.87487,     0.87588,     0.87688,     0.87788,     0.87888,     0.87988,     0.88088,     0.88188,     0.88288,     0.88388,     0.88488,     0.88589,     0.88689,     0.88789,\n",
       "           0.88889,     0.88989,     0.89089,     0.89189,     0.89289,     0.89389,     0.89489,      0.8959,      0.8969,      0.8979,      0.8989,      0.8999,      0.9009,      0.9019,      0.9029,      0.9039,      0.9049,     0.90591,     0.90691,     0.90791,     0.90891,     0.90991,     0.91091,     0.91191,\n",
       "           0.91291,     0.91391,     0.91491,     0.91592,     0.91692,     0.91792,     0.91892,     0.91992,     0.92092,     0.92192,     0.92292,     0.92392,     0.92492,     0.92593,     0.92693,     0.92793,     0.92893,     0.92993,     0.93093,     0.93193,     0.93293,     0.93393,     0.93493,     0.93594,\n",
       "           0.93694,     0.93794,     0.93894,     0.93994,     0.94094,     0.94194,     0.94294,     0.94394,     0.94494,     0.94595,     0.94695,     0.94795,     0.94895,     0.94995,     0.95095,     0.95195,     0.95295,     0.95395,     0.95495,     0.95596,     0.95696,     0.95796,     0.95896,     0.95996,\n",
       "           0.96096,     0.96196,     0.96296,     0.96396,     0.96496,     0.96597,     0.96697,     0.96797,     0.96897,     0.96997,     0.97097,     0.97197,     0.97297,     0.97397,     0.97497,     0.97598,     0.97698,     0.97798,     0.97898,     0.97998,     0.98098,     0.98198,     0.98298,     0.98398,\n",
       "           0.98498,     0.98599,     0.98699,     0.98799,     0.98899,     0.98999,     0.99099,     0.99199,     0.99299,     0.99399,     0.99499,       0.996,       0.997,       0.998,       0.999,           1]), array([[          1,           1,           1, ...,   0.0039059,    0.001953,           0],\n",
       "       [          1,           1,           1, ...,   0.0031633,   0.0015817,           0],\n",
       "       [          1,           1,           1, ...,    0.014164,   0.0070818,           0],\n",
       "       [          1,           1,           1, ...,   0.0010488,  0.00052438,           0]]), 'Recall', 'Precision'], [array([          0,    0.001001,    0.002002,    0.003003,    0.004004,    0.005005,    0.006006,    0.007007,    0.008008,    0.009009,     0.01001,    0.011011,    0.012012,    0.013013,    0.014014,    0.015015,    0.016016,    0.017017,    0.018018,    0.019019,     0.02002,    0.021021,    0.022022,    0.023023,\n",
       "          0.024024,    0.025025,    0.026026,    0.027027,    0.028028,    0.029029,     0.03003,    0.031031,    0.032032,    0.033033,    0.034034,    0.035035,    0.036036,    0.037037,    0.038038,    0.039039,     0.04004,    0.041041,    0.042042,    0.043043,    0.044044,    0.045045,    0.046046,    0.047047,\n",
       "          0.048048,    0.049049,     0.05005,    0.051051,    0.052052,    0.053053,    0.054054,    0.055055,    0.056056,    0.057057,    0.058058,    0.059059,     0.06006,    0.061061,    0.062062,    0.063063,    0.064064,    0.065065,    0.066066,    0.067067,    0.068068,    0.069069,     0.07007,    0.071071,\n",
       "          0.072072,    0.073073,    0.074074,    0.075075,    0.076076,    0.077077,    0.078078,    0.079079,     0.08008,    0.081081,    0.082082,    0.083083,    0.084084,    0.085085,    0.086086,    0.087087,    0.088088,    0.089089,     0.09009,    0.091091,    0.092092,    0.093093,    0.094094,    0.095095,\n",
       "          0.096096,    0.097097,    0.098098,    0.099099,      0.1001,      0.1011,      0.1021,      0.1031,      0.1041,     0.10511,     0.10611,     0.10711,     0.10811,     0.10911,     0.11011,     0.11111,     0.11211,     0.11311,     0.11411,     0.11512,     0.11612,     0.11712,     0.11812,     0.11912,\n",
       "           0.12012,     0.12112,     0.12212,     0.12312,     0.12412,     0.12513,     0.12613,     0.12713,     0.12813,     0.12913,     0.13013,     0.13113,     0.13213,     0.13313,     0.13413,     0.13514,     0.13614,     0.13714,     0.13814,     0.13914,     0.14014,     0.14114,     0.14214,     0.14314,\n",
       "           0.14414,     0.14515,     0.14615,     0.14715,     0.14815,     0.14915,     0.15015,     0.15115,     0.15215,     0.15315,     0.15415,     0.15516,     0.15616,     0.15716,     0.15816,     0.15916,     0.16016,     0.16116,     0.16216,     0.16316,     0.16416,     0.16517,     0.16617,     0.16717,\n",
       "           0.16817,     0.16917,     0.17017,     0.17117,     0.17217,     0.17317,     0.17417,     0.17518,     0.17618,     0.17718,     0.17818,     0.17918,     0.18018,     0.18118,     0.18218,     0.18318,     0.18418,     0.18519,     0.18619,     0.18719,     0.18819,     0.18919,     0.19019,     0.19119,\n",
       "           0.19219,     0.19319,     0.19419,      0.1952,      0.1962,      0.1972,      0.1982,      0.1992,      0.2002,      0.2012,      0.2022,      0.2032,      0.2042,     0.20521,     0.20621,     0.20721,     0.20821,     0.20921,     0.21021,     0.21121,     0.21221,     0.21321,     0.21421,     0.21522,\n",
       "           0.21622,     0.21722,     0.21822,     0.21922,     0.22022,     0.22122,     0.22222,     0.22322,     0.22422,     0.22523,     0.22623,     0.22723,     0.22823,     0.22923,     0.23023,     0.23123,     0.23223,     0.23323,     0.23423,     0.23524,     0.23624,     0.23724,     0.23824,     0.23924,\n",
       "           0.24024,     0.24124,     0.24224,     0.24324,     0.24424,     0.24525,     0.24625,     0.24725,     0.24825,     0.24925,     0.25025,     0.25125,     0.25225,     0.25325,     0.25425,     0.25526,     0.25626,     0.25726,     0.25826,     0.25926,     0.26026,     0.26126,     0.26226,     0.26326,\n",
       "           0.26426,     0.26527,     0.26627,     0.26727,     0.26827,     0.26927,     0.27027,     0.27127,     0.27227,     0.27327,     0.27427,     0.27528,     0.27628,     0.27728,     0.27828,     0.27928,     0.28028,     0.28128,     0.28228,     0.28328,     0.28428,     0.28529,     0.28629,     0.28729,\n",
       "           0.28829,     0.28929,     0.29029,     0.29129,     0.29229,     0.29329,     0.29429,      0.2953,      0.2963,      0.2973,      0.2983,      0.2993,      0.3003,      0.3013,      0.3023,      0.3033,      0.3043,     0.30531,     0.30631,     0.30731,     0.30831,     0.30931,     0.31031,     0.31131,\n",
       "           0.31231,     0.31331,     0.31431,     0.31532,     0.31632,     0.31732,     0.31832,     0.31932,     0.32032,     0.32132,     0.32232,     0.32332,     0.32432,     0.32533,     0.32633,     0.32733,     0.32833,     0.32933,     0.33033,     0.33133,     0.33233,     0.33333,     0.33433,     0.33534,\n",
       "           0.33634,     0.33734,     0.33834,     0.33934,     0.34034,     0.34134,     0.34234,     0.34334,     0.34434,     0.34535,     0.34635,     0.34735,     0.34835,     0.34935,     0.35035,     0.35135,     0.35235,     0.35335,     0.35435,     0.35536,     0.35636,     0.35736,     0.35836,     0.35936,\n",
       "           0.36036,     0.36136,     0.36236,     0.36336,     0.36436,     0.36537,     0.36637,     0.36737,     0.36837,     0.36937,     0.37037,     0.37137,     0.37237,     0.37337,     0.37437,     0.37538,     0.37638,     0.37738,     0.37838,     0.37938,     0.38038,     0.38138,     0.38238,     0.38338,\n",
       "           0.38438,     0.38539,     0.38639,     0.38739,     0.38839,     0.38939,     0.39039,     0.39139,     0.39239,     0.39339,     0.39439,      0.3954,      0.3964,      0.3974,      0.3984,      0.3994,      0.4004,      0.4014,      0.4024,      0.4034,      0.4044,     0.40541,     0.40641,     0.40741,\n",
       "           0.40841,     0.40941,     0.41041,     0.41141,     0.41241,     0.41341,     0.41441,     0.41542,     0.41642,     0.41742,     0.41842,     0.41942,     0.42042,     0.42142,     0.42242,     0.42342,     0.42442,     0.42543,     0.42643,     0.42743,     0.42843,     0.42943,     0.43043,     0.43143,\n",
       "           0.43243,     0.43343,     0.43443,     0.43544,     0.43644,     0.43744,     0.43844,     0.43944,     0.44044,     0.44144,     0.44244,     0.44344,     0.44444,     0.44545,     0.44645,     0.44745,     0.44845,     0.44945,     0.45045,     0.45145,     0.45245,     0.45345,     0.45445,     0.45546,\n",
       "           0.45646,     0.45746,     0.45846,     0.45946,     0.46046,     0.46146,     0.46246,     0.46346,     0.46446,     0.46547,     0.46647,     0.46747,     0.46847,     0.46947,     0.47047,     0.47147,     0.47247,     0.47347,     0.47447,     0.47548,     0.47648,     0.47748,     0.47848,     0.47948,\n",
       "           0.48048,     0.48148,     0.48248,     0.48348,     0.48448,     0.48549,     0.48649,     0.48749,     0.48849,     0.48949,     0.49049,     0.49149,     0.49249,     0.49349,     0.49449,      0.4955,      0.4965,      0.4975,      0.4985,      0.4995,      0.5005,      0.5015,      0.5025,      0.5035,\n",
       "            0.5045,     0.50551,     0.50651,     0.50751,     0.50851,     0.50951,     0.51051,     0.51151,     0.51251,     0.51351,     0.51451,     0.51552,     0.51652,     0.51752,     0.51852,     0.51952,     0.52052,     0.52152,     0.52252,     0.52352,     0.52452,     0.52553,     0.52653,     0.52753,\n",
       "           0.52853,     0.52953,     0.53053,     0.53153,     0.53253,     0.53353,     0.53453,     0.53554,     0.53654,     0.53754,     0.53854,     0.53954,     0.54054,     0.54154,     0.54254,     0.54354,     0.54454,     0.54555,     0.54655,     0.54755,     0.54855,     0.54955,     0.55055,     0.55155,\n",
       "           0.55255,     0.55355,     0.55455,     0.55556,     0.55656,     0.55756,     0.55856,     0.55956,     0.56056,     0.56156,     0.56256,     0.56356,     0.56456,     0.56557,     0.56657,     0.56757,     0.56857,     0.56957,     0.57057,     0.57157,     0.57257,     0.57357,     0.57457,     0.57558,\n",
       "           0.57658,     0.57758,     0.57858,     0.57958,     0.58058,     0.58158,     0.58258,     0.58358,     0.58458,     0.58559,     0.58659,     0.58759,     0.58859,     0.58959,     0.59059,     0.59159,     0.59259,     0.59359,     0.59459,      0.5956,      0.5966,      0.5976,      0.5986,      0.5996,\n",
       "            0.6006,      0.6016,      0.6026,      0.6036,      0.6046,     0.60561,     0.60661,     0.60761,     0.60861,     0.60961,     0.61061,     0.61161,     0.61261,     0.61361,     0.61461,     0.61562,     0.61662,     0.61762,     0.61862,     0.61962,     0.62062,     0.62162,     0.62262,     0.62362,\n",
       "           0.62462,     0.62563,     0.62663,     0.62763,     0.62863,     0.62963,     0.63063,     0.63163,     0.63263,     0.63363,     0.63463,     0.63564,     0.63664,     0.63764,     0.63864,     0.63964,     0.64064,     0.64164,     0.64264,     0.64364,     0.64464,     0.64565,     0.64665,     0.64765,\n",
       "           0.64865,     0.64965,     0.65065,     0.65165,     0.65265,     0.65365,     0.65465,     0.65566,     0.65666,     0.65766,     0.65866,     0.65966,     0.66066,     0.66166,     0.66266,     0.66366,     0.66466,     0.66567,     0.66667,     0.66767,     0.66867,     0.66967,     0.67067,     0.67167,\n",
       "           0.67267,     0.67367,     0.67467,     0.67568,     0.67668,     0.67768,     0.67868,     0.67968,     0.68068,     0.68168,     0.68268,     0.68368,     0.68468,     0.68569,     0.68669,     0.68769,     0.68869,     0.68969,     0.69069,     0.69169,     0.69269,     0.69369,     0.69469,      0.6957,\n",
       "            0.6967,      0.6977,      0.6987,      0.6997,      0.7007,      0.7017,      0.7027,      0.7037,      0.7047,     0.70571,     0.70671,     0.70771,     0.70871,     0.70971,     0.71071,     0.71171,     0.71271,     0.71371,     0.71471,     0.71572,     0.71672,     0.71772,     0.71872,     0.71972,\n",
       "           0.72072,     0.72172,     0.72272,     0.72372,     0.72472,     0.72573,     0.72673,     0.72773,     0.72873,     0.72973,     0.73073,     0.73173,     0.73273,     0.73373,     0.73473,     0.73574,     0.73674,     0.73774,     0.73874,     0.73974,     0.74074,     0.74174,     0.74274,     0.74374,\n",
       "           0.74474,     0.74575,     0.74675,     0.74775,     0.74875,     0.74975,     0.75075,     0.75175,     0.75275,     0.75375,     0.75475,     0.75576,     0.75676,     0.75776,     0.75876,     0.75976,     0.76076,     0.76176,     0.76276,     0.76376,     0.76476,     0.76577,     0.76677,     0.76777,\n",
       "           0.76877,     0.76977,     0.77077,     0.77177,     0.77277,     0.77377,     0.77477,     0.77578,     0.77678,     0.77778,     0.77878,     0.77978,     0.78078,     0.78178,     0.78278,     0.78378,     0.78478,     0.78579,     0.78679,     0.78779,     0.78879,     0.78979,     0.79079,     0.79179,\n",
       "           0.79279,     0.79379,     0.79479,      0.7958,      0.7968,      0.7978,      0.7988,      0.7998,      0.8008,      0.8018,      0.8028,      0.8038,      0.8048,     0.80581,     0.80681,     0.80781,     0.80881,     0.80981,     0.81081,     0.81181,     0.81281,     0.81381,     0.81481,     0.81582,\n",
       "           0.81682,     0.81782,     0.81882,     0.81982,     0.82082,     0.82182,     0.82282,     0.82382,     0.82482,     0.82583,     0.82683,     0.82783,     0.82883,     0.82983,     0.83083,     0.83183,     0.83283,     0.83383,     0.83483,     0.83584,     0.83684,     0.83784,     0.83884,     0.83984,\n",
       "           0.84084,     0.84184,     0.84284,     0.84384,     0.84484,     0.84585,     0.84685,     0.84785,     0.84885,     0.84985,     0.85085,     0.85185,     0.85285,     0.85385,     0.85485,     0.85586,     0.85686,     0.85786,     0.85886,     0.85986,     0.86086,     0.86186,     0.86286,     0.86386,\n",
       "           0.86486,     0.86587,     0.86687,     0.86787,     0.86887,     0.86987,     0.87087,     0.87187,     0.87287,     0.87387,     0.87487,     0.87588,     0.87688,     0.87788,     0.87888,     0.87988,     0.88088,     0.88188,     0.88288,     0.88388,     0.88488,     0.88589,     0.88689,     0.88789,\n",
       "           0.88889,     0.88989,     0.89089,     0.89189,     0.89289,     0.89389,     0.89489,      0.8959,      0.8969,      0.8979,      0.8989,      0.8999,      0.9009,      0.9019,      0.9029,      0.9039,      0.9049,     0.90591,     0.90691,     0.90791,     0.90891,     0.90991,     0.91091,     0.91191,\n",
       "           0.91291,     0.91391,     0.91491,     0.91592,     0.91692,     0.91792,     0.91892,     0.91992,     0.92092,     0.92192,     0.92292,     0.92392,     0.92492,     0.92593,     0.92693,     0.92793,     0.92893,     0.92993,     0.93093,     0.93193,     0.93293,     0.93393,     0.93493,     0.93594,\n",
       "           0.93694,     0.93794,     0.93894,     0.93994,     0.94094,     0.94194,     0.94294,     0.94394,     0.94494,     0.94595,     0.94695,     0.94795,     0.94895,     0.94995,     0.95095,     0.95195,     0.95295,     0.95395,     0.95495,     0.95596,     0.95696,     0.95796,     0.95896,     0.95996,\n",
       "           0.96096,     0.96196,     0.96296,     0.96396,     0.96496,     0.96597,     0.96697,     0.96797,     0.96897,     0.96997,     0.97097,     0.97197,     0.97297,     0.97397,     0.97497,     0.97598,     0.97698,     0.97798,     0.97898,     0.97998,     0.98098,     0.98198,     0.98298,     0.98398,\n",
       "           0.98498,     0.98599,     0.98699,     0.98799,     0.98899,     0.98999,     0.99099,     0.99199,     0.99299,     0.99399,     0.99499,       0.996,       0.997,       0.998,       0.999,           1]), array([[    0.44152,     0.44155,     0.50818, ...,           0,           0,           0],\n",
       "       [    0.36224,     0.36224,     0.44808, ...,           0,           0,           0],\n",
       "       [    0.43447,     0.43447,     0.54483, ...,           0,           0,           0],\n",
       "       [    0.14989,     0.14989,     0.21978, ...,           0,           0,           0]]), 'Confidence', 'F1'], [array([          0,    0.001001,    0.002002,    0.003003,    0.004004,    0.005005,    0.006006,    0.007007,    0.008008,    0.009009,     0.01001,    0.011011,    0.012012,    0.013013,    0.014014,    0.015015,    0.016016,    0.017017,    0.018018,    0.019019,     0.02002,    0.021021,    0.022022,    0.023023,\n",
       "          0.024024,    0.025025,    0.026026,    0.027027,    0.028028,    0.029029,     0.03003,    0.031031,    0.032032,    0.033033,    0.034034,    0.035035,    0.036036,    0.037037,    0.038038,    0.039039,     0.04004,    0.041041,    0.042042,    0.043043,    0.044044,    0.045045,    0.046046,    0.047047,\n",
       "          0.048048,    0.049049,     0.05005,    0.051051,    0.052052,    0.053053,    0.054054,    0.055055,    0.056056,    0.057057,    0.058058,    0.059059,     0.06006,    0.061061,    0.062062,    0.063063,    0.064064,    0.065065,    0.066066,    0.067067,    0.068068,    0.069069,     0.07007,    0.071071,\n",
       "          0.072072,    0.073073,    0.074074,    0.075075,    0.076076,    0.077077,    0.078078,    0.079079,     0.08008,    0.081081,    0.082082,    0.083083,    0.084084,    0.085085,    0.086086,    0.087087,    0.088088,    0.089089,     0.09009,    0.091091,    0.092092,    0.093093,    0.094094,    0.095095,\n",
       "          0.096096,    0.097097,    0.098098,    0.099099,      0.1001,      0.1011,      0.1021,      0.1031,      0.1041,     0.10511,     0.10611,     0.10711,     0.10811,     0.10911,     0.11011,     0.11111,     0.11211,     0.11311,     0.11411,     0.11512,     0.11612,     0.11712,     0.11812,     0.11912,\n",
       "           0.12012,     0.12112,     0.12212,     0.12312,     0.12412,     0.12513,     0.12613,     0.12713,     0.12813,     0.12913,     0.13013,     0.13113,     0.13213,     0.13313,     0.13413,     0.13514,     0.13614,     0.13714,     0.13814,     0.13914,     0.14014,     0.14114,     0.14214,     0.14314,\n",
       "           0.14414,     0.14515,     0.14615,     0.14715,     0.14815,     0.14915,     0.15015,     0.15115,     0.15215,     0.15315,     0.15415,     0.15516,     0.15616,     0.15716,     0.15816,     0.15916,     0.16016,     0.16116,     0.16216,     0.16316,     0.16416,     0.16517,     0.16617,     0.16717,\n",
       "           0.16817,     0.16917,     0.17017,     0.17117,     0.17217,     0.17317,     0.17417,     0.17518,     0.17618,     0.17718,     0.17818,     0.17918,     0.18018,     0.18118,     0.18218,     0.18318,     0.18418,     0.18519,     0.18619,     0.18719,     0.18819,     0.18919,     0.19019,     0.19119,\n",
       "           0.19219,     0.19319,     0.19419,      0.1952,      0.1962,      0.1972,      0.1982,      0.1992,      0.2002,      0.2012,      0.2022,      0.2032,      0.2042,     0.20521,     0.20621,     0.20721,     0.20821,     0.20921,     0.21021,     0.21121,     0.21221,     0.21321,     0.21421,     0.21522,\n",
       "           0.21622,     0.21722,     0.21822,     0.21922,     0.22022,     0.22122,     0.22222,     0.22322,     0.22422,     0.22523,     0.22623,     0.22723,     0.22823,     0.22923,     0.23023,     0.23123,     0.23223,     0.23323,     0.23423,     0.23524,     0.23624,     0.23724,     0.23824,     0.23924,\n",
       "           0.24024,     0.24124,     0.24224,     0.24324,     0.24424,     0.24525,     0.24625,     0.24725,     0.24825,     0.24925,     0.25025,     0.25125,     0.25225,     0.25325,     0.25425,     0.25526,     0.25626,     0.25726,     0.25826,     0.25926,     0.26026,     0.26126,     0.26226,     0.26326,\n",
       "           0.26426,     0.26527,     0.26627,     0.26727,     0.26827,     0.26927,     0.27027,     0.27127,     0.27227,     0.27327,     0.27427,     0.27528,     0.27628,     0.27728,     0.27828,     0.27928,     0.28028,     0.28128,     0.28228,     0.28328,     0.28428,     0.28529,     0.28629,     0.28729,\n",
       "           0.28829,     0.28929,     0.29029,     0.29129,     0.29229,     0.29329,     0.29429,      0.2953,      0.2963,      0.2973,      0.2983,      0.2993,      0.3003,      0.3013,      0.3023,      0.3033,      0.3043,     0.30531,     0.30631,     0.30731,     0.30831,     0.30931,     0.31031,     0.31131,\n",
       "           0.31231,     0.31331,     0.31431,     0.31532,     0.31632,     0.31732,     0.31832,     0.31932,     0.32032,     0.32132,     0.32232,     0.32332,     0.32432,     0.32533,     0.32633,     0.32733,     0.32833,     0.32933,     0.33033,     0.33133,     0.33233,     0.33333,     0.33433,     0.33534,\n",
       "           0.33634,     0.33734,     0.33834,     0.33934,     0.34034,     0.34134,     0.34234,     0.34334,     0.34434,     0.34535,     0.34635,     0.34735,     0.34835,     0.34935,     0.35035,     0.35135,     0.35235,     0.35335,     0.35435,     0.35536,     0.35636,     0.35736,     0.35836,     0.35936,\n",
       "           0.36036,     0.36136,     0.36236,     0.36336,     0.36436,     0.36537,     0.36637,     0.36737,     0.36837,     0.36937,     0.37037,     0.37137,     0.37237,     0.37337,     0.37437,     0.37538,     0.37638,     0.37738,     0.37838,     0.37938,     0.38038,     0.38138,     0.38238,     0.38338,\n",
       "           0.38438,     0.38539,     0.38639,     0.38739,     0.38839,     0.38939,     0.39039,     0.39139,     0.39239,     0.39339,     0.39439,      0.3954,      0.3964,      0.3974,      0.3984,      0.3994,      0.4004,      0.4014,      0.4024,      0.4034,      0.4044,     0.40541,     0.40641,     0.40741,\n",
       "           0.40841,     0.40941,     0.41041,     0.41141,     0.41241,     0.41341,     0.41441,     0.41542,     0.41642,     0.41742,     0.41842,     0.41942,     0.42042,     0.42142,     0.42242,     0.42342,     0.42442,     0.42543,     0.42643,     0.42743,     0.42843,     0.42943,     0.43043,     0.43143,\n",
       "           0.43243,     0.43343,     0.43443,     0.43544,     0.43644,     0.43744,     0.43844,     0.43944,     0.44044,     0.44144,     0.44244,     0.44344,     0.44444,     0.44545,     0.44645,     0.44745,     0.44845,     0.44945,     0.45045,     0.45145,     0.45245,     0.45345,     0.45445,     0.45546,\n",
       "           0.45646,     0.45746,     0.45846,     0.45946,     0.46046,     0.46146,     0.46246,     0.46346,     0.46446,     0.46547,     0.46647,     0.46747,     0.46847,     0.46947,     0.47047,     0.47147,     0.47247,     0.47347,     0.47447,     0.47548,     0.47648,     0.47748,     0.47848,     0.47948,\n",
       "           0.48048,     0.48148,     0.48248,     0.48348,     0.48448,     0.48549,     0.48649,     0.48749,     0.48849,     0.48949,     0.49049,     0.49149,     0.49249,     0.49349,     0.49449,      0.4955,      0.4965,      0.4975,      0.4985,      0.4995,      0.5005,      0.5015,      0.5025,      0.5035,\n",
       "            0.5045,     0.50551,     0.50651,     0.50751,     0.50851,     0.50951,     0.51051,     0.51151,     0.51251,     0.51351,     0.51451,     0.51552,     0.51652,     0.51752,     0.51852,     0.51952,     0.52052,     0.52152,     0.52252,     0.52352,     0.52452,     0.52553,     0.52653,     0.52753,\n",
       "           0.52853,     0.52953,     0.53053,     0.53153,     0.53253,     0.53353,     0.53453,     0.53554,     0.53654,     0.53754,     0.53854,     0.53954,     0.54054,     0.54154,     0.54254,     0.54354,     0.54454,     0.54555,     0.54655,     0.54755,     0.54855,     0.54955,     0.55055,     0.55155,\n",
       "           0.55255,     0.55355,     0.55455,     0.55556,     0.55656,     0.55756,     0.55856,     0.55956,     0.56056,     0.56156,     0.56256,     0.56356,     0.56456,     0.56557,     0.56657,     0.56757,     0.56857,     0.56957,     0.57057,     0.57157,     0.57257,     0.57357,     0.57457,     0.57558,\n",
       "           0.57658,     0.57758,     0.57858,     0.57958,     0.58058,     0.58158,     0.58258,     0.58358,     0.58458,     0.58559,     0.58659,     0.58759,     0.58859,     0.58959,     0.59059,     0.59159,     0.59259,     0.59359,     0.59459,      0.5956,      0.5966,      0.5976,      0.5986,      0.5996,\n",
       "            0.6006,      0.6016,      0.6026,      0.6036,      0.6046,     0.60561,     0.60661,     0.60761,     0.60861,     0.60961,     0.61061,     0.61161,     0.61261,     0.61361,     0.61461,     0.61562,     0.61662,     0.61762,     0.61862,     0.61962,     0.62062,     0.62162,     0.62262,     0.62362,\n",
       "           0.62462,     0.62563,     0.62663,     0.62763,     0.62863,     0.62963,     0.63063,     0.63163,     0.63263,     0.63363,     0.63463,     0.63564,     0.63664,     0.63764,     0.63864,     0.63964,     0.64064,     0.64164,     0.64264,     0.64364,     0.64464,     0.64565,     0.64665,     0.64765,\n",
       "           0.64865,     0.64965,     0.65065,     0.65165,     0.65265,     0.65365,     0.65465,     0.65566,     0.65666,     0.65766,     0.65866,     0.65966,     0.66066,     0.66166,     0.66266,     0.66366,     0.66466,     0.66567,     0.66667,     0.66767,     0.66867,     0.66967,     0.67067,     0.67167,\n",
       "           0.67267,     0.67367,     0.67467,     0.67568,     0.67668,     0.67768,     0.67868,     0.67968,     0.68068,     0.68168,     0.68268,     0.68368,     0.68468,     0.68569,     0.68669,     0.68769,     0.68869,     0.68969,     0.69069,     0.69169,     0.69269,     0.69369,     0.69469,      0.6957,\n",
       "            0.6967,      0.6977,      0.6987,      0.6997,      0.7007,      0.7017,      0.7027,      0.7037,      0.7047,     0.70571,     0.70671,     0.70771,     0.70871,     0.70971,     0.71071,     0.71171,     0.71271,     0.71371,     0.71471,     0.71572,     0.71672,     0.71772,     0.71872,     0.71972,\n",
       "           0.72072,     0.72172,     0.72272,     0.72372,     0.72472,     0.72573,     0.72673,     0.72773,     0.72873,     0.72973,     0.73073,     0.73173,     0.73273,     0.73373,     0.73473,     0.73574,     0.73674,     0.73774,     0.73874,     0.73974,     0.74074,     0.74174,     0.74274,     0.74374,\n",
       "           0.74474,     0.74575,     0.74675,     0.74775,     0.74875,     0.74975,     0.75075,     0.75175,     0.75275,     0.75375,     0.75475,     0.75576,     0.75676,     0.75776,     0.75876,     0.75976,     0.76076,     0.76176,     0.76276,     0.76376,     0.76476,     0.76577,     0.76677,     0.76777,\n",
       "           0.76877,     0.76977,     0.77077,     0.77177,     0.77277,     0.77377,     0.77477,     0.77578,     0.77678,     0.77778,     0.77878,     0.77978,     0.78078,     0.78178,     0.78278,     0.78378,     0.78478,     0.78579,     0.78679,     0.78779,     0.78879,     0.78979,     0.79079,     0.79179,\n",
       "           0.79279,     0.79379,     0.79479,      0.7958,      0.7968,      0.7978,      0.7988,      0.7998,      0.8008,      0.8018,      0.8028,      0.8038,      0.8048,     0.80581,     0.80681,     0.80781,     0.80881,     0.80981,     0.81081,     0.81181,     0.81281,     0.81381,     0.81481,     0.81582,\n",
       "           0.81682,     0.81782,     0.81882,     0.81982,     0.82082,     0.82182,     0.82282,     0.82382,     0.82482,     0.82583,     0.82683,     0.82783,     0.82883,     0.82983,     0.83083,     0.83183,     0.83283,     0.83383,     0.83483,     0.83584,     0.83684,     0.83784,     0.83884,     0.83984,\n",
       "           0.84084,     0.84184,     0.84284,     0.84384,     0.84484,     0.84585,     0.84685,     0.84785,     0.84885,     0.84985,     0.85085,     0.85185,     0.85285,     0.85385,     0.85485,     0.85586,     0.85686,     0.85786,     0.85886,     0.85986,     0.86086,     0.86186,     0.86286,     0.86386,\n",
       "           0.86486,     0.86587,     0.86687,     0.86787,     0.86887,     0.86987,     0.87087,     0.87187,     0.87287,     0.87387,     0.87487,     0.87588,     0.87688,     0.87788,     0.87888,     0.87988,     0.88088,     0.88188,     0.88288,     0.88388,     0.88488,     0.88589,     0.88689,     0.88789,\n",
       "           0.88889,     0.88989,     0.89089,     0.89189,     0.89289,     0.89389,     0.89489,      0.8959,      0.8969,      0.8979,      0.8989,      0.8999,      0.9009,      0.9019,      0.9029,      0.9039,      0.9049,     0.90591,     0.90691,     0.90791,     0.90891,     0.90991,     0.91091,     0.91191,\n",
       "           0.91291,     0.91391,     0.91491,     0.91592,     0.91692,     0.91792,     0.91892,     0.91992,     0.92092,     0.92192,     0.92292,     0.92392,     0.92492,     0.92593,     0.92693,     0.92793,     0.92893,     0.92993,     0.93093,     0.93193,     0.93293,     0.93393,     0.93493,     0.93594,\n",
       "           0.93694,     0.93794,     0.93894,     0.93994,     0.94094,     0.94194,     0.94294,     0.94394,     0.94494,     0.94595,     0.94695,     0.94795,     0.94895,     0.94995,     0.95095,     0.95195,     0.95295,     0.95395,     0.95495,     0.95596,     0.95696,     0.95796,     0.95896,     0.95996,\n",
       "           0.96096,     0.96196,     0.96296,     0.96396,     0.96496,     0.96597,     0.96697,     0.96797,     0.96897,     0.96997,     0.97097,     0.97197,     0.97297,     0.97397,     0.97497,     0.97598,     0.97698,     0.97798,     0.97898,     0.97998,     0.98098,     0.98198,     0.98298,     0.98398,\n",
       "           0.98498,     0.98599,     0.98699,     0.98799,     0.98899,     0.98999,     0.99099,     0.99199,     0.99299,     0.99399,     0.99499,       0.996,       0.997,       0.998,       0.999,           1]), array([[    0.29859,     0.29861,     0.36428, ...,           1,           1,           1],\n",
       "       [    0.22983,     0.22983,     0.30423, ...,           1,           1,           1],\n",
       "       [    0.28074,     0.28074,     0.38029, ...,           1,           1,           1],\n",
       "       [   0.082258,    0.082258,     0.12636, ...,           1,           1,           1]]), 'Confidence', 'Precision'], [array([          0,    0.001001,    0.002002,    0.003003,    0.004004,    0.005005,    0.006006,    0.007007,    0.008008,    0.009009,     0.01001,    0.011011,    0.012012,    0.013013,    0.014014,    0.015015,    0.016016,    0.017017,    0.018018,    0.019019,     0.02002,    0.021021,    0.022022,    0.023023,\n",
       "          0.024024,    0.025025,    0.026026,    0.027027,    0.028028,    0.029029,     0.03003,    0.031031,    0.032032,    0.033033,    0.034034,    0.035035,    0.036036,    0.037037,    0.038038,    0.039039,     0.04004,    0.041041,    0.042042,    0.043043,    0.044044,    0.045045,    0.046046,    0.047047,\n",
       "          0.048048,    0.049049,     0.05005,    0.051051,    0.052052,    0.053053,    0.054054,    0.055055,    0.056056,    0.057057,    0.058058,    0.059059,     0.06006,    0.061061,    0.062062,    0.063063,    0.064064,    0.065065,    0.066066,    0.067067,    0.068068,    0.069069,     0.07007,    0.071071,\n",
       "          0.072072,    0.073073,    0.074074,    0.075075,    0.076076,    0.077077,    0.078078,    0.079079,     0.08008,    0.081081,    0.082082,    0.083083,    0.084084,    0.085085,    0.086086,    0.087087,    0.088088,    0.089089,     0.09009,    0.091091,    0.092092,    0.093093,    0.094094,    0.095095,\n",
       "          0.096096,    0.097097,    0.098098,    0.099099,      0.1001,      0.1011,      0.1021,      0.1031,      0.1041,     0.10511,     0.10611,     0.10711,     0.10811,     0.10911,     0.11011,     0.11111,     0.11211,     0.11311,     0.11411,     0.11512,     0.11612,     0.11712,     0.11812,     0.11912,\n",
       "           0.12012,     0.12112,     0.12212,     0.12312,     0.12412,     0.12513,     0.12613,     0.12713,     0.12813,     0.12913,     0.13013,     0.13113,     0.13213,     0.13313,     0.13413,     0.13514,     0.13614,     0.13714,     0.13814,     0.13914,     0.14014,     0.14114,     0.14214,     0.14314,\n",
       "           0.14414,     0.14515,     0.14615,     0.14715,     0.14815,     0.14915,     0.15015,     0.15115,     0.15215,     0.15315,     0.15415,     0.15516,     0.15616,     0.15716,     0.15816,     0.15916,     0.16016,     0.16116,     0.16216,     0.16316,     0.16416,     0.16517,     0.16617,     0.16717,\n",
       "           0.16817,     0.16917,     0.17017,     0.17117,     0.17217,     0.17317,     0.17417,     0.17518,     0.17618,     0.17718,     0.17818,     0.17918,     0.18018,     0.18118,     0.18218,     0.18318,     0.18418,     0.18519,     0.18619,     0.18719,     0.18819,     0.18919,     0.19019,     0.19119,\n",
       "           0.19219,     0.19319,     0.19419,      0.1952,      0.1962,      0.1972,      0.1982,      0.1992,      0.2002,      0.2012,      0.2022,      0.2032,      0.2042,     0.20521,     0.20621,     0.20721,     0.20821,     0.20921,     0.21021,     0.21121,     0.21221,     0.21321,     0.21421,     0.21522,\n",
       "           0.21622,     0.21722,     0.21822,     0.21922,     0.22022,     0.22122,     0.22222,     0.22322,     0.22422,     0.22523,     0.22623,     0.22723,     0.22823,     0.22923,     0.23023,     0.23123,     0.23223,     0.23323,     0.23423,     0.23524,     0.23624,     0.23724,     0.23824,     0.23924,\n",
       "           0.24024,     0.24124,     0.24224,     0.24324,     0.24424,     0.24525,     0.24625,     0.24725,     0.24825,     0.24925,     0.25025,     0.25125,     0.25225,     0.25325,     0.25425,     0.25526,     0.25626,     0.25726,     0.25826,     0.25926,     0.26026,     0.26126,     0.26226,     0.26326,\n",
       "           0.26426,     0.26527,     0.26627,     0.26727,     0.26827,     0.26927,     0.27027,     0.27127,     0.27227,     0.27327,     0.27427,     0.27528,     0.27628,     0.27728,     0.27828,     0.27928,     0.28028,     0.28128,     0.28228,     0.28328,     0.28428,     0.28529,     0.28629,     0.28729,\n",
       "           0.28829,     0.28929,     0.29029,     0.29129,     0.29229,     0.29329,     0.29429,      0.2953,      0.2963,      0.2973,      0.2983,      0.2993,      0.3003,      0.3013,      0.3023,      0.3033,      0.3043,     0.30531,     0.30631,     0.30731,     0.30831,     0.30931,     0.31031,     0.31131,\n",
       "           0.31231,     0.31331,     0.31431,     0.31532,     0.31632,     0.31732,     0.31832,     0.31932,     0.32032,     0.32132,     0.32232,     0.32332,     0.32432,     0.32533,     0.32633,     0.32733,     0.32833,     0.32933,     0.33033,     0.33133,     0.33233,     0.33333,     0.33433,     0.33534,\n",
       "           0.33634,     0.33734,     0.33834,     0.33934,     0.34034,     0.34134,     0.34234,     0.34334,     0.34434,     0.34535,     0.34635,     0.34735,     0.34835,     0.34935,     0.35035,     0.35135,     0.35235,     0.35335,     0.35435,     0.35536,     0.35636,     0.35736,     0.35836,     0.35936,\n",
       "           0.36036,     0.36136,     0.36236,     0.36336,     0.36436,     0.36537,     0.36637,     0.36737,     0.36837,     0.36937,     0.37037,     0.37137,     0.37237,     0.37337,     0.37437,     0.37538,     0.37638,     0.37738,     0.37838,     0.37938,     0.38038,     0.38138,     0.38238,     0.38338,\n",
       "           0.38438,     0.38539,     0.38639,     0.38739,     0.38839,     0.38939,     0.39039,     0.39139,     0.39239,     0.39339,     0.39439,      0.3954,      0.3964,      0.3974,      0.3984,      0.3994,      0.4004,      0.4014,      0.4024,      0.4034,      0.4044,     0.40541,     0.40641,     0.40741,\n",
       "           0.40841,     0.40941,     0.41041,     0.41141,     0.41241,     0.41341,     0.41441,     0.41542,     0.41642,     0.41742,     0.41842,     0.41942,     0.42042,     0.42142,     0.42242,     0.42342,     0.42442,     0.42543,     0.42643,     0.42743,     0.42843,     0.42943,     0.43043,     0.43143,\n",
       "           0.43243,     0.43343,     0.43443,     0.43544,     0.43644,     0.43744,     0.43844,     0.43944,     0.44044,     0.44144,     0.44244,     0.44344,     0.44444,     0.44545,     0.44645,     0.44745,     0.44845,     0.44945,     0.45045,     0.45145,     0.45245,     0.45345,     0.45445,     0.45546,\n",
       "           0.45646,     0.45746,     0.45846,     0.45946,     0.46046,     0.46146,     0.46246,     0.46346,     0.46446,     0.46547,     0.46647,     0.46747,     0.46847,     0.46947,     0.47047,     0.47147,     0.47247,     0.47347,     0.47447,     0.47548,     0.47648,     0.47748,     0.47848,     0.47948,\n",
       "           0.48048,     0.48148,     0.48248,     0.48348,     0.48448,     0.48549,     0.48649,     0.48749,     0.48849,     0.48949,     0.49049,     0.49149,     0.49249,     0.49349,     0.49449,      0.4955,      0.4965,      0.4975,      0.4985,      0.4995,      0.5005,      0.5015,      0.5025,      0.5035,\n",
       "            0.5045,     0.50551,     0.50651,     0.50751,     0.50851,     0.50951,     0.51051,     0.51151,     0.51251,     0.51351,     0.51451,     0.51552,     0.51652,     0.51752,     0.51852,     0.51952,     0.52052,     0.52152,     0.52252,     0.52352,     0.52452,     0.52553,     0.52653,     0.52753,\n",
       "           0.52853,     0.52953,     0.53053,     0.53153,     0.53253,     0.53353,     0.53453,     0.53554,     0.53654,     0.53754,     0.53854,     0.53954,     0.54054,     0.54154,     0.54254,     0.54354,     0.54454,     0.54555,     0.54655,     0.54755,     0.54855,     0.54955,     0.55055,     0.55155,\n",
       "           0.55255,     0.55355,     0.55455,     0.55556,     0.55656,     0.55756,     0.55856,     0.55956,     0.56056,     0.56156,     0.56256,     0.56356,     0.56456,     0.56557,     0.56657,     0.56757,     0.56857,     0.56957,     0.57057,     0.57157,     0.57257,     0.57357,     0.57457,     0.57558,\n",
       "           0.57658,     0.57758,     0.57858,     0.57958,     0.58058,     0.58158,     0.58258,     0.58358,     0.58458,     0.58559,     0.58659,     0.58759,     0.58859,     0.58959,     0.59059,     0.59159,     0.59259,     0.59359,     0.59459,      0.5956,      0.5966,      0.5976,      0.5986,      0.5996,\n",
       "            0.6006,      0.6016,      0.6026,      0.6036,      0.6046,     0.60561,     0.60661,     0.60761,     0.60861,     0.60961,     0.61061,     0.61161,     0.61261,     0.61361,     0.61461,     0.61562,     0.61662,     0.61762,     0.61862,     0.61962,     0.62062,     0.62162,     0.62262,     0.62362,\n",
       "           0.62462,     0.62563,     0.62663,     0.62763,     0.62863,     0.62963,     0.63063,     0.63163,     0.63263,     0.63363,     0.63463,     0.63564,     0.63664,     0.63764,     0.63864,     0.63964,     0.64064,     0.64164,     0.64264,     0.64364,     0.64464,     0.64565,     0.64665,     0.64765,\n",
       "           0.64865,     0.64965,     0.65065,     0.65165,     0.65265,     0.65365,     0.65465,     0.65566,     0.65666,     0.65766,     0.65866,     0.65966,     0.66066,     0.66166,     0.66266,     0.66366,     0.66466,     0.66567,     0.66667,     0.66767,     0.66867,     0.66967,     0.67067,     0.67167,\n",
       "           0.67267,     0.67367,     0.67467,     0.67568,     0.67668,     0.67768,     0.67868,     0.67968,     0.68068,     0.68168,     0.68268,     0.68368,     0.68468,     0.68569,     0.68669,     0.68769,     0.68869,     0.68969,     0.69069,     0.69169,     0.69269,     0.69369,     0.69469,      0.6957,\n",
       "            0.6967,      0.6977,      0.6987,      0.6997,      0.7007,      0.7017,      0.7027,      0.7037,      0.7047,     0.70571,     0.70671,     0.70771,     0.70871,     0.70971,     0.71071,     0.71171,     0.71271,     0.71371,     0.71471,     0.71572,     0.71672,     0.71772,     0.71872,     0.71972,\n",
       "           0.72072,     0.72172,     0.72272,     0.72372,     0.72472,     0.72573,     0.72673,     0.72773,     0.72873,     0.72973,     0.73073,     0.73173,     0.73273,     0.73373,     0.73473,     0.73574,     0.73674,     0.73774,     0.73874,     0.73974,     0.74074,     0.74174,     0.74274,     0.74374,\n",
       "           0.74474,     0.74575,     0.74675,     0.74775,     0.74875,     0.74975,     0.75075,     0.75175,     0.75275,     0.75375,     0.75475,     0.75576,     0.75676,     0.75776,     0.75876,     0.75976,     0.76076,     0.76176,     0.76276,     0.76376,     0.76476,     0.76577,     0.76677,     0.76777,\n",
       "           0.76877,     0.76977,     0.77077,     0.77177,     0.77277,     0.77377,     0.77477,     0.77578,     0.77678,     0.77778,     0.77878,     0.77978,     0.78078,     0.78178,     0.78278,     0.78378,     0.78478,     0.78579,     0.78679,     0.78779,     0.78879,     0.78979,     0.79079,     0.79179,\n",
       "           0.79279,     0.79379,     0.79479,      0.7958,      0.7968,      0.7978,      0.7988,      0.7998,      0.8008,      0.8018,      0.8028,      0.8038,      0.8048,     0.80581,     0.80681,     0.80781,     0.80881,     0.80981,     0.81081,     0.81181,     0.81281,     0.81381,     0.81481,     0.81582,\n",
       "           0.81682,     0.81782,     0.81882,     0.81982,     0.82082,     0.82182,     0.82282,     0.82382,     0.82482,     0.82583,     0.82683,     0.82783,     0.82883,     0.82983,     0.83083,     0.83183,     0.83283,     0.83383,     0.83483,     0.83584,     0.83684,     0.83784,     0.83884,     0.83984,\n",
       "           0.84084,     0.84184,     0.84284,     0.84384,     0.84484,     0.84585,     0.84685,     0.84785,     0.84885,     0.84985,     0.85085,     0.85185,     0.85285,     0.85385,     0.85485,     0.85586,     0.85686,     0.85786,     0.85886,     0.85986,     0.86086,     0.86186,     0.86286,     0.86386,\n",
       "           0.86486,     0.86587,     0.86687,     0.86787,     0.86887,     0.86987,     0.87087,     0.87187,     0.87287,     0.87387,     0.87487,     0.87588,     0.87688,     0.87788,     0.87888,     0.87988,     0.88088,     0.88188,     0.88288,     0.88388,     0.88488,     0.88589,     0.88689,     0.88789,\n",
       "           0.88889,     0.88989,     0.89089,     0.89189,     0.89289,     0.89389,     0.89489,      0.8959,      0.8969,      0.8979,      0.8989,      0.8999,      0.9009,      0.9019,      0.9029,      0.9039,      0.9049,     0.90591,     0.90691,     0.90791,     0.90891,     0.90991,     0.91091,     0.91191,\n",
       "           0.91291,     0.91391,     0.91491,     0.91592,     0.91692,     0.91792,     0.91892,     0.91992,     0.92092,     0.92192,     0.92292,     0.92392,     0.92492,     0.92593,     0.92693,     0.92793,     0.92893,     0.92993,     0.93093,     0.93193,     0.93293,     0.93393,     0.93493,     0.93594,\n",
       "           0.93694,     0.93794,     0.93894,     0.93994,     0.94094,     0.94194,     0.94294,     0.94394,     0.94494,     0.94595,     0.94695,     0.94795,     0.94895,     0.94995,     0.95095,     0.95195,     0.95295,     0.95395,     0.95495,     0.95596,     0.95696,     0.95796,     0.95896,     0.95996,\n",
       "           0.96096,     0.96196,     0.96296,     0.96396,     0.96496,     0.96597,     0.96697,     0.96797,     0.96897,     0.96997,     0.97097,     0.97197,     0.97297,     0.97397,     0.97497,     0.97598,     0.97698,     0.97798,     0.97898,     0.97998,     0.98098,     0.98198,     0.98298,     0.98398,\n",
       "           0.98498,     0.98599,     0.98699,     0.98799,     0.98899,     0.98999,     0.99099,     0.99199,     0.99299,     0.99399,     0.99499,       0.996,       0.997,       0.998,       0.999,           1]), array([[    0.84696,     0.84696,        0.84, ...,           0,           0,           0],\n",
       "       [    0.85455,     0.85455,        0.85, ...,           0,           0,           0],\n",
       "       [    0.96032,     0.96032,     0.96032, ...,           0,           0,           0],\n",
       "       [    0.84298,     0.84298,     0.84298, ...,           0,           0,           0]]), 'Confidence', 'Recall']]\n",
       "fitness: 0.5047776390494713\n",
       "keys: ['metrics/precision(B)', 'metrics/recall(B)', 'metrics/mAP50(B)', 'metrics/mAP50-95(B)']\n",
       "maps: array([    0.43804,     0.45516,     0.56136,     0.41479])\n",
       "names: {0: 'bottle', 1: 'carton', 2: 'plastic', 3: 'paper'}\n",
       "plot: True\n",
       "results_dict: {'metrics/precision(B)': 0.8802887302812514, 'metrics/recall(B)': 0.7572380779340292, 'metrics/mAP50(B)': 0.8417291371947973, 'metrics/mAP50-95(B)': 0.46733858369999054, 'fitness': 0.5047776390494713}\n",
       "save_dir: WindowsPath('runs/detect/train322')\n",
       "speed: {'preprocess': 1.7633857917151974, 'inference': 439.92123017675453, 'loss': 0.0, 'postprocess': 0.2505945604900981}\n",
       "task: 'detect'"
      ]
     },
     "execution_count": 1,
     "metadata": {},
     "output_type": "execute_result"
    }
   ],
   "source": [
    "from ultralytics import YOLO\n",
    "\n",
    "# Load a model\n",
    "\n",
    "model = YOLO(r\"D:\\Engineering\\SEM6\\PROJECTS\\DeepLearning\\FloW_IMG\\runs\\detect\\train30\\weights\\last.pt\")  # load a pretrained model (recommended for training)\n",
    "\n",
    "# Use the model\n",
    "model.train(data=r\"C:\\Users\\user\\Desktop\\anisha_dl\\FloatingWaste-I-master\\data.yaml\", epochs=40)  # train the model\n",
    "metrics = model.val()  # evaluate model performance on the validation set\n",
    "metrics"
   ]
  },
  {
   "cell_type": "code",
   "execution_count": 6,
   "metadata": {},
   "outputs": [
    {
     "name": "stdout",
     "output_type": "stream",
     "text": [
      "New https://pypi.org/project/ultralytics/8.1.47 available  Update with 'pip install -U ultralytics'\n",
      "Ultralytics YOLOv8.1.44  Python-3.11.2 torch-2.2.2+cpu CPU (AMD Ryzen 7 5700G with Radeon Graphics)\n",
      "\u001b[34m\u001b[1mengine\\trainer: \u001b[0mtask=detect, mode=train, model=yolov9c.pt, data=C:\\Users\\user\\Desktop\\anisha_dl\\FloatingWaste-I-master\\data.yaml, epochs=10, time=None, patience=100, batch=16, imgsz=640, save=True, save_period=-1, cache=False, device=None, workers=8, project=None, name=train28, exist_ok=False, pretrained=True, optimizer=auto, verbose=True, seed=0, deterministic=True, single_cls=False, rect=False, cos_lr=False, close_mosaic=10, resume=False, amp=True, fraction=1.0, profile=False, freeze=None, multi_scale=False, overlap_mask=True, mask_ratio=4, dropout=0.0, val=True, split=val, save_json=False, save_hybrid=False, conf=None, iou=0.7, max_det=300, half=False, dnn=False, plots=True, source=None, vid_stride=1, stream_buffer=False, visualize=False, augment=False, agnostic_nms=False, classes=None, retina_masks=False, embed=None, show=False, save_frames=False, save_txt=False, save_conf=False, save_crop=False, show_labels=True, show_conf=True, show_boxes=True, line_width=None, format=torchscript, keras=False, optimize=False, int8=False, dynamic=False, simplify=False, opset=None, workspace=4, nms=False, lr0=0.01, lrf=0.01, momentum=0.937, weight_decay=0.0005, warmup_epochs=3.0, warmup_momentum=0.8, warmup_bias_lr=0.1, box=7.5, cls=0.5, dfl=1.5, pose=12.0, kobj=1.0, label_smoothing=0.0, nbs=64, hsv_h=0.015, hsv_s=0.7, hsv_v=0.4, degrees=0.0, translate=0.1, scale=0.5, shear=0.0, perspective=0.0, flipud=0.0, fliplr=0.5, bgr=0.0, mosaic=1.0, mixup=0.0, copy_paste=0.0, auto_augment=randaugment, erasing=0.4, crop_fraction=1.0, cfg=None, tracker=botsort.yaml, save_dir=runs\\detect\\train28\n",
      "Overriding model.yaml nc=80 with nc=4\n",
      "\n",
      "                   from  n    params  module                                       arguments                     \n",
      "  0                  -1  1      1856  ultralytics.nn.modules.conv.Conv             [3, 64, 3, 2]                 \n",
      "  1                  -1  1     73984  ultralytics.nn.modules.conv.Conv             [64, 128, 3, 2]               \n",
      "  2                  -1  1    212864  ultralytics.nn.modules.block.RepNCSPELAN4    [128, 256, 128, 64, 1]        \n",
      "  3                  -1  1    164352  ultralytics.nn.modules.block.ADown           [256, 256]                    \n",
      "  4                  -1  1    847616  ultralytics.nn.modules.block.RepNCSPELAN4    [256, 512, 256, 128, 1]       \n",
      "  5                  -1  1    656384  ultralytics.nn.modules.block.ADown           [512, 512]                    \n",
      "  6                  -1  1   2857472  ultralytics.nn.modules.block.RepNCSPELAN4    [512, 512, 512, 256, 1]       \n",
      "  7                  -1  1    656384  ultralytics.nn.modules.block.ADown           [512, 512]                    \n",
      "  8                  -1  1   2857472  ultralytics.nn.modules.block.RepNCSPELAN4    [512, 512, 512, 256, 1]       \n",
      "  9                  -1  1    656896  ultralytics.nn.modules.block.SPPELAN         [512, 512, 256]               \n",
      " 10                  -1  1         0  torch.nn.modules.upsampling.Upsample         [None, 2, 'nearest']          \n",
      " 11             [-1, 6]  1         0  ultralytics.nn.modules.conv.Concat           [1]                           \n",
      " 12                  -1  1   3119616  ultralytics.nn.modules.block.RepNCSPELAN4    [1024, 512, 512, 256, 1]      \n",
      " 13                  -1  1         0  torch.nn.modules.upsampling.Upsample         [None, 2, 'nearest']          \n",
      " 14             [-1, 4]  1         0  ultralytics.nn.modules.conv.Concat           [1]                           \n",
      " 15                  -1  1    912640  ultralytics.nn.modules.block.RepNCSPELAN4    [1024, 256, 256, 128, 1]      \n",
      " 16                  -1  1    164352  ultralytics.nn.modules.block.ADown           [256, 256]                    \n",
      " 17            [-1, 12]  1         0  ultralytics.nn.modules.conv.Concat           [1]                           \n",
      " 18                  -1  1   2988544  ultralytics.nn.modules.block.RepNCSPELAN4    [768, 512, 512, 256, 1]       \n",
      " 19                  -1  1    656384  ultralytics.nn.modules.block.ADown           [512, 512]                    \n",
      " 20             [-1, 9]  1         0  ultralytics.nn.modules.conv.Concat           [1]                           \n",
      " 21                  -1  1   3119616  ultralytics.nn.modules.block.RepNCSPELAN4    [1024, 512, 512, 256, 1]      \n",
      " 22        [15, 18, 21]  1   5585884  ultralytics.nn.modules.head.Detect           [4, [256, 512, 512]]          \n",
      "YOLOv9c summary: 618 layers, 25532316 parameters, 25532300 gradients, 103.7 GFLOPs\n",
      "\n",
      "Transferred 931/937 items from pretrained weights\n",
      "\u001b[34m\u001b[1mTensorBoard: \u001b[0mStart with 'tensorboard --logdir runs\\detect\\train28', view at http://localhost:6006/\n",
      "Freezing layer 'model.22.dfl.conv.weight'\n"
     ]
    },
    {
     "name": "stderr",
     "output_type": "stream",
     "text": [
      "\u001b[34m\u001b[1mtrain: \u001b[0mScanning C:\\Users\\user\\Desktop\\anisha_dl\\FloatingWaste-I-master\\train\\labels.cache... 1445 images, 0 backgrounds, 0 corrupt: 100%|██████████| 1445/1445 [00:00<?, ?it/s]"
     ]
    },
    {
     "name": "stdout",
     "output_type": "stream",
     "text": [
      "\u001b[34m\u001b[1malbumentations: \u001b[0mBlur(p=0.01, blur_limit=(3, 7)), MedianBlur(p=0.01, blur_limit=(3, 7)), ToGray(p=0.01), CLAHE(p=0.01, clip_limit=(1, 4.0), tile_grid_size=(8, 8))\n"
     ]
    },
    {
     "name": "stderr",
     "output_type": "stream",
     "text": [
      "\n",
      "\u001b[34m\u001b[1mval: \u001b[0mScanning C:\\Users\\user\\Desktop\\anisha_dl\\FloatingWaste-I-master\\val\\labels.cache... 301 images, 0 backgrounds, 0 corrupt: 100%|██████████| 301/301 [00:00<?, ?it/s]"
     ]
    },
    {
     "name": "stdout",
     "output_type": "stream",
     "text": [
      "Plotting labels to runs\\detect\\train28\\labels.jpg... \n"
     ]
    },
    {
     "name": "stderr",
     "output_type": "stream",
     "text": [
      "\n"
     ]
    },
    {
     "name": "stdout",
     "output_type": "stream",
     "text": [
      "\u001b[34m\u001b[1moptimizer:\u001b[0m 'optimizer=auto' found, ignoring 'lr0=0.01' and 'momentum=0.937' and determining best 'optimizer', 'lr0' and 'momentum' automatically... \n",
      "\u001b[34m\u001b[1moptimizer:\u001b[0m AdamW(lr=0.00125, momentum=0.9) with parameter groups 154 weight(decay=0.0), 161 weight(decay=0.0005), 160 bias(decay=0.0)\n",
      "\u001b[34m\u001b[1mTensorBoard: \u001b[0mmodel graph visualization added \n",
      "Image sizes 640 train, 640 val\n",
      "Using 0 dataloader workers\n",
      "Logging results to \u001b[1mruns\\detect\\train28\u001b[0m\n",
      "Starting training for 10 epochs...\n",
      "Closing dataloader mosaic\n",
      "\u001b[34m\u001b[1malbumentations: \u001b[0mBlur(p=0.01, blur_limit=(3, 7)), MedianBlur(p=0.01, blur_limit=(3, 7)), ToGray(p=0.01), CLAHE(p=0.01, clip_limit=(1, 4.0), tile_grid_size=(8, 8))\n",
      "\n",
      "      Epoch    GPU_mem   box_loss   cls_loss   dfl_loss  Instances       Size\n"
     ]
    },
    {
     "name": "stderr",
     "output_type": "stream",
     "text": [
      "       1/10         0G      2.002      3.307      1.029         19        640: 100%|██████████| 91/91 [38:19<00:00, 25.27s/it]\n",
      "                 Class     Images  Instances      Box(P          R      mAP50  mAP50-95): 100%|██████████| 10/10 [01:43<00:00, 10.32s/it]"
     ]
    },
    {
     "name": "stdout",
     "output_type": "stream",
     "text": [
      "                   all        301       1042      0.544      0.274      0.277      0.086\n"
     ]
    },
    {
     "name": "stderr",
     "output_type": "stream",
     "text": [
      "\n"
     ]
    },
    {
     "name": "stdout",
     "output_type": "stream",
     "text": [
      "\n",
      "      Epoch    GPU_mem   box_loss   cls_loss   dfl_loss  Instances       Size\n"
     ]
    },
    {
     "name": "stderr",
     "output_type": "stream",
     "text": [
      "       2/10         0G      1.976      1.611      1.026         24        640: 100%|██████████| 91/91 [38:18<00:00, 25.26s/it]\n",
      "                 Class     Images  Instances      Box(P          R      mAP50  mAP50-95): 100%|██████████| 10/10 [01:41<00:00, 10.19s/it]"
     ]
    },
    {
     "name": "stdout",
     "output_type": "stream",
     "text": [
      "                   all        301       1042      0.503      0.342      0.338      0.138\n"
     ]
    },
    {
     "name": "stderr",
     "output_type": "stream",
     "text": [
      "\n"
     ]
    },
    {
     "name": "stdout",
     "output_type": "stream",
     "text": [
      "\n",
      "      Epoch    GPU_mem   box_loss   cls_loss   dfl_loss  Instances       Size\n"
     ]
    },
    {
     "name": "stderr",
     "output_type": "stream",
     "text": [
      "       3/10         0G      2.007      1.486      1.035         15        640: 100%|██████████| 91/91 [38:17<00:00, 25.25s/it]\n",
      "                 Class     Images  Instances      Box(P          R      mAP50  mAP50-95): 100%|██████████| 10/10 [01:45<00:00, 10.51s/it]"
     ]
    },
    {
     "name": "stdout",
     "output_type": "stream",
     "text": [
      "                   all        301       1042      0.443      0.308      0.311      0.121\n"
     ]
    },
    {
     "name": "stderr",
     "output_type": "stream",
     "text": [
      "\n"
     ]
    },
    {
     "name": "stdout",
     "output_type": "stream",
     "text": [
      "\n",
      "      Epoch    GPU_mem   box_loss   cls_loss   dfl_loss  Instances       Size\n"
     ]
    },
    {
     "name": "stderr",
     "output_type": "stream",
     "text": [
      "       4/10         0G      1.941      1.374      1.015         12        640: 100%|██████████| 91/91 [38:22<00:00, 25.30s/it]\n",
      "                 Class     Images  Instances      Box(P          R      mAP50  mAP50-95): 100%|██████████| 10/10 [01:44<00:00, 10.46s/it]"
     ]
    },
    {
     "name": "stdout",
     "output_type": "stream",
     "text": [
      "                   all        301       1042      0.528      0.403      0.395      0.174\n"
     ]
    },
    {
     "name": "stderr",
     "output_type": "stream",
     "text": [
      "\n"
     ]
    },
    {
     "name": "stdout",
     "output_type": "stream",
     "text": [
      "\n",
      "      Epoch    GPU_mem   box_loss   cls_loss   dfl_loss  Instances       Size\n"
     ]
    },
    {
     "name": "stderr",
     "output_type": "stream",
     "text": [
      "       5/10         0G      1.862       1.27      1.011         10        640: 100%|██████████| 91/91 [38:13<00:00, 25.21s/it]\n",
      "                 Class     Images  Instances      Box(P          R      mAP50  mAP50-95): 100%|██████████| 10/10 [01:50<00:00, 11.06s/it]"
     ]
    },
    {
     "name": "stdout",
     "output_type": "stream",
     "text": [
      "                   all        301       1042      0.707      0.456      0.519      0.233\n"
     ]
    },
    {
     "name": "stderr",
     "output_type": "stream",
     "text": [
      "\n"
     ]
    },
    {
     "name": "stdout",
     "output_type": "stream",
     "text": [
      "\n",
      "      Epoch    GPU_mem   box_loss   cls_loss   dfl_loss  Instances       Size\n"
     ]
    },
    {
     "name": "stderr",
     "output_type": "stream",
     "text": [
      "       6/10         0G      1.788       1.13     0.9859         10        640: 100%|██████████| 91/91 [38:33<00:00, 25.42s/it]\n",
      "                 Class     Images  Instances      Box(P          R      mAP50  mAP50-95): 100%|██████████| 10/10 [01:43<00:00, 10.38s/it]"
     ]
    },
    {
     "name": "stdout",
     "output_type": "stream",
     "text": [
      "                   all        301       1042      0.667      0.471      0.532      0.264\n"
     ]
    },
    {
     "name": "stderr",
     "output_type": "stream",
     "text": [
      "\n"
     ]
    },
    {
     "name": "stdout",
     "output_type": "stream",
     "text": [
      "\n",
      "      Epoch    GPU_mem   box_loss   cls_loss   dfl_loss  Instances       Size\n"
     ]
    },
    {
     "name": "stderr",
     "output_type": "stream",
     "text": [
      "       7/10         0G      1.725      1.071     0.9614         19        640: 100%|██████████| 91/91 [38:13<00:00, 25.21s/it]\n",
      "                 Class     Images  Instances      Box(P          R      mAP50  mAP50-95): 100%|██████████| 10/10 [01:44<00:00, 10.43s/it]"
     ]
    },
    {
     "name": "stdout",
     "output_type": "stream",
     "text": [
      "                   all        301       1042      0.729      0.509      0.602      0.294\n"
     ]
    },
    {
     "name": "stderr",
     "output_type": "stream",
     "text": [
      "\n"
     ]
    },
    {
     "name": "stdout",
     "output_type": "stream",
     "text": [
      "\n",
      "      Epoch    GPU_mem   box_loss   cls_loss   dfl_loss  Instances       Size\n"
     ]
    },
    {
     "name": "stderr",
     "output_type": "stream",
     "text": [
      "       8/10         0G      1.659     0.9737     0.9494         16        640: 100%|██████████| 91/91 [38:06<00:00, 25.13s/it]\n",
      "                 Class     Images  Instances      Box(P          R      mAP50  mAP50-95): 100%|██████████| 10/10 [01:43<00:00, 10.38s/it]"
     ]
    },
    {
     "name": "stdout",
     "output_type": "stream",
     "text": [
      "                   all        301       1042      0.768      0.525       0.63      0.311\n"
     ]
    },
    {
     "name": "stderr",
     "output_type": "stream",
     "text": [
      "\n"
     ]
    },
    {
     "name": "stdout",
     "output_type": "stream",
     "text": [
      "\n",
      "      Epoch    GPU_mem   box_loss   cls_loss   dfl_loss  Instances       Size\n"
     ]
    },
    {
     "name": "stderr",
     "output_type": "stream",
     "text": [
      "       9/10         0G      1.604     0.8954     0.9369         30        640: 100%|██████████| 91/91 [38:13<00:00, 25.20s/it]\n",
      "                 Class     Images  Instances      Box(P          R      mAP50  mAP50-95): 100%|██████████| 10/10 [01:45<00:00, 10.53s/it]"
     ]
    },
    {
     "name": "stdout",
     "output_type": "stream",
     "text": [
      "                   all        301       1042      0.778      0.562       0.65       0.33\n"
     ]
    },
    {
     "name": "stderr",
     "output_type": "stream",
     "text": [
      "\n"
     ]
    },
    {
     "name": "stdout",
     "output_type": "stream",
     "text": [
      "\n",
      "      Epoch    GPU_mem   box_loss   cls_loss   dfl_loss  Instances       Size\n"
     ]
    },
    {
     "name": "stderr",
     "output_type": "stream",
     "text": [
      "      10/10         0G      1.549     0.8343     0.9278         17        640: 100%|██████████| 91/91 [38:13<00:00, 25.21s/it]\n",
      "                 Class     Images  Instances      Box(P          R      mAP50  mAP50-95): 100%|██████████| 10/10 [01:43<00:00, 10.35s/it]"
     ]
    },
    {
     "name": "stdout",
     "output_type": "stream",
     "text": [
      "                   all        301       1042      0.759      0.631      0.695      0.359\n"
     ]
    },
    {
     "name": "stderr",
     "output_type": "stream",
     "text": [
      "\n"
     ]
    },
    {
     "name": "stdout",
     "output_type": "stream",
     "text": [
      "\n",
      "10 epochs completed in 6.683 hours.\n",
      "Optimizer stripped from runs\\detect\\train28\\weights\\last.pt, 51.6MB\n",
      "Optimizer stripped from runs\\detect\\train28\\weights\\best.pt, 51.6MB\n",
      "\n",
      "Validating runs\\detect\\train28\\weights\\best.pt...\n",
      "Ultralytics YOLOv8.1.44  Python-3.11.2 torch-2.2.2+cpu CPU (AMD Ryzen 7 5700G with Radeon Graphics)\n",
      "YOLOv9c summary (fused): 384 layers, 25322332 parameters, 0 gradients, 102.3 GFLOPs\n"
     ]
    },
    {
     "name": "stderr",
     "output_type": "stream",
     "text": [
      "                 Class     Images  Instances      Box(P          R      mAP50  mAP50-95): 100%|██████████| 10/10 [01:33<00:00,  9.33s/it]\n"
     ]
    },
    {
     "name": "stdout",
     "output_type": "stream",
     "text": [
      "                   all        301       1042       0.76      0.631      0.695       0.36\n",
      "                bottle        301        575      0.793      0.619      0.699      0.351\n",
      "                carton        301        220      0.674       0.65      0.675      0.351\n",
      "               plastic        301        126      0.835      0.762      0.833      0.457\n",
      "                 paper        301        121      0.739      0.491      0.572       0.28\n",
      "Speed: 2.1ms preprocess, 287.2ms inference, 0.0ms loss, 0.2ms postprocess per image\n",
      "Results saved to \u001b[1mruns\\detect\\train28\u001b[0m\n",
      "Ultralytics YOLOv8.1.44  Python-3.11.2 torch-2.2.2+cpu CPU (AMD Ryzen 7 5700G with Radeon Graphics)\n",
      "YOLOv9c summary (fused): 384 layers, 25322332 parameters, 0 gradients, 102.3 GFLOPs\n"
     ]
    },
    {
     "name": "stderr",
     "output_type": "stream",
     "text": [
      "\u001b[34m\u001b[1mval: \u001b[0mScanning C:\\Users\\user\\Desktop\\anisha_dl\\FloatingWaste-I-master\\val\\labels.cache... 301 images, 0 backgrounds, 0 corrupt: 100%|██████████| 301/301 [00:00<?, ?it/s]\n",
      "                 Class     Images  Instances      Box(P          R      mAP50  mAP50-95): 100%|██████████| 19/19 [01:26<00:00,  4.55s/it]\n"
     ]
    },
    {
     "name": "stdout",
     "output_type": "stream",
     "text": [
      "                   all        301       1042       0.76      0.631      0.695       0.36\n",
      "                bottle        301        575      0.793      0.619      0.699      0.351\n",
      "                carton        301        220      0.674       0.65      0.675      0.351\n",
      "               plastic        301        126      0.835      0.762      0.833      0.457\n",
      "                 paper        301        121      0.739      0.491      0.572       0.28\n",
      "Speed: 0.7ms preprocess, 263.9ms inference, 0.0ms loss, 0.2ms postprocess per image\n",
      "Results saved to \u001b[1mruns\\detect\\train282\u001b[0m\n"
     ]
    }
   ],
   "source": [
    "from ultralytics import YOLO\n",
    "\n",
    "# Load a model\n",
    "\n",
    "model = YOLO(\"yolov9c.pt\")  # load a pretrained model (recommended for training)\n",
    "\n",
    "# Use the model\n",
    "model.train(data=r\"C:\\Users\\user\\Desktop\\anisha_dl\\FloatingWaste-I-master\\data.yaml\", epochs=10)  # train the model\n",
    "metrics = model.val()  # evaluate model performance on the validation set\n",
    "metrics"
   ]
  },
  {
   "cell_type": "code",
   "execution_count": 2,
   "metadata": {},
   "outputs": [
    {
     "name": "stdout",
     "output_type": "stream",
     "text": [
      "New https://pypi.org/project/ultralytics/8.2.2 available  Update with 'pip install -U ultralytics'\n",
      "Ultralytics YOLOv8.1.44  Python-3.11.2 torch-2.2.2+cpu CPU (AMD Ryzen 7 5700G with Radeon Graphics)\n",
      "\u001b[34m\u001b[1mengine\\trainer: \u001b[0mtask=detect, mode=train, model=D:\\Engineering\\SEM6\\PROJECTS\\DeepLearning\\FloW_IMG\\yolov9e.pt, data=C:\\Users\\user\\Desktop\\anisha_dl\\FloatingWaste-I-master\\data.yaml, epochs=40, time=None, patience=100, batch=16, imgsz=640, save=True, save_period=-1, cache=False, device=None, workers=8, project=None, name=train38, exist_ok=False, pretrained=True, optimizer=auto, verbose=True, seed=0, deterministic=True, single_cls=False, rect=False, cos_lr=False, close_mosaic=10, resume=False, amp=True, fraction=1.0, profile=False, freeze=None, multi_scale=False, overlap_mask=True, mask_ratio=4, dropout=0.0, val=True, split=val, save_json=False, save_hybrid=False, conf=None, iou=0.7, max_det=300, half=False, dnn=False, plots=True, source=None, vid_stride=1, stream_buffer=False, visualize=False, augment=False, agnostic_nms=False, classes=None, retina_masks=False, embed=None, show=False, save_frames=False, save_txt=False, save_conf=False, save_crop=False, show_labels=True, show_conf=True, show_boxes=True, line_width=None, format=torchscript, keras=False, optimize=False, int8=False, dynamic=False, simplify=False, opset=None, workspace=4, nms=False, lr0=0.01, lrf=0.01, momentum=0.937, weight_decay=0.0005, warmup_epochs=3.0, warmup_momentum=0.8, warmup_bias_lr=0.1, box=7.5, cls=0.5, dfl=1.5, pose=12.0, kobj=1.0, label_smoothing=0.0, nbs=64, hsv_h=0.015, hsv_s=0.7, hsv_v=0.4, degrees=0.0, translate=0.1, scale=0.5, shear=0.0, perspective=0.0, flipud=0.0, fliplr=0.5, bgr=0.0, mosaic=1.0, mixup=0.0, copy_paste=0.0, auto_augment=randaugment, erasing=0.4, crop_fraction=1.0, cfg=None, tracker=botsort.yaml, save_dir=runs\\detect\\train38\n",
      "Overriding model.yaml nc=80 with nc=4\n",
      "\n",
      "                   from  n    params  module                                       arguments                     \n",
      "  0                  -1  1         0  ultralytics.nn.modules.block.Silence         []                            \n",
      "  1                  -1  1      1856  ultralytics.nn.modules.conv.Conv             [3, 64, 3, 2]                 \n",
      "  2                  -1  1     73984  ultralytics.nn.modules.conv.Conv             [64, 128, 3, 2]               \n",
      "  3                  -1  1    252160  ultralytics.nn.modules.block.RepNCSPELAN4    [128, 256, 128, 64, 2]        \n",
      "  4                  -1  1    164352  ultralytics.nn.modules.block.ADown           [256, 256]                    \n",
      "  5                  -1  1   1004032  ultralytics.nn.modules.block.RepNCSPELAN4    [256, 512, 256, 128, 2]       \n",
      "  6                  -1  1    656384  ultralytics.nn.modules.block.ADown           [512, 512]                    \n",
      "  7                  -1  1   4006912  ultralytics.nn.modules.block.RepNCSPELAN4    [512, 1024, 512, 256, 2]      \n",
      "  8                  -1  1   2623488  ultralytics.nn.modules.block.ADown           [1024, 1024]                  \n",
      "  9                  -1  1   4269056  ultralytics.nn.modules.block.RepNCSPELAN4    [1024, 1024, 512, 256, 2]     \n",
      " 10                   1  1      4160  ultralytics.nn.modules.block.CBLinear        [64, [64]]                    \n",
      " 11                   3  1     49344  ultralytics.nn.modules.block.CBLinear        [256, [64, 128]]              \n",
      " 12                   5  1    229824  ultralytics.nn.modules.block.CBLinear        [512, [64, 128, 256]]         \n",
      " 13                   7  1    984000  ultralytics.nn.modules.block.CBLinear        [1024, [64, 128, 256, 512]]   \n",
      " 14                   9  1   2033600  ultralytics.nn.modules.block.CBLinear        [1024, [64, 128, 256, 512, 1024]]\n",
      " 15                   0  1      1856  ultralytics.nn.modules.conv.Conv             [3, 64, 3, 2]                 \n",
      " 16[10, 11, 12, 13, 14, -1]  1         0  ultralytics.nn.modules.block.CBFuse          [[0, 0, 0, 0, 0]]             \n",
      " 17                  -1  1     73984  ultralytics.nn.modules.conv.Conv             [64, 128, 3, 2]               \n",
      " 18[11, 12, 13, 14, -1]  1         0  ultralytics.nn.modules.block.CBFuse          [[1, 1, 1, 1]]                \n",
      " 19                  -1  1    252160  ultralytics.nn.modules.block.RepNCSPELAN4    [128, 256, 128, 64, 2]        \n",
      " 20                  -1  1    164352  ultralytics.nn.modules.block.ADown           [256, 256]                    \n",
      " 21    [12, 13, 14, -1]  1         0  ultralytics.nn.modules.block.CBFuse          [[2, 2, 2]]                   \n",
      " 22                  -1  1   1004032  ultralytics.nn.modules.block.RepNCSPELAN4    [256, 512, 256, 128, 2]       \n",
      " 23                  -1  1    656384  ultralytics.nn.modules.block.ADown           [512, 512]                    \n",
      " 24        [13, 14, -1]  1         0  ultralytics.nn.modules.block.CBFuse          [[3, 3]]                      \n",
      " 25                  -1  1   4006912  ultralytics.nn.modules.block.RepNCSPELAN4    [512, 1024, 512, 256, 2]      \n",
      " 26                  -1  1   2623488  ultralytics.nn.modules.block.ADown           [1024, 1024]                  \n",
      " 27            [14, -1]  1         0  ultralytics.nn.modules.block.CBFuse          [[4]]                         \n",
      " 28                  -1  1   4269056  ultralytics.nn.modules.block.RepNCSPELAN4    [1024, 1024, 512, 256, 2]     \n",
      " 29                  -1  1    787968  ultralytics.nn.modules.block.SPPELAN         [1024, 512, 256]              \n",
      " 30                  -1  1         0  torch.nn.modules.upsampling.Upsample         [None, 2, 'nearest']          \n",
      " 31            [-1, 25]  1         0  ultralytics.nn.modules.conv.Concat           [1]                           \n",
      " 32                  -1  1   4005888  ultralytics.nn.modules.block.RepNCSPELAN4    [1536, 512, 512, 256, 2]      \n",
      " 33                  -1  1         0  torch.nn.modules.upsampling.Upsample         [None, 2, 'nearest']          \n",
      " 34            [-1, 22]  1         0  ultralytics.nn.modules.conv.Concat           [1]                           \n",
      " 35                  -1  1   1069056  ultralytics.nn.modules.block.RepNCSPELAN4    [1024, 256, 256, 128, 2]      \n",
      " 36                  -1  1    164352  ultralytics.nn.modules.block.ADown           [256, 256]                    \n",
      " 37            [-1, 32]  1         0  ultralytics.nn.modules.conv.Concat           [1]                           \n",
      " 38                  -1  1   3612672  ultralytics.nn.modules.block.RepNCSPELAN4    [768, 512, 512, 256, 2]       \n",
      " 39                  -1  1    656384  ultralytics.nn.modules.block.ADown           [512, 512]                    \n",
      " 40            [-1, 29]  1         0  ultralytics.nn.modules.conv.Concat           [1]                           \n",
      " 41                  -1  1  12860416  ultralytics.nn.modules.block.RepNCSPELAN4    [1024, 512, 1024, 512, 2]     \n",
      " 42        [35, 38, 41]  1   5585884  ultralytics.nn.modules.head.Detect           [4, [256, 512, 512]]          \n",
      "YOLOv9e summary: 1225 layers, 58147996 parameters, 58147980 gradients, 192.7 GFLOPs\n",
      "\n",
      "Transferred 1805/1811 items from pretrained weights\n",
      "\u001b[34m\u001b[1mTensorBoard: \u001b[0mStart with 'tensorboard --logdir runs\\detect\\train38', view at http://localhost:6006/\n",
      "Freezing layer 'model.42.dfl.conv.weight'\n"
     ]
    },
    {
     "name": "stderr",
     "output_type": "stream",
     "text": [
      "\u001b[34m\u001b[1mtrain: \u001b[0mScanning C:\\Users\\user\\Desktop\\anisha_dl\\FloatingWaste-I-master\\train\\labels.cache... 1445 images, 0 backgrounds, 0 corrupt: 100%|██████████| 1445/1445 [00:00<?, ?it/s]"
     ]
    },
    {
     "name": "stdout",
     "output_type": "stream",
     "text": [
      "\u001b[34m\u001b[1malbumentations: \u001b[0mBlur(p=0.01, blur_limit=(3, 7)), MedianBlur(p=0.01, blur_limit=(3, 7)), ToGray(p=0.01), CLAHE(p=0.01, clip_limit=(1, 4.0), tile_grid_size=(8, 8))\n"
     ]
    },
    {
     "name": "stderr",
     "output_type": "stream",
     "text": [
      "\n",
      "\u001b[34m\u001b[1mval: \u001b[0mScanning C:\\Users\\user\\Desktop\\anisha_dl\\FloatingWaste-I-master\\val\\labels.cache... 301 images, 0 backgrounds, 0 corrupt: 100%|██████████| 301/301 [00:00<?, ?it/s]\n"
     ]
    },
    {
     "name": "stdout",
     "output_type": "stream",
     "text": [
      "Plotting labels to runs\\detect\\train38\\labels.jpg... \n",
      "\u001b[34m\u001b[1moptimizer:\u001b[0m 'optimizer=auto' found, ignoring 'lr0=0.01' and 'momentum=0.937' and determining best 'optimizer', 'lr0' and 'momentum' automatically... \n",
      "\u001b[34m\u001b[1moptimizer:\u001b[0m AdamW(lr=0.00125, momentum=0.9) with parameter groups 298 weight(decay=0.0), 310 weight(decay=0.0005), 309 bias(decay=0.0)\n",
      "\u001b[34m\u001b[1mTensorBoard: \u001b[0mmodel graph visualization added \n",
      "Image sizes 640 train, 640 val\n",
      "Using 0 dataloader workers\n",
      "Logging results to \u001b[1mruns\\detect\\train38\u001b[0m\n",
      "Starting training for 40 epochs...\n",
      "\n",
      "      Epoch    GPU_mem   box_loss   cls_loss   dfl_loss  Instances       Size\n"
     ]
    },
    {
     "name": "stderr",
     "output_type": "stream",
     "text": [
      "       1/40         0G      1.962       3.33      0.991         99        640:  57%|█████▋    | 52/91 [3:44:09<2:26:10, 224.90s/it]"
     ]
    }
   ],
   "source": [
    "from ultralytics import YOLO\n",
    "import time as t\n",
    "# Load a model\n",
    "\n",
    "model = YOLO(r\"D:\\Engineering\\SEM6\\PROJECTS\\DeepLearning\\FloW_IMG\\yolov9e.pt\")  \n",
    "\n",
    "# Use the model\n",
    "start_t_time=t.time()\n",
    "model.train(data=r'C:\\Users\\user\\Desktop\\anisha_dl\\FloatingWaste-I-master\\data.yaml', epochs=40)  # train the model\n",
    "end_t_time=t.time()\n",
    "t_time=end_t_time-start_t_time\n",
    "print(\"Time taken for training\",t_time)\n",
    "start_v_time=t.time()\n",
    "metrics = model.val()  # evaluate model performance on the validation set\n",
    "end_v_time=t.time()\n",
    "v_time=end_v_time-start_v_time\n",
    "print(\"Time taken for validating\",v_time)\n"
   ]
  },
  {
   "cell_type": "code",
   "execution_count": 9,
   "metadata": {},
   "outputs": [],
   "source": [
    "import matplotlib.pyplot as plt\n",
    "\n",
    "# Example loss values (replace these with your actual loss values)\n",
    "box_loss_values = [2.1637,\n",
    "1.9719,\n",
    "1.9371,\n",
    "1.8741,\n",
    "1.8759,\n",
    "1.8123,\n",
    "1.7496,\n",
    "1.7421,\n",
    "1.7919,\n",
    "1.6862,\n",
    "1.6679,\n",
    "1.6784,\n",
    "1.6463,\n",
    "1.6407,\n",
    "1.6151,\n",
    "1.6179,\n",
    "1.5697,\n",
    "1.5739,\n",
    "1.5713,\n",
    "1.5838,\n",
    "1.5683,\n",
    "1.5288,\n",
    "1.5241,\n",
    "1.5248,\n",
    "1.5015,\n",
    "1.4779,\n",
    "1.4391,\n",
    "1.4846,\n",
    "1.4443,\n",
    "1.456,\n",
    "1.4502,\n",
    "1.452,\n",
    "1.4396,\n",
    "1.435,\n",
    "1.4136,\n",
    "1.4286,\n",
    "1.3954,\n",
    "1.3688,\n",
    "1.3558,\n",
    "1.3484\n",
    "]\n",
    "cls_loss_values = [4.2622,\n",
    "2.7087,\n",
    "2.1979,\n",
    "1.8155,\n",
    "1.5752,\n",
    "1.3879,\n",
    "1.259,\n",
    "1.1732,\n",
    "1.1633,\n",
    "1.086,\n",
    "1.0522,\n",
    "1.0622,\n",
    "1.0122,\n",
    "1.0114,\n",
    "0.9655,\n",
    "0.9343,\n",
    "0.89641,\n",
    "0.91175,\n",
    "0.89762,\n",
    "0.90197,\n",
    "0.87346,\n",
    "0.83718,\n",
    "0.83075,\n",
    "0.83289,\n",
    "0.81925,\n",
    "0.79021,\n",
    "0.7871,\n",
    "0.78719,\n",
    "0.76426,\n",
    "0.77528,\n",
    "0.75938,\n",
    "0.75556,\n",
    "0.73143,\n",
    "0.72484,\n",
    "0.70967,\n",
    "0.78246,\n",
    "0.72602,\n",
    "0.68932,\n",
    "0.68285,\n",
    "0.67128\n",
    "]\n",
    "dfl_loss_values = [1.0293,\n",
    "0.96656,\n",
    "0.96269,\n",
    "0.96293,\n",
    "0.95146,\n",
    "0.93519,\n",
    "0.94306,\n",
    "0.9528,\n",
    "0.93413,\n",
    "0.92972,\n",
    "0.92371,\n",
    "0.91794,\n",
    "0.91782,\n",
    "0.90912,\n",
    "0.90924,\n",
    "0.90826,\n",
    "0.91011,\n",
    "0.89807,\n",
    "0.89446,\n",
    "0.89443,\n",
    "0.89996,\n",
    "0.88625,\n",
    "0.89126,\n",
    "0.8834,\n",
    "0.8842,\n",
    "0.87815,\n",
    "0.87471,\n",
    "0.88322,\n",
    "0.86623,\n",
    "0.87779,\n",
    "0.88016,\n",
    "0.87172,\n",
    "0.87243,\n",
    "0.86896,\n",
    "0.87083,\n",
    "0.86198,\n",
    "0.85598,\n",
    "0.86046,\n",
    "0.8541,\n",
    "0.85563\n",
    "]\n",
    "\n",
    "# Create x-axis values (e.g., epochs)\n",
    "epochs = range(1, len(box_loss_values) + 1)\n",
    "\n",
    "# Plot the loss values\n",
    "plt.plot(epochs, box_loss_values, 'b', label='Box Loss')\n",
    "plt.plot(epochs, cls_loss_values, 'r', label='Cls Loss')\n",
    "plt.plot(epochs, dfl_loss_values, 'g', label='Dfl Loss')\n",
    "\n",
    "plt.title('Losses Over Epochs')\n",
    "plt.xlabel('Epochs')\n",
    "plt.ylabel('Loss')\n",
    "plt.legend()\n",
    "plt.grid(True)\n",
    "plt.savefig('lossplot.png', dpi=100)\n"
   ]
  },
  {
   "cell_type": "code",
   "execution_count": 30,
   "metadata": {},
   "outputs": [
    {
     "name": "stdout",
     "output_type": "stream",
     "text": [
      "^C\n"
     ]
    }
   ],
   "source": [
    "!yolo task=detect mode=train model=yolov8n.pt data=D:/Engineering/SEM6/PROJECTS/DeepLearning/FloatingWaste-I-master/data.yaml"
   ]
  },
  {
   "cell_type": "code",
   "execution_count": null,
   "metadata": {},
   "outputs": [],
   "source": [
    "!pip install utils --upgrade\n"
   ]
  },
  {
   "cell_type": "code",
   "execution_count": null,
   "metadata": {},
   "outputs": [],
   "source": [
    "from utils.plots import plot_results\n",
    "plot_results('path/to/results.csv')"
   ]
  },
  {
   "cell_type": "code",
   "execution_count": 3,
   "metadata": {},
   "outputs": [
    {
     "name": "stdout",
     "output_type": "stream",
     "text": [
      "Class Folder Path: D:\\Engineering\\SEM6\\PROJECTS\\DeepLearning\\FloatingWaste-I-master\\just_for_eff\\test\n",
      "Image Path: D:\\Engineering\\SEM6\\PROJECTS\\DeepLearning\\FloatingWaste-I-master\\just_for_eff\\test\\Annotations\n",
      "Image Path: D:\\Engineering\\SEM6\\PROJECTS\\DeepLearning\\FloatingWaste-I-master\\just_for_eff\\test\\images\n",
      "Image Path: D:\\Engineering\\SEM6\\PROJECTS\\DeepLearning\\FloatingWaste-I-master\\just_for_eff\\test\\labels\n",
      "Image Path: D:\\Engineering\\SEM6\\PROJECTS\\DeepLearning\\FloatingWaste-I-master\\just_for_eff\\test\\labels.cache\n",
      "Class Folder Path: D:\\Engineering\\SEM6\\PROJECTS\\DeepLearning\\FloatingWaste-I-master\\just_for_eff\\training\n",
      "Image Path: D:\\Engineering\\SEM6\\PROJECTS\\DeepLearning\\FloatingWaste-I-master\\just_for_eff\\training\\Annotations\n",
      "Image Path: D:\\Engineering\\SEM6\\PROJECTS\\DeepLearning\\FloatingWaste-I-master\\just_for_eff\\training\\images\n",
      "Image Path: D:\\Engineering\\SEM6\\PROJECTS\\DeepLearning\\FloatingWaste-I-master\\just_for_eff\\training\\labels\n",
      "Image Path: D:\\Engineering\\SEM6\\PROJECTS\\DeepLearning\\FloatingWaste-I-master\\just_for_eff\\training\\labels.cache\n",
      "['D:\\\\Engineering\\\\SEM6\\\\PROJECTS\\\\DeepLearning\\\\FloatingWaste-I-master\\\\just_for_eff\\\\test\\\\Annotations', 'D:\\\\Engineering\\\\SEM6\\\\PROJECTS\\\\DeepLearning\\\\FloatingWaste-I-master\\\\just_for_eff\\\\test\\\\images', 'D:\\\\Engineering\\\\SEM6\\\\PROJECTS\\\\DeepLearning\\\\FloatingWaste-I-master\\\\just_for_eff\\\\test\\\\labels', 'D:\\\\Engineering\\\\SEM6\\\\PROJECTS\\\\DeepLearning\\\\FloatingWaste-I-master\\\\just_for_eff\\\\test\\\\labels.cache', 'D:\\\\Engineering\\\\SEM6\\\\PROJECTS\\\\DeepLearning\\\\FloatingWaste-I-master\\\\just_for_eff\\\\training\\\\Annotations']\n",
      "['test', 'test', 'test', 'test', 'training']\n"
     ]
    }
   ],
   "source": [
    "import os\n",
    "\n",
    "# Define function to load images and labels\n",
    "def load_images_and_labels(root_folder):\n",
    "    images = []\n",
    "    labels = []\n",
    "\n",
    "    # Iterate through each folder\n",
    "    for class_folder in os.listdir(root_folder):\n",
    "        class_folder_path = os.path.join(root_folder, class_folder)\n",
    "        print(f\"Class Folder Path: {class_folder_path}\")  # Debugging output\n",
    "\n",
    "        # Check if it's a directory\n",
    "        if os.path.isdir(class_folder_path):\n",
    "            # Iterate through each image file in the folder\n",
    "            for image_file in os.listdir(class_folder_path):\n",
    "                image_path = os.path.join(class_folder_path, image_file)\n",
    "                print(f\"Image Path: {image_path}\")  # Debugging output\n",
    "                images.append(image_path)\n",
    "                labels.append(class_folder)\n",
    "\n",
    "    return images, labels\n",
    "\n",
    "# Define the root folder path where your dataset is located\n",
    "root_folder_path = 'D:\\Engineering\\SEM6\\PROJECTS\\DeepLearning\\FloatingWaste-I-master\\just_for_eff'\n",
    "\n",
    "# Call the load_images_and_labels function with the root folder path\n",
    "images, labels = load_images_and_labels(root_folder_path)\n",
    "\n",
    "# Print the first few images and corresponding labels for verification\n",
    "print(images[:5])  # Print first 5 image paths\n",
    "print(labels[:5])  # Print first 5 labels\n"
   ]
  },
  {
   "cell_type": "code",
   "execution_count": 12,
   "metadata": {},
   "outputs": [],
   "source": [
    "class EarlyStopping:\n",
    "    def __init__(self, tolerance=5, min_delta=0):\n",
    "\n",
    "        self.tolerance = tolerance\n",
    "        self.min_delta = min_delta\n",
    "        self.counter = 0\n",
    "        self.early_stop = False\n",
    "\n",
    "    def __call__(self, train_loss, validation_loss):\n",
    "        if (validation_loss - train_loss) > self.min_delta:\n",
    "            self.counter +=1\n",
    "            if self.counter >= self.tolerance:  \n",
    "                self.early_stop = True\n",
    "\n",
    "\n",
    "def train_validate (model, train_dataloader, validate_dataloader, loss_func, optimiser, device, epochs):\n",
    "    preds = []\n",
    "    train_loss =  []\n",
    "    validation_loss = []\n",
    "    min_delta = 5\n",
    "    \n",
    "\n",
    "    for e in range(epochs):\n",
    "        \n",
    "        print(f\"Epoch {e+1}\")\n",
    "        epoch_train_loss, pred = train_one_epoch(model, train_dataloader, loss_func, optimiser, device)\n",
    "        train_loss.append(epoch_train_loss)\n",
    "\n",
    "        # validation \n",
    "        with torch.no_grad(): \n",
    "           epoch_validate_loss = validate_one_epoch(model, validate_dataloader, loss_func, device)\n",
    "           validation_loss.append(epoch_validate_loss)\n",
    "        \n",
    "        # early stopping\n",
    "        early_stopping = EarlyStopping(tolerance=2, min_delta=5)\n",
    "        early_stopping(epoch_train_loss, epoch_validate_loss)\n",
    "        if early_stopping.early_stop:\n",
    "            print(\"We are at epoch:\", e)\n",
    "            break\n",
    "\n",
    "    return train_loss, validation_loss\n",
    "\n",
    "\n",
    "early_stopping = EarlyStopping(tolerance=5, min_delta=10)\n",
    "\n",
    "for i in range(epochs):\n",
    "    \n",
    "    print(f\"Epoch {i+1}\")\n",
    "    epoch_train_loss, pred = train_one_epoch(model, train_dataloader, loss_func, optimiser, device)\n",
    "    train_loss.append(epoch_train_loss)\n",
    "\n",
    "    # validation \n",
    "    with torch.no_grad(): \n",
    "       epoch_validate_loss = validate_one_epoch(model, validate_dataloader, loss_func, device)\n",
    "       validation_loss.append(epoch_validate_loss)\n",
    "    \n",
    "    # early stopping\n",
    "    early_stopping(epoch_train_loss, epoch_validate_loss)\n",
    "    if early_stopping.early_stop:\n",
    "      print(\"We are at epoch:\", i)\n",
    "      break"
   ]
  },
  {
   "cell_type": "code",
   "execution_count": 1,
   "metadata": {},
   "outputs": [
    {
     "name": "stdout",
     "output_type": "stream",
     "text": [
      "WARNING  no model scale passed. Assuming scale='l'.\n",
      "rtdetr-l summary: 673 layers, 32970476 parameters, 32970476 gradients, 108.3 GFLOPs\n",
      "New https://pypi.org/project/ultralytics/8.1.46 available  Update with 'pip install -U ultralytics'\n",
      "Ultralytics YOLOv8.1.44  Python-3.11.2 torch-2.2.2+cpu CPU (AMD Ryzen 7 5700G with Radeon Graphics)\n",
      "\u001b[34m\u001b[1mengine\\trainer: \u001b[0mtask=detect, mode=train, model=rtdetr-l.yaml, data=D:/Engineering/SEM6/PROJECTS/DeepLearning/FloatingWaste-I-master/data.yaml, epochs=20, time=None, patience=100, batch=16, imgsz=640, save=True, save_period=-1, cache=False, device=None, workers=8, project=None, name=train24, exist_ok=False, pretrained=True, optimizer=auto, verbose=True, seed=0, deterministic=True, single_cls=False, rect=False, cos_lr=False, close_mosaic=10, resume=False, amp=True, fraction=1.0, profile=False, freeze=None, multi_scale=False, overlap_mask=True, mask_ratio=4, dropout=0.0, val=True, split=val, save_json=False, save_hybrid=False, conf=None, iou=0.7, max_det=300, half=False, dnn=False, plots=True, source=None, vid_stride=1, stream_buffer=False, visualize=False, augment=False, agnostic_nms=False, classes=None, retina_masks=False, embed=None, show=False, save_frames=False, save_txt=False, save_conf=False, save_crop=False, show_labels=True, show_conf=True, show_boxes=True, line_width=None, format=torchscript, keras=False, optimize=False, int8=False, dynamic=False, simplify=False, opset=None, workspace=4, nms=False, lr0=0.01, lrf=0.01, momentum=0.937, weight_decay=0.0005, warmup_epochs=3.0, warmup_momentum=0.8, warmup_bias_lr=0.1, box=7.5, cls=0.5, dfl=1.5, pose=12.0, kobj=1.0, label_smoothing=0.0, nbs=64, hsv_h=0.015, hsv_s=0.7, hsv_v=0.4, degrees=0.0, translate=0.1, scale=0.5, shear=0.0, perspective=0.0, flipud=0.0, fliplr=0.5, bgr=0.0, mosaic=1.0, mixup=0.0, copy_paste=0.0, auto_augment=randaugment, erasing=0.4, crop_fraction=1.0, cfg=None, tracker=botsort.yaml, save_dir=runs\\detect\\train24\n",
      "Overriding model.yaml nc=80 with nc=4\n",
      "WARNING  no model scale passed. Assuming scale='l'.\n",
      "\n",
      "                   from  n    params  module                                       arguments                     \n",
      "  0                  -1  1     25248  ultralytics.nn.modules.block.HGStem          [3, 32, 48]                   \n",
      "  1                  -1  6    155072  ultralytics.nn.modules.block.HGBlock         [48, 48, 128, 3, 6]           \n",
      "  2                  -1  1      1408  ultralytics.nn.modules.conv.DWConv           [128, 128, 3, 2, 1, False]    \n",
      "  3                  -1  6    839296  ultralytics.nn.modules.block.HGBlock         [128, 96, 512, 3, 6]          \n",
      "  4                  -1  1      5632  ultralytics.nn.modules.conv.DWConv           [512, 512, 3, 2, 1, False]    \n",
      "  5                  -1  6   1695360  ultralytics.nn.modules.block.HGBlock         [512, 192, 1024, 5, 6, True, False]\n",
      "  6                  -1  6   2055808  ultralytics.nn.modules.block.HGBlock         [1024, 192, 1024, 5, 6, True, True]\n",
      "  7                  -1  6   2055808  ultralytics.nn.modules.block.HGBlock         [1024, 192, 1024, 5, 6, True, True]\n",
      "  8                  -1  1     11264  ultralytics.nn.modules.conv.DWConv           [1024, 1024, 3, 2, 1, False]  \n",
      "  9                  -1  6   6708480  ultralytics.nn.modules.block.HGBlock         [1024, 384, 2048, 5, 6, True, False]\n",
      " 10                  -1  1    524800  ultralytics.nn.modules.conv.Conv             [2048, 256, 1, 1, None, 1, 1, False]\n",
      " 11                  -1  1    789760  ultralytics.nn.modules.transformer.AIFI      [256, 1024, 8]                \n",
      " 12                  -1  1     66048  ultralytics.nn.modules.conv.Conv             [256, 256, 1, 1]              \n",
      " 13                  -1  1         0  torch.nn.modules.upsampling.Upsample         [None, 2, 'nearest']          \n",
      " 14                   7  1    262656  ultralytics.nn.modules.conv.Conv             [1024, 256, 1, 1, None, 1, 1, False]\n",
      " 15            [-2, -1]  1         0  ultralytics.nn.modules.conv.Concat           [1]                           \n",
      " 16                  -1  3   2232320  ultralytics.nn.modules.block.RepC3           [512, 256, 3]                 \n",
      " 17                  -1  1     66048  ultralytics.nn.modules.conv.Conv             [256, 256, 1, 1]              \n",
      " 18                  -1  1         0  torch.nn.modules.upsampling.Upsample         [None, 2, 'nearest']          \n",
      " 19                   3  1    131584  ultralytics.nn.modules.conv.Conv             [512, 256, 1, 1, None, 1, 1, False]\n",
      " 20            [-2, -1]  1         0  ultralytics.nn.modules.conv.Concat           [1]                           \n",
      " 21                  -1  3   2232320  ultralytics.nn.modules.block.RepC3           [512, 256, 3]                 \n",
      " 22                  -1  1    590336  ultralytics.nn.modules.conv.Conv             [256, 256, 3, 2]              \n",
      " 23            [-1, 17]  1         0  ultralytics.nn.modules.conv.Concat           [1]                           \n",
      " 24                  -1  3   2232320  ultralytics.nn.modules.block.RepC3           [512, 256, 3]                 \n",
      " 25                  -1  1    590336  ultralytics.nn.modules.conv.Conv             [256, 256, 3, 2]              \n",
      " 26            [-1, 12]  1         0  ultralytics.nn.modules.conv.Concat           [1]                           \n",
      " 27                  -1  3   2232320  ultralytics.nn.modules.block.RepC3           [512, 256, 3]                 \n",
      " 28        [21, 24, 27]  1   7310072  ultralytics.nn.modules.head.RTDETRDecoder    [4, [256, 256, 256]]          \n",
      "rtdetr-l summary: 673 layers, 32814296 parameters, 32814296 gradients, 108.0 GFLOPs\n",
      "\n",
      "\u001b[34m\u001b[1mTensorBoard: \u001b[0mStart with 'tensorboard --logdir runs\\detect\\train24', view at http://localhost:6006/\n"
     ]
    },
    {
     "name": "stderr",
     "output_type": "stream",
     "text": [
      "\u001b[34m\u001b[1mtrain: \u001b[0mScanning D:\\Engineering\\SEM6\\PROJECTS\\DeepLearning\\FloatingWaste-I-master\\training\\labels.cache... 1507 images, 0 backgrounds, 0 corrupt: 100%|██████████| 1507/1507 [00:00<?, ?it/s]\n"
     ]
    },
    {
     "name": "stdout",
     "output_type": "stream",
     "text": [
      "\u001b[34m\u001b[1malbumentations: \u001b[0mBlur(p=0.01, blur_limit=(3, 7)), MedianBlur(p=0.01, blur_limit=(3, 7)), ToGray(p=0.01), CLAHE(p=0.01, clip_limit=(1, 4.0), tile_grid_size=(8, 8))\n"
     ]
    },
    {
     "name": "stderr",
     "output_type": "stream",
     "text": [
      "\u001b[34m\u001b[1mval: \u001b[0mScanning D:\\Engineering\\SEM6\\PROJECTS\\DeepLearning\\FloatingWaste-I-master\\test\\labels.cache... 131 images, 0 backgrounds, 0 corrupt: 100%|██████████| 131/131 [00:00<?, ?it/s]\n"
     ]
    },
    {
     "name": "stdout",
     "output_type": "stream",
     "text": [
      "Plotting labels to runs\\detect\\train24\\labels.jpg... \n",
      "\u001b[34m\u001b[1moptimizer:\u001b[0m 'optimizer=auto' found, ignoring 'lr0=0.01' and 'momentum=0.937' and determining best 'optimizer', 'lr0' and 'momentum' automatically... \n",
      "\u001b[34m\u001b[1moptimizer:\u001b[0m AdamW(lr=0.00125, momentum=0.9) with parameter groups 143 weight(decay=0.0), 206 weight(decay=0.0005), 226 bias(decay=0.0)\n",
      "\u001b[34m\u001b[1mTensorBoard: \u001b[0mmodel graph visualization added \n",
      "Image sizes 640 train, 640 val\n",
      "Using 0 dataloader workers\n",
      "Logging results to \u001b[1mruns\\detect\\train24\u001b[0m\n",
      "Starting training for 20 epochs...\n",
      "\n",
      "      Epoch    GPU_mem  giou_loss   cls_loss    l1_loss  Instances       Size\n"
     ]
    },
    {
     "name": "stderr",
     "output_type": "stream",
     "text": [
      "       1/20         0G      2.399      3.377     0.8188         21        640: 100%|██████████| 95/95 [51:19<00:00, 32.42s/it]\n",
      "                 Class     Images  Instances      Box(P          R      mAP50  mAP50-95): 100%|██████████| 5/5 [01:22<00:00, 16.50s/it]"
     ]
    },
    {
     "name": "stdout",
     "output_type": "stream",
     "text": [
      "                   all        131        475          0          0          0          0\n"
     ]
    },
    {
     "name": "stderr",
     "output_type": "stream",
     "text": [
      "\n"
     ]
    },
    {
     "name": "stdout",
     "output_type": "stream",
     "text": [
      "\n",
      "      Epoch    GPU_mem  giou_loss   cls_loss    l1_loss  Instances       Size\n"
     ]
    },
    {
     "name": "stderr",
     "output_type": "stream",
     "text": [
      "       2/20         0G       2.72    0.05545      1.168         16        640: 100%|██████████| 95/95 [49:51<00:00, 31.49s/it]\n",
      "                 Class     Images  Instances      Box(P          R      mAP50  mAP50-95): 100%|██████████| 5/5 [01:21<00:00, 16.23s/it]"
     ]
    },
    {
     "name": "stdout",
     "output_type": "stream",
     "text": [
      "                   all        131        475          0          0          0          0\n"
     ]
    },
    {
     "name": "stderr",
     "output_type": "stream",
     "text": [
      "\n"
     ]
    },
    {
     "name": "stdout",
     "output_type": "stream",
     "text": [
      "\n",
      "      Epoch    GPU_mem  giou_loss   cls_loss    l1_loss  Instances       Size\n"
     ]
    },
    {
     "name": "stderr",
     "output_type": "stream",
     "text": [
      "       3/20         0G       2.57     0.0487     0.9075         16        640: 100%|██████████| 95/95 [50:22<00:00, 31.82s/it]\n",
      "                 Class     Images  Instances      Box(P          R      mAP50  mAP50-95): 100%|██████████| 5/5 [01:22<00:00, 16.44s/it]"
     ]
    },
    {
     "name": "stdout",
     "output_type": "stream",
     "text": [
      "                   all        131        475   0.000562    0.00587    0.00029   8.56e-05\n"
     ]
    },
    {
     "name": "stderr",
     "output_type": "stream",
     "text": [
      "\n"
     ]
    },
    {
     "name": "stdout",
     "output_type": "stream",
     "text": [
      "\n",
      "      Epoch    GPU_mem  giou_loss   cls_loss    l1_loss  Instances       Size\n"
     ]
    },
    {
     "name": "stderr",
     "output_type": "stream",
     "text": [
      "       4/20         0G      2.499    0.08954     0.7376          7        640: 100%|██████████| 95/95 [51:49<00:00, 32.73s/it]\n",
      "                 Class     Images  Instances      Box(P          R      mAP50  mAP50-95): 100%|██████████| 5/5 [01:25<00:00, 17.03s/it]"
     ]
    },
    {
     "name": "stdout",
     "output_type": "stream",
     "text": [
      "                   all        131        475   0.000278     0.0144   0.000168   4.73e-05\n"
     ]
    },
    {
     "name": "stderr",
     "output_type": "stream",
     "text": [
      "\n"
     ]
    },
    {
     "name": "stdout",
     "output_type": "stream",
     "text": [
      "\n",
      "      Epoch    GPU_mem  giou_loss   cls_loss    l1_loss  Instances       Size\n"
     ]
    },
    {
     "name": "stderr",
     "output_type": "stream",
     "text": [
      "       5/20         0G      2.202     0.1945     0.5274          9        640: 100%|██████████| 95/95 [51:31<00:00, 32.54s/it]\n",
      "                 Class     Images  Instances      Box(P          R      mAP50  mAP50-95): 100%|██████████| 5/5 [01:23<00:00, 16.63s/it]"
     ]
    },
    {
     "name": "stdout",
     "output_type": "stream",
     "text": [
      "                   all        131        475   6.54e-06    0.00227    3.3e-06    3.3e-07\n"
     ]
    },
    {
     "name": "stderr",
     "output_type": "stream",
     "text": [
      "\n"
     ]
    },
    {
     "name": "stdout",
     "output_type": "stream",
     "text": [
      "\n",
      "      Epoch    GPU_mem  giou_loss   cls_loss    l1_loss  Instances       Size\n"
     ]
    },
    {
     "name": "stderr",
     "output_type": "stream",
     "text": [
      "       6/20         0G       2.06     0.2089     0.4154         23        640: 100%|██████████| 95/95 [50:53<00:00, 32.14s/it]\n",
      "                 Class     Images  Instances      Box(P          R      mAP50  mAP50-95): 100%|██████████| 5/5 [01:21<00:00, 16.39s/it]"
     ]
    },
    {
     "name": "stdout",
     "output_type": "stream",
     "text": [
      "                   all        131        475      0.509    0.00989    0.00275   0.000636\n"
     ]
    },
    {
     "name": "stderr",
     "output_type": "stream",
     "text": [
      "\n"
     ]
    },
    {
     "name": "stdout",
     "output_type": "stream",
     "text": [
      "\n",
      "      Epoch    GPU_mem  giou_loss   cls_loss    l1_loss  Instances       Size\n"
     ]
    },
    {
     "name": "stderr",
     "output_type": "stream",
     "text": [
      "       7/20         0G      1.778     0.3018     0.2828         18        640: 100%|██████████| 95/95 [50:26<00:00, 31.85s/it]\n",
      "                 Class     Images  Instances      Box(P          R      mAP50  mAP50-95): 100%|██████████| 5/5 [01:20<00:00, 16.11s/it]"
     ]
    },
    {
     "name": "stdout",
     "output_type": "stream",
     "text": [
      "                   all        131        475     0.0736     0.0401     0.0126    0.00376\n"
     ]
    },
    {
     "name": "stderr",
     "output_type": "stream",
     "text": [
      "\n"
     ]
    },
    {
     "name": "stdout",
     "output_type": "stream",
     "text": [
      "\n",
      "      Epoch    GPU_mem  giou_loss   cls_loss    l1_loss  Instances       Size\n"
     ]
    },
    {
     "name": "stderr",
     "output_type": "stream",
     "text": [
      "       8/20         0G      1.672     0.3358     0.2441         16        640: 100%|██████████| 95/95 [50:25<00:00, 31.85s/it]\n",
      "                 Class     Images  Instances      Box(P          R      mAP50  mAP50-95): 100%|██████████| 5/5 [01:20<00:00, 16.18s/it]"
     ]
    },
    {
     "name": "stdout",
     "output_type": "stream",
     "text": [
      "                   all        131        475      0.292     0.0373     0.0121    0.00293\n"
     ]
    },
    {
     "name": "stderr",
     "output_type": "stream",
     "text": [
      "\n"
     ]
    },
    {
     "name": "stdout",
     "output_type": "stream",
     "text": [
      "\n",
      "      Epoch    GPU_mem  giou_loss   cls_loss    l1_loss  Instances       Size\n"
     ]
    },
    {
     "name": "stderr",
     "output_type": "stream",
     "text": [
      "       9/20         0G       1.59     0.3726      0.228         11        640: 100%|██████████| 95/95 [49:41<00:00, 31.39s/it]\n",
      "                 Class     Images  Instances      Box(P          R      mAP50  mAP50-95): 100%|██████████| 5/5 [01:20<00:00, 16.14s/it]"
     ]
    },
    {
     "name": "stdout",
     "output_type": "stream",
     "text": [
      "                   all        131        475     0.0799     0.0761     0.0249    0.00667\n"
     ]
    },
    {
     "name": "stderr",
     "output_type": "stream",
     "text": [
      "\n"
     ]
    },
    {
     "name": "stdout",
     "output_type": "stream",
     "text": [
      "\n",
      "      Epoch    GPU_mem  giou_loss   cls_loss    l1_loss  Instances       Size\n"
     ]
    },
    {
     "name": "stderr",
     "output_type": "stream",
     "text": [
      "      10/20         0G      1.479     0.4592     0.1908          8        640: 100%|██████████| 95/95 [49:45<00:00, 31.43s/it]\n",
      "                 Class     Images  Instances      Box(P          R      mAP50  mAP50-95): 100%|██████████| 5/5 [01:20<00:00, 16.05s/it]"
     ]
    },
    {
     "name": "stdout",
     "output_type": "stream",
     "text": [
      "                   all        131        475     0.0477     0.0662     0.0215    0.00743\n"
     ]
    },
    {
     "name": "stderr",
     "output_type": "stream",
     "text": [
      "\n"
     ]
    },
    {
     "name": "stdout",
     "output_type": "stream",
     "text": [
      "Closing dataloader mosaic\n",
      "\u001b[34m\u001b[1malbumentations: \u001b[0mBlur(p=0.01, blur_limit=(3, 7)), MedianBlur(p=0.01, blur_limit=(3, 7)), ToGray(p=0.01), CLAHE(p=0.01, clip_limit=(1, 4.0), tile_grid_size=(8, 8))\n",
      "\n",
      "      Epoch    GPU_mem  giou_loss   cls_loss    l1_loss  Instances       Size\n"
     ]
    },
    {
     "name": "stderr",
     "output_type": "stream",
     "text": [
      "      11/20         0G      1.212     0.6048     0.1387          4        640: 100%|██████████| 95/95 [49:47<00:00, 31.44s/it]\n",
      "                 Class     Images  Instances      Box(P          R      mAP50  mAP50-95): 100%|██████████| 5/5 [01:21<00:00, 16.25s/it]"
     ]
    },
    {
     "name": "stdout",
     "output_type": "stream",
     "text": [
      "                   all        131        475     0.0739     0.0907     0.0319    0.00994\n"
     ]
    },
    {
     "name": "stderr",
     "output_type": "stream",
     "text": [
      "\n"
     ]
    },
    {
     "name": "stdout",
     "output_type": "stream",
     "text": [
      "\n",
      "      Epoch    GPU_mem  giou_loss   cls_loss    l1_loss  Instances       Size\n"
     ]
    },
    {
     "name": "stderr",
     "output_type": "stream",
     "text": [
      "      12/20         0G      1.168     0.6135     0.1284         12        640: 100%|██████████| 95/95 [49:49<00:00, 31.47s/it]\n",
      "                 Class     Images  Instances      Box(P          R      mAP50  mAP50-95): 100%|██████████| 5/5 [01:20<00:00, 16.17s/it]"
     ]
    },
    {
     "name": "stdout",
     "output_type": "stream",
     "text": [
      "                   all        131        475      0.343      0.108     0.0468     0.0169\n"
     ]
    },
    {
     "name": "stderr",
     "output_type": "stream",
     "text": [
      "\n"
     ]
    },
    {
     "name": "stdout",
     "output_type": "stream",
     "text": [
      "\n",
      "      Epoch    GPU_mem  giou_loss   cls_loss    l1_loss  Instances       Size\n"
     ]
    },
    {
     "name": "stderr",
     "output_type": "stream",
     "text": [
      "      13/20         0G      1.173     0.5996     0.1299          3        640: 100%|██████████| 95/95 [50:23<00:00, 31.83s/it]\n",
      "                 Class     Images  Instances      Box(P          R      mAP50  mAP50-95): 100%|██████████| 5/5 [01:20<00:00, 16.11s/it]"
     ]
    },
    {
     "name": "stdout",
     "output_type": "stream",
     "text": [
      "                   all        131        475      0.434       0.15     0.0973     0.0366\n"
     ]
    },
    {
     "name": "stderr",
     "output_type": "stream",
     "text": [
      "\n"
     ]
    },
    {
     "name": "stdout",
     "output_type": "stream",
     "text": [
      "\n",
      "      Epoch    GPU_mem  giou_loss   cls_loss    l1_loss  Instances       Size\n"
     ]
    },
    {
     "name": "stderr",
     "output_type": "stream",
     "text": [
      "      14/20         0G      1.125      0.633     0.1228          9        640: 100%|██████████| 95/95 [49:39<00:00, 31.37s/it]\n",
      "                 Class     Images  Instances      Box(P          R      mAP50  mAP50-95): 100%|██████████| 5/5 [01:19<00:00, 15.98s/it]"
     ]
    },
    {
     "name": "stdout",
     "output_type": "stream",
     "text": [
      "                   all        131        475      0.331      0.164     0.0857     0.0282\n"
     ]
    },
    {
     "name": "stderr",
     "output_type": "stream",
     "text": [
      "\n"
     ]
    },
    {
     "name": "stdout",
     "output_type": "stream",
     "text": [
      "\n",
      "      Epoch    GPU_mem  giou_loss   cls_loss    l1_loss  Instances       Size\n"
     ]
    },
    {
     "name": "stderr",
     "output_type": "stream",
     "text": [
      "      15/20         0G      1.064     0.6424     0.1139         12        640: 100%|██████████| 95/95 [49:39<00:00, 31.36s/it]\n",
      "                 Class     Images  Instances      Box(P          R      mAP50  mAP50-95): 100%|██████████| 5/5 [01:20<00:00, 16.17s/it]"
     ]
    },
    {
     "name": "stdout",
     "output_type": "stream",
     "text": [
      "                   all        131        475       0.28      0.202      0.129     0.0494\n"
     ]
    },
    {
     "name": "stderr",
     "output_type": "stream",
     "text": [
      "\n"
     ]
    },
    {
     "name": "stdout",
     "output_type": "stream",
     "text": [
      "\n",
      "      Epoch    GPU_mem  giou_loss   cls_loss    l1_loss  Instances       Size\n"
     ]
    },
    {
     "name": "stderr",
     "output_type": "stream",
     "text": [
      "      16/20         0G      1.061     0.6511     0.1125         11        640: 100%|██████████| 95/95 [52:08<00:00, 32.93s/it]\n",
      "                 Class     Images  Instances      Box(P          R      mAP50  mAP50-95): 100%|██████████| 5/5 [01:25<00:00, 17.04s/it]"
     ]
    },
    {
     "name": "stdout",
     "output_type": "stream",
     "text": [
      "                   all        131        475      0.245      0.219       0.16     0.0601\n"
     ]
    },
    {
     "name": "stderr",
     "output_type": "stream",
     "text": [
      "\n"
     ]
    },
    {
     "name": "stdout",
     "output_type": "stream",
     "text": [
      "\n",
      "      Epoch    GPU_mem  giou_loss   cls_loss    l1_loss  Instances       Size\n"
     ]
    },
    {
     "name": "stderr",
     "output_type": "stream",
     "text": [
      "      17/20         0G      1.059     0.6245     0.1097         16        640: 100%|██████████| 95/95 [51:18<00:00, 32.41s/it]\n",
      "                 Class     Images  Instances      Box(P          R      mAP50  mAP50-95): 100%|██████████| 5/5 [01:21<00:00, 16.26s/it]"
     ]
    },
    {
     "name": "stdout",
     "output_type": "stream",
     "text": [
      "                   all        131        475      0.256      0.261      0.174     0.0699\n"
     ]
    },
    {
     "name": "stderr",
     "output_type": "stream",
     "text": [
      "\n"
     ]
    },
    {
     "name": "stdout",
     "output_type": "stream",
     "text": [
      "\n",
      "      Epoch    GPU_mem  giou_loss   cls_loss    l1_loss  Instances       Size\n"
     ]
    },
    {
     "name": "stderr",
     "output_type": "stream",
     "text": [
      "      18/20         0G      1.014     0.6484      0.101          8        640: 100%|██████████| 95/95 [49:47<00:00, 31.44s/it]\n",
      "                 Class     Images  Instances      Box(P          R      mAP50  mAP50-95): 100%|██████████| 5/5 [01:20<00:00, 16.03s/it]"
     ]
    },
    {
     "name": "stdout",
     "output_type": "stream",
     "text": [
      "                   all        131        475      0.357      0.259      0.183     0.0748\n"
     ]
    },
    {
     "name": "stderr",
     "output_type": "stream",
     "text": [
      "\n"
     ]
    },
    {
     "name": "stdout",
     "output_type": "stream",
     "text": [
      "\n",
      "      Epoch    GPU_mem  giou_loss   cls_loss    l1_loss  Instances       Size\n"
     ]
    },
    {
     "name": "stderr",
     "output_type": "stream",
     "text": [
      "      19/20         0G     0.9897     0.6393    0.09612          6        640: 100%|██████████| 95/95 [52:37<00:00, 33.23s/it]\n",
      "                 Class     Images  Instances      Box(P          R      mAP50  mAP50-95): 100%|██████████| 5/5 [01:24<00:00, 16.97s/it]"
     ]
    },
    {
     "name": "stdout",
     "output_type": "stream",
     "text": [
      "                   all        131        475      0.316       0.29      0.204     0.0908\n"
     ]
    },
    {
     "name": "stderr",
     "output_type": "stream",
     "text": [
      "\n"
     ]
    },
    {
     "name": "stdout",
     "output_type": "stream",
     "text": [
      "\n",
      "      Epoch    GPU_mem  giou_loss   cls_loss    l1_loss  Instances       Size\n"
     ]
    },
    {
     "name": "stderr",
     "output_type": "stream",
     "text": [
      "      20/20         0G       0.99     0.6291    0.09619          9        640: 100%|██████████| 95/95 [52:02<00:00, 32.87s/it]\n",
      "                 Class     Images  Instances      Box(P          R      mAP50  mAP50-95): 100%|██████████| 5/5 [01:24<00:00, 16.99s/it]"
     ]
    },
    {
     "name": "stdout",
     "output_type": "stream",
     "text": [
      "                   all        131        475      0.373      0.253      0.191     0.0762\n"
     ]
    },
    {
     "name": "stderr",
     "output_type": "stream",
     "text": [
      "\n"
     ]
    },
    {
     "name": "stdout",
     "output_type": "stream",
     "text": [
      "\n",
      "20 epochs completed in 17.367 hours.\n",
      "Optimizer stripped from runs\\detect\\train24\\weights\\last.pt, 66.2MB\n",
      "Optimizer stripped from runs\\detect\\train24\\weights\\best.pt, 66.2MB\n",
      "\n",
      "Validating runs\\detect\\train24\\weights\\best.pt...\n",
      "Ultralytics YOLOv8.1.44  Python-3.11.2 torch-2.2.2+cpu CPU (AMD Ryzen 7 5700G with Radeon Graphics)\n",
      "rtdetr-l summary: 498 layers, 31991960 parameters, 0 gradients, 103.4 GFLOPs\n"
     ]
    },
    {
     "name": "stderr",
     "output_type": "stream",
     "text": [
      "                 Class     Images  Instances      Box(P          R      mAP50  mAP50-95): 100%|██████████| 5/5 [01:14<00:00, 14.91s/it]\n"
     ]
    },
    {
     "name": "stdout",
     "output_type": "stream",
     "text": [
      "                   all        131        475      0.315       0.29      0.204     0.0909\n",
      "                bottle        131        278      0.336      0.417       0.31       0.12\n",
      "                carton        131        110      0.337      0.291      0.222      0.097\n",
      "               plastic        131         51      0.268      0.314      0.191      0.113\n",
      "                 paper        131         36      0.319      0.139     0.0939     0.0334\n",
      "Speed: 3.6ms preprocess, 542.2ms inference, 0.0ms loss, 0.2ms postprocess per image\n",
      "Results saved to \u001b[1mruns\\detect\\train24\u001b[0m\n"
     ]
    }
   ],
   "source": [
    "from ultralytics import RTDETR\n",
    "\n",
    "# Load a COCO-pretrained RT-DETR-l model\n",
    "model = RTDETR('rtdetr-l.yaml')\n",
    "\n",
    "# Display model information (optional)\n",
    "model.info()\n",
    "\n",
    "# # Train the model on the COCO8 example dataset for 100 epochs\n",
    "results = model.train(data=\"D:/Engineering/SEM6/PROJECTS/DeepLearning/FloatingWaste-I-master/data.yaml\", epochs=40, imgsz=640)\n",
    "\n",
    "# # Run inference with the RT-DETR-l model on the 'bus.jpg' image\n",
    "# results = model('path/to/bus.jpg')"
   ]
  },
  {
   "cell_type": "code",
   "execution_count": 1,
   "metadata": {},
   "outputs": [
    {
     "name": "stderr",
     "output_type": "stream",
     "text": [
      "C:\\Users\\user\\AppData\\Local\\Temp\\ipykernel_10440\\3933964738.py:35: UserWarning: set_ticklabels() should only be used with a fixed number of ticks, i.e. after set_ticks() or using a FixedLocator.\n",
      "  ax.set_xticklabels(algorithms, rotation=45, ha='right')\n",
      "C:\\Users\\user\\AppData\\Local\\Temp\\ipykernel_10440\\3933964738.py:35: UserWarning: set_ticklabels() should only be used with a fixed number of ticks, i.e. after set_ticks() or using a FixedLocator.\n",
      "  ax.set_xticklabels(algorithms, rotation=45, ha='right')\n",
      "C:\\Users\\user\\AppData\\Local\\Temp\\ipykernel_10440\\3933964738.py:35: UserWarning: set_ticklabels() should only be used with a fixed number of ticks, i.e. after set_ticks() or using a FixedLocator.\n",
      "  ax.set_xticklabels(algorithms, rotation=45, ha='right')\n",
      "C:\\Users\\user\\AppData\\Local\\Temp\\ipykernel_10440\\3933964738.py:35: UserWarning: set_ticklabels() should only be used with a fixed number of ticks, i.e. after set_ticks() or using a FixedLocator.\n",
      "  ax.set_xticklabels(algorithms, rotation=45, ha='right')\n"
     ]
    },
    {
     "data": {
      "image/png": "[encoded data removed]",
      "text/plain": [
       "<Figure size 1200x1000 with 4 Axes>"
      ]
     },
     "metadata": {},
     "output_type": "display_data"
    }
   ],
   "source": [
    "import matplotlib.pyplot as plt\n",
    "\n",
    "# Data\n",
    "algorithms = ['Random Forest', 'Decision Tree', 'SVM', 'XGBoost', 'AdaBoost', 'CatBoost', 'Gradient Boosting', 'KNN']\n",
    "mse = [0.896, 1.844, 0.883, 0.883, 1.031, 0.781, 0.818, 1.021]\n",
    "rmse = [0.946, 1.358, 0.939, 0.940, 1.016, 0.884, 0.905, 1.010]\n",
    "mae = [0.733, 1.027, 0.736, 0.720, 0.823, 0.677, 0.713, 0.777]\n",
    "r2 = [0.351, -0.337, 0.360, 0.360, 0.252, 0.434, 0.407, 0.260]\n",
    "\n",
    "# Plot\n",
    "fig, axs = plt.subplots(2, 2, figsize=(12, 10))\n",
    "\n",
    "# MSE plot\n",
    "axs[0, 0].bar(algorithms, mse, color='skyblue')\n",
    "axs[0, 0].set_title('Mean Squared Error (MSE)')\n",
    "axs[0, 0].set_ylabel('MSE')\n",
    "\n",
    "# RMSE plot\n",
    "axs[0, 1].bar(algorithms, rmse, color='salmon')\n",
    "axs[0, 1].set_title('Root Mean Squared Error (RMSE)')\n",
    "axs[0, 1].set_ylabel('RMSE')\n",
    "\n",
    "# MAE plot\n",
    "axs[1, 0].bar(algorithms, mae, color='lightgreen')\n",
    "axs[1, 0].set_title('Mean Absolute Error (MAE)')\n",
    "axs[1, 0].set_ylabel('MAE')\n",
    "\n",
    "# R2 plot\n",
    "axs[1, 1].bar(algorithms, r2, color='lightcoral')\n",
    "axs[1, 1].set_title('R-squared (R2)')\n",
    "axs[1, 1].set_ylabel('R2')\n",
    "\n",
    "# Rotate x-axis labels for better readability\n",
    "for ax in axs.flat:\n",
    "    ax.set_xticklabels(algorithms, rotation=45, ha='right')\n",
    "\n",
    "plt.tight_layout()\n",
    "plt.show()\n"
   ]
  }
 ],
 "metadata": {
  "kernelspec": {
   "display_name": "Python 3",
   "language": "python",
   "name": "python3"
  },
  "language_info": {
   "codemirror_mode": {
    "name": "ipython",
    "version": 3
   },
   "file_extension": ".py",
   "mimetype": "text/x-python",
   "name": "python",
   "nbconvert_exporter": "python",
   "pygments_lexer": "ipython3",
   "version": "3.12.3"
  }
 },
 "nbformat": 4,
 "nbformat_minor": 2
}
